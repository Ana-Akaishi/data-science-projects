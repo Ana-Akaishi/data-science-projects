{
 "cells": [
  {
   "cell_type": "markdown",
   "metadata": {},
   "source": [
    "# Brazilian Investment Funds Overview\n",
    "\n",
    "This project main objective is to map investment fund market in Brazil. Investment funds can trade in different types of assets, like financial products (stocks, options, debentures), real state or buying part of other funds. Each fund raises capital by offering quotas, this can be an ongoing process (open fund) or only one time offer (closed fund).\n",
    "\n",
    "The funds are created and managed by a financial institution (manager). Managers will also take care of all the paper work involving fund rules, which index should investors use as benchmark and general structure so a bank can issue the fund. The bank role is so ensure the fund is legit, has the paperwork in order and distribute the financial sheets so potential investor can buy a quota. This is a very efficient way to poll resources and diversify the risk for all parties involved.\n",
    "\n",
    "Learn more in ANBIMA [PDF](https://www.anbima.com.br/data/files/D7/B6/AD/5E/369EC8104606BDC8B82BA2A8/CPA-10-Cap5.pdf).\n",
    "\n",
    "Now that we know what is an investment fund, and how is its structure, let's be curious about it:\n",
    "- How many funds are in the market?\n",
    "- What are the main assets traded? Financial? Real State? Credit?\n",
    "- Who are the big managers?\n",
    "- Who are the main issuers?\n",
    "- How was the market for the last years?"
   ]
  },
  {
   "cell_type": "markdown",
   "metadata": {},
   "source": [
    "## Importing libraries"
   ]
  },
  {
   "cell_type": "code",
   "execution_count": 1,
   "metadata": {},
   "outputs": [],
   "source": [
    "import pandas as pd # manipulating data\n",
    "import numpy as np  # basic math operations\n",
    "import matplotlib.pyplot as plt # graphs\n",
    "import seaborn as sns   #graphs\n",
    "import requests # request files on Brazilian Securities and Exchange Comission (CVM)\n",
    "import zipfile  # unzip CVM files\n",
    "import os   # manipulate disk files"
   ]
  },
  {
   "cell_type": "markdown",
   "metadata": {},
   "source": [
    "## Downloading data\n",
    "Investment Funds must be registered in Brazilian Securities and Exchange Comission (CVM). CVM has funds data on their daily returns, benchmark index, type of fund, issuer, manager and other informations related to it. All data is open to the public in CVM [website](https://dados.cvm.gov.br/group/fundos-de-investimento):\n",
    "- Funds return: one database for daily, monthly, quarterly, anual\n",
    "- Register info: funds name, manager, issuer, type, open/close\n",
    "- Statement of Income: database with funds link to their state of income\n",
    "- Investors profile: who owns funds quotas (other business, retirement funds, individual investors, professional investors)\n",
    "- Performance metrics: how to calculate return, risk accordin to managers, collateral\n",
    "\n",
    "For this study, I'm interested in the daily returns and register info. This way I can map funds by their features and follow their performance in time. The advantage to use daily data is that I can transform daily info into month, quarter and annual."
   ]
  },
  {
   "cell_type": "code",
   "execution_count": 2,
   "metadata": {},
   "outputs": [],
   "source": [
    "# Creating parameters to download data\n",
    "## Date paramenters to match CVM files\n",
    "years = ['2024','2023','2022','2021','2020']    # Creating a five year window so we can see the end of pandemic and current government\n",
    "legacy = ['2020']   # Creating legacy list, CVM moves old data to another URL/directory\n",
    "\n",
    "months = range(1,13)    # Crete month list from Jan(01) to Dec(12)\n",
    "month_list = []     # List must be a string bc I'll add each emelento to a url request to CVM\n",
    "\n",
    "for i in months:    # Transform each integer element into a string element\n",
    "    if i<10:    # For months with only one digit, we need to add zero (0) before to match the csv file\n",
    "        i = str('0'+str(i))\n",
    "    else:   # Months with two digits only need to be converted to string\n",
    "        i = str(i)\n",
    "    month_list.append(i)    # Append each string to the month list"
   ]
  },
  {
   "cell_type": "markdown",
   "metadata": {},
   "source": [
    "To collect the data, I'll request directly from CVM website the zipfiles containing the [daily returns of financial funds](https://dados.cvm.gov.br/dataset/fi-doc-inf_diario). The main issue here, is that we have two types of repositories: (1) monthly zip files from the current year to 3 years ago (Y-3), (2) yearly zip file for older data. So in my study 2024,2023,2022 and 2021 will have monthly zip files, while [2020](https://dados.cvm.gov.br/dados/FI/DOC/INF_DIARIO/DADOS/HIST/) will have only one zip file with 12 csv files inside.\n",
    "\n",
    "To solve it, I'll just need to create a loop to identify which year is considered old/legacy by CVM. Previously I created a legacy list with 2020 so I can use it in the loop now.\n",
    "\n",
    "URL with daily return data\n",
    "URL model: dados.cvm.gov.br/dados/FI/DOC/INF_DIARIO/**DADOS/inf_diario_fi_202307**.zip\n",
    "- replace the date on the URL '202307' with the loop\n",
    "\n",
    "URL for legacy data\n",
    "URL legacy model: dados.cvm.gov.br/dados/FI/DOC/INF_DIARIO/**DADOS/HIST/inf_diario_fi_2000**.zip\n",
    "- replace only the year 2000"
   ]
  },
  {
   "cell_type": "code",
   "execution_count": 3,
   "metadata": {},
   "outputs": [],
   "source": [
    "cvm_daily_return = pd.DataFrame()   # Create an empty dataframe for daily returns\n",
    "cvm_legacy_return = pd.DataFrame()  # Creawte an empty dataframe for legacy data\n",
    "\n",
    "# Create loop to download data from 2020 to July 2024\n",
    "## I'll collect data for each year in our years list\n",
    "for yyyy in years:\n",
    "    try:\n",
    "        if yyyy in legacy:  # Y-3 data is considered history and moved to a different directory, I'll call it legacy\n",
    "            daily_return_url = f'https://dados.cvm.gov.br/dados/FI/DOC/INF_DIARIO/DADOS/HIST/inf_diario_fi_{yyyy}.zip'\n",
    "            download_url = requests.get(daily_return_url)   # Access URL with zipfile, else would be just a string on our local machine\n",
    "            zip_filename = f'inf_diario_fi_{yyyy}.zip'  # Save zipfile name, only asks for year to identify it. All 12 month csv are inside it.\n",
    "            with open(zip_filename,'wb') as zip_ref:    # Open zipfile from CVM url. Using 'wb' because I need to Write ('w') the file in Binary('b')\n",
    "                zip_ref.write(download_url.content)     # Write/save zipfile on local disk. I used '.content' to write/save the files withing the URL zip\n",
    "            with zipfile.ZipFile(zip_filename, 'r') as cvm_zip: # Legacy Zip has 12 csv files, so I'll just read and concatenate all\n",
    "                legacy_csv = [pd.read_csv(cvm_zip.open(f), sep=';') for f in cvm_zip.namelist()]\n",
    "                cvm_legacy_return = pd.concat(legacy_csv)\n",
    "            os.remove(zip_filename)  # Delete zipfile from disk so I can keep a clean directory\n",
    "        else:\n",
    "            for mm in month_list:   # Y-3< data is called by year and month. So we need to run all month_list elements\n",
    "                daily_return_url = f'https://dados.cvm.gov.br/dados/FI/DOC/INF_DIARIO/DADOS/inf_diario_fi_{yyyy}{mm}.zip'\n",
    "                download_url = requests.get(daily_return_url)   # Access URL with zipfile\n",
    "                zip_filename = f'inf_diario_fi_{yyyy}{mm}.zip'  # Save zipfile name, it's important to name it here bc I'll delete the zipfile after\n",
    "                with open(zip_filename, 'wb') as zip_ref:   # Open zipfile from CVM url\n",
    "                    zip_ref.write(download_url.content)     # Write/save zipfile on local disk. I used '.content' to write/save the files withing the URL zip\n",
    "                with zipfile.ZipFile(zip_filename) as cvm_zip:  # Manipulate recent saved zipfile on our disk\n",
    "                    for file_name in cvm_zip.namelist():    # Look for all files within zipfile\n",
    "                        if file_name.endswith('.csv'):      # If a file ends with '.csv' I'll open and read it with pandas\n",
    "                            with cvm_zip.open(file_name) as cvm_csv:    # I'll create a temporary obj, so we can concatenate it with our main dataframe\n",
    "                                cvm_daily_return_temp = pd.read_csv(cvm_csv, sep=';')   # Read csv, but Brazilian data is separated with ';'\n",
    "                                cvm_daily_return = pd.concat([cvm_daily_return, cvm_daily_return_temp]) # Concat main dataframe with temporary\n",
    "                os.remove(zip_filename)  # Delete zipfile from disk so I can keep a clean directory\n",
    "        cvm_daily_return = pd.concat([cvm_daily_return,cvm_legacy_return])  # Concatenate current and legacy data\n",
    "    except:\n",
    "        pass    # Avoid stopping the process in case it looks for current year and months yet to come (YYYYMM+1)\n",
    "\n",
    "cvm_daily_return    # Observe we get all monthly data from 2024 to 2000"
   ]
  },
  {
   "cell_type": "markdown",
   "metadata": {},
   "source": [
    "The next step is to identify the funds. Investors know it by their name, not their register number. I'll also need to check their status, to see if the fund still active. Here I face a similar situation from return data, [current](https://dados.cvm.gov.br/dados/FI/CAD/DADOS/cad_fi.csv) and [legacy](https://dados.cvm.gov.br/dados/FI/CAD/DADOS/cad_fi_hist.zip) data."
   ]
  }
 ],
 "metadata": {
  "kernelspec": {
   "display_name": "Python 3",
   "language": "python",
   "name": "python3"
  },
  "language_info": {
   "codemirror_mode": {
    "name": "ipython",
    "version": 3
   },
   "file_extension": ".py",
   "mimetype": "text/x-python",
   "name": "python",
   "nbconvert_exporter": "python",
   "pygments_lexer": "ipython3",
   "version": "3.12.2"
  }
 },
 "nbformat": 4,
 "nbformat_minor": 2
}
