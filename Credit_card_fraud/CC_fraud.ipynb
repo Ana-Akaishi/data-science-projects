{
  "cells": [
    {
      "cell_type": "markdown",
      "metadata": {
        "id": "BQ9ganokiSmS"
      },
      "source": [
        "# Credit Card Fraud Detection\n",
        "In this notebook, I'll explore this public dataset on Kaggle about [credit card fraud](https://www.kaggle.com/datasets/kartik2112/fraud-detection?resource=download). My objective is to analyze this dataset behavior and create an algorithm to predict if there's a fraud or not.\n",
        "\n",
        "As for my tool, I'll use **PySpark** to load my data, check the quality and do the exploratory data analysis (EDA). Next, I'll run some classifications algorithms and compare their performance to see which model would be used in a 'deploy phase'.\n",
        "\n",
        "## Table of Contents  <a name=\"table_cont\"></a>\n",
        "\n",
        "0. [**Libraries**](#lib)\n",
        "1. [**Load data**](#load_data)\n",
        "2. [**Data quality**](#data-quality)\n",
        "3. [**Feature Engineering**](#features)\n",
        "4. [**EDA**](#eda)\n",
        "5. [**Data preparation**](#data_prep)\n",
        "6. [**ML Models**](#ml_mod)\n",
        "    - Logistical regression ([Logit](#logit))\n",
        "    - Random Forest ([RF](#rf))\n",
        "    - Gradient-Boosted Trees ([GBTs](#gbt))\n",
        "7. [**Comparing results**](#results)\n",
        "8. [**Take Aways**](#take_away)\n"
      ]
    },
    {
      "cell_type": "markdown",
      "metadata": {
        "id": "613EBlQGiSmV"
      },
      "source": [
        "## Libraries <a name=\"libs\"></a>"
      ]
    },
    {
      "cell_type": "code",
      "execution_count": 1,
      "metadata": {
        "id": "fiVQW1EbiSmV"
      },
      "outputs": [],
      "source": [
        "from pyspark.sql import SparkSession, Row\n",
        "from pyspark.sql.functions import isnan, when, count, col, year, month, dayofweek, weekofyear, date_format, current_date, date_diff, floor, desc, asc, sum, mean, explode, lower,split\n",
        "from pyspark.ml.feature import VectorAssembler\n",
        "from pyspark.ml.classification import LogisticRegression, RandomForestClassifier, GBTClassifier, NaiveBayes\n",
        "from pyspark.ml.evaluation import BinaryClassificationEvaluator, MulticlassClassificationEvaluator\n"
      ]
    },
    {
      "cell_type": "markdown",
      "metadata": {
        "id": "cBYHG5qsiSmW"
      },
      "source": [
        "## Load data  <a name=\"load_data\"></a>"
      ]
    },
    {
      "cell_type": "code",
      "execution_count": 2,
      "metadata": {
        "id": "a4SC9BYwiSmW"
      },
      "outputs": [],
      "source": [
        "# create spark session\n",
        "spark = SparkSession.builder.appName('CC_fraud').getOrCreate()\n",
        "\n",
        "# load train and test datasets\n",
        "train = spark.read.csv('fraudTrain.csv', header=True, inferSchema=True)\n",
        "test = spark.read.csv('fraudTest.csv', header=True, inferSchema=True)"
      ]
    },
    {
      "cell_type": "code",
      "execution_count": 3,
      "metadata": {
        "colab": {
          "base_uri": "https://localhost:8080/"
        },
        "id": "EQy5yt1RiSmX",
        "outputId": "5b3d4f81-230b-4c0d-d068-0b02eaf4da7b"
      },
      "outputs": [
        {
          "output_type": "stream",
          "name": "stdout",
          "text": [
            "Train set \n",
            "\n",
            "+---+---------------------+----------------+--------------------+-------------+------+---------+-------+------+--------------------+--------------+-----+-----+-------+---------+--------+--------------------+----------+--------------------+----------+------------------+-----------+--------+\n",
            "|_c0|trans_date_trans_time|          cc_num|            merchant|     category|   amt|    first|   last|gender|              street|          city|state|  zip|    lat|     long|city_pop|                 job|       dob|           trans_num| unix_time|         merch_lat| merch_long|is_fraud|\n",
            "+---+---------------------+----------------+--------------------+-------------+------+---------+-------+------+--------------------+--------------+-----+-----+-------+---------+--------+--------------------+----------+--------------------+----------+------------------+-----------+--------+\n",
            "|  0|  2019-01-01 00:00:18|2703186189652095|fraud_Rippin, Kub...|     misc_net|  4.97| Jennifer|  Banks|     F|      561 Perry Cove|Moravian Falls|   NC|28654|36.0788| -81.1781|    3495|Psychologist, cou...|1988-03-09|0b242abb623afc578...|1325376018|         36.011293| -82.048315|       0|\n",
            "|  1|  2019-01-01 00:00:44|    630423337322|fraud_Heller, Gut...|  grocery_pos|107.23|Stephanie|   Gill|     F|43039 Riley Green...|        Orient|   WA|99160|48.8878|-118.2105|     149|Special education...|1978-06-21|1f76529f857473494...|1325376044|49.159046999999994|-118.186462|       0|\n",
            "|  2|  2019-01-01 00:00:51|  38859492057661|fraud_Lind-Buckridge|entertainment|220.11|   Edward|Sanchez|     M|594 White Dale Su...|    Malad City|   ID|83252|42.1808| -112.262|    4154|Nature conservati...|1962-01-19|a1a22d70485983eac...|1325376051|         43.150704|-112.154481|       0|\n",
            "|  3|  2019-01-01 00:01:16|3534093764340240|fraud_Kutch, Herm...|gas_transport|  45.0|   Jeremy|  White|     M|9443 Cynthia Cour...|       Boulder|   MT|59632|46.2306|-112.1138|    1939|     Patent attorney|1967-01-12|6b849c168bdad6f86...|1325376076|         47.034331|-112.561071|       0|\n",
            "|  4|  2019-01-01 00:03:06| 375534208663984| fraud_Keeling-Crist|     misc_pos| 41.96|    Tyler| Garcia|     M|    408 Bradley Rest|      Doe Hill|   VA|24433|38.4207| -79.4629|      99|Dance movement ps...|1986-03-28|a41d7549acf907893...|1325376186|         38.674999| -78.632459|       0|\n",
            "+---+---------------------+----------------+--------------------+-------------+------+---------+-------+------+--------------------+--------------+-----+-----+-------+---------+--------+--------------------+----------+--------------------+----------+------------------+-----------+--------+\n",
            "\n",
            "Test set\n",
            "+---+---------------------+----------------+--------------------+--------------+-----+------+--------+------+--------------------+----------+-----+-----+-------+------------------+--------+--------------------+----------+--------------------+----------+------------------+-----------+--------+\n",
            "|_c0|trans_date_trans_time|          cc_num|            merchant|      category|  amt| first|    last|gender|              street|      city|state|  zip|    lat|              long|city_pop|                 job|       dob|           trans_num| unix_time|         merch_lat| merch_long|is_fraud|\n",
            "+---+---------------------+----------------+--------------------+--------------+-----+------+--------+------+--------------------+----------+-----+-----+-------+------------------+--------+--------------------+----------+--------------------+----------+------------------+-----------+--------+\n",
            "|  0|  2020-06-21 12:14:25|2291163933867244|fraud_Kirlin and ...| personal_care| 2.86|  Jeff| Elliott|     M|   351 Darlene Green|  Columbia|   SC|29209|33.9659|          -80.9355|  333497| Mechanical engineer|1968-03-19|2da90c7d74bd46a0c...|1371816865|         33.986391| -81.200714|       0|\n",
            "|  1|  2020-06-21 12:14:33|3573030041201292|fraud_Sporer-Keebler| personal_care|29.84|Joanne|Williams|     F|    3638 Marsh Union|   Altonah|   UT|84002|40.3207|          -110.436|     302|Sales professiona...|1990-01-17|324cc204407e99f51...|1371816873|39.450497999999996|-109.960431|       0|\n",
            "|  2|  2020-06-21 12:14:53|3598215285024754|fraud_Swaniawski,...|health_fitness|41.28|Ashley|   Lopez|     F|9333 Valentine Point|  Bellmore|   NY|11710|40.6729|          -73.5365|   34496|   Librarian, public|1970-10-21|c81755dbbbea9d5c7...|1371816893|          40.49581| -74.196111|       0|\n",
            "|  3|  2020-06-21 12:15:15|3591919803438423|   fraud_Haley Group|      misc_pos|60.05| Brian|Williams|     M|32941 Krystal Mil...|Titusville|   FL|32780|28.5697|          -80.8191|   54767|        Set designer|1987-07-25|2159175b9efe66dc3...|1371816915|28.812397999999998| -80.883061|       0|\n",
            "|  4|  2020-06-21 12:15:17|3526826139003047|fraud_Johnston-Ca...|        travel| 3.19|Nathan|  Massey|     M|5783 Evan Roads A...|  Falmouth|   MI|49632|44.2529|-85.01700000000001|    1126|  Furniture designer|1955-07-06|57ff021bd3f328f87...|1371816917|         44.959148| -85.884734|       0|\n",
            "+---+---------------------+----------------+--------------------+--------------+-----+------+--------+------+--------------------+----------+-----+-----+-------+------------------+--------+--------------------+----------+--------------------+----------+------------------+-----------+--------+\n",
            "\n"
          ]
        }
      ],
      "source": [
        "print('Train set \\n')\n",
        "train.limit(5).show()\n",
        "print('Test set')\n",
        "test.limit(5).show()"
      ]
    },
    {
      "cell_type": "code",
      "source": [
        "# dataframes shape\n",
        "print((train.count(), len(train.columns)))"
      ],
      "metadata": {
        "colab": {
          "base_uri": "https://localhost:8080/"
        },
        "id": "ZMP32K0V6Fs9",
        "outputId": "368a547b-8419-44fc-d587-a86627f16144"
      },
      "execution_count": 4,
      "outputs": [
        {
          "output_type": "stream",
          "name": "stdout",
          "text": [
            "(1296675, 23)\n"
          ]
        }
      ]
    },
    {
      "cell_type": "code",
      "source": [
        "print((test.count(), len(test.columns)))"
      ],
      "metadata": {
        "colab": {
          "base_uri": "https://localhost:8080/"
        },
        "id": "AFRnv6rb6I5U",
        "outputId": "0aeb2a0c-2e74-44f2-80c0-546f6c70e047"
      },
      "execution_count": 5,
      "outputs": [
        {
          "output_type": "stream",
          "name": "stdout",
          "text": [
            "(555719, 23)\n"
          ]
        }
      ]
    },
    {
      "cell_type": "markdown",
      "metadata": {
        "id": "gbV6vbfFiSmX"
      },
      "source": [
        "## Data quality <a name=\"data_quality\"></a>\n",
        "[Table of contents](#table_cont)"
      ]
    },
    {
      "cell_type": "code",
      "source": [
        "# check if columns have the correct data type\n",
        "print('Train set data type:')\n",
        "train.dtypes\n",
        "\n",
        "## could also have used train.printSchema()"
      ],
      "metadata": {
        "colab": {
          "base_uri": "https://localhost:8080/"
        },
        "id": "1trmetPepJl6",
        "outputId": "cf3e3527-802f-4b62-e0c0-6bf69d6e81d2"
      },
      "execution_count": 6,
      "outputs": [
        {
          "output_type": "stream",
          "name": "stdout",
          "text": [
            "Train set data type:\n"
          ]
        },
        {
          "output_type": "execute_result",
          "data": {
            "text/plain": [
              "[('_c0', 'int'),\n",
              " ('trans_date_trans_time', 'timestamp'),\n",
              " ('cc_num', 'bigint'),\n",
              " ('merchant', 'string'),\n",
              " ('category', 'string'),\n",
              " ('amt', 'double'),\n",
              " ('first', 'string'),\n",
              " ('last', 'string'),\n",
              " ('gender', 'string'),\n",
              " ('street', 'string'),\n",
              " ('city', 'string'),\n",
              " ('state', 'string'),\n",
              " ('zip', 'int'),\n",
              " ('lat', 'double'),\n",
              " ('long', 'double'),\n",
              " ('city_pop', 'int'),\n",
              " ('job', 'string'),\n",
              " ('dob', 'date'),\n",
              " ('trans_num', 'string'),\n",
              " ('unix_time', 'int'),\n",
              " ('merch_lat', 'double'),\n",
              " ('merch_long', 'double'),\n",
              " ('is_fraud', 'int')]"
            ]
          },
          "metadata": {},
          "execution_count": 6
        }
      ]
    },
    {
      "cell_type": "code",
      "source": [
        "print('Test set data type:')\n",
        "test.dtypes"
      ],
      "metadata": {
        "colab": {
          "base_uri": "https://localhost:8080/"
        },
        "id": "QQwkZd0KpJVD",
        "outputId": "2f59545a-25a2-4fda-94fe-912a95395b84"
      },
      "execution_count": 7,
      "outputs": [
        {
          "output_type": "stream",
          "name": "stdout",
          "text": [
            "Test set data type:\n"
          ]
        },
        {
          "output_type": "execute_result",
          "data": {
            "text/plain": [
              "[('_c0', 'int'),\n",
              " ('trans_date_trans_time', 'timestamp'),\n",
              " ('cc_num', 'bigint'),\n",
              " ('merchant', 'string'),\n",
              " ('category', 'string'),\n",
              " ('amt', 'double'),\n",
              " ('first', 'string'),\n",
              " ('last', 'string'),\n",
              " ('gender', 'string'),\n",
              " ('street', 'string'),\n",
              " ('city', 'string'),\n",
              " ('state', 'string'),\n",
              " ('zip', 'int'),\n",
              " ('lat', 'double'),\n",
              " ('long', 'double'),\n",
              " ('city_pop', 'int'),\n",
              " ('job', 'string'),\n",
              " ('dob', 'date'),\n",
              " ('trans_num', 'string'),\n",
              " ('unix_time', 'int'),\n",
              " ('merch_lat', 'double'),\n",
              " ('merch_long', 'double'),\n",
              " ('is_fraud', 'int')]"
            ]
          },
          "metadata": {},
          "execution_count": 7
        }
      ]
    },
    {
      "cell_type": "code",
      "source": [
        "# separate columns between numeric and strings\n",
        "numeric_cols = [col[0] for col in train.dtypes if col[1] in ['double','float','int']]\n",
        "string_cols = [col[0] for col in train.dtypes if col[1] not in ['double','float','int']]\n",
        "\n",
        "# check for nulls\n",
        "def count_nulls(df):\n",
        "  df.select([\n",
        "      count(when(col(c).isNull() | (col(c) == \"\"), c)).alias(c) if c in string_cols else\n",
        "      count(when(col(c).isNull() | isnan(col(c)), c)).alias(c)\n",
        "      for c in df.columns\n",
        "  ]).show()\n",
        "\n",
        "print('Train nulls:')\n",
        "count_nulls(train)"
      ],
      "metadata": {
        "colab": {
          "base_uri": "https://localhost:8080/"
        },
        "id": "1iEjJEE7stk9",
        "outputId": "aa460a76-3af9-45fb-f072-cdd5b99ac53b"
      },
      "execution_count": 8,
      "outputs": [
        {
          "output_type": "stream",
          "name": "stdout",
          "text": [
            "Train nulls:\n",
            "+---+---------------------+------+--------+--------+---+-----+----+------+------+----+-----+---+---+----+--------+---+---+---------+---------+---------+----------+--------+\n",
            "|_c0|trans_date_trans_time|cc_num|merchant|category|amt|first|last|gender|street|city|state|zip|lat|long|city_pop|job|dob|trans_num|unix_time|merch_lat|merch_long|is_fraud|\n",
            "+---+---------------------+------+--------+--------+---+-----+----+------+------+----+-----+---+---+----+--------+---+---+---------+---------+---------+----------+--------+\n",
            "|  0|                    0|     0|       0|       0|  0|    0|   0|     0|     0|   0|    0|  0|  0|   0|       0|  0|  0|        0|        0|        0|         0|       0|\n",
            "+---+---------------------+------+--------+--------+---+-----+----+------+------+----+-----+---+---+----+--------+---+---+---------+---------+---------+----------+--------+\n",
            "\n"
          ]
        }
      ]
    },
    {
      "cell_type": "code",
      "source": [
        "print('Test nulls:')\n",
        "count_nulls(test)"
      ],
      "metadata": {
        "colab": {
          "base_uri": "https://localhost:8080/"
        },
        "id": "iaJrnopA4rtq",
        "outputId": "dc78f23a-3368-49d6-c89d-fcd73d5a1806"
      },
      "execution_count": 9,
      "outputs": [
        {
          "output_type": "stream",
          "name": "stdout",
          "text": [
            "Test nulls:\n",
            "+---+---------------------+------+--------+--------+---+-----+----+------+------+----+-----+---+---+----+--------+---+---+---------+---------+---------+----------+--------+\n",
            "|_c0|trans_date_trans_time|cc_num|merchant|category|amt|first|last|gender|street|city|state|zip|lat|long|city_pop|job|dob|trans_num|unix_time|merch_lat|merch_long|is_fraud|\n",
            "+---+---------------------+------+--------+--------+---+-----+----+------+------+----+-----+---+---+----+--------+---+---+---------+---------+---------+----------+--------+\n",
            "|  0|                    0|     0|       0|       0|  0|    0|   0|     0|     0|   0|    0|  0|  0|   0|       0|  0|  0|        0|        0|        0|         0|       0|\n",
            "+---+---------------------+------+--------+--------+---+-----+----+------+------+----+-----+---+---+----+--------+---+---+---------+---------+---------+----------+--------+\n",
            "\n"
          ]
        }
      ]
    },
    {
      "cell_type": "code",
      "source": [
        "# check for duplicates\n",
        "def duplicates (df):\n",
        "  df.groupBy(df.columns).count().filter(\"count > 1\").show()\n",
        "\n",
        "duplicates(train)"
      ],
      "metadata": {
        "colab": {
          "base_uri": "https://localhost:8080/"
        },
        "id": "wo0MCKPIQqrJ",
        "outputId": "831ee202-5c51-421e-e3f4-c45519b560ae"
      },
      "execution_count": 10,
      "outputs": [
        {
          "output_type": "stream",
          "name": "stdout",
          "text": [
            "+---+---------------------+------+--------+--------+---+-----+----+------+------+----+-----+---+---+----+--------+---+---+---------+---------+---------+----------+--------+-----+\n",
            "|_c0|trans_date_trans_time|cc_num|merchant|category|amt|first|last|gender|street|city|state|zip|lat|long|city_pop|job|dob|trans_num|unix_time|merch_lat|merch_long|is_fraud|count|\n",
            "+---+---------------------+------+--------+--------+---+-----+----+------+------+----+-----+---+---+----+--------+---+---+---------+---------+---------+----------+--------+-----+\n",
            "+---+---------------------+------+--------+--------+---+-----+----+------+------+----+-----+---+---+----+--------+---+---+---------+---------+---------+----------+--------+-----+\n",
            "\n"
          ]
        }
      ]
    },
    {
      "cell_type": "code",
      "source": [
        "duplicates(test)"
      ],
      "metadata": {
        "colab": {
          "base_uri": "https://localhost:8080/"
        },
        "id": "4N0zE8yUQ8vK",
        "outputId": "9cdee4df-21de-476e-ed8c-40aeaf26448f"
      },
      "execution_count": 11,
      "outputs": [
        {
          "output_type": "stream",
          "name": "stdout",
          "text": [
            "+---+---------------------+------+--------+--------+---+-----+----+------+------+----+-----+---+---+----+--------+---+---+---------+---------+---------+----------+--------+-----+\n",
            "|_c0|trans_date_trans_time|cc_num|merchant|category|amt|first|last|gender|street|city|state|zip|lat|long|city_pop|job|dob|trans_num|unix_time|merch_lat|merch_long|is_fraud|count|\n",
            "+---+---------------------+------+--------+--------+---+-----+----+------+------+----+-----+---+---+----+--------+---+---+---------+---------+---------+----------+--------+-----+\n",
            "+---+---------------------+------+--------+--------+---+-----+----+------+------+----+-----+---+---+----+--------+---+---+---------+---------+---------+----------+--------+-----+\n",
            "\n"
          ]
        }
      ]
    },
    {
      "cell_type": "markdown",
      "metadata": {
        "id": "aSFLj0LJiSmY"
      },
      "source": [
        "## Feature Engineering <a name=\"features\"></a>\n",
        "[Table of contents](#table_cont)"
      ]
    },
    {
      "cell_type": "markdown",
      "source": [
        "Retail industry know that some dates are better for commerce than others. Those [holidays](https://www.tagalys.com/blog/us-shopping-sales-calendar-2019) have a significant impact on customer behavior, on which they look for deals and increase the chance to fall victim of scams. But not all events are the same, for instance, BlackFriday and Christmas tend to attract more customers due it's increrible deals while other holidays have more modest impact. That's why I'm classifying holidays based on their impact, and therefore creating 'tiers'.\n",
        "\n",
        "Some details to look out for:\n",
        "- Deals usually happen during the holiday week, so I'm using the week number to build my variables\n",
        "- Week number may change due the year, so I'll need to build a flexible way to find the corresponding number\n",
        "- This is an American dataset. Even if it was created with synthetic data, still follow American behavior and calendar.\n",
        "- Retail dates:\n",
        "  - Tier1: Blackfriday (November 4th week), Christmas (last week of december)\n",
        "  - Tier2: Easter, Independence day (4th of July), Labor day (1st Monday of September), halloween (October last week).\n",
        "  - No event: the rest of the year\n",
        "\n",
        "  obs: In the ideal case, I would find the specific week of the year depending on the timestamp. But for this exercise, since I'm only using PySpark to treat the data, I'll create a range of week dates."
      ],
      "metadata": {
        "id": "G83KbTIY9vDB"
      }
    },
    {
      "cell_type": "code",
      "source": [
        "def feature_engine(df):\n",
        "  # extract date, time, create 'age' variable based on dob (date of birth),\n",
        "  # create 'distance' based on difference between lat,long and merchant_lat,merchant_long\n",
        "  df = df.withColumn('year', year('trans_date_trans_time'))\\\n",
        "         .withColumn('month', month('trans_date_trans_time'))\\\n",
        "         .withColumn('day_week', dayofweek('trans_date_trans_time'))\\\n",
        "         .withColumn('age', floor(date_diff(current_date(), col('dob'))/365.25))\\\n",
        "         .withColumn('lat_diff', col('lat')-col('merch_lat'))\\\n",
        "         .withColumn('long_diff', col('long')-col('merch_long'))\\\n",
        "         .withColumn('tier1_event', when(weekofyear('trans_date_trans_time').isin([47,48,51,52]), 1).otherwise(0))\\\n",
        "         .withColumn('tier2_event', when(weekofyear('trans_date_trans_time').isin([12,13,14,15,16,17,27,35,36,37,43,44,45]),1).otherwise(0))\\\n",
        "         .withColumn('no_event', when((col('tier1_event')==0) & (col('tier2_event')==0), 1).otherwise(0))\n",
        "  df = df.drop(*['_c0','trans_date_trans_time','cc_num','first','last','street','dob','trans_num'])\n",
        "\n",
        "  return df"
      ],
      "metadata": {
        "id": "89W7hTGeK7k1"
      },
      "execution_count": 12,
      "outputs": []
    },
    {
      "cell_type": "code",
      "source": [
        "# crete new dataframes with new features and dropped useless ones\n",
        "adj_train = feature_engine(train)\n",
        "adj_test = feature_engine(test)"
      ],
      "metadata": {
        "id": "gqJC1eaiRe-h"
      },
      "execution_count": 13,
      "outputs": []
    },
    {
      "cell_type": "code",
      "source": [
        "adj_train.show(2)"
      ],
      "metadata": {
        "colab": {
          "base_uri": "https://localhost:8080/"
        },
        "id": "jspN6JBZ9qMA",
        "outputId": "48248db6-3389-4f14-c6be-1afbb2ee30c1"
      },
      "execution_count": 14,
      "outputs": [
        {
          "output_type": "stream",
          "name": "stdout",
          "text": [
            "+--------------------+-----------+------+------+--------------+-----+-----+-------+---------+--------+--------------------+----------+------------------+-----------+--------+----+-----+--------+---+--------------------+--------------------+-----------+-----------+--------+\n",
            "|            merchant|   category|   amt|gender|          city|state|  zip|    lat|     long|city_pop|                 job| unix_time|         merch_lat| merch_long|is_fraud|year|month|day_week|age|            lat_diff|           long_diff|tier1_event|tier2_event|no_event|\n",
            "+--------------------+-----------+------+------+--------------+-----+-----+-------+---------+--------+--------------------+----------+------------------+-----------+--------+----+-----+--------+---+--------------------+--------------------+-----------+-----------+--------+\n",
            "|fraud_Rippin, Kub...|   misc_net|  4.97|     F|Moravian Falls|   NC|28654|36.0788| -81.1781|    3495|Psychologist, cou...|1325376018|         36.011293| -82.048315|       0|2019|    1|       3| 36|  0.0675069999999991|  0.8702150000000017|          0|          0|       1|\n",
            "|fraud_Heller, Gut...|grocery_pos|107.23|     F|        Orient|   WA|99160|48.8878|-118.2105|     149|Special education...|1325376044|49.159046999999994|-118.186462|       0|2019|    1|       3| 46|-0.27124699999999535|-0.02403799999999...|          0|          0|       1|\n",
            "+--------------------+-----------+------+------+--------------+-----+-----+-------+---------+--------+--------------------+----------+------------------+-----------+--------+----+-----+--------+---+--------------------+--------------------+-----------+-----------+--------+\n",
            "only showing top 2 rows\n",
            "\n"
          ]
        }
      ]
    },
    {
      "cell_type": "markdown",
      "metadata": {
        "id": "tCCvKJ7BiSmX"
      },
      "source": [
        "## EDA  <a name=\"eda\"></a>\n",
        "[Table of contents](#table_cont)"
      ]
    },
    {
      "cell_type": "markdown",
      "source": [
        "### Fraud"
      ],
      "metadata": {
        "id": "blv3gevz7DVH"
      }
    },
    {
      "cell_type": "code",
      "source": [
        "# check distribuition of fraud and non-fraud in my dataset\n",
        "adj_train.groupby('is_fraud').agg(count('is_fraud'), sum('amt')).show()"
      ],
      "metadata": {
        "colab": {
          "base_uri": "https://localhost:8080/"
        },
        "id": "pSO-w2BD0P9W",
        "outputId": "2b662a73-2b30-435d-fea7-aa211968d8f8"
      },
      "execution_count": 15,
      "outputs": [
        {
          "output_type": "stream",
          "name": "stdout",
          "text": [
            "+--------+---------------+-------------------+\n",
            "|is_fraud|count(is_fraud)|           sum(amt)|\n",
            "+--------+---------------+-------------------+\n",
            "|       1|           7506| 3988088.6099999975|\n",
            "|       0|        1289169|8.723434029000089E7|\n",
            "+--------+---------------+-------------------+\n",
            "\n"
          ]
        }
      ]
    },
    {
      "cell_type": "code",
      "source": [
        "# frauds by year\n",
        "adj_train.groupby(*['year','is_fraud']).agg(count('is_fraud'), sum('amt'), mean('amt')).show()"
      ],
      "metadata": {
        "colab": {
          "base_uri": "https://localhost:8080/"
        },
        "id": "-LPW_3r9AJSJ",
        "outputId": "6b102b3d-5fb2-49d7-b453-0289e0f479da"
      },
      "execution_count": 16,
      "outputs": [
        {
          "output_type": "stream",
          "name": "stdout",
          "text": [
            "+----+--------+---------------+-------------------+-----------------+\n",
            "|year|is_fraud|count(is_fraud)|           sum(amt)|         avg(amt)|\n",
            "+----+--------+---------------+-------------------+-----------------+\n",
            "|2019|       1|           5220| 2767822.8699999964|530.2342662835242|\n",
            "|2019|       0|         919630|6.221713006000053E7|67.65452416732874|\n",
            "|2020|       1|           2286|  1220265.740000001| 533.799536307962|\n",
            "|2020|       0|         369539|2.501721022999985E7|67.69843028746587|\n",
            "+----+--------+---------------+-------------------+-----------------+\n",
            "\n"
          ]
        }
      ]
    },
    {
      "cell_type": "code",
      "source": [
        "# check distribution of frauds along the year (2019)\n",
        "adj_train.groupby(*['year','month','is_fraud'])\\\n",
        "         .agg(count('is_fraud'), sum('amt'), mean('amt'))\\\n",
        "         .filter((col('year') == 2019) & (col('is_fraud') == 1))\\\n",
        "         .sort(asc('month')).show()"
      ],
      "metadata": {
        "colab": {
          "base_uri": "https://localhost:8080/"
        },
        "id": "0Cwif5Ky7L50",
        "outputId": "fca4a0b9-0ee3-455c-b564-f90ae32fe530"
      },
      "execution_count": 17,
      "outputs": [
        {
          "output_type": "stream",
          "name": "stdout",
          "text": [
            "+----+-----+--------+---------------+------------------+------------------+\n",
            "|year|month|is_fraud|count(is_fraud)|          sum(amt)|          avg(amt)|\n",
            "+----+-----+--------+---------------+------------------+------------------+\n",
            "|2019|    1|       1|            506|261780.38000000015| 517.3525296442691|\n",
            "|2019|    2|       1|            517|         274051.08| 530.0794584139265|\n",
            "|2019|    3|       1|            494|237637.59000000003| 481.0477530364373|\n",
            "|2019|    4|       1|            376| 202067.2899999998| 537.4130053191484|\n",
            "|2019|    5|       1|            408|210549.11000000002| 516.0517401960784|\n",
            "|2019|    6|       1|            354|178204.60000000015|503.40282485875747|\n",
            "|2019|    7|       1|            331|188701.59000000014| 570.0954380664657|\n",
            "|2019|    8|       1|            382| 203951.1299999999| 533.9034816753924|\n",
            "|2019|    9|       1|            418|217675.37000000002| 520.7544736842106|\n",
            "|2019|   10|       1|            454|257739.72000000023|  567.708634361234|\n",
            "|2019|   11|       1|            388|200307.46999999994| 516.2563659793813|\n",
            "|2019|   12|       1|            592|         335157.54| 566.1444932432432|\n",
            "+----+-----+--------+---------------+------------------+------------------+\n",
            "\n"
          ]
        }
      ]
    },
    {
      "cell_type": "code",
      "source": [
        "# check distribution of frauds along the year (2020)\n",
        "adj_train.groupby(*['year','month','is_fraud'])\\\n",
        "         .agg(count('is_fraud'), sum('amt'), mean('amt'))\\\n",
        "         .filter((col('year') == 2020) & (col('is_fraud') == 1))\\\n",
        "         .sort(asc('month')).show()"
      ],
      "metadata": {
        "colab": {
          "base_uri": "https://localhost:8080/"
        },
        "id": "fEIRUzCO900O",
        "outputId": "a6610c59-eb12-4296-be84-f668c9237e19"
      },
      "execution_count": 18,
      "outputs": [
        {
          "output_type": "stream",
          "name": "stdout",
          "text": [
            "+----+-----+--------+---------------+------------------+------------------+\n",
            "|year|month|is_fraud|count(is_fraud)|          sum(amt)|          avg(amt)|\n",
            "+----+-----+--------+---------------+------------------+------------------+\n",
            "|2020|    1|       1|            343|182595.36000000007| 532.3479883381926|\n",
            "|2020|    2|       1|            336|183950.10999999993| 547.4705654761902|\n",
            "|2020|    3|       1|            444|234090.09999999986| 527.2299549549547|\n",
            "|2020|    4|       1|            302| 152173.9799999999|503.88735099337714|\n",
            "|2020|    5|       1|            527|287226.37999999995| 545.0215939278936|\n",
            "|2020|    6|       1|            334|180229.81000000008| 539.6102095808386|\n",
            "+----+-----+--------+---------------+------------------+------------------+\n",
            "\n"
          ]
        }
      ]
    },
    {
      "cell_type": "code",
      "source": [
        "# check if fraud distribution is the same in test set\n",
        "adj_test.groupby('is_fraud').count().show()"
      ],
      "metadata": {
        "colab": {
          "base_uri": "https://localhost:8080/"
        },
        "id": "d-dY8z6k7Fyi",
        "outputId": "b791adf0-c1ab-43dc-bef5-0cd390b5a7c4"
      },
      "execution_count": 19,
      "outputs": [
        {
          "output_type": "stream",
          "name": "stdout",
          "text": [
            "+--------+------+\n",
            "|is_fraud| count|\n",
            "+--------+------+\n",
            "|       1|  2145|\n",
            "|       0|553574|\n",
            "+--------+------+\n",
            "\n"
          ]
        }
      ]
    },
    {
      "cell_type": "markdown",
      "source": [
        "### Merchant"
      ],
      "metadata": {
        "id": "qV91C7Wm1Ub7"
      }
    },
    {
      "cell_type": "code",
      "source": [
        "# unique merchants\n",
        "adj_train.select('merchant').distinct().count()"
      ],
      "metadata": {
        "colab": {
          "base_uri": "https://localhost:8080/"
        },
        "id": "e53L3tKN_hdH",
        "outputId": "2e4fbb89-f671-4864-fd2d-4413157199c0"
      },
      "execution_count": 20,
      "outputs": [
        {
          "output_type": "execute_result",
          "data": {
            "text/plain": [
              "693"
            ]
          },
          "metadata": {},
          "execution_count": 20
        }
      ]
    },
    {
      "cell_type": "code",
      "source": [
        "# main merchants\n",
        "adj_train.filter(col('is_fraud') == 1)\\\n",
        "         .groupby(*['merchant','is_fraud']).agg(count('is_fraud'), sum('amt'), mean('amt'))\\\n",
        "         .sort(desc('count(is_fraud)')).show(10)"
      ],
      "metadata": {
        "colab": {
          "base_uri": "https://localhost:8080/"
        },
        "id": "HoQ-1mHg0QLD",
        "outputId": "9a98c236-9dc0-42d8-c611-8c728f2bedea"
      },
      "execution_count": 21,
      "outputs": [
        {
          "output_type": "stream",
          "name": "stdout",
          "text": [
            "+--------------------+--------+---------------+------------------+------------------+\n",
            "|            merchant|is_fraud|count(is_fraud)|          sum(amt)|          avg(amt)|\n",
            "+--------------------+--------+---------------+------------------+------------------+\n",
            "|  fraud_Rau and Sons|       1|             49|          15299.76|            312.24|\n",
            "|   fraud_Cormier LLC|       1|             48|          44903.89| 935.4977083333333|\n",
            "|   fraud_Kozey-Boehm|       1|             48|48189.979999999996|1003.9579166666666|\n",
            "|fraud_Vandervort-...|       1|             47|14973.760000000002| 318.5906382978724|\n",
            "|   fraud_Kilback LLC|       1|             47|          13039.28| 277.4314893617021|\n",
            "|     fraud_Doyle Ltd|       1|             47|14807.910000000002|315.06191489361703|\n",
            "|      fraud_Kuhn LLC|       1|             44|37166.299999999996| 844.6886363636363|\n",
            "| fraud_Padberg-Welch|       1|             44|          13713.45| 311.6693181818182|\n",
            "|    fraud_Terry-Huel|       1|             43|          42356.37| 985.0318604651163|\n",
            "|      fraud_Jast Ltd|       1|             42|          42560.34|1013.3414285714285|\n",
            "+--------------------+--------+---------------+------------------+------------------+\n",
            "only showing top 10 rows\n",
            "\n"
          ]
        }
      ]
    },
    {
      "cell_type": "code",
      "source": [
        "# main merchants\n",
        "adj_train.filter(col('is_fraud') == 1)\\\n",
        "         .groupby(*['merchant','is_fraud']).agg(count('is_fraud'), sum('amt'), mean('amt'))\\\n",
        "         .sort(desc('sum(amt)')).show(10)"
      ],
      "metadata": {
        "id": "DatgbHy1WaN9",
        "outputId": "ded06ddc-ca12-41fb-f03a-22485abccb19",
        "colab": {
          "base_uri": "https://localhost:8080/"
        }
      },
      "execution_count": 22,
      "outputs": [
        {
          "output_type": "stream",
          "name": "stdout",
          "text": [
            "+--------------------+--------+---------------+------------------+------------------+\n",
            "|            merchant|is_fraud|count(is_fraud)|          sum(amt)|          avg(amt)|\n",
            "+--------------------+--------+---------------+------------------+------------------+\n",
            "|   fraud_Kozey-Boehm|       1|             48|48189.979999999996|1003.9579166666666|\n",
            "|   fraud_Cormier LLC|       1|             48|          44903.89| 935.4977083333333|\n",
            "|      fraud_Jast Ltd|       1|             42|          42560.34|1013.3414285714285|\n",
            "|    fraud_Terry-Huel|       1|             43|          42356.37| 985.0318604651163|\n",
            "|   fraud_Goyette Inc|       1|             42|41580.840000000004| 990.0200000000001|\n",
            "|fraud_Kerluke-Abs...|       1|             41|          40909.57| 997.7943902439024|\n",
            "|fraud_Schmeler, B...|       1|             41|40143.049999999996| 979.0987804878048|\n",
            "|fraud_Gleason-Mac...|       1|             40|          39892.84| 997.3209999999999|\n",
            "|fraud_Kuhic, Bins...|       1|             39|          39865.69|1022.1971794871796|\n",
            "|     fraud_Kuhic LLC|       1|             39| 39765.05999999999|1019.6169230769228|\n",
            "+--------------------+--------+---------------+------------------+------------------+\n",
            "only showing top 10 rows\n",
            "\n"
          ]
        }
      ]
    },
    {
      "cell_type": "code",
      "source": [
        "# top merchant & CC fraud 2019 by count\n",
        "adj_train.filter((col('year') == 2019) & (col('is_fraud') == 1))\\\n",
        "         .groupby(*['year','merchant','is_fraud']).agg(count('is_fraud'), sum('amt'), mean('amt'))\\\n",
        "         .sort(desc('count(is_fraud)')).show(10)"
      ],
      "metadata": {
        "colab": {
          "base_uri": "https://localhost:8080/"
        },
        "id": "JW7JIVBN0P55",
        "outputId": "1d5030dc-fc2b-4120-a0fe-31763221743c"
      },
      "execution_count": 23,
      "outputs": [
        {
          "output_type": "stream",
          "name": "stdout",
          "text": [
            "+----+--------------------+--------+---------------+------------------+------------------+\n",
            "|year|            merchant|is_fraud|count(is_fraud)|          sum(amt)|          avg(amt)|\n",
            "+----+--------------------+--------+---------------+------------------+------------------+\n",
            "|2019|  fraud_Hudson-Ratke|       1|             37|11690.240000000002| 315.9524324324325|\n",
            "|2019|   fraud_Kilback LLC|       1|             35|           9816.91|280.48314285714287|\n",
            "|2019|  fraud_Rau and Sons|       1|             33|          10301.79|312.17545454545456|\n",
            "|2019|   fraud_Cormier LLC|       1|             32|29125.440000000002| 910.1700000000001|\n",
            "|2019|fraud_Gleason-Mac...|       1|             32|          32168.85|      1005.2765625|\n",
            "|2019| fraud_Koepp-Witting|       1|             32| 9795.609999999999|306.11281249999996|\n",
            "|2019|      fraud_Kuhn LLC|       1|             32|          26354.69|       823.5840625|\n",
            "|2019|     fraud_Kuhic LLC|       1|             31|          31563.39|1018.1738709677419|\n",
            "|2019| fraud_Padberg-Welch|       1|             31| 9591.189999999999| 309.3932258064516|\n",
            "|2019|fraud_Boyer-Reichert|       1|             31|31545.469999999998|1017.5958064516128|\n",
            "+----+--------------------+--------+---------------+------------------+------------------+\n",
            "only showing top 10 rows\n",
            "\n"
          ]
        }
      ]
    },
    {
      "cell_type": "code",
      "source": [
        "# top merchant & CC fraud 2019 by total spent\n",
        "adj_train.filter((col('year') == 2019) & (col('is_fraud') == 1))\\\n",
        "         .groupby(*['year','merchant','is_fraud']).agg(count('is_fraud'), sum('amt'), mean('amt'))\\\n",
        "         .sort(desc('sum(amt)')).show(10)"
      ],
      "metadata": {
        "id": "5mO_2tVdVh4R",
        "outputId": "a425c54f-c1fc-49ad-9564-7aeeb19672cf",
        "colab": {
          "base_uri": "https://localhost:8080/"
        }
      },
      "execution_count": 24,
      "outputs": [
        {
          "output_type": "stream",
          "name": "stdout",
          "text": [
            "+----+--------------------+--------+---------------+------------------+------------------+\n",
            "|year|            merchant|is_fraud|count(is_fraud)|          sum(amt)|          avg(amt)|\n",
            "+----+--------------------+--------+---------------+------------------+------------------+\n",
            "|2019|fraud_Gleason-Mac...|       1|             32|          32168.85|      1005.2765625|\n",
            "|2019|     fraud_Kuhic LLC|       1|             31|          31563.39|1018.1738709677419|\n",
            "|2019|fraud_Boyer-Reichert|       1|             31|31545.469999999998|1017.5958064516128|\n",
            "|2019|    fraud_Terry-Huel|       1|             31|30626.420000000002| 987.9490322580646|\n",
            "|2019|   fraud_Kozey-Boehm|       1|             30|30325.079999999998|1010.8359999999999|\n",
            "|2019|fraud_Towne, Gree...|       1|             30|30236.109999999997|1007.8703333333332|\n",
            "|2019|   fraud_Cormier LLC|       1|             32|29125.440000000002| 910.1700000000001|\n",
            "|2019|fraud_Fisher-Scho...|       1|             29|28825.259999999995| 993.9744827586205|\n",
            "|2019|fraud_Streich, Di...|       1|             29|          28759.52| 991.7075862068966|\n",
            "|2019|     fraud_Boyer PLC|       1|             30|          28685.61|           956.187|\n",
            "+----+--------------------+--------+---------------+------------------+------------------+\n",
            "only showing top 10 rows\n",
            "\n"
          ]
        }
      ]
    },
    {
      "cell_type": "code",
      "source": [
        "# top merchant & CC fraud 2020 by count\n",
        "adj_train.filter((col('year') == 2020) & (col('is_fraud') == 1))\\\n",
        "         .groupby(*['year','merchant','is_fraud']).agg(count('is_fraud'), sum('amt'), mean('amt'))\\\n",
        "         .sort(desc('count(is_fraud)')).show(10)"
      ],
      "metadata": {
        "colab": {
          "base_uri": "https://localhost:8080/"
        },
        "id": "aQAOGCpk0P2e",
        "outputId": "56b8fed9-5cff-4466-e021-b97d9f5752b9"
      },
      "execution_count": 25,
      "outputs": [
        {
          "output_type": "stream",
          "name": "stdout",
          "text": [
            "+----+--------------------+--------+---------------+------------------+------------------+\n",
            "|year|            merchant|is_fraud|count(is_fraud)|          sum(amt)|          avg(amt)|\n",
            "+----+--------------------+--------+---------------+------------------+------------------+\n",
            "|2020|     fraud_Doyle Ltd|       1|             23| 7299.240000000002| 317.3582608695653|\n",
            "|2020|fraud_Kerluke-Abs...|       1|             19|18476.069999999996| 972.4247368421051|\n",
            "|2020|   fraud_Kozey-Boehm|       1|             18|17864.899999999998| 992.4944444444443|\n",
            "|2020|     fraud_Kiehn Inc|       1|             16| 4944.869999999999|309.05437499999994|\n",
            "|2020|fraud_Vandervort-...|       1|             16|           4880.71|        305.044375|\n",
            "|2020|   fraud_Cormier LLC|       1|             16|          15778.45|        986.153125|\n",
            "|2020|fraud_Moen, Reing...|       1|             16|           4903.06|         306.44125|\n",
            "|2020|  fraud_Rau and Sons|       1|             16|           4997.97|        312.373125|\n",
            "|2020|fraud_Langworth, ...|       1|             16|15590.740000000002| 974.4212500000001|\n",
            "|2020|    fraud_Fisher Inc|       1|             15|          15830.84|1055.3893333333333|\n",
            "+----+--------------------+--------+---------------+------------------+------------------+\n",
            "only showing top 10 rows\n",
            "\n"
          ]
        }
      ]
    },
    {
      "cell_type": "code",
      "source": [
        "# top merchant & CC fraud 2020 by total spent\n",
        "adj_train.filter((col('year') == 2020) & (col('is_fraud') == 1))\\\n",
        "         .groupby(*['year','merchant','is_fraud']).agg(count('is_fraud'), sum('amt'), mean('amt'))\\\n",
        "         .sort(desc('sum(amt)')).show(10)"
      ],
      "metadata": {
        "id": "JvDaTB7dYnc3",
        "outputId": "2adee3fa-1dce-46e0-825f-a35601c20803",
        "colab": {
          "base_uri": "https://localhost:8080/"
        }
      },
      "execution_count": 26,
      "outputs": [
        {
          "output_type": "stream",
          "name": "stdout",
          "text": [
            "+----+--------------------+--------+---------------+------------------+------------------+\n",
            "|year|            merchant|is_fraud|count(is_fraud)|          sum(amt)|          avg(amt)|\n",
            "+----+--------------------+--------+---------------+------------------+------------------+\n",
            "|2020|fraud_Kerluke-Abs...|       1|             19|18476.069999999996| 972.4247368421051|\n",
            "|2020|   fraud_Kozey-Boehm|       1|             18|17864.899999999998| 992.4944444444443|\n",
            "|2020|    fraud_Fisher Inc|       1|             15|          15830.84|1055.3893333333333|\n",
            "|2020|   fraud_Cormier LLC|       1|             16|          15778.45|        986.153125|\n",
            "|2020|      fraud_Jast Ltd|       1|             15|          15643.32|          1042.888|\n",
            "|2020|fraud_Langworth, ...|       1|             16|15590.740000000002| 974.4212500000001|\n",
            "|2020|    fraud_Schumm PLC|       1|             13|13649.819999999998|1049.9861538461537|\n",
            "|2020|   fraud_Goyette Inc|       1|             13|          13515.88| 1039.683076923077|\n",
            "|2020|fraud_Schmeler, B...|       1|             13|          12784.08| 983.3907692307693|\n",
            "|2020|fraud_Kuhic, Bins...|       1|             12|12715.169999999998|1059.5974999999999|\n",
            "+----+--------------------+--------+---------------+------------------+------------------+\n",
            "only showing top 10 rows\n",
            "\n"
          ]
        }
      ]
    },
    {
      "cell_type": "markdown",
      "source": [
        "### Category"
      ],
      "metadata": {
        "id": "lS8Q4YIIDMAS"
      }
    },
    {
      "cell_type": "code",
      "source": [
        "# unique categories\n",
        "adj_train.select('category').distinct().count()"
      ],
      "metadata": {
        "colab": {
          "base_uri": "https://localhost:8080/"
        },
        "id": "Y2Db1-YHDbEI",
        "outputId": "889dec92-f5f0-4cd1-d995-414a068d00e8"
      },
      "execution_count": 27,
      "outputs": [
        {
          "output_type": "execute_result",
          "data": {
            "text/plain": [
              "14"
            ]
          },
          "metadata": {},
          "execution_count": 27
        }
      ]
    },
    {
      "cell_type": "code",
      "source": [
        "# main frauded categories\n",
        "adj_train.groupby(*['category','is_fraud'])\\\n",
        "         .agg(count('is_fraud'), sum('amt'))\\\n",
        "         .filter(col('is_fraud') == 1)\\\n",
        "         .sort(desc('sum(amt)')).show(14)"
      ],
      "metadata": {
        "colab": {
          "base_uri": "https://localhost:8080/"
        },
        "id": "pqrF6JdqDL1q",
        "outputId": "522b9046-f967-4138-efed-a2dae7c0aaba"
      },
      "execution_count": 28,
      "outputs": [
        {
          "output_type": "stream",
          "name": "stdout",
          "text": [
            "+--------------+--------+---------------+------------------+\n",
            "|      category|is_fraud|count(is_fraud)|          sum(amt)|\n",
            "+--------------+--------+---------------+------------------+\n",
            "|  shopping_net|       1|           1713|1711723.7099999983|\n",
            "|  shopping_pos|       1|            843|         739245.09|\n",
            "|      misc_net|       1|            915| 729266.7599999999|\n",
            "|   grocery_pos|       1|           1743| 543797.8999999999|\n",
            "| entertainment|       1|            233|117323.79000000002|\n",
            "|      misc_pos|       1|            250| 54571.01999999999|\n",
            "|          home|       1|            198|          50971.66|\n",
            "|   food_dining|       1|            151|          18131.62|\n",
            "| gas_transport|       1|            618| 7594.109999999998|\n",
            "| personal_care|       1|            220|           5757.52|\n",
            "|     kids_pets|       1|            239|           4331.08|\n",
            "|health_fitness|       1|            133|           2693.04|\n",
            "|   grocery_net|       1|            134|           1629.82|\n",
            "|        travel|       1|            116|1051.4900000000002|\n",
            "+--------------+--------+---------------+------------------+\n",
            "\n"
          ]
        }
      ]
    },
    {
      "cell_type": "code",
      "source": [
        "# categories & CC fraud 2019\n",
        "adj_train.groupby(*['year','category','is_fraud'])\\\n",
        "         .count().filter((col('year') == 2019) & (col('is_fraud') == 1))\\\n",
        "        .sort(desc('count')).show(14)"
      ],
      "metadata": {
        "colab": {
          "base_uri": "https://localhost:8080/"
        },
        "id": "HyixzURtDLz9",
        "outputId": "68d1f60d-585e-4cd0-aa19-5b092c828c81"
      },
      "execution_count": 29,
      "outputs": [
        {
          "output_type": "stream",
          "name": "stdout",
          "text": [
            "+----+--------------+--------+-----+\n",
            "|year|      category|is_fraud|count|\n",
            "+----+--------------+--------+-----+\n",
            "|2019|   grocery_pos|       1| 1202|\n",
            "|2019|  shopping_net|       1| 1201|\n",
            "|2019|      misc_net|       1|  629|\n",
            "|2019|  shopping_pos|       1|  583|\n",
            "|2019| gas_transport|       1|  439|\n",
            "|2019|     kids_pets|       1|  172|\n",
            "|2019|      misc_pos|       1|  170|\n",
            "|2019| entertainment|       1|  163|\n",
            "|2019| personal_care|       1|  152|\n",
            "|2019|          home|       1|  129|\n",
            "|2019|   food_dining|       1|  104|\n",
            "|2019|health_fitness|       1|   96|\n",
            "|2019|   grocery_net|       1|   94|\n",
            "|2019|        travel|       1|   86|\n",
            "+----+--------------+--------+-----+\n",
            "\n"
          ]
        }
      ]
    },
    {
      "cell_type": "code",
      "source": [
        "# Higher amount by cartegory and frauded in 2019\n",
        "adj_train.groupby(*['year','category','is_fraud']).sum('amt')\\\n",
        "         .filter((col('year') == 2019) & (col('is_fraud') == 1))\\\n",
        "         .sort(desc('sum(amt)')).show(14)"
      ],
      "metadata": {
        "colab": {
          "base_uri": "https://localhost:8080/"
        },
        "id": "v6IzOwvkDLxB",
        "outputId": "59b16ac8-1520-455a-aea7-665a22cd0291"
      },
      "execution_count": 30,
      "outputs": [
        {
          "output_type": "stream",
          "name": "stdout",
          "text": [
            "+----+--------------+--------+------------------+\n",
            "|year|      category|is_fraud|          sum(amt)|\n",
            "+----+--------------+--------+------------------+\n",
            "|2019|  shopping_net|       1|1202563.4199999995|\n",
            "|2019|  shopping_pos|       1| 512650.4299999999|\n",
            "|2019|      misc_net|       1| 500575.6700000001|\n",
            "|2019|   grocery_pos|       1|         375168.02|\n",
            "|2019| entertainment|       1| 82990.86000000002|\n",
            "|2019|          home|       1|33465.909999999996|\n",
            "|2019|      misc_pos|       1|31586.319999999992|\n",
            "|2019|   food_dining|       1|12401.849999999999|\n",
            "|2019| gas_transport|       1| 5433.089999999998|\n",
            "|2019| personal_care|       1| 4024.290000000001|\n",
            "|2019|     kids_pets|       1|3076.3100000000004|\n",
            "|2019|health_fitness|       1|           1944.62|\n",
            "|2019|   grocery_net|       1|           1172.03|\n",
            "|2019|        travel|       1|            770.05|\n",
            "+----+--------------+--------+------------------+\n",
            "\n"
          ]
        }
      ]
    },
    {
      "cell_type": "code",
      "source": [
        "# Higher amount by cartegory and frauded in 2020\n",
        "adj_train.groupby(*['year','category','is_fraud'])\\\n",
        "         .sum('amt').filter((col('year') == 2020) & (col('is_fraud') == 1))\\\n",
        "         .sort(desc('sum(amt)')).show(14)"
      ],
      "metadata": {
        "colab": {
          "base_uri": "https://localhost:8080/"
        },
        "id": "xZufLTupDLue",
        "outputId": "757a81c7-8591-4ae3-a735-2c196de24d3f"
      },
      "execution_count": 31,
      "outputs": [
        {
          "output_type": "stream",
          "name": "stdout",
          "text": [
            "+----+--------------+--------+------------------+\n",
            "|year|      category|is_fraud|          sum(amt)|\n",
            "+----+--------------+--------+------------------+\n",
            "|2020|  shopping_net|       1| 509160.2899999995|\n",
            "|2020|      misc_net|       1|228691.08999999997|\n",
            "|2020|  shopping_pos|       1|226594.66000000006|\n",
            "|2020|   grocery_pos|       1|168629.87999999998|\n",
            "|2020| entertainment|       1| 34332.92999999999|\n",
            "|2020|      misc_pos|       1|22984.699999999997|\n",
            "|2020|          home|       1|          17505.75|\n",
            "|2020|   food_dining|       1|           5729.77|\n",
            "|2020| gas_transport|       1|2161.0199999999995|\n",
            "|2020| personal_care|       1| 1733.229999999999|\n",
            "|2020|     kids_pets|       1|1254.7699999999998|\n",
            "|2020|health_fitness|       1| 748.4199999999998|\n",
            "|2020|   grocery_net|       1|457.78999999999996|\n",
            "|2020|        travel|       1|281.44000000000005|\n",
            "+----+--------------+--------+------------------+\n",
            "\n"
          ]
        }
      ]
    },
    {
      "cell_type": "markdown",
      "source": [
        "### Gender"
      ],
      "metadata": {
        "id": "943pvFLoF0w3"
      }
    },
    {
      "cell_type": "code",
      "source": [
        "# gender distribution\n",
        "adj_train.groupby('gender').count().sort(desc('count')).show()"
      ],
      "metadata": {
        "colab": {
          "base_uri": "https://localhost:8080/"
        },
        "id": "9B0-Za8UJqgd",
        "outputId": "30ea9415-00f2-4f32-9d77-38fd7a7cf0f4"
      },
      "execution_count": 32,
      "outputs": [
        {
          "output_type": "stream",
          "name": "stdout",
          "text": [
            "+------+------+\n",
            "|gender| count|\n",
            "+------+------+\n",
            "|     F|709863|\n",
            "|     M|586812|\n",
            "+------+------+\n",
            "\n"
          ]
        }
      ]
    },
    {
      "cell_type": "code",
      "source": [
        "# which gender suffers more with CC fraud\n",
        "adj_train.groupby(*['gender','is_fraud']).count().sort(asc('count')).show()"
      ],
      "metadata": {
        "colab": {
          "base_uri": "https://localhost:8080/"
        },
        "id": "Kj-npKr7DLsM",
        "outputId": "935af0f9-8fdb-40a7-baae-1fdfffe78f53"
      },
      "execution_count": 33,
      "outputs": [
        {
          "output_type": "stream",
          "name": "stdout",
          "text": [
            "+------+--------+------+\n",
            "|gender|is_fraud| count|\n",
            "+------+--------+------+\n",
            "|     F|       1|  3735|\n",
            "|     M|       1|  3771|\n",
            "|     M|       0|583041|\n",
            "|     F|       0|706128|\n",
            "+------+--------+------+\n",
            "\n"
          ]
        }
      ]
    },
    {
      "cell_type": "code",
      "source": [
        "# which gender spends more with CC fraud\n",
        "adj_train.groupby(*['gender','is_fraud']).sum('amt')\\\n",
        "         .filter(col('is_fraud')==1).sort(desc('sum(amt)')).show()"
      ],
      "metadata": {
        "colab": {
          "base_uri": "https://localhost:8080/"
        },
        "id": "JzbPYTypKc80",
        "outputId": "570e5029-0c4d-40db-e742-ef7806b1f2f5"
      },
      "execution_count": 34,
      "outputs": [
        {
          "output_type": "stream",
          "name": "stdout",
          "text": [
            "+------+--------+------------------+\n",
            "|gender|is_fraud|          sum(amt)|\n",
            "+------+--------+------------------+\n",
            "|     M|       1|2142801.2700000023|\n",
            "|     F|       1|1845287.3399999982|\n",
            "+------+--------+------------------+\n",
            "\n"
          ]
        }
      ]
    },
    {
      "cell_type": "code",
      "source": [
        "# how much each gender spended if they suffered fraud (2019)\n",
        "adj_train.groupby(*['year','category','gender','is_fraud'])\\\n",
        "         .sum('amt').filter((col('year') == 2019) & (col('is_fraud') == 1))\\\n",
        "         .sort(desc('sum(amt)')).show(14)"
      ],
      "metadata": {
        "colab": {
          "base_uri": "https://localhost:8080/"
        },
        "id": "2ZbstRoVKQP6",
        "outputId": "b98794d0-775c-4c09-92ad-a097dd3850b3"
      },
      "execution_count": 35,
      "outputs": [
        {
          "output_type": "stream",
          "name": "stdout",
          "text": [
            "+----+-------------+------+--------+------------------+\n",
            "|year|     category|gender|is_fraud|          sum(amt)|\n",
            "+----+-------------+------+--------+------------------+\n",
            "|2019| shopping_net|     M|       1| 735598.6099999999|\n",
            "|2019| shopping_net|     F|       1|466964.80999999994|\n",
            "|2019|     misc_net|     M|       1|284502.30000000005|\n",
            "|2019| shopping_pos|     F|       1|         282235.86|\n",
            "|2019| shopping_pos|     M|       1|230414.56999999995|\n",
            "|2019|     misc_net|     F|       1|216073.37000000005|\n",
            "|2019|  grocery_pos|     M|       1|212679.80000000005|\n",
            "|2019|  grocery_pos|     F|       1|162488.22000000006|\n",
            "|2019|entertainment|     F|       1| 49913.71000000001|\n",
            "|2019|entertainment|     M|       1|33077.149999999994|\n",
            "|2019|     misc_pos|     F|       1|          30448.77|\n",
            "|2019|         home|     F|       1|          29845.39|\n",
            "|2019|  food_dining|     F|       1| 9263.490000000002|\n",
            "|2019|         home|     M|       1|3620.5200000000004|\n",
            "+----+-------------+------+--------+------------------+\n",
            "only showing top 14 rows\n",
            "\n"
          ]
        }
      ]
    },
    {
      "cell_type": "code",
      "source": [
        "# how much each gender spended if they suffered fraud (2020)\n",
        "adj_train.groupby(*['year','category','gender','is_fraud'])\\\n",
        "         .sum('amt').filter((col('year') == 2020) & (col('is_fraud') == 1))\\\n",
        "         .sort(desc('sum(amt)')).show(14)"
      ],
      "metadata": {
        "colab": {
          "base_uri": "https://localhost:8080/"
        },
        "id": "eewRUZ1dDLp1",
        "outputId": "f4ca824c-9668-4f97-f557-5b86ff4356f3"
      },
      "execution_count": 36,
      "outputs": [
        {
          "output_type": "stream",
          "name": "stdout",
          "text": [
            "+----+-------------+------+--------+------------------+\n",
            "|year|     category|gender|is_fraud|          sum(amt)|\n",
            "+----+-------------+------+--------+------------------+\n",
            "|2020| shopping_net|     M|       1| 288958.1199999999|\n",
            "|2020| shopping_net|     F|       1|220202.17000000013|\n",
            "|2020|     misc_net|     M|       1|         131204.01|\n",
            "|2020| shopping_pos|     F|       1|122150.40999999997|\n",
            "|2020| shopping_pos|     M|       1|104444.24999999997|\n",
            "|2020|     misc_net|     F|       1| 97487.08000000003|\n",
            "|2020|  grocery_pos|     M|       1| 91167.47000000002|\n",
            "|2020|  grocery_pos|     F|       1|          77462.41|\n",
            "|2020|entertainment|     F|       1|          22900.44|\n",
            "|2020|     misc_pos|     F|       1|          22635.95|\n",
            "|2020|         home|     F|       1|16300.210000000001|\n",
            "|2020|entertainment|     M|       1|11432.490000000002|\n",
            "|2020|  food_dining|     F|       1|           4634.48|\n",
            "|2020|gas_transport|     M|       1|           1245.37|\n",
            "+----+-------------+------+--------+------------------+\n",
            "only showing top 14 rows\n",
            "\n"
          ]
        }
      ]
    },
    {
      "cell_type": "markdown",
      "source": [
        "### Age"
      ],
      "metadata": {
        "id": "E8GlwxIGK1V2"
      }
    },
    {
      "cell_type": "code",
      "source": [
        "# age distribution if CC frauded\n",
        "adj_train.groupby(*['age','is_fraud'])\\\n",
        "         .count().filter(col('is_fraud')==1)\\\n",
        "         .sort(desc('count')).show()"
      ],
      "metadata": {
        "colab": {
          "base_uri": "https://localhost:8080/"
        },
        "id": "3gE8pBk5DLnO",
        "outputId": "fc8027a9-59b2-46dd-a90f-353557c9d942"
      },
      "execution_count": 37,
      "outputs": [
        {
          "output_type": "stream",
          "name": "stdout",
          "text": [
            "+---+--------+-----+\n",
            "|age|is_fraud|count|\n",
            "+---+--------+-----+\n",
            "| 34|       1|  196|\n",
            "| 48|       1|  181|\n",
            "| 31|       1|  179|\n",
            "| 50|       1|  178|\n",
            "| 63|       1|  177|\n",
            "| 38|       1|  174|\n",
            "| 37|       1|  172|\n",
            "| 52|       1|  171|\n",
            "| 57|       1|  167|\n",
            "| 54|       1|  163|\n",
            "| 53|       1|  161|\n",
            "| 27|       1|  156|\n",
            "| 35|       1|  155|\n",
            "| 29|       1|  154|\n",
            "| 61|       1|  153|\n",
            "| 58|       1|  151|\n",
            "| 55|       1|  142|\n",
            "| 68|       1|  141|\n",
            "| 39|       1|  140|\n",
            "| 46|       1|  139|\n",
            "+---+--------+-----+\n",
            "only showing top 20 rows\n",
            "\n"
          ]
        }
      ]
    },
    {
      "cell_type": "code",
      "source": [
        "## frauded cc age & sex distribution\n",
        "adj_train.groupby(*['age','gender','is_fraud'])\\\n",
        "         .count().filter(col('is_fraud')==1)\\\n",
        "         .sort(desc('count')).show()"
      ],
      "metadata": {
        "colab": {
          "base_uri": "https://localhost:8080/"
        },
        "id": "jp1G705cDLk2",
        "outputId": "555518dd-4630-474b-d743-80c1cea30830"
      },
      "execution_count": 38,
      "outputs": [
        {
          "output_type": "stream",
          "name": "stdout",
          "text": [
            "+---+------+--------+-----+\n",
            "|age|gender|is_fraud|count|\n",
            "+---+------+--------+-----+\n",
            "| 34|     M|       1|  146|\n",
            "| 53|     F|       1|  130|\n",
            "| 57|     M|       1|  109|\n",
            "| 52|     F|       1|  107|\n",
            "| 44|     M|       1|  104|\n",
            "| 48|     M|       1|  104|\n",
            "| 55|     M|       1|  103|\n",
            "| 37|     M|       1|  101|\n",
            "| 38|     F|       1|   99|\n",
            "| 58|     M|       1|   97|\n",
            "| 61|     F|       1|   96|\n",
            "| 46|     M|       1|   96|\n",
            "| 31|     F|       1|   94|\n",
            "| 63|     F|       1|   93|\n",
            "| 50|     F|       1|   93|\n",
            "| 39|     F|       1|   92|\n",
            "| 60|     M|       1|   86|\n",
            "| 50|     M|       1|   85|\n",
            "| 35|     M|       1|   85|\n",
            "| 31|     M|       1|   85|\n",
            "+---+------+--------+-----+\n",
            "only showing top 20 rows\n",
            "\n"
          ]
        }
      ]
    },
    {
      "cell_type": "code",
      "source": [
        "# amount spent by age with frauded CC\n",
        "adj_train.groupby(*['age','is_fraud'])\\\n",
        "         .sum('amt').filter(col('is_fraud')==1)\\\n",
        "         .sort(desc('sum(amt)')).show(5)"
      ],
      "metadata": {
        "colab": {
          "base_uri": "https://localhost:8080/"
        },
        "id": "him4IlUSMBGJ",
        "outputId": "76cec156-5eca-46d7-f1a2-0506c0be70ad"
      },
      "execution_count": 39,
      "outputs": [
        {
          "output_type": "stream",
          "name": "stdout",
          "text": [
            "+---+--------+------------------+\n",
            "|age|is_fraud|          sum(amt)|\n",
            "+---+--------+------------------+\n",
            "| 34|       1|109248.05999999998|\n",
            "| 63|       1|102921.00000000001|\n",
            "| 37|       1|          95389.21|\n",
            "| 48|       1| 91865.23000000001|\n",
            "| 29|       1| 90028.45999999999|\n",
            "+---+--------+------------------+\n",
            "only showing top 5 rows\n",
            "\n"
          ]
        }
      ]
    },
    {
      "cell_type": "code",
      "source": [
        "# total spend on frauded cc by gender and age\n",
        "adj_train.groupby(*['age','gender','is_fraud'])\\\n",
        "         .sum('amt').filter(col('is_fraud')==1)\\\n",
        "         .sort(desc('sum(amt)')).show(5)"
      ],
      "metadata": {
        "colab": {
          "base_uri": "https://localhost:8080/"
        },
        "id": "A1yGLXaADLX8",
        "outputId": "2623cf88-795a-4173-abc7-d114170afaca"
      },
      "execution_count": 40,
      "outputs": [
        {
          "output_type": "stream",
          "name": "stdout",
          "text": [
            "+---+------+--------+------------------+\n",
            "|age|gender|is_fraud|          sum(amt)|\n",
            "+---+------+--------+------------------+\n",
            "| 34|     M|       1| 86134.79999999999|\n",
            "| 37|     M|       1| 66199.59999999999|\n",
            "| 48|     M|       1|64653.619999999995|\n",
            "| 55|     M|       1|          63821.48|\n",
            "| 57|     M|       1|58460.399999999994|\n",
            "+---+------+--------+------------------+\n",
            "only showing top 5 rows\n",
            "\n"
          ]
        }
      ]
    },
    {
      "cell_type": "code",
      "source": [
        "# average age by gender and amount spent in CC fraud\n",
        "adj_train.groupby(*['age','gender','is_fraud']).agg(mean('age'),sum('amt'))\\\n",
        "         .filter(col('is_fraud')==1)\\\n",
        "         .sort(desc('sum(amt)')).show(5)"
      ],
      "metadata": {
        "id": "oByxQhSHfo9J",
        "outputId": "ab867acc-6daa-4ea7-8329-e44c08fa9412",
        "colab": {
          "base_uri": "https://localhost:8080/"
        }
      },
      "execution_count": 41,
      "outputs": [
        {
          "output_type": "stream",
          "name": "stdout",
          "text": [
            "+---+------+--------+--------+------------------+\n",
            "|age|gender|is_fraud|avg(age)|          sum(amt)|\n",
            "+---+------+--------+--------+------------------+\n",
            "| 34|     M|       1|    34.0| 86134.79999999999|\n",
            "| 37|     M|       1|    37.0| 66199.59999999999|\n",
            "| 48|     M|       1|    48.0|64653.619999999995|\n",
            "| 55|     M|       1|    55.0|          63821.48|\n",
            "| 57|     M|       1|    57.0|58460.399999999994|\n",
            "+---+------+--------+--------+------------------+\n",
            "only showing top 5 rows\n",
            "\n"
          ]
        }
      ]
    },
    {
      "cell_type": "markdown",
      "source": [
        "### Location (State, city, population size)"
      ],
      "metadata": {
        "id": "HOOANsSzMd9H"
      }
    },
    {
      "cell_type": "code",
      "source": [
        "# unique states\n",
        "adj_train.select('state').distinct().count()"
      ],
      "metadata": {
        "id": "rWZvACuIYC_8",
        "outputId": "606eb208-72bf-45f1-8eb6-21b17cd1696b",
        "colab": {
          "base_uri": "https://localhost:8080/"
        }
      },
      "execution_count": 42,
      "outputs": [
        {
          "output_type": "execute_result",
          "data": {
            "text/plain": [
              "51"
            ]
          },
          "metadata": {},
          "execution_count": 42
        }
      ]
    },
    {
      "cell_type": "code",
      "source": [
        "# main states with CC fraud\n",
        "adj_train.groupby(*['state','is_fraud'])\\\n",
        "         .count().filter(col('is_fraud') == 1)\\\n",
        "         .sort(desc('count')).show(5)"
      ],
      "metadata": {
        "colab": {
          "base_uri": "https://localhost:8080/"
        },
        "id": "KwLUOL63MaTj",
        "outputId": "526ba432-83b1-4ab0-b3c2-186535689432"
      },
      "execution_count": 43,
      "outputs": [
        {
          "output_type": "stream",
          "name": "stdout",
          "text": [
            "+-----+--------+-----+\n",
            "|state|is_fraud|count|\n",
            "+-----+--------+-----+\n",
            "|   NY|       1|  555|\n",
            "|   TX|       1|  479|\n",
            "|   PA|       1|  458|\n",
            "|   CA|       1|  326|\n",
            "|   OH|       1|  321|\n",
            "+-----+--------+-----+\n",
            "only showing top 5 rows\n",
            "\n"
          ]
        }
      ]
    },
    {
      "cell_type": "code",
      "source": [
        "# total amount by state with CC fraud\n",
        "adj_train.groupby(*['state','is_fraud'])\\\n",
        "         .sum('amt').filter(col('is_fraud') == 1)\\\n",
        "         .sort(desc('sum(amt)')).show(5)"
      ],
      "metadata": {
        "colab": {
          "base_uri": "https://localhost:8080/"
        },
        "id": "bog36-JyLwLe",
        "outputId": "a8c7f2ce-1cfc-4cf9-a888-628bbe1d3194"
      },
      "execution_count": 44,
      "outputs": [
        {
          "output_type": "stream",
          "name": "stdout",
          "text": [
            "+-----+--------+------------------+\n",
            "|state|is_fraud|          sum(amt)|\n",
            "+-----+--------+------------------+\n",
            "|   NY|       1|295548.64000000013|\n",
            "|   TX|       1| 265806.4100000001|\n",
            "|   PA|       1|244624.67000000004|\n",
            "|   CA|       1|         170943.92|\n",
            "|   OH|       1|         168919.98|\n",
            "+-----+--------+------------------+\n",
            "only showing top 5 rows\n",
            "\n"
          ]
        }
      ]
    },
    {
      "cell_type": "code",
      "source": [
        "# most populated state and CC fraud amount\n",
        "adj_train.groupby(*['state','is_fraud'])\\\n",
        "         .sum(*['city_pop','amt'])\\\n",
        "         .filter(col('is_fraud') == 1)\\\n",
        "         .sort(desc('sum(city_pop)')).show(5)"
      ],
      "metadata": {
        "colab": {
          "base_uri": "https://localhost:8080/"
        },
        "id": "U2QWuXgR0PyN",
        "outputId": "0e97af79-74d7-4d31-aa28-8267533fdf5f"
      },
      "execution_count": 45,
      "outputs": [
        {
          "output_type": "stream",
          "name": "stdout",
          "text": [
            "+-----+--------+-------------+------------------+\n",
            "|state|is_fraud|sum(city_pop)|          sum(amt)|\n",
            "+-----+--------+-------------+------------------+\n",
            "|   TX|       1|    206734477| 265806.4100000001|\n",
            "|   CA|       1|     89649164|         170943.92|\n",
            "|   NY|       1|     79853780|295548.64000000013|\n",
            "|   FL|       1|     45649842|         150913.03|\n",
            "|   MN|       1|     28231300|         112454.39|\n",
            "+-----+--------+-------------+------------------+\n",
            "only showing top 5 rows\n",
            "\n"
          ]
        }
      ]
    },
    {
      "cell_type": "code",
      "source": [
        "# most populated city and CC fraud amount\n",
        "adj_train.groupby(*['state','city','is_fraud'])\\\n",
        "         .sum(*['city_pop','amt'])\\\n",
        "         .filter(col('is_fraud') == 1)\\\n",
        "         .sort(desc('sum(city_pop)')).show(5)"
      ],
      "metadata": {
        "colab": {
          "base_uri": "https://localhost:8080/"
        },
        "id": "SJQMhKXj0PuX",
        "outputId": "e1a20a7f-e34f-4340-9929-2b5daf09110a"
      },
      "execution_count": 46,
      "outputs": [
        {
          "output_type": "stream",
          "name": "stdout",
          "text": [
            "+-----+-------------+--------+-------------+------------------+\n",
            "|state|         city|is_fraud|sum(city_pop)|          sum(amt)|\n",
            "+-----+-------------+--------+-------------+------------------+\n",
            "|   TX|      Houston|       1|    113361300|          21667.21|\n",
            "|   TX|  San Antonio|       1|     39894925|14536.749999999996|\n",
            "|   NY|New York City|       1|     36279855|13136.859999999999|\n",
            "|   TX|       Dallas|       1|     34109667|19747.140000000003|\n",
            "|   NY|     Brooklyn|       1|     25047000|           7435.38|\n",
            "+-----+-------------+--------+-------------+------------------+\n",
            "only showing top 5 rows\n",
            "\n"
          ]
        }
      ]
    },
    {
      "cell_type": "code",
      "source": [
        "# average age per city and CC fraud amount\n",
        "adj_train.groupby(*['state','city','gender','is_fraud'])\\\n",
        "         .agg(floor(mean('age')), sum('city_pop'), sum('amt'))\\\n",
        "         .filter(col('is_fraud') == 1)\\\n",
        "         .sort(desc('sum(amt)')).show(5)"
      ],
      "metadata": {
        "id": "Dp_HTbffZxWN",
        "outputId": "05d3dedb-bd6a-455b-f12d-1f620ac1615d",
        "colab": {
          "base_uri": "https://localhost:8080/"
        }
      },
      "execution_count": 47,
      "outputs": [
        {
          "output_type": "stream",
          "name": "stdout",
          "text": [
            "+-----+-------------+------+--------+---------------+-------------+------------------+\n",
            "|state|         city|gender|is_fraud|FLOOR(avg(age))|sum(city_pop)|          sum(amt)|\n",
            "+-----+-------------+------+--------+---------------+-------------+------------------+\n",
            "|   OK|        Tulsa|     F|       1|             68|     11166498|17470.250000000004|\n",
            "|   NY|New York City|     F|       1|             60|     36279855|13136.859999999999|\n",
            "|   TX|  San Antonio|     M|       1|             39|     28724346|13040.649999999996|\n",
            "|   FL|       Naples|     F|       1|             81|      5520040|13018.669999999998|\n",
            "|   TX|      Houston|     M|       1|             38|     63947400|12979.279999999999|\n",
            "+-----+-------------+------+--------+---------------+-------------+------------------+\n",
            "only showing top 5 rows\n",
            "\n"
          ]
        }
      ]
    },
    {
      "cell_type": "markdown",
      "source": [
        "### Occupation (job title)"
      ],
      "metadata": {
        "id": "sORTRjB-gX5t"
      }
    },
    {
      "cell_type": "code",
      "source": [
        "# unique jobs\n",
        "adj_train.select('job').distinct().count()"
      ],
      "metadata": {
        "id": "RG966QcCZxKJ",
        "outputId": "3e4a919c-f096-478c-8a5f-f7e65a73c231",
        "colab": {
          "base_uri": "https://localhost:8080/"
        }
      },
      "execution_count": 48,
      "outputs": [
        {
          "output_type": "execute_result",
          "data": {
            "text/plain": [
              "494"
            ]
          },
          "metadata": {},
          "execution_count": 48
        }
      ]
    },
    {
      "cell_type": "code",
      "source": [
        "# job with most frauded\n",
        "adj_train.groupby(*['job', 'is_fraud'])\\\n",
        "         .count().filter(col('is_fraud') == 1)\\\n",
        "         .sort(desc('count')).show(5)"
      ],
      "metadata": {
        "id": "xEitmhV4gXmP",
        "outputId": "91a948c1-cf64-4a5d-987b-45b7853fcd69",
        "colab": {
          "base_uri": "https://localhost:8080/"
        }
      },
      "execution_count": 49,
      "outputs": [
        {
          "output_type": "stream",
          "name": "stdout",
          "text": [
            "+--------------------+--------+-----+\n",
            "|                 job|is_fraud|count|\n",
            "+--------------------+--------+-----+\n",
            "|  Materials engineer|       1|   62|\n",
            "|Trading standards...|       1|   56|\n",
            "|     Naval architect|       1|   53|\n",
            "| Exhibition designer|       1|   51|\n",
            "|Surveyor, land/ge...|       1|   50|\n",
            "+--------------------+--------+-----+\n",
            "only showing top 5 rows\n",
            "\n"
          ]
        }
      ]
    },
    {
      "cell_type": "code",
      "source": [
        "# find most common words for jobs, so I can create macro categories\n",
        "adj_train.withColumn('job_macro', explode(split(lower(col('job')), '[ , ]'))) \\\n",
        "          .groupBy('job_macro') \\\n",
        "          .count() \\\n",
        "          .filter((col('job_macro') != 'and') & (col('job_macro') != ''))\\\n",
        "          .orderBy(desc('count')) \\\n",
        "          .show(20)"
      ],
      "metadata": {
        "id": "3OPO5K4GgltQ",
        "outputId": "74255aec-f7ad-4610-a298-965bc13d4c4b",
        "colab": {
          "base_uri": "https://localhost:8080/"
        }
      },
      "execution_count": 50,
      "outputs": [
        {
          "output_type": "stream",
          "name": "stdout",
          "text": [
            "+-------------+------+\n",
            "|    job_macro| count|\n",
            "+-------------+------+\n",
            "|     engineer|131756|\n",
            "|      officer|110915|\n",
            "|      manager| 61124|\n",
            "|    scientist| 55878|\n",
            "|     designer| 52218|\n",
            "|     surveyor| 49062|\n",
            "|      teacher| 38126|\n",
            "| psychologist| 32600|\n",
            "|     research| 29754|\n",
            "|       editor| 28725|\n",
            "|    education| 26624|\n",
            "|       public| 26116|\n",
            "|    therapist| 25110|\n",
            "|   consultant| 24785|\n",
            "|        chief| 23081|\n",
            "|    chartered| 19009|\n",
            "|  development| 17943|\n",
            "|       health| 17300|\n",
            "|administrator| 16988|\n",
            "|   researcher| 16001|\n",
            "+-------------+------+\n",
            "only showing top 20 rows\n",
            "\n"
          ]
        }
      ]
    },
    {
      "cell_type": "code",
      "source": [
        "# create occupation clusters based on the most used words for jobs\n",
        "adj_train = adj_train.withColumn('job_macro', explode(split(lower(col('job')), '[ , ]')))\n",
        "adj_test = adj_train.withColumn('job_macro', explode(split(lower(col('job')), '[ , ]')))\n",
        "\n",
        "adj_train = adj_train.withColumn('job_category',\n",
        "                        when(lower(col('job_macro')).isin(['engineer', 'scientist', 'development', 'researcher', 'research']), 'science')\n",
        "                        .when(lower(col('job_macro')).isin(['manager', 'chief', 'administrator', 'consultant']), 'business')\n",
        "                        .when(lower(col('job_macro')).isin(['teacher', 'education']), 'education')\n",
        "                        .when(lower(col('job_macro')).isin(['health', 'therapist', 'psychologist']), 'healthcare')\n",
        "                        .when(lower(col('job_macro')).isin(['editor', 'public']), 'comunication')\n",
        "                        .when(lower(col('job_macro')).isin(['designer', 'surveyor']), 'desing')\n",
        "                        .otherwise('others'))\n",
        "\n",
        "# do the same with test set\n",
        "adj_test = adj_test.withColumn('job_category',\n",
        "                        when(lower(col('job_macro')).isin(['engineer', 'scientist', 'development', 'researcher', 'research']), 'science')\n",
        "                        .when(lower(col('job_macro')).isin(['manager', 'chief', 'administrator', 'consultant']), 'business')\n",
        "                        .when(lower(col('job_macro')).isin(['teacher', 'education']), 'education')\n",
        "                        .when(lower(col('job_macro')).isin(['health', 'therapist', 'psychologist']), 'healthcare')\n",
        "                        .when(lower(col('job_macro')).isin(['editor', 'public']), 'comunication')\n",
        "                        .when(lower(col('job_macro')).isin(['designer', 'surveyor']), 'desing')\n",
        "                        .otherwise('others'))\n",
        "\n",
        "adj_train.show(4)"
      ],
      "metadata": {
        "id": "COyTSpTbglpj",
        "outputId": "a77507f5-6755-47c8-a156-ac50c881f8a9",
        "colab": {
          "base_uri": "https://localhost:8080/"
        }
      },
      "execution_count": 51,
      "outputs": [
        {
          "output_type": "stream",
          "name": "stdout",
          "text": [
            "+--------------------+-----------+------+------+--------------+-----+-----+-------+---------+--------+--------------------+----------+------------------+-----------+--------+----+-----+--------+---+--------------------+--------------------+-----------+-----------+--------+------------+------------+\n",
            "|            merchant|   category|   amt|gender|          city|state|  zip|    lat|     long|city_pop|                 job| unix_time|         merch_lat| merch_long|is_fraud|year|month|day_week|age|            lat_diff|           long_diff|tier1_event|tier2_event|no_event|   job_macro|job_category|\n",
            "+--------------------+-----------+------+------+--------------+-----+-----+-------+---------+--------+--------------------+----------+------------------+-----------+--------+----+-----+--------+---+--------------------+--------------------+-----------+-----------+--------+------------+------------+\n",
            "|fraud_Rippin, Kub...|   misc_net|  4.97|     F|Moravian Falls|   NC|28654|36.0788| -81.1781|    3495|Psychologist, cou...|1325376018|         36.011293| -82.048315|       0|2019|    1|       3| 36|  0.0675069999999991|  0.8702150000000017|          0|          0|       1|psychologist|  healthcare|\n",
            "|fraud_Rippin, Kub...|   misc_net|  4.97|     F|Moravian Falls|   NC|28654|36.0788| -81.1781|    3495|Psychologist, cou...|1325376018|         36.011293| -82.048315|       0|2019|    1|       3| 36|  0.0675069999999991|  0.8702150000000017|          0|          0|       1|            |      others|\n",
            "|fraud_Rippin, Kub...|   misc_net|  4.97|     F|Moravian Falls|   NC|28654|36.0788| -81.1781|    3495|Psychologist, cou...|1325376018|         36.011293| -82.048315|       0|2019|    1|       3| 36|  0.0675069999999991|  0.8702150000000017|          0|          0|       1| counselling|      others|\n",
            "|fraud_Heller, Gut...|grocery_pos|107.23|     F|        Orient|   WA|99160|48.8878|-118.2105|     149|Special education...|1325376044|49.159046999999994|-118.186462|       0|2019|    1|       3| 46|-0.27124699999999535|-0.02403799999999...|          0|          0|       1|     special|      others|\n",
            "+--------------------+-----------+------+------+--------------+-----+-----+-------+---------+--------+--------------------+----------+------------------+-----------+--------+----+-----+--------+---+--------------------+--------------------+-----------+-----------+--------+------------+------------+\n",
            "only showing top 4 rows\n",
            "\n"
          ]
        }
      ]
    },
    {
      "cell_type": "code",
      "source": [
        "# fraud by job category\n",
        "adj_train.groupby(*['job_category', 'is_fraud']).count().filter(col('is_fraud') == 1).sort(desc('count')).show(7)"
      ],
      "metadata": {
        "id": "MhoyoT5rgXjc",
        "outputId": "dfa4e383-15e7-4ceb-c0ca-1ca22bf7c7e5",
        "colab": {
          "base_uri": "https://localhost:8080/"
        }
      },
      "execution_count": 52,
      "outputs": [
        {
          "output_type": "stream",
          "name": "stdout",
          "text": [
            "+------------+--------+-----+\n",
            "|job_category|is_fraud|count|\n",
            "+------------+--------+-----+\n",
            "|      others|       1|15037|\n",
            "|     science|       1| 1369|\n",
            "|    business|       1|  676|\n",
            "|      desing|       1|  564|\n",
            "|   education|       1|  456|\n",
            "|  healthcare|       1|  367|\n",
            "|comunication|       1|  250|\n",
            "+------------+--------+-----+\n",
            "\n"
          ]
        }
      ]
    },
    {
      "cell_type": "code",
      "source": [
        "# amount by job category when CC frauded\n",
        "adj_train.groupby(*['job_category', 'is_fraud']).sum('amt').filter(col('is_fraud') == 1).sort(desc('sum(amt)')).show(7)"
      ],
      "metadata": {
        "id": "zvPbGyJS5NI9",
        "outputId": "108d126c-7d45-4a18-bbae-42529c71ccf4",
        "colab": {
          "base_uri": "https://localhost:8080/"
        }
      },
      "execution_count": 53,
      "outputs": [
        {
          "output_type": "stream",
          "name": "stdout",
          "text": [
            "+------------+--------+------------------+\n",
            "|job_category|is_fraud|          sum(amt)|\n",
            "+------------+--------+------------------+\n",
            "|      others|       1| 7974167.390000008|\n",
            "|     science|       1| 718112.9300000002|\n",
            "|    business|       1|337418.98000000004|\n",
            "|      desing|       1| 304814.8100000001|\n",
            "|   education|       1|235717.29999999993|\n",
            "|  healthcare|       1|          202879.2|\n",
            "|comunication|       1|130377.24999999999|\n",
            "+------------+--------+------------------+\n",
            "\n"
          ]
        }
      ]
    },
    {
      "cell_type": "markdown",
      "source": [
        "### Latitude and Longitude"
      ],
      "metadata": {
        "id": "zIDH6E8254mx"
      }
    },
    {
      "cell_type": "code",
      "source": [
        "# avarage difference between customer and merchant latitude\n",
        "adj_train.groupby('is_fraud').mean('lat_diff').show()"
      ],
      "metadata": {
        "id": "TCHL1Zwx54Wh",
        "outputId": "ad09815e-a564-4227-9c11-91dde238b6ce",
        "colab": {
          "base_uri": "https://localhost:8080/"
        }
      },
      "execution_count": 54,
      "outputs": [
        {
          "output_type": "stream",
          "name": "stdout",
          "text": [
            "+--------+--------------------+\n",
            "|is_fraud|       avg(lat_diff)|\n",
            "+--------+--------------------+\n",
            "|       1|0.010138428495111993|\n",
            "|       0| 1.36273459634889E-4|\n",
            "+--------+--------------------+\n",
            "\n"
          ]
        }
      ]
    },
    {
      "cell_type": "code",
      "source": [
        "# avarage difference between customer and merchant longitude\n",
        "adj_train.groupby('is_fraud').mean('long_diff').show()"
      ],
      "metadata": {
        "id": "Y24j5Gch54TY",
        "outputId": "fa7f5566-0ff6-4427-8a9e-b85bb4c65d53",
        "colab": {
          "base_uri": "https://localhost:8080/"
        }
      },
      "execution_count": 55,
      "outputs": [
        {
          "output_type": "stream",
          "name": "stdout",
          "text": [
            "+--------+--------------------+\n",
            "|is_fraud|      avg(long_diff)|\n",
            "+--------+--------------------+\n",
            "|       1|8.399439072599181E-4|\n",
            "|       0|7.071568078397803E-4|\n",
            "+--------+--------------------+\n",
            "\n"
          ]
        }
      ]
    },
    {
      "cell_type": "markdown",
      "source": [
        "### Unix\n",
        "*Unix timestamp is a way to track time as a running total of seconds. This  ount starts at the Unix Epoch on January 1st, 1970 at UTC. Therefore, the Unix timestamp is merely the number of seconds between a particular date and the Unix Epoch. It should also be pointed out that this point in time technically does not change no matter where you are located on the globe. This is very useful to computer systems for tracking and sorting dated information in dynamic and distributed applications both online and client-side. The reason why Unix timestamps are used by many webmasters is that they can represent all time zones at once.*"
      ],
      "metadata": {
        "id": "BJWMOjRx7nkC"
      }
    },
    {
      "cell_type": "code",
      "source": [
        "# avarage unix time\n",
        "adj_train.groupby('is_fraud').mean('unix_time').show()"
      ],
      "metadata": {
        "id": "lz7OkuxKFBl6",
        "outputId": "0dc69ec8-7fb2-4ccd-d01e-046135659428",
        "colab": {
          "base_uri": "https://localhost:8080/"
        }
      },
      "execution_count": 56,
      "outputs": [
        {
          "output_type": "stream",
          "name": "stdout",
          "text": [
            "+--------+--------------------+\n",
            "|is_fraud|      avg(unix_time)|\n",
            "+--------+--------------------+\n",
            "|       1|1.3481615599279876E9|\n",
            "|       0|1.3492567481422484E9|\n",
            "+--------+--------------------+\n",
            "\n"
          ]
        }
      ]
    },
    {
      "cell_type": "markdown",
      "source": [
        "### Day and Hour"
      ],
      "metadata": {
        "id": "Q3SuXZtLG0JM"
      }
    },
    {
      "cell_type": "code",
      "source": [
        "# is there a spefic time for fraud?\n",
        "# adj_train.groupby(*['time', 'is_fraud']).count().filter(col('is_fraud') == 1).sort(desc('count')).show(10)"
      ],
      "metadata": {
        "id": "w9Aenmt6G29g"
      },
      "execution_count": 57,
      "outputs": []
    },
    {
      "cell_type": "code",
      "source": [
        "# amount frauded by hour\n",
        "# adj_train.groupby(*['time', 'is_fraud']).sum('amt').filter(col('is_fraud') == 1).sort(desc('sum(amt)')).show(10)"
      ],
      "metadata": {
        "id": "N9o7ywMdHR94"
      },
      "execution_count": 58,
      "outputs": []
    },
    {
      "cell_type": "code",
      "source": [
        "# does fraud occur in a specific day of the week?\n",
        "adj_train.groupby(*['day_week', 'is_fraud']).count().filter(col('is_fraud') == 1).sort(desc('count')).show(10)"
      ],
      "metadata": {
        "id": "BwRI2YUHHf7P",
        "outputId": "22fff8ed-63ad-4017-d017-0f2df7d5b57f",
        "colab": {
          "base_uri": "https://localhost:8080/"
        }
      },
      "execution_count": 59,
      "outputs": [
        {
          "output_type": "stream",
          "name": "stdout",
          "text": [
            "+--------+--------+-----+\n",
            "|day_week|is_fraud|count|\n",
            "+--------+--------+-----+\n",
            "|       7|       1| 3128|\n",
            "|       2|       1| 2993|\n",
            "|       1|       1| 2954|\n",
            "|       6|       1| 2718|\n",
            "|       5|       1| 2483|\n",
            "|       3|       1| 2370|\n",
            "|       4|       1| 2073|\n",
            "+--------+--------+-----+\n",
            "\n"
          ]
        }
      ]
    },
    {
      "cell_type": "code",
      "source": [
        "# amount frauded by day of week\n",
        "adj_train.groupby(*['day_week', 'is_fraud']).sum('amt').filter(col('is_fraud') == 1).sort(desc('sum(amt)')).show(10)"
      ],
      "metadata": {
        "id": "yNSBisz-HpFR",
        "outputId": "1301cdad-8133-4972-fa92-f5a0e2c0278a",
        "colab": {
          "base_uri": "https://localhost:8080/"
        }
      },
      "execution_count": 60,
      "outputs": [
        {
          "output_type": "stream",
          "name": "stdout",
          "text": [
            "+--------+--------+------------------+\n",
            "|day_week|is_fraud|          sum(amt)|\n",
            "+--------+--------+------------------+\n",
            "|       7|       1|1635887.2400000005|\n",
            "|       1|       1|1616182.6999999993|\n",
            "|       2|       1|1493520.4499999983|\n",
            "|       6|       1|1487687.5299999993|\n",
            "|       5|       1| 1347469.530000001|\n",
            "|       3|       1|1245697.5300000003|\n",
            "|       4|       1|        1077042.88|\n",
            "+--------+--------+------------------+\n",
            "\n"
          ]
        }
      ]
    },
    {
      "cell_type": "markdown",
      "source": [
        "### Holidays"
      ],
      "metadata": {
        "id": "Xegtvo6-nBGI"
      }
    },
    {
      "cell_type": "code",
      "source": [
        "# tier1 events\n",
        "adj_train.groupby(*['year','tier1_event', 'is_fraud']).agg(count('is_fraud'), sum('amt')).filter(col('is_fraud') == 1).sort(desc('sum(amt)')).show()"
      ],
      "metadata": {
        "id": "7HtMHy86nDlz",
        "outputId": "b3a16fbf-51ba-4367-d5f1-e9fd458165fe",
        "colab": {
          "base_uri": "https://localhost:8080/"
        }
      },
      "execution_count": 61,
      "outputs": [
        {
          "output_type": "stream",
          "name": "stdout",
          "text": [
            "+----+-----------+--------+---------------+------------------+\n",
            "|year|tier1_event|is_fraud|count(is_fraud)|          sum(amt)|\n",
            "+----+-----------+--------+---------------+------------------+\n",
            "|2019|          0|       1|          11976|  6297632.81000001|\n",
            "|2020|          0|       1|           5566|2964485.1800000058|\n",
            "|2019|          1|       1|           1177| 641369.8700000012|\n",
            "+----+-----------+--------+---------------+------------------+\n",
            "\n"
          ]
        }
      ]
    },
    {
      "cell_type": "code",
      "source": [
        "adj_train.groupby(*['year','tier2_event', 'is_fraud']).agg(count('is_fraud'), sum('amt')).filter(col('is_fraud') == 1).sort(desc('sum(amt)')).show()"
      ],
      "metadata": {
        "id": "X4l93gxYnD3F",
        "outputId": "13926061-775f-453e-e33a-e81f9a8586c7",
        "colab": {
          "base_uri": "https://localhost:8080/"
        }
      },
      "execution_count": 62,
      "outputs": [
        {
          "output_type": "stream",
          "name": "stdout",
          "text": [
            "+----+-----------+--------+---------------+------------------+\n",
            "|year|tier2_event|is_fraud|count(is_fraud)|          sum(amt)|\n",
            "+----+-----------+--------+---------------+------------------+\n",
            "|2019|          0|       1|          10248| 5398151.310000012|\n",
            "|2020|          0|       1|           4456|2404682.5300000003|\n",
            "|2019|          1|       1|           2905|1540851.3699999987|\n",
            "|2020|          1|       1|           1110| 559802.6500000007|\n",
            "+----+-----------+--------+---------------+------------------+\n",
            "\n"
          ]
        }
      ]
    },
    {
      "cell_type": "code",
      "source": [
        "adj_train.groupby(*['year','no_event', 'is_fraud']).agg(count('is_fraud'), sum('amt')).filter(col('is_fraud') == 1).sort(desc('sum(amt)')).show()"
      ],
      "metadata": {
        "id": "l7yQ6Rp2nDqN",
        "outputId": "e8b18a9e-1cf3-41a0-b78b-7a836375f16a",
        "colab": {
          "base_uri": "https://localhost:8080/"
        }
      },
      "execution_count": 63,
      "outputs": [
        {
          "output_type": "stream",
          "name": "stdout",
          "text": [
            "+----+--------+--------+---------------+------------------+\n",
            "|year|no_event|is_fraud|count(is_fraud)|          sum(amt)|\n",
            "+----+--------+--------+---------------+------------------+\n",
            "|2019|       1|       1|           9071|4756781.4400000125|\n",
            "|2020|       1|       1|           4456|2404682.5300000003|\n",
            "|2019|       0|       1|           4082|        2182221.24|\n",
            "|2020|       0|       1|           1110| 559802.6500000007|\n",
            "+----+--------+--------+---------------+------------------+\n",
            "\n"
          ]
        }
      ]
    },
    {
      "cell_type": "markdown",
      "source": [
        "### Statistics"
      ],
      "metadata": {
        "id": "W_SADUdGFPI4"
      }
    },
    {
      "cell_type": "code",
      "source": [
        "# basic dataset statistics\n",
        "adj_train.summary().show()"
      ],
      "metadata": {
        "id": "5KTrrV8nFOwI",
        "colab": {
          "base_uri": "https://localhost:8080/"
        },
        "outputId": "aa0d3883-43af-4ce9-f496-792b354f657b"
      },
      "execution_count": 64,
      "outputs": [
        {
          "output_type": "stream",
          "name": "stdout",
          "text": [
            "+-------+-------------------+-------------+------------------+-------+-------+-------+-----------------+-----------------+------------------+-----------------+------------------+--------------------+------------------+------------------+--------------------+------------------+-----------------+------------------+------------------+--------------------+--------------------+-------------------+-------------------+------------------+---------+------------+\n",
            "|summary|           merchant|     category|               amt| gender|   city|  state|              zip|              lat|              long|         city_pop|               job|           unix_time|         merch_lat|        merch_long|            is_fraud|              year|            month|          day_week|               age|            lat_diff|           long_diff|        tier1_event|        tier2_event|          no_event|job_macro|job_category|\n",
            "+-------+-------------------+-------------+------------------+-------+-------+-------+-----------------+-----------------+------------------+-----------------+------------------+--------------------+------------------+------------------+--------------------+------------------+-----------------+------------------+------------------+--------------------+--------------------+-------------------+-------------------+------------------+---------+------------+\n",
            "|  count|            3191392|      3191392|           3191392|3191392|3191392|3191392|          3191392|          3191392|           3191392|          3191392|           3191392|             3191392|           3191392|           3191392|             3191392|           3191392|          3191392|           3191392|           3191392|             3191392|             3191392|            3191392|            3191392|           3191392|  3191392|     3191392|\n",
            "|   mean|               NULL|         NULL| 70.03769186925459|   NULL|   NULL|   NULL|49120.85171642969| 38.5521841471014|-90.34376032686913|84191.48876101714|              NULL|1.3492503243534496E9| 38.55198920634954|-90.34446826253972|0.005865465602470646|2019.2870224027633| 6.14140099367298|3.7186049222408277|50.926472836931346|1.949407559460403E-4|7.079356660038685E-4|0.07728508437697407|0.23890045472320542|0.6838144608998206|     NULL|        NULL|\n",
            "| stddev|               NULL|         NULL|156.66310427228126|   NULL|   NULL|   NULL|26790.81020583407|5.139498544105347|13.931962636455054|289096.3618151016|              NULL|1.2841548916590014E7| 5.173385191585312|13.944173135866372| 0.07636140217976208| 0.452372199847351|3.417941158763367| 2.132995069519563|17.474397737335487|  0.5774521936683519|   0.577843010896354| 0.2670432969669278|0.42641187182169066|0.4649863564801626|     NULL|        NULL|\n",
            "|    min|fraud_Abbott-Rogahn|entertainment|               1.0|      F|Achille|     AK|             1257|          20.0271|         -165.6723|               23|Academic librarian|          1325376018|         19.027785|       -166.671242|                   0|              2019|                1|                 1|                20| -0.9999989999999954| -0.9999969999999934|                  0|                  0|                 0|         |    business|\n",
            "|    25%|               NULL|         NULL|              9.57|   NULL|   NULL|   NULL|            28117|          34.6689|           -96.727|              743|              NULL|          1338751233|         34.753352|        -96.803846|                   0|              2019|                3|                 2|                37| -0.5001159999999985| -0.5001689999999854|                  0|                  0|                 0|     NULL|        NULL|\n",
            "|    50%|               NULL|         NULL|             47.15|   NULL|   NULL|   NULL|            48206|          39.3391|          -87.5917|             2457|              NULL|          1349260197|39.342259999999996|        -87.470736|                   0|              2019|                6|                 3|                49|-6.59999999967908...|0.002061000000011859|                  0|                  0|                 1|     NULL|        NULL|\n",
            "|    75%|               NULL|         NULL|             82.89|   NULL|   NULL|   NULL|            72011|          42.0158|           -80.307|            19803|              NULL|          1359398951|         42.018766|        -80.376339|                   0|              2020|                9|                 6|                62|  0.5005680000000012|  0.5008949999999999|                  0|                  0|                 1|     NULL|        NULL|\n",
            "|    max|   fraud_Zulauf LLC|       travel|           28948.9|      M|Zavalla|     WY|            99783|          66.6933|          -67.9503|          2906700|            Writer|          1371816817|         67.510267|        -66.950902|                   1|              2020|               12|                 7|               100|  0.9999990000000025|  0.9999969999999934|                  1|                  1|                 1|years/pre|     science|\n",
            "+-------+-------------------+-------------+------------------+-------+-------+-------+-----------------+-----------------+------------------+-----------------+------------------+--------------------+------------------+------------------+--------------------+------------------+-----------------+------------------+------------------+--------------------+--------------------+-------------------+-------------------+------------------+---------+------------+\n",
            "\n"
          ]
        }
      ]
    },
    {
      "cell_type": "code",
      "source": [
        "adj_train.show(2)"
      ],
      "metadata": {
        "colab": {
          "base_uri": "https://localhost:8080/"
        },
        "id": "XPKWrL_nJGtz",
        "outputId": "1662e842-46fa-418a-f02a-26c3d216eddc"
      },
      "execution_count": 65,
      "outputs": [
        {
          "output_type": "stream",
          "name": "stdout",
          "text": [
            "+--------------------+--------+----+------+--------------+-----+-----+-------+--------+--------+--------------------+----------+---------+----------+--------+----+-----+--------+---+------------------+------------------+-----------+-----------+--------+------------+------------+\n",
            "|            merchant|category| amt|gender|          city|state|  zip|    lat|    long|city_pop|                 job| unix_time|merch_lat|merch_long|is_fraud|year|month|day_week|age|          lat_diff|         long_diff|tier1_event|tier2_event|no_event|   job_macro|job_category|\n",
            "+--------------------+--------+----+------+--------------+-----+-----+-------+--------+--------+--------------------+----------+---------+----------+--------+----+-----+--------+---+------------------+------------------+-----------+-----------+--------+------------+------------+\n",
            "|fraud_Rippin, Kub...|misc_net|4.97|     F|Moravian Falls|   NC|28654|36.0788|-81.1781|    3495|Psychologist, cou...|1325376018|36.011293|-82.048315|       0|2019|    1|       3| 36|0.0675069999999991|0.8702150000000017|          0|          0|       1|psychologist|  healthcare|\n",
            "|fraud_Rippin, Kub...|misc_net|4.97|     F|Moravian Falls|   NC|28654|36.0788|-81.1781|    3495|Psychologist, cou...|1325376018|36.011293|-82.048315|       0|2019|    1|       3| 36|0.0675069999999991|0.8702150000000017|          0|          0|       1|            |      others|\n",
            "+--------------------+--------+----+------+--------------+-----+-----+-------+--------+--------+--------------------+----------+---------+----------+--------+----+-----+--------+---+------------------+------------------+-----------+-----------+--------+------------+------------+\n",
            "only showing top 2 rows\n",
            "\n"
          ]
        }
      ]
    },
    {
      "cell_type": "markdown",
      "source": [
        "## Data Preparation <a name=\"data_prep\"></a>\n",
        "[Table of contents](#table_cont)"
      ],
      "metadata": {
        "id": "oOPdhkzqSlWf"
      }
    },
    {
      "cell_type": "code",
      "source": [
        "# select top 5 merchants with the highest amount spent in frauded CC\n",
        "sus_merchants = adj_train.groupby(*['merchant', 'is_fraud'])\\\n",
        "                         .sum('amt').filter(col('is_fraud') == 1)\\\n",
        "                         .sort(desc('sum(amt)'))\\\n",
        "                         .select('merchant')\\\n",
        "                         .limit(5).collect()\n",
        "\n",
        "# the issue is that .collect() will get the list of rows, and I want just the name of the merchants\n",
        "sus_merchants = [row['merchant'] for row in sus_merchants]"
      ],
      "metadata": {
        "id": "NJfLp-gWQMVx"
      },
      "execution_count": 66,
      "outputs": []
    },
    {
      "cell_type": "code",
      "source": [
        "# create a column for suspicious merchants\n",
        "adj_train = adj_train.withColumn('sus_mercht',\n",
        "                                 when(col('merchant').isin(sus_merchants), 1).otherwise(0))\n",
        "\n",
        "# do the same for test set\n",
        "adj_test = adj_test.withColumn('sus_mercht',\n",
        "                               when(col('merchant').isin(sus_merchants),1).otherwise(0))"
      ],
      "metadata": {
        "id": "cNvvq1JARYzX"
      },
      "execution_count": 67,
      "outputs": []
    },
    {
      "cell_type": "code",
      "source": [
        "# make list for category\n",
        "category_list = adj_train.select('category').distinct().collect()\n",
        "category_list = [row['category'] for row in category_list]\n",
        "\n",
        "# make a list for job_category\n",
        "job_list = adj_train.select('job_category').distinct().collect()\n",
        "job_list = [row['job_category'] for row in job_list]"
      ],
      "metadata": {
        "id": "88xsZKIMe4xe"
      },
      "execution_count": 68,
      "outputs": []
    },
    {
      "cell_type": "code",
      "source": [
        "# create loop for category\n",
        "for cat in category_list:\n",
        "  adj_train = adj_train.withColumn(f'{cat}', when(col('category') == cat ,1).otherwise(0))\n",
        "  adj_test = adj_test.withColumn(f'{cat}', when(col('category') == cat ,1).otherwise(0))\n",
        "\n",
        "# create loop for job_category\n",
        "for job in job_list:\n",
        "  adj_train = adj_train.withColumn(f'{job}', when(col('job_category') == job ,1).otherwise(0))\n",
        "  adj_test = adj_test.withColumn(f'{job}', when(col('job_category') == job ,1).otherwise(0))\n",
        "\n",
        "# create dummy for gender\n",
        "adj_train = adj_train.withColumn('female', when(col('gender') == 'F', 1).otherwise(0))\n",
        "adj_test = adj_test.withColumn('female', when(col('gender') == 'F', 1).otherwise(0))\n"
      ],
      "metadata": {
        "id": "4hKpY_YxH-D3"
      },
      "execution_count": 69,
      "outputs": []
    },
    {
      "cell_type": "code",
      "source": [
        "# drop categorical variables\n",
        "final_train = adj_train.drop(*['merchant','category', 'gender','city','state','job','job_macro','job_category'])\n",
        "final_test = adj_test.drop(*['merchant','category', 'gender','city','state','job','job_macro','job_category'])"
      ],
      "metadata": {
        "id": "8Bbhu8XGTOHF"
      },
      "execution_count": 70,
      "outputs": []
    },
    {
      "cell_type": "markdown",
      "metadata": {
        "id": "22c11t8BiSmY"
      },
      "source": [
        "## ML Models <a name=\"ml_mod\"></a>\n",
        "[Table of contents](#table_cont)"
      ]
    },
    {
      "cell_type": "markdown",
      "source": [
        "### Logit <a name=\"logit\"></a>"
      ],
      "metadata": {
        "id": "w7f3l9ac1oWK"
      }
    },
    {
      "cell_type": "code",
      "source": [
        "# dealing with umlabanced dataset\n",
        "fraud_count = final_train.filter(col('is_fraud') == 1).count()\n",
        "non_fraud_count = final_train.filter(col('is_fraud') == 0).count()\n",
        "\n",
        "# calculating weights, it will increase minority class weight and increase penalization for miss classifications\n",
        "weight_0 = final_train.count() / non_fraud_count\n",
        "weight_1 = final_train.count() / fraud_count\n",
        "\n",
        "# add weights to final dataframe\n",
        "final_train = final_train.withColumn('weights',  when(col('is_fraud') == 1, weight_1).otherwise(weight_0))"
      ],
      "metadata": {
        "id": "aQnJsdId0JbT"
      },
      "execution_count": 71,
      "outputs": []
    },
    {
      "cell_type": "code",
      "source": [
        "# select feature names\n",
        "features_vec = [col for col in final_train.columns if col not in  ['is_fraud','weights']]\n",
        "\n",
        "# create vector on training set\n",
        "assembler = VectorAssembler(inputCols=features_vec, outputCol='features')\n",
        "final_train = assembler.transform(final_train)\n",
        "\n",
        "# transform test set into vector\n",
        "final_test = assembler.transform(final_test)"
      ],
      "metadata": {
        "id": "8MY0H0lX0Jfk"
      },
      "execution_count": 72,
      "outputs": []
    },
    {
      "cell_type": "code",
      "source": [
        "# create logit model\n",
        "logreg = LogisticRegression(labelCol='is_fraud', featuresCol='features', weightCol='weights')\n",
        "\n",
        "# apply to dataset\n",
        "logit = logreg.fit(final_train)"
      ],
      "metadata": {
        "id": "KEuFXKz50JXq"
      },
      "execution_count": 73,
      "outputs": []
    },
    {
      "cell_type": "code",
      "source": [
        "# predict using test set\n",
        "logit_pred = logit.transform(final_test)\n",
        "\n",
        "# area under the ROC Curve\n",
        "evaluator = BinaryClassificationEvaluator(labelCol='is_fraud', rawPredictionCol=\"prediction\")\n",
        "auc = evaluator.evaluate(logit_pred)\n",
        "print(f\"AUC: {auc}\")"
      ],
      "metadata": {
        "colab": {
          "base_uri": "https://localhost:8080/"
        },
        "id": "-sr0Mv4F177q",
        "outputId": "e8f25946-3729-405a-e78f-d5ecc8c31077"
      },
      "execution_count": 74,
      "outputs": [
        {
          "output_type": "stream",
          "name": "stdout",
          "text": [
            "AUC: 0.8189514389268764\n"
          ]
        }
      ]
    },
    {
      "cell_type": "code",
      "source": [
        "# create evaluators for other metrics\n",
        "precision_evaluator = MulticlassClassificationEvaluator(labelCol=\"is_fraud\", metricName=\"precisionByLabel\")\n",
        "recall_evaluator = MulticlassClassificationEvaluator(labelCol=\"is_fraud\", metricName=\"recallByLabel\")\n",
        "f1_evaluator = MulticlassClassificationEvaluator(labelCol=\"is_fraud\", metricName=\"f1\")\n",
        "accuracy_evaluator = MulticlassClassificationEvaluator(labelCol=\"is_fraud\", metricName=\"accuracy\")\n",
        "\n",
        "# applying evaluators to logit prediction\n",
        "precision = precision_evaluator.evaluate(logit_pred, {precision_evaluator.metricLabel: 1})\n",
        "recall = recall_evaluator.evaluate(logit_pred, {recall_evaluator.metricLabel: 1})\n",
        "f1 = f1_evaluator.evaluate(logit_pred)\n",
        "accuracy = accuracy_evaluator.evaluate(logit_pred)"
      ],
      "metadata": {
        "id": "zKFORbFPdBRd"
      },
      "execution_count": 75,
      "outputs": []
    },
    {
      "cell_type": "code",
      "source": [
        "# add results to dataframe to compare with later models\n",
        "models_results = spark.createDataFrame([\n",
        "          Row(model= 'Logit', AUC=auc, Precision=precision, Recall=recall, Accuracy=accuracy, F1=f1)\n",
        "                ])"
      ],
      "metadata": {
        "id": "HmYtPB9-UL64"
      },
      "execution_count": 76,
      "outputs": []
    },
    {
      "cell_type": "markdown",
      "source": [
        "### Random Forest <a name=\"rf\"></a>"
      ],
      "metadata": {
        "id": "oakmSIDokLjJ"
      }
    },
    {
      "cell_type": "code",
      "source": [
        "# create rf model\n",
        "rfreg = RandomForestClassifier(labelCol='is_fraud', featuresCol='features', weightCol='weights')\n",
        "\n",
        "# apply to dataset\n",
        "rf = rfreg.fit(final_train)"
      ],
      "metadata": {
        "id": "n6tFnC2YkxCy"
      },
      "execution_count": 77,
      "outputs": []
    },
    {
      "cell_type": "code",
      "source": [
        "# predict using test set\n",
        "rf_pred = rf.transform(final_test)\n",
        "\n",
        "# area under the ROC Curve\n",
        "evaluator = BinaryClassificationEvaluator(labelCol='is_fraud', rawPredictionCol=\"prediction\")\n",
        "auc = evaluator.evaluate(rf_pred)\n",
        "print(f\"AUC: {auc}\")\n",
        "\n",
        "precision = precision_evaluator.evaluate(rf_pred, {precision_evaluator.metricLabel: 1})\n",
        "recall = recall_evaluator.evaluate(rf_pred, {recall_evaluator.metricLabel: 1})\n",
        "f1 = f1_evaluator.evaluate(rf_pred)\n",
        "accuracy = accuracy_evaluator.evaluate(rf_pred)"
      ],
      "metadata": {
        "colab": {
          "base_uri": "https://localhost:8080/"
        },
        "id": "vl8ZT62Akwub",
        "outputId": "66079206-9376-492b-e046-c190d6f47514"
      },
      "execution_count": 78,
      "outputs": [
        {
          "output_type": "stream",
          "name": "stdout",
          "text": [
            "AUC: 0.8611925330329725\n"
          ]
        }
      ]
    },
    {
      "cell_type": "code",
      "source": [
        "# create new row with random forest result\n",
        "column_names = models_results.columns\n",
        "new_row = spark.createDataFrame([('random forest',auc, precision, recall, accuracy, f1)], column_names)\n",
        "\n",
        "# add new row to DataFrame\n",
        "models_results = models_results.union(new_row)"
      ],
      "metadata": {
        "id": "wcDVkrNAkwkj"
      },
      "execution_count": 79,
      "outputs": []
    },
    {
      "cell_type": "markdown",
      "source": [
        "### GBT <a name=\"gbt\"></a>"
      ],
      "metadata": {
        "id": "9OqujQIXBxwh"
      }
    },
    {
      "cell_type": "code",
      "source": [
        "# create gbt model\n",
        "gbtreg = GBTClassifier(labelCol='is_fraud', featuresCol='features', weightCol='weights')\n",
        "\n",
        "# apply to dataset\n",
        "gbt = gbtreg.fit(final_train)\n",
        "\n",
        "# predict using test set\n",
        "gbt_pred = gbt.transform(final_test)\n",
        "\n",
        "# area under the ROC Curve\n",
        "evaluator = BinaryClassificationEvaluator(labelCol='is_fraud', rawPredictionCol=\"prediction\")\n",
        "auc = evaluator.evaluate(gbt_pred)\n",
        "print(f\"AUC: {auc}\")\n",
        "\n",
        "precision = precision_evaluator.evaluate(gbt_pred, {precision_evaluator.metricLabel: 1})\n",
        "recall = recall_evaluator.evaluate(gbt_pred, {recall_evaluator.metricLabel: 1})\n",
        "f1 = f1_evaluator.evaluate(gbt_pred)\n",
        "accuracy = accuracy_evaluator.evaluate(gbt_pred)"
      ],
      "metadata": {
        "colab": {
          "base_uri": "https://localhost:8080/"
        },
        "id": "dBoPENDPB9ad",
        "outputId": "3288d926-df76-45de-d153-190f59aa896b"
      },
      "execution_count": 80,
      "outputs": [
        {
          "output_type": "stream",
          "name": "stdout",
          "text": [
            "AUC: 0.9426013580244417\n"
          ]
        }
      ]
    },
    {
      "cell_type": "code",
      "source": [
        "# create new row\n",
        "new_row = spark.createDataFrame([('GBT',auc, precision, recall, accuracy, f1)], column_names)\n",
        "\n",
        "# add new row to DataFrame\n",
        "models_results = models_results.union(new_row)"
      ],
      "metadata": {
        "id": "0ZY33itrCdss"
      },
      "execution_count": 81,
      "outputs": []
    },
    {
      "cell_type": "markdown",
      "metadata": {
        "id": "tapAfHf6iSmY"
      },
      "source": [
        "## Comparing results <a name=\"results\"></a>\n",
        "[Table of contents](#table_cont)"
      ]
    },
    {
      "cell_type": "code",
      "source": [
        "# extract columns names\n",
        "feature_names = final_train.columns\n",
        "# Criando DataFrame com os nomes das features\n",
        "feature_df = spark.createDataFrame([(name,) for name in feature_names], [\"feature\"])\n",
        "\n",
        "# variable impact: logit\n",
        "logit_importance = logit.coefficients.toArray().tolist()\n",
        "logit_df = spark.createDataFrame(zip(feature_names, logit_importance), [\"Feature\", \"Logit\"])"
      ],
      "metadata": {
        "id": "ueseJdwavwKK"
      },
      "execution_count": 82,
      "outputs": []
    },
    {
      "cell_type": "code",
      "source": [
        "# variables impact: random forest\n",
        "rf_importance = rf.featureImportances.toArray().tolist()\n",
        "rf_df = spark.createDataFrame(zip(feature_names, rf_importance), [\"Feature\", \"Random Forest\"])\n"
      ],
      "metadata": {
        "id": "ai9dM-tRtjvj"
      },
      "execution_count": 83,
      "outputs": []
    },
    {
      "cell_type": "code",
      "source": [
        "# variable impact: GBT\n",
        "gbt_importance = gbt.featureImportances.toArray().tolist()\n",
        "gbt_df = spark.createDataFrame(zip(feature_names, gbt_importance), [\"Feature\", \"GBT\"])\n"
      ],
      "metadata": {
        "id": "0vNnUNVRvpC6"
      },
      "execution_count": 84,
      "outputs": []
    },
    {
      "cell_type": "code",
      "source": [
        "# merge all datasets into one\n",
        "feature_analysis = feature_df \\\n",
        "    .join(logit_df, \"Feature\", \"left\") \\\n",
        "    .join(rf_df, \"Feature\", \"left\") \\\n",
        "    .join(gbt_df, \"Feature\", \"left\")"
      ],
      "metadata": {
        "id": "tk_dtT0eyOiz"
      },
      "execution_count": 85,
      "outputs": []
    },
    {
      "cell_type": "code",
      "source": [
        "feature_analysis.sort(asc('feature')).show(40)\n",
        "# feature_analysis.write.csv('feature_analysis.csv')"
      ],
      "metadata": {
        "id": "KqrXTrXyCHfL",
        "outputId": "5a46a745-610f-4062-9f19-28f9a341c754",
        "colab": {
          "base_uri": "https://localhost:8080/"
        }
      },
      "execution_count": 88,
      "outputs": [
        {
          "output_type": "stream",
          "name": "stdout",
          "text": [
            "+--------------+--------------------+--------------------+--------------------+\n",
            "|       feature|               Logit|       Random Forest|                 GBT|\n",
            "+--------------+--------------------+--------------------+--------------------+\n",
            "|           age|  0.0547865759739923|4.068352679573005...|1.598730352511529...|\n",
            "|           amt|0.010736487592143983|  0.6478714875838733|  0.6582547163711452|\n",
            "|      business| 0.16864632181374198|0.002122762794491649|0.004489183081609636|\n",
            "|      city_pop|-3.57223858702804...|0.001096013050411571|0.005004322590572377|\n",
            "|  comunication|-0.18363419828524138|                 0.0|3.218817789884851...|\n",
            "|      day_week|0.002244139334827049|0.016943167531426405|0.018566831402962745|\n",
            "|        desing| 0.03851089929327762|1.167282033426925...|                 0.0|\n",
            "|     education|-0.07432711413572131|1.306525530004939...|5.46131170037336E-19|\n",
            "| entertainment| 0.23150367921558887|0.026918464298779494| 0.04468117324209432|\n",
            "|      features|                NULL|                NULL|                NULL|\n",
            "|        female|                NULL|                NULL|                NULL|\n",
            "|   food_dining|   2.215356444197951|0.012303935274905952|0.052473465872601134|\n",
            "| gas_transport|   1.537921712926889|0.001017461530480...|0.015496914147406698|\n",
            "|   grocery_net|  0.8422742066226625|0.018250473875309467|0.027563440054671363|\n",
            "|   grocery_pos|  1.3434491128924406|  0.0240814688433242|0.017922800401589542|\n",
            "|health_fitness| -0.6136634761700539|0.005446832659067072|0.010956683217167088|\n",
            "|    healthcare| 0.01726039003287946|                 0.0|                 0.0|\n",
            "|          home|  1.4734733311164425|0.001201286469600...| 0.02082801729896653|\n",
            "|      is_fraud| -2.4769766198033216|                 0.0|1.122772461305809...|\n",
            "|     kids_pets| -2.8935899819275366| 0.11788763161182123| 0.04362024115167214|\n",
            "|           lat|0.001451165036025...|0.001460756107722...|0.001348571855709...|\n",
            "|      lat_diff|1.802696348575543...|4.356391351055128E-4|2.836916169105584...|\n",
            "|          long|-7.99038504731972...|4.062189919422267...| 5.21821390187329E-4|\n",
            "|     long_diff|  0.1007556691162173|1.472355595827175...|1.670368117162727...|\n",
            "|     merch_lat|7.675516048972276E-4|9.469577762499775E-4|6.878269383444538E-4|\n",
            "|    merch_long|-7.97503418289923...|0.001426010428984...|1.944567343872900...|\n",
            "|      misc_net|  1.2200770553454845|0.046821461922598645|0.003757623698541608|\n",
            "|      misc_pos| -2.4709449701908834|5.964290652276168E-4| 0.02770011322150097|\n",
            "|         month| 0.05678930625007153|0.002886167120926...|5.137904415323324...|\n",
            "|      no_event|  0.3021333660471048|1.000795895031116...|1.733356262443915...|\n",
            "|        others|-0.04268441059549725|1.436975187016409...|1.634061072897087...|\n",
            "| personal_care|  1.0015623118857786| 0.01682010714664548|0.007618912743487913|\n",
            "|       science| -0.1896525548020036|3.358322514241804E-5|1.055306955733356...|\n",
            "|  shopping_net|  1.7724517666419595|7.987108706250815E-4|0.002982985681211954|\n",
            "|  shopping_pos| 0.23263383917253616|2.026860910051737...|7.208016140855979...|\n",
            "|    sus_mercht|  1.8227510067802517|0.001487631963268...| 0.01925173179143448|\n",
            "|   tier1_event| -0.0993419713844378|0.001051864052136...|                 0.0|\n",
            "|   tier2_event| 0.05197236743675099|3.258318501112699E-4|3.486301088244075E-4|\n",
            "|        travel| -1.5686480955473707|0.029137694413809184|0.011037636808037899|\n",
            "|     unix_time|7.255414197526633E-8|0.010217488607923998|0.004270434480030165|\n",
            "+--------------+--------------------+--------------------+--------------------+\n",
            "only showing top 40 rows\n",
            "\n"
          ]
        }
      ]
    },
    {
      "cell_type": "code",
      "source": [
        "# check results\n",
        "models_results.show()\n",
        "# models_results.write.csv('models_results.csv')"
      ],
      "metadata": {
        "id": "IS71IlZJEMEo",
        "colab": {
          "base_uri": "https://localhost:8080/"
        },
        "outputId": "ffb387c5-2e37-4627-bee7-b6e29543f6d5"
      },
      "execution_count": 89,
      "outputs": [
        {
          "output_type": "stream",
          "name": "stdout",
          "text": [
            "+-------------+------------------+-------------------+------------------+------------------+------------------+\n",
            "|        model|               AUC|          Precision|            Recall|          Accuracy|                F1|\n",
            "+-------------+------------------+-------------------+------------------+------------------+------------------+\n",
            "|        Logit|0.8189514389268764| 0.0395214982343873|0.7454254388414214|0.8916097940724804| 0.937314085602649|\n",
            "|random forest|0.8611925330329725|0.12157794049739429|0.7547514007557566|0.9663776047369897|0.9782602826511785|\n",
            "|          GBT|0.9426013580244417|0.12542571724031565|0.9234191470747007|0.9615572089349264|0.9758115354691581|\n",
            "+-------------+------------------+-------------------+------------------+------------------+------------------+\n",
            "\n"
          ]
        }
      ]
    },
    {
      "cell_type": "markdown",
      "metadata": {
        "id": "i3N_7C_iiSmY"
      },
      "source": [
        "## Take Aways <a name=\"take_away\"></a>\n",
        "[Table of contents](#table_cont)\n",
        "\n",
        "In this notebook I conducted some experiments using 3 different models to classify fraud in CC. This is an unbalanced dataset, which means I'll have to treat this on my models, and when choosing the performance metric.\n",
        "\n",
        "I feature engineered some variables based on date and important dates for retail. After working at Amazon, I know deals and promotions happen during the week of big retail events (such as Black Friday and Christmas). That's why I chose to create a dummy for transactions made on the week of retail event. Some events doesn't have a fixed week, so I looked for possible week numbers it would be.\n",
        "\n",
        "Gradient Boosting algorithms outperfor random forest and logit. With almost 95% of probability to classifying a transaction right (AUC 0.942). Due the unbalanced dataset, AUC was the best metric to compare models and account for the miniroty class (is_fraud = 1).\n",
        "\n",
        "### Optimization\n",
        "To optimize this project, I suggest:\n",
        "- Create a loop to identify the exact week for retail events (such as Easter)\n",
        "- Run a fine tuning on parameters, equivalent of scikit-learn GridSearch. Due to computational limitations this was not possible\n",
        "- Increase the job_category variable in more areas. This feature had most of the observation and could be due to specific occupations\n",
        "- Standardize numerical variables and test if logit performs better\n",
        "- Test other libs, such as XG Boost or CAT boost. Gradient Boosting seems to be outperforming traditional models, but the archetecture is different and could have different results"
      ]
    }
  ],
  "metadata": {
    "kernelspec": {
      "display_name": ".venv",
      "language": "python",
      "name": "python3"
    },
    "language_info": {
      "codemirror_mode": {
        "name": "ipython",
        "version": 3
      },
      "file_extension": ".py",
      "mimetype": "text/x-python",
      "name": "python",
      "nbconvert_exporter": "python",
      "pygments_lexer": "ipython3",
      "version": "3.11.9"
    },
    "colab": {
      "provenance": []
    }
  },
  "nbformat": 4,
  "nbformat_minor": 0
}