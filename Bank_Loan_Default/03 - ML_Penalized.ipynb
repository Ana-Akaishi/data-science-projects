{
 "cells": [
  {
   "cell_type": "markdown",
   "metadata": {},
   "source": [
    "# Machine Learning & Increasing model penalization\n",
    "\n",
    "For this notebook, I'll use the adjusted set from feature engineering notebook on Logit, XGBoost, Light GBM, SVM and Neural Network models."
   ]
  },
  {
   "cell_type": "code",
   "execution_count": 1,
   "metadata": {},
   "outputs": [],
   "source": [
    "import pandas as pd\n",
    "import numpy as np\n",
    "from sklearn.model_selection import train_test_split\n",
    "from sklearn.preprocessing import StandardScaler\n",
    "from sklearn.linear_model import LogisticRegression\n",
    "import xgboost as xgb\n",
    "import lightgbm as lgbm\n",
    "from sklearn import svm\n",
    "from sklearn import metrics\n",
    "import tensorflow as tf\n",
    "from tensorflow.keras.layers import Input, Dense\n",
    "from tensorflow.keras.models import Model\n",
    "from tensorflow.keras.optimizers import SGD, Adam"
   ]
  },
  {
   "cell_type": "markdown",
   "metadata": {},
   "source": [
    "## Prepping data"
   ]
  },
  {
   "cell_type": "markdown",
   "metadata": {},
   "source": [
    "### Loading datasets"
   ]
  },
  {
   "cell_type": "code",
   "execution_count": 2,
   "metadata": {},
   "outputs": [],
   "source": [
    "# Import merged dataset (train + test)\n",
    "default_df = pd.read_csv('train_adj.csv')\n",
    "\n",
    "# Separate between features (X) and answer (y)\n",
    "x = default_df.drop(['Unnamed: 0','Loan Status'], axis=1)\n",
    "y = default_df['Loan Status']\n",
    "\n",
    "# Split dataset considering train and test must have default class\n",
    "x_train, x_test, y_train, y_test = train_test_split(x, y, test_size=0.3, random_state=101, stratify=y)"
   ]
  },
  {
   "cell_type": "markdown",
   "metadata": {},
   "source": [
    "### Standardizing data"
   ]
  },
  {
   "cell_type": "code",
   "execution_count": 3,
   "metadata": {},
   "outputs": [
    {
     "data": {
      "text/plain": [
       "array([[ 2.09203679, -1.16221414, -0.18876999, ..., -0.07316163,\n",
       "        -0.26651094, -0.91885213],\n",
       "       [-0.5480217 , -0.77581639, -0.67685336, ..., -0.07316163,\n",
       "        -0.26651094,  1.0883144 ],\n",
       "       [ 0.28214712,  0.15508451,  1.17371725, ..., -0.07316163,\n",
       "        -0.26651094,  1.0883144 ],\n",
       "       ...,\n",
       "       [ 0.89180421, -0.55860618,  1.24433392, ..., -0.07316163,\n",
       "        -0.26651094, -0.91885213],\n",
       "       [-1.50353277, -0.99327287,  0.98619904, ..., -0.07316163,\n",
       "        -0.26651094,  1.0883144 ],\n",
       "       [ 0.62704703,  2.3605562 ,  0.53540626, ..., -0.07316163,\n",
       "        -0.26651094,  1.0883144 ]])"
      ]
     },
     "execution_count": 3,
     "metadata": {},
     "output_type": "execute_result"
    }
   ],
   "source": [
    "# Create a standard scaler based on train set\n",
    "scaler = StandardScaler()\n",
    "\n",
    "# Use train set as reference\n",
    "scaler.fit_transform(x_train)\n",
    "\n",
    "# Transform test without contaminating it\n",
    "scaler.transform(x_test)"
   ]
  },
  {
   "cell_type": "markdown",
   "metadata": {},
   "source": [
    "## Logit Model"
   ]
  },
  {
   "cell_type": "code",
   "execution_count": 4,
   "metadata": {},
   "outputs": [
    {
     "name": "stderr",
     "output_type": "stream",
     "text": [
      "d:\\Documentos\\My_Py_Projects\\github_DS_projects\\.venv\\Lib\\site-packages\\sklearn\\linear_model\\_logistic.py:469: ConvergenceWarning: lbfgs failed to converge (status=1):\n",
      "STOP: TOTAL NO. of ITERATIONS REACHED LIMIT.\n",
      "\n",
      "Increase the number of iterations (max_iter) or scale the data as shown in:\n",
      "    https://scikit-learn.org/stable/modules/preprocessing.html\n",
      "Please also refer to the documentation for alternative solver options:\n",
      "    https://scikit-learn.org/stable/modules/linear_model.html#logistic-regression\n",
      "  n_iter_i = _check_optimize_result(\n"
     ]
    }
   ],
   "source": [
    "# Create instance for Logit model\n",
    "logit = LogisticRegression(class_weight='balanced')\n",
    "\n",
    "# Fit model in my training set\n",
    "logit.fit(x_train, y_train)\n",
    "\n",
    "# Predict y_test\n",
    "logit_predict = logit.predict(x_test)"
   ]
  },
  {
   "cell_type": "code",
   "execution_count": 5,
   "metadata": {},
   "outputs": [
    {
     "name": "stdout",
     "output_type": "stream",
     "text": [
      "Confusion Matrix \n",
      " [[9011 8452]\n",
      " [ 885  891]] \n",
      "\n",
      "              precision    recall  f1-score   support\n",
      "\n",
      "           0       0.91      0.52      0.66     17463\n",
      "           1       0.10      0.50      0.16      1776\n",
      "\n",
      "    accuracy                           0.51     19239\n",
      "   macro avg       0.50      0.51      0.41     19239\n",
      "weighted avg       0.84      0.51      0.61     19239\n",
      "\n"
     ]
    }
   ],
   "source": [
    "# Compare results\n",
    "logit_matrix = metrics.confusion_matrix(y_test, logit_predict)\n",
    "print('Confusion Matrix','\\n',logit_matrix, '\\n')\n",
    "\n",
    "print(metrics.classification_report(y_test, logit_predict))"
   ]
  },
  {
   "cell_type": "code",
   "execution_count": 6,
   "metadata": {},
   "outputs": [
    {
     "data": {
      "text/html": [
       "<div>\n",
       "<style scoped>\n",
       "    .dataframe tbody tr th:only-of-type {\n",
       "        vertical-align: middle;\n",
       "    }\n",
       "\n",
       "    .dataframe tbody tr th {\n",
       "        vertical-align: top;\n",
       "    }\n",
       "\n",
       "    .dataframe thead th {\n",
       "        text-align: right;\n",
       "    }\n",
       "</style>\n",
       "<table border=\"1\" class=\"dataframe\">\n",
       "  <thead>\n",
       "    <tr style=\"text-align: right;\">\n",
       "      <th></th>\n",
       "      <th>precision</th>\n",
       "      <th>recall</th>\n",
       "      <th>f1-score</th>\n",
       "      <th>support</th>\n",
       "      <th>Model</th>\n",
       "    </tr>\n",
       "  </thead>\n",
       "  <tbody>\n",
       "    <tr>\n",
       "      <th>0</th>\n",
       "      <td>0.91</td>\n",
       "      <td>0.52</td>\n",
       "      <td>0.66</td>\n",
       "      <td>17463.00</td>\n",
       "      <td>logit IP</td>\n",
       "    </tr>\n",
       "    <tr>\n",
       "      <th>1</th>\n",
       "      <td>0.10</td>\n",
       "      <td>0.50</td>\n",
       "      <td>0.16</td>\n",
       "      <td>1776.00</td>\n",
       "      <td>logit IP</td>\n",
       "    </tr>\n",
       "    <tr>\n",
       "      <th>accuracy</th>\n",
       "      <td>0.51</td>\n",
       "      <td>0.51</td>\n",
       "      <td>0.51</td>\n",
       "      <td>0.51</td>\n",
       "      <td>logit IP</td>\n",
       "    </tr>\n",
       "    <tr>\n",
       "      <th>macro avg</th>\n",
       "      <td>0.50</td>\n",
       "      <td>0.51</td>\n",
       "      <td>0.41</td>\n",
       "      <td>19239.00</td>\n",
       "      <td>logit IP</td>\n",
       "    </tr>\n",
       "    <tr>\n",
       "      <th>weighted avg</th>\n",
       "      <td>0.84</td>\n",
       "      <td>0.51</td>\n",
       "      <td>0.61</td>\n",
       "      <td>19239.00</td>\n",
       "      <td>logit IP</td>\n",
       "    </tr>\n",
       "  </tbody>\n",
       "</table>\n",
       "</div>"
      ],
      "text/plain": [
       "              precision  recall  f1-score   support     Model\n",
       "0                  0.91    0.52      0.66  17463.00  logit IP\n",
       "1                  0.10    0.50      0.16   1776.00  logit IP\n",
       "accuracy           0.51    0.51      0.51      0.51  logit IP\n",
       "macro avg          0.50    0.51      0.41  19239.00  logit IP\n",
       "weighted avg       0.84    0.51      0.61  19239.00  logit IP"
      ]
     },
     "execution_count": 6,
     "metadata": {},
     "output_type": "execute_result"
    }
   ],
   "source": [
    "# Extract classification report\n",
    "class_report2 = metrics.classification_report(y_test, logit_predict, output_dict=True)\n",
    "class_report2 = pd.DataFrame(class_report2).round(2).transpose()\n",
    "class_report2['Model'] = 'logit IP'\n",
    "class_report2"
   ]
  },
  {
   "cell_type": "markdown",
   "metadata": {},
   "source": [
    "## XGBoost"
   ]
  },
  {
   "cell_type": "code",
   "execution_count": 7,
   "metadata": {},
   "outputs": [],
   "source": [
    "# Compute the positive class weight\n",
    "pos_class_weight = (len(y) - np.sum(y)) / np.sum(y)\n",
    "\n",
    "# Create XGBoost instance\n",
    "XGB = xgb.XGBClassifier(scale_pos_weight=pos_class_weight)\n",
    "\n",
    "# Fit he model\n",
    "XGB.fit(x_train, y_train)\n",
    "\n",
    "# Pedict\n",
    "xgb_predict = XGB.predict(x_test)"
   ]
  },
  {
   "cell_type": "code",
   "execution_count": 8,
   "metadata": {},
   "outputs": [
    {
     "name": "stdout",
     "output_type": "stream",
     "text": [
      "Confusion matrix \n",
      " [[14819  2644]\n",
      " [ 1507   269]] \n",
      "\n",
      "              precision    recall  f1-score   support\n",
      "\n",
      "           0       0.91      0.85      0.88     17463\n",
      "           1       0.09      0.15      0.11      1776\n",
      "\n",
      "    accuracy                           0.78     19239\n",
      "   macro avg       0.50      0.50      0.50     19239\n",
      "weighted avg       0.83      0.78      0.81     19239\n",
      "\n"
     ]
    }
   ],
   "source": [
    "# Analyze performance\n",
    "print('Confusion matrix', '\\n',metrics.confusion_matrix(y_test, xgb_predict), '\\n')\n",
    "\n",
    "print(metrics.classification_report(y_test, xgb_predict))"
   ]
  },
  {
   "cell_type": "code",
   "execution_count": 9,
   "metadata": {},
   "outputs": [],
   "source": [
    "# Create temporary class report \n",
    "temp_class_report2 = metrics.classification_report(y_test, xgb_predict, output_dict=True)\n",
    "temp_class_report2 = pd.DataFrame(temp_class_report2).round(2).transpose()\n",
    "temp_class_report2['Model'] = 'xgb IP'\n",
    "\n",
    "# Concat with main df\n",
    "class_report2 = pd.concat([class_report2, temp_class_report2], axis=0)\n",
    "\n",
    "# Display final df\n",
    "# class_report2"
   ]
  },
  {
   "cell_type": "markdown",
   "metadata": {},
   "source": [
    "## Light GBM"
   ]
  },
  {
   "cell_type": "code",
   "execution_count": 10,
   "metadata": {},
   "outputs": [
    {
     "name": "stdout",
     "output_type": "stream",
     "text": [
      "[LightGBM] [Warning] Found whitespace in feature_names, replace with underlines\n",
      "[LightGBM] [Info] Number of positive: 4144, number of negative: 40746\n",
      "[LightGBM] [Info] Auto-choosing col-wise multi-threading, the overhead of testing was 0.005260 seconds.\n",
      "You can set `force_col_wise=true` to remove the overhead.\n",
      "[LightGBM] [Info] Total Bins 4138\n",
      "[LightGBM] [Info] Number of data points in the train set: 44890, number of used features: 35\n",
      "[LightGBM] [Info] [binary:BoostFromScore]: pavg=0.092315 -> initscore=-2.285696\n",
      "[LightGBM] [Info] Start training from score -2.285696\n"
     ]
    }
   ],
   "source": [
    "# Create instance\n",
    "lgb = lgbm.LGBMClassifier(scale_pos_weight=pos_class_weight)\n",
    "\n",
    "# Fit in train set\n",
    "lgb.fit(x_train, y_train)\n",
    "\n",
    "# Predict\n",
    "lgb_predict = lgb.predict(x_test)"
   ]
  },
  {
   "cell_type": "code",
   "execution_count": 11,
   "metadata": {},
   "outputs": [
    {
     "name": "stdout",
     "output_type": "stream",
     "text": [
      "Confusion Matrix: \n",
      " [[13139  4324]\n",
      " [ 1299   477]] \n",
      "\n",
      "              precision    recall  f1-score   support\n",
      "\n",
      "           0       0.91      0.75      0.82     17463\n",
      "           1       0.10      0.27      0.15      1776\n",
      "\n",
      "    accuracy                           0.71     19239\n",
      "   macro avg       0.50      0.51      0.48     19239\n",
      "weighted avg       0.84      0.71      0.76     19239\n",
      "\n"
     ]
    }
   ],
   "source": [
    "# Confusion matrix\n",
    "print('Confusion Matrix:', '\\n',metrics.confusion_matrix(y_test,lgb_predict), '\\n')\n",
    "\n",
    "# Classification report\n",
    "print(metrics.classification_report(y_test, lgb_predict))"
   ]
  },
  {
   "cell_type": "code",
   "execution_count": 12,
   "metadata": {},
   "outputs": [],
   "source": [
    "# Create temporary classification report df\n",
    "temp_class_report2 = metrics.classification_report(y_test, lgb_predict, output_dict=True)\n",
    "temp_class_report2 = pd.DataFrame(temp_class_report2).round(2).transpose()\n",
    "temp_class_report2['Model'] = 'Light GBM IP'\n",
    "\n",
    "# Concat with main report\n",
    "class_report2 = pd.concat([class_report2, temp_class_report2], axis=0)\n",
    "# class_report2\n",
    "class_report2.to_csv('classification_report2.csv')"
   ]
  },
  {
   "cell_type": "markdown",
   "metadata": {},
   "source": [
    "## SVM"
   ]
  },
  {
   "cell_type": "code",
   "execution_count": 13,
   "metadata": {},
   "outputs": [],
   "source": [
    "# Dictiornary with the ideal weight\n",
    "dw = {0: 1, 1: pos_class_weight}\n",
    "\n",
    "# Instance model\n",
    "svc = svm.SVC(class_weight=dw)\n",
    "\n",
    "# Fit\n",
    "svc.fit(x_train, y_train)\n",
    "\n",
    "# Predict\n",
    "svc_predict = svc.predict(x_test)"
   ]
  },
  {
   "cell_type": "code",
   "execution_count": 14,
   "metadata": {},
   "outputs": [
    {
     "name": "stdout",
     "output_type": "stream",
     "text": [
      "Confusion matrix \n",
      " [[11153  6310]\n",
      " [ 1106   670]]\n",
      "              precision    recall  f1-score   support\n",
      "\n",
      "           0       0.91      0.64      0.75     17463\n",
      "           1       0.10      0.38      0.15      1776\n",
      "\n",
      "    accuracy                           0.61     19239\n",
      "   macro avg       0.50      0.51      0.45     19239\n",
      "weighted avg       0.83      0.61      0.70     19239\n",
      "\n"
     ]
    }
   ],
   "source": [
    "# See results\n",
    "print('Confusion matrix', '\\n', metrics.confusion_matrix(y_test, svc_predict))\n",
    "\n",
    "# Classification report\n",
    "print(metrics.classification_report(y_test, svc_predict))"
   ]
  },
  {
   "cell_type": "code",
   "execution_count": 15,
   "metadata": {},
   "outputs": [],
   "source": [
    "# Temporary classification report\n",
    "temp_class_report2 = metrics.classification_report(y_test, svc_predict, output_dict=True)\n",
    "temp_class_report2 = pd.DataFrame(temp_class_report2).round(2).transpose()\n",
    "temp_class_report2['Model'] = 'SVM IP'\n",
    "\n",
    "# Merge with report df\n",
    "class_report2 = pd.concat([class_report2, temp_class_report2], axis=0)\n",
    "# class_report2\n",
    "class_report2.to_csv('classification_report2.csv')"
   ]
  },
  {
   "cell_type": "markdown",
   "metadata": {},
   "source": [
    "## Neural Network"
   ]
  },
  {
   "cell_type": "code",
   "execution_count": 16,
   "metadata": {},
   "outputs": [
    {
     "data": {
      "text/plain": [
       "(44890, 36)"
      ]
     },
     "execution_count": 16,
     "metadata": {},
     "output_type": "execute_result"
    }
   ],
   "source": [
    "# First transform df in arrays. This is the way tensorflow builds its models\n",
    "x_train_a = x_train.to_numpy()\n",
    "y_train_a = y_train.to_numpy()\n",
    "x_test_a = x_test.to_numpy()\n",
    "y_test_a = y_test.to_numpy()\n",
    "\n",
    "x_train_a.shape"
   ]
  },
  {
   "cell_type": "code",
   "execution_count": 17,
   "metadata": {},
   "outputs": [
    {
     "name": "stderr",
     "output_type": "stream",
     "text": [
      "d:\\Documentos\\My_Py_Projects\\github_DS_projects\\.venv\\Lib\\site-packages\\keras\\src\\layers\\core\\dense.py:87: UserWarning: Do not pass an `input_shape`/`input_dim` argument to a layer. When using Sequential models, prefer using an `Input(shape)` object as the first layer in the model instead.\n",
      "  super().__init__(activity_regularizer=activity_regularizer, **kwargs)\n"
     ]
    }
   ],
   "source": [
    "# Build neural netwrok\n",
    "ann_sgd = tf.keras.models.Sequential([\n",
    "  tf.keras.layers.Dense(64, input_shape=(36,), activation='tanh'),\n",
    "  tf.keras.layers.Dense(32, activation='tanh'),\n",
    "  tf.keras.layers.Dropout(0.20),\n",
    "  tf.keras.layers.Dense(1, activation='sigmoid')\n",
    "])"
   ]
  },
  {
   "cell_type": "code",
   "execution_count": 18,
   "metadata": {},
   "outputs": [
    {
     "name": "stdout",
     "output_type": "stream",
     "text": [
      "Epoch 1/50\n",
      "\u001b[1m1403/1403\u001b[0m \u001b[32m━━━━━━━━━━━━━━━━━━━━\u001b[0m\u001b[37m\u001b[0m \u001b[1m2s\u001b[0m 897us/step - accuracy: 0.5276 - loss: 1.2998\n",
      "Epoch 2/50\n",
      "\u001b[1m1403/1403\u001b[0m \u001b[32m━━━━━━━━━━━━━━━━━━━━\u001b[0m\u001b[37m\u001b[0m \u001b[1m1s\u001b[0m 867us/step - accuracy: 0.5047 - loss: 1.2610\n",
      "Epoch 3/50\n",
      "\u001b[1m1403/1403\u001b[0m \u001b[32m━━━━━━━━━━━━━━━━━━━━\u001b[0m\u001b[37m\u001b[0m \u001b[1m1s\u001b[0m 833us/step - accuracy: 0.5145 - loss: 1.2574\n",
      "Epoch 4/50\n",
      "\u001b[1m1403/1403\u001b[0m \u001b[32m━━━━━━━━━━━━━━━━━━━━\u001b[0m\u001b[37m\u001b[0m \u001b[1m1s\u001b[0m 872us/step - accuracy: 0.4432 - loss: 1.2634\n",
      "Epoch 5/50\n",
      "\u001b[1m1403/1403\u001b[0m \u001b[32m━━━━━━━━━━━━━━━━━━━━\u001b[0m\u001b[37m\u001b[0m \u001b[1m1s\u001b[0m 889us/step - accuracy: 0.5215 - loss: 1.2523\n",
      "Epoch 6/50\n",
      "\u001b[1m1403/1403\u001b[0m \u001b[32m━━━━━━━━━━━━━━━━━━━━\u001b[0m\u001b[37m\u001b[0m \u001b[1m1s\u001b[0m 859us/step - accuracy: 0.4355 - loss: 1.2673\n",
      "Epoch 7/50\n",
      "\u001b[1m1403/1403\u001b[0m \u001b[32m━━━━━━━━━━━━━━━━━━━━\u001b[0m\u001b[37m\u001b[0m \u001b[1m1s\u001b[0m 857us/step - accuracy: 0.3911 - loss: 1.2772\n",
      "Epoch 8/50\n",
      "\u001b[1m1403/1403\u001b[0m \u001b[32m━━━━━━━━━━━━━━━━━━━━\u001b[0m\u001b[37m\u001b[0m \u001b[1m1s\u001b[0m 849us/step - accuracy: 0.5183 - loss: 1.2555\n",
      "Epoch 9/50\n",
      "\u001b[1m1403/1403\u001b[0m \u001b[32m━━━━━━━━━━━━━━━━━━━━\u001b[0m\u001b[37m\u001b[0m \u001b[1m1s\u001b[0m 838us/step - accuracy: 0.5634 - loss: 1.2540\n",
      "Epoch 10/50\n",
      "\u001b[1m1403/1403\u001b[0m \u001b[32m━━━━━━━━━━━━━━━━━━━━\u001b[0m\u001b[37m\u001b[0m \u001b[1m1s\u001b[0m 861us/step - accuracy: 0.5358 - loss: 1.2563\n",
      "Epoch 11/50\n",
      "\u001b[1m1403/1403\u001b[0m \u001b[32m━━━━━━━━━━━━━━━━━━━━\u001b[0m\u001b[37m\u001b[0m \u001b[1m1s\u001b[0m 846us/step - accuracy: 0.5071 - loss: 1.2506\n",
      "Epoch 12/50\n",
      "\u001b[1m1403/1403\u001b[0m \u001b[32m━━━━━━━━━━━━━━━━━━━━\u001b[0m\u001b[37m\u001b[0m \u001b[1m1s\u001b[0m 879us/step - accuracy: 0.5183 - loss: 1.2553\n",
      "Epoch 13/50\n",
      "\u001b[1m1403/1403\u001b[0m \u001b[32m━━━━━━━━━━━━━━━━━━━━\u001b[0m\u001b[37m\u001b[0m \u001b[1m1s\u001b[0m 865us/step - accuracy: 0.4660 - loss: 1.2496\n",
      "Epoch 14/50\n",
      "\u001b[1m1403/1403\u001b[0m \u001b[32m━━━━━━━━━━━━━━━━━━━━\u001b[0m\u001b[37m\u001b[0m \u001b[1m1s\u001b[0m 844us/step - accuracy: 0.4069 - loss: 1.2687\n",
      "Epoch 15/50\n",
      "\u001b[1m1403/1403\u001b[0m \u001b[32m━━━━━━━━━━━━━━━━━━━━\u001b[0m\u001b[37m\u001b[0m \u001b[1m1s\u001b[0m 856us/step - accuracy: 0.4427 - loss: 1.2542\n",
      "Epoch 16/50\n",
      "\u001b[1m1403/1403\u001b[0m \u001b[32m━━━━━━━━━━━━━━━━━━━━\u001b[0m\u001b[37m\u001b[0m \u001b[1m1s\u001b[0m 851us/step - accuracy: 0.5963 - loss: 1.2504\n",
      "Epoch 17/50\n",
      "\u001b[1m1403/1403\u001b[0m \u001b[32m━━━━━━━━━━━━━━━━━━━━\u001b[0m\u001b[37m\u001b[0m \u001b[1m1s\u001b[0m 852us/step - accuracy: 0.4045 - loss: 1.2718\n",
      "Epoch 18/50\n",
      "\u001b[1m1403/1403\u001b[0m \u001b[32m━━━━━━━━━━━━━━━━━━━━\u001b[0m\u001b[37m\u001b[0m \u001b[1m1s\u001b[0m 894us/step - accuracy: 0.4176 - loss: 1.2598\n",
      "Epoch 19/50\n",
      "\u001b[1m1403/1403\u001b[0m \u001b[32m━━━━━━━━━━━━━━━━━━━━\u001b[0m\u001b[37m\u001b[0m \u001b[1m1s\u001b[0m 872us/step - accuracy: 0.5811 - loss: 1.2509\n",
      "Epoch 20/50\n",
      "\u001b[1m1403/1403\u001b[0m \u001b[32m━━━━━━━━━━━━━━━━━━━━\u001b[0m\u001b[37m\u001b[0m \u001b[1m1s\u001b[0m 853us/step - accuracy: 0.5525 - loss: 1.2542\n",
      "Epoch 21/50\n",
      "\u001b[1m1403/1403\u001b[0m \u001b[32m━━━━━━━━━━━━━━━━━━━━\u001b[0m\u001b[37m\u001b[0m \u001b[1m1s\u001b[0m 856us/step - accuracy: 0.4587 - loss: 1.2616\n",
      "Epoch 22/50\n",
      "\u001b[1m1403/1403\u001b[0m \u001b[32m━━━━━━━━━━━━━━━━━━━━\u001b[0m\u001b[37m\u001b[0m \u001b[1m1s\u001b[0m 867us/step - accuracy: 0.3960 - loss: 1.2621\n",
      "Epoch 23/50\n",
      "\u001b[1m1403/1403\u001b[0m \u001b[32m━━━━━━━━━━━━━━━━━━━━\u001b[0m\u001b[37m\u001b[0m \u001b[1m1s\u001b[0m 853us/step - accuracy: 0.4836 - loss: 1.2625\n",
      "Epoch 24/50\n",
      "\u001b[1m1403/1403\u001b[0m \u001b[32m━━━━━━━━━━━━━━━━━━━━\u001b[0m\u001b[37m\u001b[0m \u001b[1m1s\u001b[0m 852us/step - accuracy: 0.4893 - loss: 1.2548\n",
      "Epoch 25/50\n",
      "\u001b[1m1403/1403\u001b[0m \u001b[32m━━━━━━━━━━━━━━━━━━━━\u001b[0m\u001b[37m\u001b[0m \u001b[1m1s\u001b[0m 863us/step - accuracy: 0.4848 - loss: 1.2686\n",
      "Epoch 26/50\n",
      "\u001b[1m1403/1403\u001b[0m \u001b[32m━━━━━━━━━━━━━━━━━━━━\u001b[0m\u001b[37m\u001b[0m \u001b[1m1s\u001b[0m 844us/step - accuracy: 0.2863 - loss: 1.2667\n",
      "Epoch 27/50\n",
      "\u001b[1m1403/1403\u001b[0m \u001b[32m━━━━━━━━━━━━━━━━━━━━\u001b[0m\u001b[37m\u001b[0m \u001b[1m1s\u001b[0m 838us/step - accuracy: 0.4376 - loss: 1.2616\n",
      "Epoch 28/50\n",
      "\u001b[1m1403/1403\u001b[0m \u001b[32m━━━━━━━━━━━━━━━━━━━━\u001b[0m\u001b[37m\u001b[0m \u001b[1m1s\u001b[0m 874us/step - accuracy: 0.5213 - loss: 1.2611\n",
      "Epoch 29/50\n",
      "\u001b[1m1403/1403\u001b[0m \u001b[32m━━━━━━━━━━━━━━━━━━━━\u001b[0m\u001b[37m\u001b[0m \u001b[1m1s\u001b[0m 924us/step - accuracy: 0.4008 - loss: 1.2615\n",
      "Epoch 30/50\n",
      "\u001b[1m1403/1403\u001b[0m \u001b[32m━━━━━━━━━━━━━━━━━━━━\u001b[0m\u001b[37m\u001b[0m \u001b[1m1s\u001b[0m 896us/step - accuracy: 0.3465 - loss: 1.2651\n",
      "Epoch 31/50\n",
      "\u001b[1m1403/1403\u001b[0m \u001b[32m━━━━━━━━━━━━━━━━━━━━\u001b[0m\u001b[37m\u001b[0m \u001b[1m1s\u001b[0m 849us/step - accuracy: 0.5028 - loss: 1.2723\n",
      "Epoch 32/50\n",
      "\u001b[1m1403/1403\u001b[0m \u001b[32m━━━━━━━━━━━━━━━━━━━━\u001b[0m\u001b[37m\u001b[0m \u001b[1m1s\u001b[0m 853us/step - accuracy: 0.5736 - loss: 1.2539\n",
      "Epoch 33/50\n",
      "\u001b[1m1403/1403\u001b[0m \u001b[32m━━━━━━━━━━━━━━━━━━━━\u001b[0m\u001b[37m\u001b[0m \u001b[1m1s\u001b[0m 867us/step - accuracy: 0.5708 - loss: 1.2606\n",
      "Epoch 34/50\n",
      "\u001b[1m1403/1403\u001b[0m \u001b[32m━━━━━━━━━━━━━━━━━━━━\u001b[0m\u001b[37m\u001b[0m \u001b[1m1s\u001b[0m 848us/step - accuracy: 0.5182 - loss: 1.2509\n",
      "Epoch 35/50\n",
      "\u001b[1m1403/1403\u001b[0m \u001b[32m━━━━━━━━━━━━━━━━━━━━\u001b[0m\u001b[37m\u001b[0m \u001b[1m1s\u001b[0m 853us/step - accuracy: 0.4894 - loss: 1.2507\n",
      "Epoch 36/50\n",
      "\u001b[1m1403/1403\u001b[0m \u001b[32m━━━━━━━━━━━━━━━━━━━━\u001b[0m\u001b[37m\u001b[0m \u001b[1m1s\u001b[0m 862us/step - accuracy: 0.4595 - loss: 1.2586\n",
      "Epoch 37/50\n",
      "\u001b[1m1403/1403\u001b[0m \u001b[32m━━━━━━━━━━━━━━━━━━━━\u001b[0m\u001b[37m\u001b[0m \u001b[1m1s\u001b[0m 837us/step - accuracy: 0.2183 - loss: 1.2722\n",
      "Epoch 38/50\n",
      "\u001b[1m1403/1403\u001b[0m \u001b[32m━━━━━━━━━━━━━━━━━━━━\u001b[0m\u001b[37m\u001b[0m \u001b[1m1s\u001b[0m 851us/step - accuracy: 0.5347 - loss: 1.2585\n",
      "Epoch 39/50\n",
      "\u001b[1m1403/1403\u001b[0m \u001b[32m━━━━━━━━━━━━━━━━━━━━\u001b[0m\u001b[37m\u001b[0m \u001b[1m1s\u001b[0m 850us/step - accuracy: 0.4076 - loss: 1.2758\n",
      "Epoch 40/50\n",
      "\u001b[1m1403/1403\u001b[0m \u001b[32m━━━━━━━━━━━━━━━━━━━━\u001b[0m\u001b[37m\u001b[0m \u001b[1m1s\u001b[0m 873us/step - accuracy: 0.5793 - loss: 1.2570\n",
      "Epoch 41/50\n",
      "\u001b[1m1403/1403\u001b[0m \u001b[32m━━━━━━━━━━━━━━━━━━━━\u001b[0m\u001b[37m\u001b[0m \u001b[1m1s\u001b[0m 850us/step - accuracy: 0.4187 - loss: 1.2585\n",
      "Epoch 42/50\n",
      "\u001b[1m1403/1403\u001b[0m \u001b[32m━━━━━━━━━━━━━━━━━━━━\u001b[0m\u001b[37m\u001b[0m \u001b[1m1s\u001b[0m 853us/step - accuracy: 0.4942 - loss: 1.2611\n",
      "Epoch 43/50\n",
      "\u001b[1m1403/1403\u001b[0m \u001b[32m━━━━━━━━━━━━━━━━━━━━\u001b[0m\u001b[37m\u001b[0m \u001b[1m1s\u001b[0m 878us/step - accuracy: 0.6620 - loss: 1.2560\n",
      "Epoch 44/50\n",
      "\u001b[1m1403/1403\u001b[0m \u001b[32m━━━━━━━━━━━━━━━━━━━━\u001b[0m\u001b[37m\u001b[0m \u001b[1m1s\u001b[0m 842us/step - accuracy: 0.6752 - loss: 1.2521\n",
      "Epoch 45/50\n",
      "\u001b[1m1403/1403\u001b[0m \u001b[32m━━━━━━━━━━━━━━━━━━━━\u001b[0m\u001b[37m\u001b[0m \u001b[1m1s\u001b[0m 869us/step - accuracy: 0.7321 - loss: 1.2498\n",
      "Epoch 46/50\n",
      "\u001b[1m1403/1403\u001b[0m \u001b[32m━━━━━━━━━━━━━━━━━━━━\u001b[0m\u001b[37m\u001b[0m \u001b[1m1s\u001b[0m 872us/step - accuracy: 0.6765 - loss: 1.2603\n",
      "Epoch 47/50\n",
      "\u001b[1m1403/1403\u001b[0m \u001b[32m━━━━━━━━━━━━━━━━━━━━\u001b[0m\u001b[37m\u001b[0m \u001b[1m1s\u001b[0m 862us/step - accuracy: 0.2938 - loss: 1.2673\n",
      "Epoch 48/50\n",
      "\u001b[1m1403/1403\u001b[0m \u001b[32m━━━━━━━━━━━━━━━━━━━━\u001b[0m\u001b[37m\u001b[0m \u001b[1m1s\u001b[0m 859us/step - accuracy: 0.7455 - loss: 1.2556\n",
      "Epoch 49/50\n",
      "\u001b[1m1403/1403\u001b[0m \u001b[32m━━━━━━━━━━━━━━━━━━━━\u001b[0m\u001b[37m\u001b[0m \u001b[1m1s\u001b[0m 834us/step - accuracy: 0.4550 - loss: 1.2569\n",
      "Epoch 50/50\n",
      "\u001b[1m1403/1403\u001b[0m \u001b[32m━━━━━━━━━━━━━━━━━━━━\u001b[0m\u001b[37m\u001b[0m \u001b[1m1s\u001b[0m 847us/step - accuracy: 0.2646 - loss: 1.2715\n"
     ]
    },
    {
     "data": {
      "text/plain": [
       "<keras.src.callbacks.history.History at 0x1b5711caa90>"
      ]
     },
     "execution_count": 18,
     "metadata": {},
     "output_type": "execute_result"
    }
   ],
   "source": [
    "# Compile and fit\n",
    "opt = tf.keras.optimizers.SGD(learning_rate=0.01)\n",
    "\n",
    "# Since this is a classification problem, our loss analysis also changes from MSE to binarycrossentropy\n",
    "ann_sgd.compile(optimizer=opt, \n",
    "            loss='binary_crossentropy',\n",
    "            metrics=['accuracy'])\n",
    "\n",
    "# Predic\n",
    "ann_sgd.fit(x_train_a, y_train_a, class_weight={0: 1.0, 1: pos_class_weight}, epochs=50)"
   ]
  },
  {
   "cell_type": "code",
   "execution_count": 19,
   "metadata": {},
   "outputs": [
    {
     "name": "stdout",
     "output_type": "stream",
     "text": [
      "\u001b[1m602/602\u001b[0m \u001b[32m━━━━━━━━━━━━━━━━━━━━\u001b[0m\u001b[37m\u001b[0m \u001b[1m0s\u001b[0m 651us/step\n"
     ]
    }
   ],
   "source": [
    "# Predict using ANN, and here I'll round rthe predictions so we have 1 (defualt) and 0 (non-default) instead of float numbers\n",
    "ann_sgd_predict = (ann_sgd.predict(x_test_a) > 0.5).astype(int)"
   ]
  },
  {
   "cell_type": "code",
   "execution_count": 20,
   "metadata": {},
   "outputs": [
    {
     "name": "stdout",
     "output_type": "stream",
     "text": [
      "Confusion matrix \n",
      " [[   51 17412]\n",
      " [    5  1771]]\n",
      "              precision    recall  f1-score   support\n",
      "\n",
      "           0       0.91      0.00      0.01     17463\n",
      "           1       0.09      1.00      0.17      1776\n",
      "\n",
      "    accuracy                           0.09     19239\n",
      "   macro avg       0.50      0.50      0.09     19239\n",
      "weighted avg       0.84      0.09      0.02     19239\n",
      "\n"
     ]
    }
   ],
   "source": [
    "# See results\n",
    "print('Confusion matrix', '\\n', metrics.confusion_matrix(y_test_a, ann_sgd_predict))\n",
    "\n",
    "# Classification report\n",
    "print(metrics.classification_report(y_test_a, ann_sgd_predict))"
   ]
  },
  {
   "cell_type": "code",
   "execution_count": 21,
   "metadata": {},
   "outputs": [],
   "source": [
    "# Temporary classification report\n",
    "temp_class_report2 = metrics.classification_report(y_test_a, ann_sgd_predict, output_dict=True)\n",
    "temp_class_report2 = pd.DataFrame(temp_class_report2).round(2).transpose()\n",
    "temp_class_report2['Model'] = 'ANN SGD IP'\n",
    "\n",
    "# Merge with report df\n",
    "class_report2 = pd.concat([class_report2, temp_class_report2], axis=0)\n",
    "\n",
    "# Save\n",
    "class_report2.to_csv('classification_report2.csv')"
   ]
  },
  {
   "cell_type": "markdown",
   "metadata": {},
   "source": [
    "#### Adam optimizer"
   ]
  },
  {
   "cell_type": "code",
   "execution_count": 22,
   "metadata": {},
   "outputs": [
    {
     "name": "stdout",
     "output_type": "stream",
     "text": [
      "Epoch 1/50\n"
     ]
    },
    {
     "name": "stderr",
     "output_type": "stream",
     "text": [
      "d:\\Documentos\\My_Py_Projects\\github_DS_projects\\.venv\\Lib\\site-packages\\keras\\src\\layers\\core\\dense.py:87: UserWarning: Do not pass an `input_shape`/`input_dim` argument to a layer. When using Sequential models, prefer using an `Input(shape)` object as the first layer in the model instead.\n",
      "  super().__init__(activity_regularizer=activity_regularizer, **kwargs)\n"
     ]
    },
    {
     "name": "stdout",
     "output_type": "stream",
     "text": [
      "\u001b[1m1403/1403\u001b[0m \u001b[32m━━━━━━━━━━━━━━━━━━━━\u001b[0m\u001b[37m\u001b[0m \u001b[1m2s\u001b[0m 983us/step - accuracy: 0.5060 - loss: 1.2975\n",
      "Epoch 2/50\n",
      "\u001b[1m1403/1403\u001b[0m \u001b[32m━━━━━━━━━━━━━━━━━━━━\u001b[0m\u001b[37m\u001b[0m \u001b[1m1s\u001b[0m 960us/step - accuracy: 0.4963 - loss: 1.2653\n",
      "Epoch 3/50\n",
      "\u001b[1m1403/1403\u001b[0m \u001b[32m━━━━━━━━━━━━━━━━━━━━\u001b[0m\u001b[37m\u001b[0m \u001b[1m1s\u001b[0m 955us/step - accuracy: 0.5037 - loss: 1.2697\n",
      "Epoch 4/50\n",
      "\u001b[1m1403/1403\u001b[0m \u001b[32m━━━━━━━━━━━━━━━━━━━━\u001b[0m\u001b[37m\u001b[0m \u001b[1m1s\u001b[0m 959us/step - accuracy: 0.5489 - loss: 1.2582\n",
      "Epoch 5/50\n",
      "\u001b[1m1403/1403\u001b[0m \u001b[32m━━━━━━━━━━━━━━━━━━━━\u001b[0m\u001b[37m\u001b[0m \u001b[1m1s\u001b[0m 978us/step - accuracy: 0.5158 - loss: 1.2596\n",
      "Epoch 6/50\n",
      "\u001b[1m1403/1403\u001b[0m \u001b[32m━━━━━━━━━━━━━━━━━━━━\u001b[0m\u001b[37m\u001b[0m \u001b[1m1s\u001b[0m 962us/step - accuracy: 0.5059 - loss: 1.2691\n",
      "Epoch 7/50\n",
      "\u001b[1m1403/1403\u001b[0m \u001b[32m━━━━━━━━━━━━━━━━━━━━\u001b[0m\u001b[37m\u001b[0m \u001b[1m1s\u001b[0m 971us/step - accuracy: 0.4520 - loss: 1.2849\n",
      "Epoch 8/50\n",
      "\u001b[1m1403/1403\u001b[0m \u001b[32m━━━━━━━━━━━━━━━━━━━━\u001b[0m\u001b[37m\u001b[0m \u001b[1m1s\u001b[0m 940us/step - accuracy: 0.5300 - loss: 1.2536\n",
      "Epoch 9/50\n",
      "\u001b[1m1403/1403\u001b[0m \u001b[32m━━━━━━━━━━━━━━━━━━━━\u001b[0m\u001b[37m\u001b[0m \u001b[1m1s\u001b[0m 945us/step - accuracy: 0.4281 - loss: 1.2782\n",
      "Epoch 10/50\n",
      "\u001b[1m1403/1403\u001b[0m \u001b[32m━━━━━━━━━━━━━━━━━━━━\u001b[0m\u001b[37m\u001b[0m \u001b[1m1s\u001b[0m 940us/step - accuracy: 0.5035 - loss: 1.2805\n",
      "Epoch 11/50\n",
      "\u001b[1m1403/1403\u001b[0m \u001b[32m━━━━━━━━━━━━━━━━━━━━\u001b[0m\u001b[37m\u001b[0m \u001b[1m1s\u001b[0m 947us/step - accuracy: 0.5424 - loss: 1.2521\n",
      "Epoch 12/50\n",
      "\u001b[1m1403/1403\u001b[0m \u001b[32m━━━━━━━━━━━━━━━━━━━━\u001b[0m\u001b[37m\u001b[0m \u001b[1m1s\u001b[0m 940us/step - accuracy: 0.4514 - loss: 1.2666\n",
      "Epoch 13/50\n",
      "\u001b[1m1403/1403\u001b[0m \u001b[32m━━━━━━━━━━━━━━━━━━━━\u001b[0m\u001b[37m\u001b[0m \u001b[1m1s\u001b[0m 945us/step - accuracy: 0.5158 - loss: 1.2712\n",
      "Epoch 14/50\n",
      "\u001b[1m1403/1403\u001b[0m \u001b[32m━━━━━━━━━━━━━━━━━━━━\u001b[0m\u001b[37m\u001b[0m \u001b[1m1s\u001b[0m 946us/step - accuracy: 0.5137 - loss: 1.2679\n",
      "Epoch 15/50\n",
      "\u001b[1m1403/1403\u001b[0m \u001b[32m━━━━━━━━━━━━━━━━━━━━\u001b[0m\u001b[37m\u001b[0m \u001b[1m1s\u001b[0m 937us/step - accuracy: 0.5022 - loss: 1.2701\n",
      "Epoch 16/50\n",
      "\u001b[1m1403/1403\u001b[0m \u001b[32m━━━━━━━━━━━━━━━━━━━━\u001b[0m\u001b[37m\u001b[0m \u001b[1m1s\u001b[0m 955us/step - accuracy: 0.5115 - loss: 1.2603\n",
      "Epoch 17/50\n",
      "\u001b[1m1403/1403\u001b[0m \u001b[32m━━━━━━━━━━━━━━━━━━━━\u001b[0m\u001b[37m\u001b[0m \u001b[1m1s\u001b[0m 933us/step - accuracy: 0.4858 - loss: 1.2698\n",
      "Epoch 18/50\n",
      "\u001b[1m1403/1403\u001b[0m \u001b[32m━━━━━━━━━━━━━━━━━━━━\u001b[0m\u001b[37m\u001b[0m \u001b[1m1s\u001b[0m 942us/step - accuracy: 0.5044 - loss: 1.2768\n",
      "Epoch 19/50\n",
      "\u001b[1m1403/1403\u001b[0m \u001b[32m━━━━━━━━━━━━━━━━━━━━\u001b[0m\u001b[37m\u001b[0m \u001b[1m1s\u001b[0m 946us/step - accuracy: 0.4715 - loss: 1.2714\n",
      "Epoch 20/50\n",
      "\u001b[1m1403/1403\u001b[0m \u001b[32m━━━━━━━━━━━━━━━━━━━━\u001b[0m\u001b[37m\u001b[0m \u001b[1m1s\u001b[0m 946us/step - accuracy: 0.4284 - loss: 1.2770\n",
      "Epoch 21/50\n",
      "\u001b[1m1403/1403\u001b[0m \u001b[32m━━━━━━━━━━━━━━━━━━━━\u001b[0m\u001b[37m\u001b[0m \u001b[1m1s\u001b[0m 933us/step - accuracy: 0.5563 - loss: 1.2516\n",
      "Epoch 22/50\n",
      "\u001b[1m1403/1403\u001b[0m \u001b[32m━━━━━━━━━━━━━━━━━━━━\u001b[0m\u001b[37m\u001b[0m \u001b[1m1s\u001b[0m 954us/step - accuracy: 0.5389 - loss: 1.2530\n",
      "Epoch 23/50\n",
      "\u001b[1m1403/1403\u001b[0m \u001b[32m━━━━━━━━━━━━━━━━━━━━\u001b[0m\u001b[37m\u001b[0m \u001b[1m1s\u001b[0m 943us/step - accuracy: 0.4927 - loss: 1.2695\n",
      "Epoch 24/50\n",
      "\u001b[1m1403/1403\u001b[0m \u001b[32m━━━━━━━━━━━━━━━━━━━━\u001b[0m\u001b[37m\u001b[0m \u001b[1m1s\u001b[0m 999us/step - accuracy: 0.4962 - loss: 1.2776\n",
      "Epoch 25/50\n",
      "\u001b[1m1403/1403\u001b[0m \u001b[32m━━━━━━━━━━━━━━━━━━━━\u001b[0m\u001b[37m\u001b[0m \u001b[1m1s\u001b[0m 957us/step - accuracy: 0.4933 - loss: 1.2640\n",
      "Epoch 26/50\n",
      "\u001b[1m1403/1403\u001b[0m \u001b[32m━━━━━━━━━━━━━━━━━━━━\u001b[0m\u001b[37m\u001b[0m \u001b[1m1s\u001b[0m 945us/step - accuracy: 0.5292 - loss: 1.2602\n",
      "Epoch 27/50\n",
      "\u001b[1m1403/1403\u001b[0m \u001b[32m━━━━━━━━━━━━━━━━━━━━\u001b[0m\u001b[37m\u001b[0m \u001b[1m1s\u001b[0m 947us/step - accuracy: 0.4778 - loss: 1.2605\n",
      "Epoch 28/50\n",
      "\u001b[1m1403/1403\u001b[0m \u001b[32m━━━━━━━━━━━━━━━━━━━━\u001b[0m\u001b[37m\u001b[0m \u001b[1m1s\u001b[0m 963us/step - accuracy: 0.4581 - loss: 1.2651\n",
      "Epoch 29/50\n",
      "\u001b[1m1403/1403\u001b[0m \u001b[32m━━━━━━━━━━━━━━━━━━━━\u001b[0m\u001b[37m\u001b[0m \u001b[1m1s\u001b[0m 943us/step - accuracy: 0.4907 - loss: 1.2535\n",
      "Epoch 30/50\n",
      "\u001b[1m1403/1403\u001b[0m \u001b[32m━━━━━━━━━━━━━━━━━━━━\u001b[0m\u001b[37m\u001b[0m \u001b[1m1s\u001b[0m 954us/step - accuracy: 0.4129 - loss: 1.2814\n",
      "Epoch 31/50\n",
      "\u001b[1m1403/1403\u001b[0m \u001b[32m━━━━━━━━━━━━━━━━━━━━\u001b[0m\u001b[37m\u001b[0m \u001b[1m1s\u001b[0m 940us/step - accuracy: 0.5660 - loss: 1.2452\n",
      "Epoch 32/50\n",
      "\u001b[1m1403/1403\u001b[0m \u001b[32m━━━━━━━━━━━━━━━━━━━━\u001b[0m\u001b[37m\u001b[0m \u001b[1m1s\u001b[0m 948us/step - accuracy: 0.4768 - loss: 1.2738\n",
      "Epoch 33/50\n",
      "\u001b[1m1403/1403\u001b[0m \u001b[32m━━━━━━━━━━━━━━━━━━━━\u001b[0m\u001b[37m\u001b[0m \u001b[1m1s\u001b[0m 940us/step - accuracy: 0.5042 - loss: 1.2627\n",
      "Epoch 34/50\n",
      "\u001b[1m1403/1403\u001b[0m \u001b[32m━━━━━━━━━━━━━━━━━━━━\u001b[0m\u001b[37m\u001b[0m \u001b[1m1s\u001b[0m 936us/step - accuracy: 0.4802 - loss: 1.2607\n",
      "Epoch 35/50\n",
      "\u001b[1m1403/1403\u001b[0m \u001b[32m━━━━━━━━━━━━━━━━━━━━\u001b[0m\u001b[37m\u001b[0m \u001b[1m1s\u001b[0m 957us/step - accuracy: 0.4627 - loss: 1.2682\n",
      "Epoch 36/50\n",
      "\u001b[1m1403/1403\u001b[0m \u001b[32m━━━━━━━━━━━━━━━━━━━━\u001b[0m\u001b[37m\u001b[0m \u001b[1m1s\u001b[0m 952us/step - accuracy: 0.5102 - loss: 1.2649\n",
      "Epoch 37/50\n",
      "\u001b[1m1403/1403\u001b[0m \u001b[32m━━━━━━━━━━━━━━━━━━━━\u001b[0m\u001b[37m\u001b[0m \u001b[1m1s\u001b[0m 944us/step - accuracy: 0.5112 - loss: 1.2587\n",
      "Epoch 38/50\n",
      "\u001b[1m1403/1403\u001b[0m \u001b[32m━━━━━━━━━━━━━━━━━━━━\u001b[0m\u001b[37m\u001b[0m \u001b[1m1s\u001b[0m 938us/step - accuracy: 0.4575 - loss: 1.2769\n",
      "Epoch 39/50\n",
      "\u001b[1m1403/1403\u001b[0m \u001b[32m━━━━━━━━━━━━━━━━━━━━\u001b[0m\u001b[37m\u001b[0m \u001b[1m1s\u001b[0m 965us/step - accuracy: 0.4989 - loss: 1.2718\n",
      "Epoch 40/50\n",
      "\u001b[1m1403/1403\u001b[0m \u001b[32m━━━━━━━━━━━━━━━━━━━━\u001b[0m\u001b[37m\u001b[0m \u001b[1m1s\u001b[0m 959us/step - accuracy: 0.5171 - loss: 1.2544\n",
      "Epoch 41/50\n",
      "\u001b[1m1403/1403\u001b[0m \u001b[32m━━━━━━━━━━━━━━━━━━━━\u001b[0m\u001b[37m\u001b[0m \u001b[1m1s\u001b[0m 966us/step - accuracy: 0.4755 - loss: 1.2619\n",
      "Epoch 42/50\n",
      "\u001b[1m1403/1403\u001b[0m \u001b[32m━━━━━━━━━━━━━━━━━━━━\u001b[0m\u001b[37m\u001b[0m \u001b[1m1s\u001b[0m 950us/step - accuracy: 0.4909 - loss: 1.2615\n",
      "Epoch 43/50\n",
      "\u001b[1m1403/1403\u001b[0m \u001b[32m━━━━━━━━━━━━━━━━━━━━\u001b[0m\u001b[37m\u001b[0m \u001b[1m1s\u001b[0m 950us/step - accuracy: 0.4981 - loss: 1.2696\n",
      "Epoch 44/50\n",
      "\u001b[1m1403/1403\u001b[0m \u001b[32m━━━━━━━━━━━━━━━━━━━━\u001b[0m\u001b[37m\u001b[0m \u001b[1m1s\u001b[0m 970us/step - accuracy: 0.3875 - loss: 1.2765\n",
      "Epoch 45/50\n",
      "\u001b[1m1403/1403\u001b[0m \u001b[32m━━━━━━━━━━━━━━━━━━━━\u001b[0m\u001b[37m\u001b[0m \u001b[1m1s\u001b[0m 932us/step - accuracy: 0.5763 - loss: 1.2570\n",
      "Epoch 46/50\n",
      "\u001b[1m1403/1403\u001b[0m \u001b[32m━━━━━━━━━━━━━━━━━━━━\u001b[0m\u001b[37m\u001b[0m \u001b[1m1s\u001b[0m 962us/step - accuracy: 0.4970 - loss: 1.2671\n",
      "Epoch 47/50\n",
      "\u001b[1m1403/1403\u001b[0m \u001b[32m━━━━━━━━━━━━━━━━━━━━\u001b[0m\u001b[37m\u001b[0m \u001b[1m1s\u001b[0m 982us/step - accuracy: 0.5978 - loss: 1.2450\n",
      "Epoch 48/50\n",
      "\u001b[1m1403/1403\u001b[0m \u001b[32m━━━━━━━━━━━━━━━━━━━━\u001b[0m\u001b[37m\u001b[0m \u001b[1m1s\u001b[0m 958us/step - accuracy: 0.5429 - loss: 1.2596\n",
      "Epoch 49/50\n",
      "\u001b[1m1403/1403\u001b[0m \u001b[32m━━━━━━━━━━━━━━━━━━━━\u001b[0m\u001b[37m\u001b[0m \u001b[1m1s\u001b[0m 976us/step - accuracy: 0.4772 - loss: 1.2542\n",
      "Epoch 50/50\n",
      "\u001b[1m1403/1403\u001b[0m \u001b[32m━━━━━━━━━━━━━━━━━━━━\u001b[0m\u001b[37m\u001b[0m \u001b[1m1s\u001b[0m 948us/step - accuracy: 0.4949 - loss: 1.2589\n"
     ]
    },
    {
     "data": {
      "text/plain": [
       "<keras.src.callbacks.history.History at 0x1b50dcc4bd0>"
      ]
     },
     "execution_count": 22,
     "metadata": {},
     "output_type": "execute_result"
    }
   ],
   "source": [
    "# Using similar architecture\n",
    "ann_adam = tf.keras.models.Sequential([\n",
    "  tf.keras.layers.Dense(64, input_shape=(36,), activation='relu'),\n",
    "  tf.keras.layers.Dense(32, activation='tanh'),\n",
    "  tf.keras.layers.Dropout(0.20),\n",
    "  tf.keras.layers.Dense(10, activation='tanh'),\n",
    "  tf.keras.layers.Dense(1, activation='sigmoid')\n",
    "])\n",
    "\n",
    "# Compile and fit\n",
    "opt = tf.keras.optimizers.Adam(learning_rate=0.01)\n",
    "\n",
    "# Since this is a classification problem, our loss analysis also changes from MSE to binarycrossentropy\n",
    "ann_adam.compile(optimizer=opt, \n",
    "            loss='binary_crossentropy',\n",
    "            metrics=['accuracy'])\n",
    "\n",
    "# Fit in train sets\n",
    "ann_adam.fit(x_train_a, y_train_a, class_weight={0: 1.0, 1: pos_class_weight}, epochs=50)"
   ]
  },
  {
   "cell_type": "code",
   "execution_count": 23,
   "metadata": {},
   "outputs": [
    {
     "name": "stdout",
     "output_type": "stream",
     "text": [
      "\u001b[1m602/602\u001b[0m \u001b[32m━━━━━━━━━━━━━━━━━━━━\u001b[0m\u001b[37m\u001b[0m \u001b[1m0s\u001b[0m 670us/step\n"
     ]
    }
   ],
   "source": [
    "# Predict using ANN, and here I'll round rthe predictions so we have 1 (defualt) and 0 (non-default) instead of float numbers\n",
    "ann_adam_predict = (ann_adam.predict(x_test_a) > 0.5).astype(int)"
   ]
  },
  {
   "cell_type": "code",
   "execution_count": 24,
   "metadata": {},
   "outputs": [
    {
     "name": "stdout",
     "output_type": "stream",
     "text": [
      "Confusion matrix \n",
      " [[17463     0]\n",
      " [ 1776     0]]\n",
      "              precision    recall  f1-score   support\n",
      "\n",
      "           0       0.91      1.00      0.95     17463\n",
      "           1       0.00      0.00      0.00      1776\n",
      "\n",
      "    accuracy                           0.91     19239\n",
      "   macro avg       0.45      0.50      0.48     19239\n",
      "weighted avg       0.82      0.91      0.86     19239\n",
      "\n"
     ]
    },
    {
     "name": "stderr",
     "output_type": "stream",
     "text": [
      "d:\\Documentos\\My_Py_Projects\\github_DS_projects\\.venv\\Lib\\site-packages\\sklearn\\metrics\\_classification.py:1531: UndefinedMetricWarning: Precision is ill-defined and being set to 0.0 in labels with no predicted samples. Use `zero_division` parameter to control this behavior.\n",
      "  _warn_prf(average, modifier, f\"{metric.capitalize()} is\", len(result))\n",
      "d:\\Documentos\\My_Py_Projects\\github_DS_projects\\.venv\\Lib\\site-packages\\sklearn\\metrics\\_classification.py:1531: UndefinedMetricWarning: Precision is ill-defined and being set to 0.0 in labels with no predicted samples. Use `zero_division` parameter to control this behavior.\n",
      "  _warn_prf(average, modifier, f\"{metric.capitalize()} is\", len(result))\n",
      "d:\\Documentos\\My_Py_Projects\\github_DS_projects\\.venv\\Lib\\site-packages\\sklearn\\metrics\\_classification.py:1531: UndefinedMetricWarning: Precision is ill-defined and being set to 0.0 in labels with no predicted samples. Use `zero_division` parameter to control this behavior.\n",
      "  _warn_prf(average, modifier, f\"{metric.capitalize()} is\", len(result))\n"
     ]
    }
   ],
   "source": [
    "# See results\n",
    "print('Confusion matrix', '\\n', metrics.confusion_matrix(y_test_a, ann_adam_predict))\n",
    "\n",
    "# Classification report\n",
    "print(metrics.classification_report(y_test_a, ann_adam_predict))"
   ]
  },
  {
   "cell_type": "code",
   "execution_count": 25,
   "metadata": {},
   "outputs": [
    {
     "name": "stderr",
     "output_type": "stream",
     "text": [
      "d:\\Documentos\\My_Py_Projects\\github_DS_projects\\.venv\\Lib\\site-packages\\sklearn\\metrics\\_classification.py:1531: UndefinedMetricWarning: Precision is ill-defined and being set to 0.0 in labels with no predicted samples. Use `zero_division` parameter to control this behavior.\n",
      "  _warn_prf(average, modifier, f\"{metric.capitalize()} is\", len(result))\n",
      "d:\\Documentos\\My_Py_Projects\\github_DS_projects\\.venv\\Lib\\site-packages\\sklearn\\metrics\\_classification.py:1531: UndefinedMetricWarning: Precision is ill-defined and being set to 0.0 in labels with no predicted samples. Use `zero_division` parameter to control this behavior.\n",
      "  _warn_prf(average, modifier, f\"{metric.capitalize()} is\", len(result))\n",
      "d:\\Documentos\\My_Py_Projects\\github_DS_projects\\.venv\\Lib\\site-packages\\sklearn\\metrics\\_classification.py:1531: UndefinedMetricWarning: Precision is ill-defined and being set to 0.0 in labels with no predicted samples. Use `zero_division` parameter to control this behavior.\n",
      "  _warn_prf(average, modifier, f\"{metric.capitalize()} is\", len(result))\n"
     ]
    },
    {
     "data": {
      "text/html": [
       "<div>\n",
       "<style scoped>\n",
       "    .dataframe tbody tr th:only-of-type {\n",
       "        vertical-align: middle;\n",
       "    }\n",
       "\n",
       "    .dataframe tbody tr th {\n",
       "        vertical-align: top;\n",
       "    }\n",
       "\n",
       "    .dataframe thead th {\n",
       "        text-align: right;\n",
       "    }\n",
       "</style>\n",
       "<table border=\"1\" class=\"dataframe\">\n",
       "  <thead>\n",
       "    <tr style=\"text-align: right;\">\n",
       "      <th></th>\n",
       "      <th>precision</th>\n",
       "      <th>recall</th>\n",
       "      <th>f1-score</th>\n",
       "      <th>support</th>\n",
       "      <th>Model</th>\n",
       "    </tr>\n",
       "  </thead>\n",
       "  <tbody>\n",
       "    <tr>\n",
       "      <th>0</th>\n",
       "      <td>0.91</td>\n",
       "      <td>0.52</td>\n",
       "      <td>0.66</td>\n",
       "      <td>17463.00</td>\n",
       "      <td>logit IP</td>\n",
       "    </tr>\n",
       "    <tr>\n",
       "      <th>1</th>\n",
       "      <td>0.10</td>\n",
       "      <td>0.50</td>\n",
       "      <td>0.16</td>\n",
       "      <td>1776.00</td>\n",
       "      <td>logit IP</td>\n",
       "    </tr>\n",
       "    <tr>\n",
       "      <th>accuracy</th>\n",
       "      <td>0.51</td>\n",
       "      <td>0.51</td>\n",
       "      <td>0.51</td>\n",
       "      <td>0.51</td>\n",
       "      <td>logit IP</td>\n",
       "    </tr>\n",
       "    <tr>\n",
       "      <th>macro avg</th>\n",
       "      <td>0.50</td>\n",
       "      <td>0.51</td>\n",
       "      <td>0.41</td>\n",
       "      <td>19239.00</td>\n",
       "      <td>logit IP</td>\n",
       "    </tr>\n",
       "    <tr>\n",
       "      <th>weighted avg</th>\n",
       "      <td>0.84</td>\n",
       "      <td>0.51</td>\n",
       "      <td>0.61</td>\n",
       "      <td>19239.00</td>\n",
       "      <td>logit IP</td>\n",
       "    </tr>\n",
       "    <tr>\n",
       "      <th>0</th>\n",
       "      <td>0.91</td>\n",
       "      <td>0.85</td>\n",
       "      <td>0.88</td>\n",
       "      <td>17463.00</td>\n",
       "      <td>xgb IP</td>\n",
       "    </tr>\n",
       "    <tr>\n",
       "      <th>1</th>\n",
       "      <td>0.09</td>\n",
       "      <td>0.15</td>\n",
       "      <td>0.11</td>\n",
       "      <td>1776.00</td>\n",
       "      <td>xgb IP</td>\n",
       "    </tr>\n",
       "    <tr>\n",
       "      <th>accuracy</th>\n",
       "      <td>0.78</td>\n",
       "      <td>0.78</td>\n",
       "      <td>0.78</td>\n",
       "      <td>0.78</td>\n",
       "      <td>xgb IP</td>\n",
       "    </tr>\n",
       "    <tr>\n",
       "      <th>macro avg</th>\n",
       "      <td>0.50</td>\n",
       "      <td>0.50</td>\n",
       "      <td>0.50</td>\n",
       "      <td>19239.00</td>\n",
       "      <td>xgb IP</td>\n",
       "    </tr>\n",
       "    <tr>\n",
       "      <th>weighted avg</th>\n",
       "      <td>0.83</td>\n",
       "      <td>0.78</td>\n",
       "      <td>0.81</td>\n",
       "      <td>19239.00</td>\n",
       "      <td>xgb IP</td>\n",
       "    </tr>\n",
       "    <tr>\n",
       "      <th>0</th>\n",
       "      <td>0.91</td>\n",
       "      <td>0.75</td>\n",
       "      <td>0.82</td>\n",
       "      <td>17463.00</td>\n",
       "      <td>Light GBM IP</td>\n",
       "    </tr>\n",
       "    <tr>\n",
       "      <th>1</th>\n",
       "      <td>0.10</td>\n",
       "      <td>0.27</td>\n",
       "      <td>0.15</td>\n",
       "      <td>1776.00</td>\n",
       "      <td>Light GBM IP</td>\n",
       "    </tr>\n",
       "    <tr>\n",
       "      <th>accuracy</th>\n",
       "      <td>0.71</td>\n",
       "      <td>0.71</td>\n",
       "      <td>0.71</td>\n",
       "      <td>0.71</td>\n",
       "      <td>Light GBM IP</td>\n",
       "    </tr>\n",
       "    <tr>\n",
       "      <th>macro avg</th>\n",
       "      <td>0.50</td>\n",
       "      <td>0.51</td>\n",
       "      <td>0.48</td>\n",
       "      <td>19239.00</td>\n",
       "      <td>Light GBM IP</td>\n",
       "    </tr>\n",
       "    <tr>\n",
       "      <th>weighted avg</th>\n",
       "      <td>0.84</td>\n",
       "      <td>0.71</td>\n",
       "      <td>0.76</td>\n",
       "      <td>19239.00</td>\n",
       "      <td>Light GBM IP</td>\n",
       "    </tr>\n",
       "    <tr>\n",
       "      <th>0</th>\n",
       "      <td>0.91</td>\n",
       "      <td>0.64</td>\n",
       "      <td>0.75</td>\n",
       "      <td>17463.00</td>\n",
       "      <td>SVM IP</td>\n",
       "    </tr>\n",
       "    <tr>\n",
       "      <th>1</th>\n",
       "      <td>0.10</td>\n",
       "      <td>0.38</td>\n",
       "      <td>0.15</td>\n",
       "      <td>1776.00</td>\n",
       "      <td>SVM IP</td>\n",
       "    </tr>\n",
       "    <tr>\n",
       "      <th>accuracy</th>\n",
       "      <td>0.61</td>\n",
       "      <td>0.61</td>\n",
       "      <td>0.61</td>\n",
       "      <td>0.61</td>\n",
       "      <td>SVM IP</td>\n",
       "    </tr>\n",
       "    <tr>\n",
       "      <th>macro avg</th>\n",
       "      <td>0.50</td>\n",
       "      <td>0.51</td>\n",
       "      <td>0.45</td>\n",
       "      <td>19239.00</td>\n",
       "      <td>SVM IP</td>\n",
       "    </tr>\n",
       "    <tr>\n",
       "      <th>weighted avg</th>\n",
       "      <td>0.83</td>\n",
       "      <td>0.61</td>\n",
       "      <td>0.70</td>\n",
       "      <td>19239.00</td>\n",
       "      <td>SVM IP</td>\n",
       "    </tr>\n",
       "    <tr>\n",
       "      <th>0</th>\n",
       "      <td>0.91</td>\n",
       "      <td>0.00</td>\n",
       "      <td>0.01</td>\n",
       "      <td>17463.00</td>\n",
       "      <td>ANN SGD IP</td>\n",
       "    </tr>\n",
       "    <tr>\n",
       "      <th>1</th>\n",
       "      <td>0.09</td>\n",
       "      <td>1.00</td>\n",
       "      <td>0.17</td>\n",
       "      <td>1776.00</td>\n",
       "      <td>ANN SGD IP</td>\n",
       "    </tr>\n",
       "    <tr>\n",
       "      <th>accuracy</th>\n",
       "      <td>0.09</td>\n",
       "      <td>0.09</td>\n",
       "      <td>0.09</td>\n",
       "      <td>0.09</td>\n",
       "      <td>ANN SGD IP</td>\n",
       "    </tr>\n",
       "    <tr>\n",
       "      <th>macro avg</th>\n",
       "      <td>0.50</td>\n",
       "      <td>0.50</td>\n",
       "      <td>0.09</td>\n",
       "      <td>19239.00</td>\n",
       "      <td>ANN SGD IP</td>\n",
       "    </tr>\n",
       "    <tr>\n",
       "      <th>weighted avg</th>\n",
       "      <td>0.84</td>\n",
       "      <td>0.09</td>\n",
       "      <td>0.02</td>\n",
       "      <td>19239.00</td>\n",
       "      <td>ANN SGD IP</td>\n",
       "    </tr>\n",
       "    <tr>\n",
       "      <th>0</th>\n",
       "      <td>0.91</td>\n",
       "      <td>1.00</td>\n",
       "      <td>0.95</td>\n",
       "      <td>17463.00</td>\n",
       "      <td>ANN ADAM IP</td>\n",
       "    </tr>\n",
       "    <tr>\n",
       "      <th>1</th>\n",
       "      <td>0.00</td>\n",
       "      <td>0.00</td>\n",
       "      <td>0.00</td>\n",
       "      <td>1776.00</td>\n",
       "      <td>ANN ADAM IP</td>\n",
       "    </tr>\n",
       "    <tr>\n",
       "      <th>accuracy</th>\n",
       "      <td>0.91</td>\n",
       "      <td>0.91</td>\n",
       "      <td>0.91</td>\n",
       "      <td>0.91</td>\n",
       "      <td>ANN ADAM IP</td>\n",
       "    </tr>\n",
       "    <tr>\n",
       "      <th>macro avg</th>\n",
       "      <td>0.45</td>\n",
       "      <td>0.50</td>\n",
       "      <td>0.48</td>\n",
       "      <td>19239.00</td>\n",
       "      <td>ANN ADAM IP</td>\n",
       "    </tr>\n",
       "    <tr>\n",
       "      <th>weighted avg</th>\n",
       "      <td>0.82</td>\n",
       "      <td>0.91</td>\n",
       "      <td>0.86</td>\n",
       "      <td>19239.00</td>\n",
       "      <td>ANN ADAM IP</td>\n",
       "    </tr>\n",
       "  </tbody>\n",
       "</table>\n",
       "</div>"
      ],
      "text/plain": [
       "              precision  recall  f1-score   support         Model\n",
       "0                  0.91    0.52      0.66  17463.00      logit IP\n",
       "1                  0.10    0.50      0.16   1776.00      logit IP\n",
       "accuracy           0.51    0.51      0.51      0.51      logit IP\n",
       "macro avg          0.50    0.51      0.41  19239.00      logit IP\n",
       "weighted avg       0.84    0.51      0.61  19239.00      logit IP\n",
       "0                  0.91    0.85      0.88  17463.00        xgb IP\n",
       "1                  0.09    0.15      0.11   1776.00        xgb IP\n",
       "accuracy           0.78    0.78      0.78      0.78        xgb IP\n",
       "macro avg          0.50    0.50      0.50  19239.00        xgb IP\n",
       "weighted avg       0.83    0.78      0.81  19239.00        xgb IP\n",
       "0                  0.91    0.75      0.82  17463.00  Light GBM IP\n",
       "1                  0.10    0.27      0.15   1776.00  Light GBM IP\n",
       "accuracy           0.71    0.71      0.71      0.71  Light GBM IP\n",
       "macro avg          0.50    0.51      0.48  19239.00  Light GBM IP\n",
       "weighted avg       0.84    0.71      0.76  19239.00  Light GBM IP\n",
       "0                  0.91    0.64      0.75  17463.00        SVM IP\n",
       "1                  0.10    0.38      0.15   1776.00        SVM IP\n",
       "accuracy           0.61    0.61      0.61      0.61        SVM IP\n",
       "macro avg          0.50    0.51      0.45  19239.00        SVM IP\n",
       "weighted avg       0.83    0.61      0.70  19239.00        SVM IP\n",
       "0                  0.91    0.00      0.01  17463.00    ANN SGD IP\n",
       "1                  0.09    1.00      0.17   1776.00    ANN SGD IP\n",
       "accuracy           0.09    0.09      0.09      0.09    ANN SGD IP\n",
       "macro avg          0.50    0.50      0.09  19239.00    ANN SGD IP\n",
       "weighted avg       0.84    0.09      0.02  19239.00    ANN SGD IP\n",
       "0                  0.91    1.00      0.95  17463.00   ANN ADAM IP\n",
       "1                  0.00    0.00      0.00   1776.00   ANN ADAM IP\n",
       "accuracy           0.91    0.91      0.91      0.91   ANN ADAM IP\n",
       "macro avg          0.45    0.50      0.48  19239.00   ANN ADAM IP\n",
       "weighted avg       0.82    0.91      0.86  19239.00   ANN ADAM IP"
      ]
     },
     "execution_count": 25,
     "metadata": {},
     "output_type": "execute_result"
    }
   ],
   "source": [
    "# Temporary classification report\n",
    "temp_class_report2 = metrics.classification_report(y_test_a, ann_adam_predict, output_dict=True)\n",
    "temp_class_report2 = pd.DataFrame(temp_class_report2).round(2).transpose()\n",
    "temp_class_report2['Model'] = 'ANN ADAM IP'\n",
    "\n",
    "# Merge with report df\n",
    "class_report2 = pd.concat([class_report2, temp_class_report2], axis=0)\n",
    "\n",
    "# Save\n",
    "class_report2.to_csv('classification_report2.csv')\n",
    "\n",
    "# Display final results\n",
    "class_report2"
   ]
  }
 ],
 "metadata": {
  "kernelspec": {
   "display_name": ".venv",
   "language": "python",
   "name": "python3"
  },
  "language_info": {
   "codemirror_mode": {
    "name": "ipython",
    "version": 3
   },
   "file_extension": ".py",
   "mimetype": "text/x-python",
   "name": "python",
   "nbconvert_exporter": "python",
   "pygments_lexer": "ipython3",
   "version": "3.11.9"
  }
 },
 "nbformat": 4,
 "nbformat_minor": 2
}
