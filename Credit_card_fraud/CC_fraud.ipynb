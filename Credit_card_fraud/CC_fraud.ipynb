{
  "cells": [
    {
      "cell_type": "markdown",
      "metadata": {
        "id": "BQ9ganokiSmS"
      },
      "source": [
        "# Credit Card Fraud Detection\n",
        "In this notebook, I'll explore this public dataset on Kaggle about [credit card fraud](https://www.kaggle.com/datasets/kartik2112/fraud-detection?resource=download). My objective is to analyze this dataset behavior and create an algorithm to predict if there's a fraud or not.\n",
        "\n",
        "As for my tool, I'll use **PySpark** to load my data, check the quality and do the exploratory data analysis (EDA). Next, I'll run some classifications algorithms and compare their performance to see which model would be used in a 'deploy phase'.\n",
        "\n",
        "## Table of Contents  <a name=\"table_cont\"></a>\n",
        "\n",
        "0. [**Libraries**](#lib)\n",
        "1. [**Load data**](#load_data)\n",
        "2. [**Data quality**](#data-quality)\n",
        "3. [**Feature Engineering**](#features)\n",
        "4. [**EDA**](#eda)\n",
        "5. [**Data preparation**](#data_prep)\n",
        "6. [**ML Models**](#ml_mod)\n",
        "    - Logistical regression (Logit)\n",
        "    - Random Forest\n",
        "    - Gradient-Boosted Trees (GBTs)\n",
        "    - Naive Bayes\n",
        "7. [**Comparing results**](#results)\n",
        "8. [**Take Aways**](#take_away)\n"
      ]
    },
    {
      "cell_type": "markdown",
      "metadata": {
        "id": "613EBlQGiSmV"
      },
      "source": [
        "## Libraries <a name=\"libs\"></a>"
      ]
    },
    {
      "cell_type": "code",
      "execution_count": 289,
      "metadata": {
        "id": "fiVQW1EbiSmV"
      },
      "outputs": [],
      "source": [
        "from pyspark.sql import SparkSession\n",
        "from pyspark.sql.functions import isnan, when, count, col, year, month, dayofweek, date_format, current_date, date_diff, floor, desc, asc, sum, mean, explode, lower,split"
      ]
    },
    {
      "cell_type": "markdown",
      "metadata": {
        "id": "cBYHG5qsiSmW"
      },
      "source": [
        "## Load data  <a name=\"load_data\"></a>"
      ]
    },
    {
      "cell_type": "code",
      "execution_count": 290,
      "metadata": {
        "id": "a4SC9BYwiSmW"
      },
      "outputs": [],
      "source": [
        "# create spark session\n",
        "spark = SparkSession.builder.appName('CC_fraud').getOrCreate()\n",
        "\n",
        "# load train and test datasets\n",
        "train = spark.read.csv('fraudTrain.csv', header=True, inferSchema=True)\n",
        "test = spark.read.csv('fraudTest.csv', header=True, inferSchema=True)"
      ]
    },
    {
      "cell_type": "code",
      "execution_count": 291,
      "metadata": {
        "colab": {
          "base_uri": "https://localhost:8080/"
        },
        "id": "EQy5yt1RiSmX",
        "outputId": "8f15e845-be46-47f5-f867-e9eb20b4f143"
      },
      "outputs": [
        {
          "output_type": "stream",
          "name": "stdout",
          "text": [
            "Train set \n",
            "\n",
            "+---+---------------------+----------------+--------------------+-------------+------+---------+-------+------+--------------------+--------------+-----+-----+-------+---------+--------+--------------------+----------+--------------------+----------+------------------+-----------+--------+\n",
            "|_c0|trans_date_trans_time|          cc_num|            merchant|     category|   amt|    first|   last|gender|              street|          city|state|  zip|    lat|     long|city_pop|                 job|       dob|           trans_num| unix_time|         merch_lat| merch_long|is_fraud|\n",
            "+---+---------------------+----------------+--------------------+-------------+------+---------+-------+------+--------------------+--------------+-----+-----+-------+---------+--------+--------------------+----------+--------------------+----------+------------------+-----------+--------+\n",
            "|  0|  2019-01-01 00:00:18|2703186189652095|fraud_Rippin, Kub...|     misc_net|  4.97| Jennifer|  Banks|     F|      561 Perry Cove|Moravian Falls|   NC|28654|36.0788| -81.1781|    3495|Psychologist, cou...|1988-03-09|0b242abb623afc578...|1325376018|         36.011293| -82.048315|       0|\n",
            "|  1|  2019-01-01 00:00:44|    630423337322|fraud_Heller, Gut...|  grocery_pos|107.23|Stephanie|   Gill|     F|43039 Riley Green...|        Orient|   WA|99160|48.8878|-118.2105|     149|Special education...|1978-06-21|1f76529f857473494...|1325376044|49.159046999999994|-118.186462|       0|\n",
            "|  2|  2019-01-01 00:00:51|  38859492057661|fraud_Lind-Buckridge|entertainment|220.11|   Edward|Sanchez|     M|594 White Dale Su...|    Malad City|   ID|83252|42.1808| -112.262|    4154|Nature conservati...|1962-01-19|a1a22d70485983eac...|1325376051|         43.150704|-112.154481|       0|\n",
            "|  3|  2019-01-01 00:01:16|3534093764340240|fraud_Kutch, Herm...|gas_transport|  45.0|   Jeremy|  White|     M|9443 Cynthia Cour...|       Boulder|   MT|59632|46.2306|-112.1138|    1939|     Patent attorney|1967-01-12|6b849c168bdad6f86...|1325376076|         47.034331|-112.561071|       0|\n",
            "|  4|  2019-01-01 00:03:06| 375534208663984| fraud_Keeling-Crist|     misc_pos| 41.96|    Tyler| Garcia|     M|    408 Bradley Rest|      Doe Hill|   VA|24433|38.4207| -79.4629|      99|Dance movement ps...|1986-03-28|a41d7549acf907893...|1325376186|         38.674999| -78.632459|       0|\n",
            "+---+---------------------+----------------+--------------------+-------------+------+---------+-------+------+--------------------+--------------+-----+-----+-------+---------+--------+--------------------+----------+--------------------+----------+------------------+-----------+--------+\n",
            "\n",
            "Test set\n",
            "+---+---------------------+----------------+--------------------+--------------+-----+------+--------+------+--------------------+----------+-----+-----+-------+------------------+--------+--------------------+----------+--------------------+----------+------------------+-----------+--------+\n",
            "|_c0|trans_date_trans_time|          cc_num|            merchant|      category|  amt| first|    last|gender|              street|      city|state|  zip|    lat|              long|city_pop|                 job|       dob|           trans_num| unix_time|         merch_lat| merch_long|is_fraud|\n",
            "+---+---------------------+----------------+--------------------+--------------+-----+------+--------+------+--------------------+----------+-----+-----+-------+------------------+--------+--------------------+----------+--------------------+----------+------------------+-----------+--------+\n",
            "|  0|  2020-06-21 12:14:25|2291163933867244|fraud_Kirlin and ...| personal_care| 2.86|  Jeff| Elliott|     M|   351 Darlene Green|  Columbia|   SC|29209|33.9659|          -80.9355|  333497| Mechanical engineer|1968-03-19|2da90c7d74bd46a0c...|1371816865|         33.986391| -81.200714|       0|\n",
            "|  1|  2020-06-21 12:14:33|3573030041201292|fraud_Sporer-Keebler| personal_care|29.84|Joanne|Williams|     F|    3638 Marsh Union|   Altonah|   UT|84002|40.3207|          -110.436|     302|Sales professiona...|1990-01-17|324cc204407e99f51...|1371816873|39.450497999999996|-109.960431|       0|\n",
            "|  2|  2020-06-21 12:14:53|3598215285024754|fraud_Swaniawski,...|health_fitness|41.28|Ashley|   Lopez|     F|9333 Valentine Point|  Bellmore|   NY|11710|40.6729|          -73.5365|   34496|   Librarian, public|1970-10-21|c81755dbbbea9d5c7...|1371816893|          40.49581| -74.196111|       0|\n",
            "|  3|  2020-06-21 12:15:15|3591919803438423|   fraud_Haley Group|      misc_pos|60.05| Brian|Williams|     M|32941 Krystal Mil...|Titusville|   FL|32780|28.5697|          -80.8191|   54767|        Set designer|1987-07-25|2159175b9efe66dc3...|1371816915|28.812397999999998| -80.883061|       0|\n",
            "|  4|  2020-06-21 12:15:17|3526826139003047|fraud_Johnston-Ca...|        travel| 3.19|Nathan|  Massey|     M|5783 Evan Roads A...|  Falmouth|   MI|49632|44.2529|-85.01700000000001|    1126|  Furniture designer|1955-07-06|57ff021bd3f328f87...|1371816917|         44.959148| -85.884734|       0|\n",
            "+---+---------------------+----------------+--------------------+--------------+-----+------+--------+------+--------------------+----------+-----+-----+-------+------------------+--------+--------------------+----------+--------------------+----------+------------------+-----------+--------+\n",
            "\n"
          ]
        }
      ],
      "source": [
        "print('Train set \\n')\n",
        "train.limit(5).show()\n",
        "print('Test set')\n",
        "test.limit(5).show()"
      ]
    },
    {
      "cell_type": "code",
      "source": [
        "# dataframes shape\n",
        "print((train.count(), len(train.columns)))"
      ],
      "metadata": {
        "colab": {
          "base_uri": "https://localhost:8080/"
        },
        "id": "ZMP32K0V6Fs9",
        "outputId": "02ba0f3c-58cf-4baa-a285-86e8e44b2c18"
      },
      "execution_count": 292,
      "outputs": [
        {
          "output_type": "stream",
          "name": "stdout",
          "text": [
            "(1296675, 23)\n"
          ]
        }
      ]
    },
    {
      "cell_type": "code",
      "source": [
        "print((test.count(), len(test.columns)))"
      ],
      "metadata": {
        "colab": {
          "base_uri": "https://localhost:8080/"
        },
        "id": "AFRnv6rb6I5U",
        "outputId": "643513e8-9b88-47a9-f6dc-6b366d67572d"
      },
      "execution_count": 293,
      "outputs": [
        {
          "output_type": "stream",
          "name": "stdout",
          "text": [
            "(555719, 23)\n"
          ]
        }
      ]
    },
    {
      "cell_type": "markdown",
      "metadata": {
        "id": "gbV6vbfFiSmX"
      },
      "source": [
        "## Data quality <a name=\"data_quality\"></a>\n",
        "[Table of contents](#table_cont)"
      ]
    },
    {
      "cell_type": "code",
      "source": [
        "# check if columns have the correct data type\n",
        "print('Train set data type:')\n",
        "train.dtypes\n",
        "\n",
        "## could also have used train.printSchema()"
      ],
      "metadata": {
        "colab": {
          "base_uri": "https://localhost:8080/"
        },
        "id": "1trmetPepJl6",
        "outputId": "3ff11431-8347-408a-8280-26434d142e7f"
      },
      "execution_count": 294,
      "outputs": [
        {
          "output_type": "stream",
          "name": "stdout",
          "text": [
            "Train set data type:\n"
          ]
        },
        {
          "output_type": "execute_result",
          "data": {
            "text/plain": [
              "[('_c0', 'int'),\n",
              " ('trans_date_trans_time', 'timestamp'),\n",
              " ('cc_num', 'bigint'),\n",
              " ('merchant', 'string'),\n",
              " ('category', 'string'),\n",
              " ('amt', 'double'),\n",
              " ('first', 'string'),\n",
              " ('last', 'string'),\n",
              " ('gender', 'string'),\n",
              " ('street', 'string'),\n",
              " ('city', 'string'),\n",
              " ('state', 'string'),\n",
              " ('zip', 'int'),\n",
              " ('lat', 'double'),\n",
              " ('long', 'double'),\n",
              " ('city_pop', 'int'),\n",
              " ('job', 'string'),\n",
              " ('dob', 'date'),\n",
              " ('trans_num', 'string'),\n",
              " ('unix_time', 'int'),\n",
              " ('merch_lat', 'double'),\n",
              " ('merch_long', 'double'),\n",
              " ('is_fraud', 'int')]"
            ]
          },
          "metadata": {},
          "execution_count": 294
        }
      ]
    },
    {
      "cell_type": "code",
      "source": [
        "print('Test set data type:')\n",
        "test.dtypes"
      ],
      "metadata": {
        "colab": {
          "base_uri": "https://localhost:8080/"
        },
        "id": "QQwkZd0KpJVD",
        "outputId": "f481353a-c6dd-47d6-8ad3-caf7418ff3fd"
      },
      "execution_count": 295,
      "outputs": [
        {
          "output_type": "stream",
          "name": "stdout",
          "text": [
            "Test set data type:\n"
          ]
        },
        {
          "output_type": "execute_result",
          "data": {
            "text/plain": [
              "[('_c0', 'int'),\n",
              " ('trans_date_trans_time', 'timestamp'),\n",
              " ('cc_num', 'bigint'),\n",
              " ('merchant', 'string'),\n",
              " ('category', 'string'),\n",
              " ('amt', 'double'),\n",
              " ('first', 'string'),\n",
              " ('last', 'string'),\n",
              " ('gender', 'string'),\n",
              " ('street', 'string'),\n",
              " ('city', 'string'),\n",
              " ('state', 'string'),\n",
              " ('zip', 'int'),\n",
              " ('lat', 'double'),\n",
              " ('long', 'double'),\n",
              " ('city_pop', 'int'),\n",
              " ('job', 'string'),\n",
              " ('dob', 'date'),\n",
              " ('trans_num', 'string'),\n",
              " ('unix_time', 'int'),\n",
              " ('merch_lat', 'double'),\n",
              " ('merch_long', 'double'),\n",
              " ('is_fraud', 'int')]"
            ]
          },
          "metadata": {},
          "execution_count": 295
        }
      ]
    },
    {
      "cell_type": "code",
      "source": [
        "# separate columns between numeric and strings\n",
        "numeric_cols = [col[0] for col in train.dtypes if col[1] in ['double','float','int']]\n",
        "string_cols = [col[0] for col in train.dtypes if col[1] not in ['double','float','int']]\n",
        "\n",
        "# check for nulls\n",
        "def count_nulls(df):\n",
        "  df.select([\n",
        "      count(when(col(c).isNull() | (col(c) == \"\"), c)).alias(c) if c in string_cols else\n",
        "      count(when(col(c).isNull() | isnan(col(c)), c)).alias(c)\n",
        "      for c in df.columns\n",
        "  ]).show()\n",
        "\n",
        "print('Train nulls:')\n",
        "count_nulls(train)"
      ],
      "metadata": {
        "colab": {
          "base_uri": "https://localhost:8080/"
        },
        "id": "1iEjJEE7stk9",
        "outputId": "e11484a0-0682-4095-d17d-5a0877dc0299"
      },
      "execution_count": 296,
      "outputs": [
        {
          "output_type": "stream",
          "name": "stdout",
          "text": [
            "Train nulls:\n",
            "+---+---------------------+------+--------+--------+---+-----+----+------+------+----+-----+---+---+----+--------+---+---+---------+---------+---------+----------+--------+\n",
            "|_c0|trans_date_trans_time|cc_num|merchant|category|amt|first|last|gender|street|city|state|zip|lat|long|city_pop|job|dob|trans_num|unix_time|merch_lat|merch_long|is_fraud|\n",
            "+---+---------------------+------+--------+--------+---+-----+----+------+------+----+-----+---+---+----+--------+---+---+---------+---------+---------+----------+--------+\n",
            "|  0|                    0|     0|       0|       0|  0|    0|   0|     0|     0|   0|    0|  0|  0|   0|       0|  0|  0|        0|        0|        0|         0|       0|\n",
            "+---+---------------------+------+--------+--------+---+-----+----+------+------+----+-----+---+---+----+--------+---+---+---------+---------+---------+----------+--------+\n",
            "\n"
          ]
        }
      ]
    },
    {
      "cell_type": "code",
      "source": [
        "print('Test nulls:')\n",
        "count_nulls(test)"
      ],
      "metadata": {
        "colab": {
          "base_uri": "https://localhost:8080/"
        },
        "id": "iaJrnopA4rtq",
        "outputId": "733e6e2e-6dda-47a0-f4b2-76e8083f1d7c"
      },
      "execution_count": 297,
      "outputs": [
        {
          "output_type": "stream",
          "name": "stdout",
          "text": [
            "Test nulls:\n",
            "+---+---------------------+------+--------+--------+---+-----+----+------+------+----+-----+---+---+----+--------+---+---+---------+---------+---------+----------+--------+\n",
            "|_c0|trans_date_trans_time|cc_num|merchant|category|amt|first|last|gender|street|city|state|zip|lat|long|city_pop|job|dob|trans_num|unix_time|merch_lat|merch_long|is_fraud|\n",
            "+---+---------------------+------+--------+--------+---+-----+----+------+------+----+-----+---+---+----+--------+---+---+---------+---------+---------+----------+--------+\n",
            "|  0|                    0|     0|       0|       0|  0|    0|   0|     0|     0|   0|    0|  0|  0|   0|       0|  0|  0|        0|        0|        0|         0|       0|\n",
            "+---+---------------------+------+--------+--------+---+-----+----+------+------+----+-----+---+---+----+--------+---+---+---------+---------+---------+----------+--------+\n",
            "\n"
          ]
        }
      ]
    },
    {
      "cell_type": "code",
      "source": [
        "# check for duplicates\n",
        "def duplicates (df):\n",
        "  df.groupBy(df.columns).count().filter(\"count > 1\").show()\n",
        "\n",
        "duplicates(train)"
      ],
      "metadata": {
        "colab": {
          "base_uri": "https://localhost:8080/"
        },
        "id": "wo0MCKPIQqrJ",
        "outputId": "4b11763c-17fd-4c94-a169-389d36320d7d"
      },
      "execution_count": 298,
      "outputs": [
        {
          "output_type": "stream",
          "name": "stdout",
          "text": [
            "+---+---------------------+------+--------+--------+---+-----+----+------+------+----+-----+---+---+----+--------+---+---+---------+---------+---------+----------+--------+-----+\n",
            "|_c0|trans_date_trans_time|cc_num|merchant|category|amt|first|last|gender|street|city|state|zip|lat|long|city_pop|job|dob|trans_num|unix_time|merch_lat|merch_long|is_fraud|count|\n",
            "+---+---------------------+------+--------+--------+---+-----+----+------+------+----+-----+---+---+----+--------+---+---+---------+---------+---------+----------+--------+-----+\n",
            "+---+---------------------+------+--------+--------+---+-----+----+------+------+----+-----+---+---+----+--------+---+---+---------+---------+---------+----------+--------+-----+\n",
            "\n"
          ]
        }
      ]
    },
    {
      "cell_type": "code",
      "source": [
        "duplicates(test)"
      ],
      "metadata": {
        "colab": {
          "base_uri": "https://localhost:8080/"
        },
        "id": "4N0zE8yUQ8vK",
        "outputId": "3df7eadd-29c0-4e56-8286-85587786c165"
      },
      "execution_count": 299,
      "outputs": [
        {
          "output_type": "stream",
          "name": "stdout",
          "text": [
            "+---+---------------------+------+--------+--------+---+-----+----+------+------+----+-----+---+---+----+--------+---+---+---------+---------+---------+----------+--------+-----+\n",
            "|_c0|trans_date_trans_time|cc_num|merchant|category|amt|first|last|gender|street|city|state|zip|lat|long|city_pop|job|dob|trans_num|unix_time|merch_lat|merch_long|is_fraud|count|\n",
            "+---+---------------------+------+--------+--------+---+-----+----+------+------+----+-----+---+---+----+--------+---+---+---------+---------+---------+----------+--------+-----+\n",
            "+---+---------------------+------+--------+--------+---+-----+----+------+------+----+-----+---+---+----+--------+---+---+---------+---------+---------+----------+--------+-----+\n",
            "\n"
          ]
        }
      ]
    },
    {
      "cell_type": "markdown",
      "metadata": {
        "id": "aSFLj0LJiSmY"
      },
      "source": [
        "## Feature Engineering <a name=\"features\"></a>\n",
        "[Table of contents](#table_cont)"
      ]
    },
    {
      "cell_type": "code",
      "source": [
        "def feature_engine(df):\n",
        "  # extract date, time, create 'age' variable based on dob (date of birth),\n",
        "  # create 'distance' based on difference between lat,long and merchant_lat,merchant_long\n",
        "  df = df.withColumn('year', year('trans_date_trans_time'))\\\n",
        "         .withColumn('month', month('trans_date_trans_time'))\\\n",
        "         .withColumn('day_week', dayofweek('trans_date_trans_time'))\\\n",
        "         .withColumn('time', date_format('trans_date_trans_time', 'HH:mm:ss'))\\\n",
        "         .withColumn('age', floor(date_diff(current_date(), col('dob'))/365.25))\\\n",
        "         .withColumn('lat_diff', col('lat')-col('merch_lat'))\\\n",
        "         .withColumn('long_diff', col('long')-col('merch_long'))\n",
        "  df = df.drop(*['_c0','trans_date_trans_time','cc_num','first','last','street','dob','trans_num'])\n",
        "\n",
        "  return df"
      ],
      "metadata": {
        "id": "89W7hTGeK7k1"
      },
      "execution_count": 300,
      "outputs": []
    },
    {
      "cell_type": "code",
      "source": [
        "# crete new dataframes with new features and dropped useless ones\n",
        "adj_train = feature_engine(train)\n",
        "adj_test = feature_engine(test)"
      ],
      "metadata": {
        "id": "gqJC1eaiRe-h"
      },
      "execution_count": 301,
      "outputs": []
    },
    {
      "cell_type": "code",
      "source": [
        "adj_train.show(2)"
      ],
      "metadata": {
        "colab": {
          "base_uri": "https://localhost:8080/"
        },
        "id": "jspN6JBZ9qMA",
        "outputId": "4d4799ab-58a4-4cb0-c453-20b62714fe9e"
      },
      "execution_count": 302,
      "outputs": [
        {
          "output_type": "stream",
          "name": "stdout",
          "text": [
            "+--------------------+-----------+------+------+--------------+-----+-----+-------+---------+--------+--------------------+----------+------------------+-----------+--------+----+-----+--------+--------+---+--------------------+--------------------+\n",
            "|            merchant|   category|   amt|gender|          city|state|  zip|    lat|     long|city_pop|                 job| unix_time|         merch_lat| merch_long|is_fraud|year|month|day_week|    time|age|            lat_diff|           long_diff|\n",
            "+--------------------+-----------+------+------+--------------+-----+-----+-------+---------+--------+--------------------+----------+------------------+-----------+--------+----+-----+--------+--------+---+--------------------+--------------------+\n",
            "|fraud_Rippin, Kub...|   misc_net|  4.97|     F|Moravian Falls|   NC|28654|36.0788| -81.1781|    3495|Psychologist, cou...|1325376018|         36.011293| -82.048315|       0|2019|    1|       3|00:00:18| 36|  0.0675069999999991|  0.8702150000000017|\n",
            "|fraud_Heller, Gut...|grocery_pos|107.23|     F|        Orient|   WA|99160|48.8878|-118.2105|     149|Special education...|1325376044|49.159046999999994|-118.186462|       0|2019|    1|       3|00:00:44| 46|-0.27124699999999535|-0.02403799999999...|\n",
            "+--------------------+-----------+------+------+--------------+-----+-----+-------+---------+--------+--------------------+----------+------------------+-----------+--------+----+-----+--------+--------+---+--------------------+--------------------+\n",
            "only showing top 2 rows\n",
            "\n"
          ]
        }
      ]
    },
    {
      "cell_type": "markdown",
      "metadata": {
        "id": "tCCvKJ7BiSmX"
      },
      "source": [
        "## EDA  <a name=\"eda\"></a>\n",
        "[Table of contents](#table_cont)"
      ]
    },
    {
      "cell_type": "markdown",
      "source": [
        "### Fraud"
      ],
      "metadata": {
        "id": "blv3gevz7DVH"
      }
    },
    {
      "cell_type": "code",
      "source": [
        "# check distribuition of fraud and non-fraud in my dataset\n",
        "adj_train.groupby('is_fraud').count().show()"
      ],
      "metadata": {
        "colab": {
          "base_uri": "https://localhost:8080/"
        },
        "id": "pSO-w2BD0P9W",
        "outputId": "1fc80f1b-af61-4391-8a81-b896d5768c48"
      },
      "execution_count": 303,
      "outputs": [
        {
          "output_type": "stream",
          "name": "stdout",
          "text": [
            "+--------+-------+\n",
            "|is_fraud|  count|\n",
            "+--------+-------+\n",
            "|       1|   7506|\n",
            "|       0|1289169|\n",
            "+--------+-------+\n",
            "\n"
          ]
        }
      ]
    },
    {
      "cell_type": "code",
      "source": [
        "# frauds by year\n",
        "adj_train.groupby(*['year','is_fraud']).count().show()"
      ],
      "metadata": {
        "colab": {
          "base_uri": "https://localhost:8080/"
        },
        "id": "-LPW_3r9AJSJ",
        "outputId": "7933a9e6-a955-42df-8c88-9d26f51f3696"
      },
      "execution_count": 304,
      "outputs": [
        {
          "output_type": "stream",
          "name": "stdout",
          "text": [
            "+----+--------+------+\n",
            "|year|is_fraud| count|\n",
            "+----+--------+------+\n",
            "|2019|       1|  5220|\n",
            "|2019|       0|919630|\n",
            "|2020|       1|  2286|\n",
            "|2020|       0|369539|\n",
            "+----+--------+------+\n",
            "\n"
          ]
        }
      ]
    },
    {
      "cell_type": "code",
      "source": [
        "# check distribution of frauds along the year (2019)\n",
        "adj_train.groupby(*['year','month','is_fraud']).count().filter((col('year') == 2019) & (col('is_fraud') == 1)).sort(asc('month')).show()"
      ],
      "metadata": {
        "colab": {
          "base_uri": "https://localhost:8080/"
        },
        "id": "0Cwif5Ky7L50",
        "outputId": "18288104-1fda-4448-a1e3-5b6e47a7e08e"
      },
      "execution_count": 305,
      "outputs": [
        {
          "output_type": "stream",
          "name": "stdout",
          "text": [
            "+----+-----+--------+-----+\n",
            "|year|month|is_fraud|count|\n",
            "+----+-----+--------+-----+\n",
            "|2019|    1|       1|  506|\n",
            "|2019|    2|       1|  517|\n",
            "|2019|    3|       1|  494|\n",
            "|2019|    4|       1|  376|\n",
            "|2019|    5|       1|  408|\n",
            "|2019|    6|       1|  354|\n",
            "|2019|    7|       1|  331|\n",
            "|2019|    8|       1|  382|\n",
            "|2019|    9|       1|  418|\n",
            "|2019|   10|       1|  454|\n",
            "|2019|   11|       1|  388|\n",
            "|2019|   12|       1|  592|\n",
            "+----+-----+--------+-----+\n",
            "\n"
          ]
        }
      ]
    },
    {
      "cell_type": "code",
      "source": [
        "# check distribution of frauds along the year (2020)\n",
        "adj_train.groupby(*['year','month','is_fraud']).count().filter((col('year') == 2020) & (col('is_fraud') == 1)).sort(asc('month')).show()"
      ],
      "metadata": {
        "colab": {
          "base_uri": "https://localhost:8080/"
        },
        "id": "fEIRUzCO900O",
        "outputId": "dea2261f-2f74-408a-97ff-15999fd6f86f"
      },
      "execution_count": 306,
      "outputs": [
        {
          "output_type": "stream",
          "name": "stdout",
          "text": [
            "+----+-----+--------+-----+\n",
            "|year|month|is_fraud|count|\n",
            "+----+-----+--------+-----+\n",
            "|2020|    1|       1|  343|\n",
            "|2020|    2|       1|  336|\n",
            "|2020|    3|       1|  444|\n",
            "|2020|    4|       1|  302|\n",
            "|2020|    5|       1|  527|\n",
            "|2020|    6|       1|  334|\n",
            "+----+-----+--------+-----+\n",
            "\n"
          ]
        }
      ]
    },
    {
      "cell_type": "code",
      "source": [
        "adj_test.groupby('is_fraud').count().show()"
      ],
      "metadata": {
        "colab": {
          "base_uri": "https://localhost:8080/"
        },
        "id": "d-dY8z6k7Fyi",
        "outputId": "448b1137-1e2b-43e8-fde8-457f1758a375"
      },
      "execution_count": 307,
      "outputs": [
        {
          "output_type": "stream",
          "name": "stdout",
          "text": [
            "+--------+------+\n",
            "|is_fraud| count|\n",
            "+--------+------+\n",
            "|       1|  2145|\n",
            "|       0|553574|\n",
            "+--------+------+\n",
            "\n"
          ]
        }
      ]
    },
    {
      "cell_type": "markdown",
      "source": [
        "### Merchant"
      ],
      "metadata": {
        "id": "qV91C7Wm1Ub7"
      }
    },
    {
      "cell_type": "code",
      "source": [
        "# unique merchants\n",
        "adj_train.select('merchant').distinct().count()"
      ],
      "metadata": {
        "colab": {
          "base_uri": "https://localhost:8080/"
        },
        "id": "e53L3tKN_hdH",
        "outputId": "0fc3d27d-66db-4715-a6d7-7b8985be8bda"
      },
      "execution_count": 308,
      "outputs": [
        {
          "output_type": "execute_result",
          "data": {
            "text/plain": [
              "693"
            ]
          },
          "metadata": {},
          "execution_count": 308
        }
      ]
    },
    {
      "cell_type": "code",
      "source": [
        "# main merchants\n",
        "adj_train.groupby(*['merchant','is_fraud']).count().filter(col('is_fraud') == 1).sort(desc('count')).show(10)"
      ],
      "metadata": {
        "colab": {
          "base_uri": "https://localhost:8080/"
        },
        "id": "HoQ-1mHg0QLD",
        "outputId": "85e05964-b768-40bc-d9b8-e9b47924cb02"
      },
      "execution_count": 309,
      "outputs": [
        {
          "output_type": "stream",
          "name": "stdout",
          "text": [
            "+--------------------+--------+-----+\n",
            "|            merchant|is_fraud|count|\n",
            "+--------------------+--------+-----+\n",
            "|  fraud_Rau and Sons|       1|   49|\n",
            "|   fraud_Cormier LLC|       1|   48|\n",
            "|   fraud_Kozey-Boehm|       1|   48|\n",
            "|fraud_Vandervort-...|       1|   47|\n",
            "|   fraud_Kilback LLC|       1|   47|\n",
            "|     fraud_Doyle Ltd|       1|   47|\n",
            "|      fraud_Kuhn LLC|       1|   44|\n",
            "| fraud_Padberg-Welch|       1|   44|\n",
            "|    fraud_Terry-Huel|       1|   43|\n",
            "|      fraud_Jast Ltd|       1|   42|\n",
            "+--------------------+--------+-----+\n",
            "only showing top 10 rows\n",
            "\n"
          ]
        }
      ]
    },
    {
      "cell_type": "code",
      "source": [
        "# top merchant & CC fraud 2019\n",
        "adj_train.groupby(*['year','merchant','is_fraud']).count().filter((col('year') == 2019) & (col('is_fraud') == 1)).sort(desc('count')).show(10)"
      ],
      "metadata": {
        "colab": {
          "base_uri": "https://localhost:8080/"
        },
        "id": "JW7JIVBN0P55",
        "outputId": "d19086fa-8d05-4c08-a985-1e96caa0aad1"
      },
      "execution_count": 310,
      "outputs": [
        {
          "output_type": "stream",
          "name": "stdout",
          "text": [
            "+----+--------------------+--------+-----+\n",
            "|year|            merchant|is_fraud|count|\n",
            "+----+--------------------+--------+-----+\n",
            "|2019|  fraud_Hudson-Ratke|       1|   37|\n",
            "|2019|   fraud_Kilback LLC|       1|   35|\n",
            "|2019|  fraud_Rau and Sons|       1|   33|\n",
            "|2019|   fraud_Cormier LLC|       1|   32|\n",
            "|2019|fraud_Gleason-Mac...|       1|   32|\n",
            "|2019| fraud_Koepp-Witting|       1|   32|\n",
            "|2019|      fraud_Kuhn LLC|       1|   32|\n",
            "|2019|     fraud_Kuhic LLC|       1|   31|\n",
            "|2019| fraud_Padberg-Welch|       1|   31|\n",
            "|2019|fraud_Boyer-Reichert|       1|   31|\n",
            "+----+--------------------+--------+-----+\n",
            "only showing top 10 rows\n",
            "\n"
          ]
        }
      ]
    },
    {
      "cell_type": "code",
      "source": [
        "# top merchant & CC fraud 2020\n",
        "adj_train.groupby(*['year','merchant','is_fraud']).count().filter((col('year') == 2020) & (col('is_fraud') == 1)).sort(desc('count')).show(10)"
      ],
      "metadata": {
        "colab": {
          "base_uri": "https://localhost:8080/"
        },
        "id": "aQAOGCpk0P2e",
        "outputId": "2c50c1bc-5736-40d2-f359-cd8bd5ac3b26"
      },
      "execution_count": 311,
      "outputs": [
        {
          "output_type": "stream",
          "name": "stdout",
          "text": [
            "+----+--------------------+--------+-----+\n",
            "|year|            merchant|is_fraud|count|\n",
            "+----+--------------------+--------+-----+\n",
            "|2020|     fraud_Doyle Ltd|       1|   23|\n",
            "|2020|fraud_Kerluke-Abs...|       1|   19|\n",
            "|2020|   fraud_Kozey-Boehm|       1|   18|\n",
            "|2020|     fraud_Kiehn Inc|       1|   16|\n",
            "|2020|fraud_Vandervort-...|       1|   16|\n",
            "|2020|   fraud_Cormier LLC|       1|   16|\n",
            "|2020|fraud_Moen, Reing...|       1|   16|\n",
            "|2020|  fraud_Rau and Sons|       1|   16|\n",
            "|2020|fraud_Langworth, ...|       1|   16|\n",
            "|2020|    fraud_Fisher Inc|       1|   15|\n",
            "+----+--------------------+--------+-----+\n",
            "only showing top 10 rows\n",
            "\n"
          ]
        }
      ]
    },
    {
      "cell_type": "markdown",
      "source": [
        "### Category"
      ],
      "metadata": {
        "id": "lS8Q4YIIDMAS"
      }
    },
    {
      "cell_type": "code",
      "source": [
        "# unique categories\n",
        "adj_train.select('category').distinct().count()"
      ],
      "metadata": {
        "colab": {
          "base_uri": "https://localhost:8080/"
        },
        "id": "Y2Db1-YHDbEI",
        "outputId": "44b82c17-eae1-4abd-d903-49a22a8cd732"
      },
      "execution_count": 312,
      "outputs": [
        {
          "output_type": "execute_result",
          "data": {
            "text/plain": [
              "14"
            ]
          },
          "metadata": {},
          "execution_count": 312
        }
      ]
    },
    {
      "cell_type": "code",
      "source": [
        "# main frauded categories\n",
        "adj_train.groupby(*['category','is_fraud']).count().filter(col('is_fraud') == 1).sort(desc('count')).show(14)"
      ],
      "metadata": {
        "colab": {
          "base_uri": "https://localhost:8080/"
        },
        "id": "pqrF6JdqDL1q",
        "outputId": "4eb2989c-58f9-4038-e2a5-bad24a233a39"
      },
      "execution_count": 313,
      "outputs": [
        {
          "output_type": "stream",
          "name": "stdout",
          "text": [
            "+--------------+--------+-----+\n",
            "|      category|is_fraud|count|\n",
            "+--------------+--------+-----+\n",
            "|   grocery_pos|       1| 1743|\n",
            "|  shopping_net|       1| 1713|\n",
            "|      misc_net|       1|  915|\n",
            "|  shopping_pos|       1|  843|\n",
            "| gas_transport|       1|  618|\n",
            "|      misc_pos|       1|  250|\n",
            "|     kids_pets|       1|  239|\n",
            "| entertainment|       1|  233|\n",
            "| personal_care|       1|  220|\n",
            "|          home|       1|  198|\n",
            "|   food_dining|       1|  151|\n",
            "|   grocery_net|       1|  134|\n",
            "|health_fitness|       1|  133|\n",
            "|        travel|       1|  116|\n",
            "+--------------+--------+-----+\n",
            "\n"
          ]
        }
      ]
    },
    {
      "cell_type": "code",
      "source": [
        "# categories & CC fraud 2019\n",
        "adj_train.groupby(*['year','category','is_fraud']).count().filter((col('year') == 2019) & (col('is_fraud') == 1)).sort(desc('count')).show(14)"
      ],
      "metadata": {
        "colab": {
          "base_uri": "https://localhost:8080/"
        },
        "id": "HyixzURtDLz9",
        "outputId": "c3515d4a-f4b5-4ffd-d070-2d6cf9c6f571"
      },
      "execution_count": 314,
      "outputs": [
        {
          "output_type": "stream",
          "name": "stdout",
          "text": [
            "+----+--------------+--------+-----+\n",
            "|year|      category|is_fraud|count|\n",
            "+----+--------------+--------+-----+\n",
            "|2019|   grocery_pos|       1| 1202|\n",
            "|2019|  shopping_net|       1| 1201|\n",
            "|2019|      misc_net|       1|  629|\n",
            "|2019|  shopping_pos|       1|  583|\n",
            "|2019| gas_transport|       1|  439|\n",
            "|2019|     kids_pets|       1|  172|\n",
            "|2019|      misc_pos|       1|  170|\n",
            "|2019| entertainment|       1|  163|\n",
            "|2019| personal_care|       1|  152|\n",
            "|2019|          home|       1|  129|\n",
            "|2019|   food_dining|       1|  104|\n",
            "|2019|health_fitness|       1|   96|\n",
            "|2019|   grocery_net|       1|   94|\n",
            "|2019|        travel|       1|   86|\n",
            "+----+--------------+--------+-----+\n",
            "\n"
          ]
        }
      ]
    },
    {
      "cell_type": "code",
      "source": [
        "# Higher amount by cartegory and frauded in 2019\n",
        "adj_train.groupby(*['year','category','is_fraud']).sum('amt').filter((col('year') == 2019) & (col('is_fraud') == 1)).sort(desc('sum(amt)')).show(14)"
      ],
      "metadata": {
        "colab": {
          "base_uri": "https://localhost:8080/"
        },
        "id": "v6IzOwvkDLxB",
        "outputId": "927821fc-7b12-49a7-fdf0-00b3d6aa4ff2"
      },
      "execution_count": 315,
      "outputs": [
        {
          "output_type": "stream",
          "name": "stdout",
          "text": [
            "+----+--------------+--------+------------------+\n",
            "|year|      category|is_fraud|          sum(amt)|\n",
            "+----+--------------+--------+------------------+\n",
            "|2019|  shopping_net|       1|1202563.4199999995|\n",
            "|2019|  shopping_pos|       1| 512650.4299999999|\n",
            "|2019|      misc_net|       1| 500575.6700000001|\n",
            "|2019|   grocery_pos|       1|         375168.02|\n",
            "|2019| entertainment|       1| 82990.86000000002|\n",
            "|2019|          home|       1|33465.909999999996|\n",
            "|2019|      misc_pos|       1|31586.319999999992|\n",
            "|2019|   food_dining|       1|12401.849999999999|\n",
            "|2019| gas_transport|       1| 5433.089999999998|\n",
            "|2019| personal_care|       1| 4024.290000000001|\n",
            "|2019|     kids_pets|       1|3076.3100000000004|\n",
            "|2019|health_fitness|       1|           1944.62|\n",
            "|2019|   grocery_net|       1|           1172.03|\n",
            "|2019|        travel|       1|            770.05|\n",
            "+----+--------------+--------+------------------+\n",
            "\n"
          ]
        }
      ]
    },
    {
      "cell_type": "code",
      "source": [
        "# Higher amount by cartegory and frauded in 2020\n",
        "adj_train.groupby(*['year','category','is_fraud']).sum('amt').filter((col('year') == 2020) & (col('is_fraud') == 1)).sort(desc('sum(amt)')).show(14)"
      ],
      "metadata": {
        "colab": {
          "base_uri": "https://localhost:8080/"
        },
        "id": "xZufLTupDLue",
        "outputId": "4087f1a0-f909-40bc-c3e2-c0e40cc439f6"
      },
      "execution_count": 316,
      "outputs": [
        {
          "output_type": "stream",
          "name": "stdout",
          "text": [
            "+----+--------------+--------+------------------+\n",
            "|year|      category|is_fraud|          sum(amt)|\n",
            "+----+--------------+--------+------------------+\n",
            "|2020|  shopping_net|       1| 509160.2899999995|\n",
            "|2020|      misc_net|       1|228691.08999999997|\n",
            "|2020|  shopping_pos|       1|226594.66000000006|\n",
            "|2020|   grocery_pos|       1|168629.87999999998|\n",
            "|2020| entertainment|       1| 34332.92999999999|\n",
            "|2020|      misc_pos|       1|22984.699999999997|\n",
            "|2020|          home|       1|          17505.75|\n",
            "|2020|   food_dining|       1|           5729.77|\n",
            "|2020| gas_transport|       1|2161.0199999999995|\n",
            "|2020| personal_care|       1| 1733.229999999999|\n",
            "|2020|     kids_pets|       1|1254.7699999999998|\n",
            "|2020|health_fitness|       1| 748.4199999999998|\n",
            "|2020|   grocery_net|       1|457.78999999999996|\n",
            "|2020|        travel|       1|281.44000000000005|\n",
            "+----+--------------+--------+------------------+\n",
            "\n"
          ]
        }
      ]
    },
    {
      "cell_type": "markdown",
      "source": [
        "### Gender"
      ],
      "metadata": {
        "id": "943pvFLoF0w3"
      }
    },
    {
      "cell_type": "code",
      "source": [
        "# gender distribution\n",
        "adj_train.groupby('gender').count().sort(desc('count')).show()"
      ],
      "metadata": {
        "colab": {
          "base_uri": "https://localhost:8080/"
        },
        "id": "9B0-Za8UJqgd",
        "outputId": "96fc6ba1-c713-4b13-caa8-ce27dee8801d"
      },
      "execution_count": 317,
      "outputs": [
        {
          "output_type": "stream",
          "name": "stdout",
          "text": [
            "+------+------+\n",
            "|gender| count|\n",
            "+------+------+\n",
            "|     F|709863|\n",
            "|     M|586812|\n",
            "+------+------+\n",
            "\n"
          ]
        }
      ]
    },
    {
      "cell_type": "code",
      "source": [
        "# which gender suffers more with CC fraud\n",
        "adj_train.groupby(*['gender','is_fraud']).count().sort(asc('count')).show()"
      ],
      "metadata": {
        "colab": {
          "base_uri": "https://localhost:8080/"
        },
        "id": "Kj-npKr7DLsM",
        "outputId": "a103fe56-6255-4528-abd8-0c8073186068"
      },
      "execution_count": 318,
      "outputs": [
        {
          "output_type": "stream",
          "name": "stdout",
          "text": [
            "+------+--------+------+\n",
            "|gender|is_fraud| count|\n",
            "+------+--------+------+\n",
            "|     F|       1|  3735|\n",
            "|     M|       1|  3771|\n",
            "|     M|       0|583041|\n",
            "|     F|       0|706128|\n",
            "+------+--------+------+\n",
            "\n"
          ]
        }
      ]
    },
    {
      "cell_type": "code",
      "source": [
        "# which gender spends more with CC fraud\n",
        "adj_train.groupby(*['gender','is_fraud']).sum('amt').filter(col('is_fraud')==1).sort(desc('sum(amt)')).show()"
      ],
      "metadata": {
        "colab": {
          "base_uri": "https://localhost:8080/"
        },
        "id": "JzbPYTypKc80",
        "outputId": "c37e96b4-461f-4606-b14c-64c3d0b1bbb7"
      },
      "execution_count": 319,
      "outputs": [
        {
          "output_type": "stream",
          "name": "stdout",
          "text": [
            "+------+--------+------------------+\n",
            "|gender|is_fraud|          sum(amt)|\n",
            "+------+--------+------------------+\n",
            "|     M|       1|2142801.2700000023|\n",
            "|     F|       1|1845287.3399999982|\n",
            "+------+--------+------------------+\n",
            "\n"
          ]
        }
      ]
    },
    {
      "cell_type": "code",
      "source": [
        "# how much each gender spended if they suffered fraud (2019)\n",
        "adj_train.groupby(*['year','category','gender','is_fraud']).sum('amt').filter((col('year') == 2019) & (col('is_fraud') == 1)).sort(desc('sum(amt)')).show(14)"
      ],
      "metadata": {
        "colab": {
          "base_uri": "https://localhost:8080/"
        },
        "id": "2ZbstRoVKQP6",
        "outputId": "eb6c2486-8b0e-47b9-925d-97e01f4d5694"
      },
      "execution_count": 320,
      "outputs": [
        {
          "output_type": "stream",
          "name": "stdout",
          "text": [
            "+----+-------------+------+--------+------------------+\n",
            "|year|     category|gender|is_fraud|          sum(amt)|\n",
            "+----+-------------+------+--------+------------------+\n",
            "|2019| shopping_net|     M|       1| 735598.6099999999|\n",
            "|2019| shopping_net|     F|       1|466964.80999999994|\n",
            "|2019|     misc_net|     M|       1|284502.30000000005|\n",
            "|2019| shopping_pos|     F|       1|         282235.86|\n",
            "|2019| shopping_pos|     M|       1|230414.56999999995|\n",
            "|2019|     misc_net|     F|       1|216073.37000000005|\n",
            "|2019|  grocery_pos|     M|       1|212679.80000000005|\n",
            "|2019|  grocery_pos|     F|       1|162488.22000000006|\n",
            "|2019|entertainment|     F|       1| 49913.71000000001|\n",
            "|2019|entertainment|     M|       1|33077.149999999994|\n",
            "|2019|     misc_pos|     F|       1|          30448.77|\n",
            "|2019|         home|     F|       1|          29845.39|\n",
            "|2019|  food_dining|     F|       1| 9263.490000000002|\n",
            "|2019|         home|     M|       1|3620.5200000000004|\n",
            "+----+-------------+------+--------+------------------+\n",
            "only showing top 14 rows\n",
            "\n"
          ]
        }
      ]
    },
    {
      "cell_type": "code",
      "source": [
        "# how much each gender spended if they suffered fraud (2020)\n",
        "adj_train.groupby(*['year','category','gender','is_fraud']).sum('amt').filter((col('year') == 2020) & (col('is_fraud') == 1)).sort(desc('sum(amt)')).show(14)"
      ],
      "metadata": {
        "colab": {
          "base_uri": "https://localhost:8080/"
        },
        "id": "eewRUZ1dDLp1",
        "outputId": "4c3476e5-3684-41c5-8494-a85a08b186bc"
      },
      "execution_count": 321,
      "outputs": [
        {
          "output_type": "stream",
          "name": "stdout",
          "text": [
            "+----+-------------+------+--------+------------------+\n",
            "|year|     category|gender|is_fraud|          sum(amt)|\n",
            "+----+-------------+------+--------+------------------+\n",
            "|2020| shopping_net|     M|       1| 288958.1199999999|\n",
            "|2020| shopping_net|     F|       1|220202.17000000013|\n",
            "|2020|     misc_net|     M|       1|         131204.01|\n",
            "|2020| shopping_pos|     F|       1|122150.40999999997|\n",
            "|2020| shopping_pos|     M|       1|104444.24999999997|\n",
            "|2020|     misc_net|     F|       1| 97487.08000000003|\n",
            "|2020|  grocery_pos|     M|       1| 91167.47000000002|\n",
            "|2020|  grocery_pos|     F|       1|          77462.41|\n",
            "|2020|entertainment|     F|       1|          22900.44|\n",
            "|2020|     misc_pos|     F|       1|          22635.95|\n",
            "|2020|         home|     F|       1|16300.210000000001|\n",
            "|2020|entertainment|     M|       1|11432.490000000002|\n",
            "|2020|  food_dining|     F|       1|           4634.48|\n",
            "|2020|gas_transport|     M|       1|           1245.37|\n",
            "+----+-------------+------+--------+------------------+\n",
            "only showing top 14 rows\n",
            "\n"
          ]
        }
      ]
    },
    {
      "cell_type": "markdown",
      "source": [
        "### Age"
      ],
      "metadata": {
        "id": "E8GlwxIGK1V2"
      }
    },
    {
      "cell_type": "code",
      "source": [
        "# age distribution if CC frauded\n",
        "adj_train.groupby(*['age','is_fraud']).count().filter(col('is_fraud')==1).sort(desc('count')).show()"
      ],
      "metadata": {
        "colab": {
          "base_uri": "https://localhost:8080/"
        },
        "id": "3gE8pBk5DLnO",
        "outputId": "cfbee22c-15ac-43a3-dfe0-8902815c372c"
      },
      "execution_count": 322,
      "outputs": [
        {
          "output_type": "stream",
          "name": "stdout",
          "text": [
            "+---+--------+-----+\n",
            "|age|is_fraud|count|\n",
            "+---+--------+-----+\n",
            "| 34|       1|  196|\n",
            "| 50|       1|  187|\n",
            "| 38|       1|  183|\n",
            "| 52|       1|  182|\n",
            "| 48|       1|  181|\n",
            "| 63|       1|  177|\n",
            "| 31|       1|  172|\n",
            "| 57|       1|  167|\n",
            "| 54|       1|  163|\n",
            "| 37|       1|  162|\n",
            "| 27|       1|  156|\n",
            "| 35|       1|  155|\n",
            "| 29|       1|  154|\n",
            "| 58|       1|  151|\n",
            "| 53|       1|  150|\n",
            "| 61|       1|  143|\n",
            "| 43|       1|  143|\n",
            "| 60|       1|  142|\n",
            "| 55|       1|  142|\n",
            "| 68|       1|  141|\n",
            "+---+--------+-----+\n",
            "only showing top 20 rows\n",
            "\n"
          ]
        }
      ]
    },
    {
      "cell_type": "code",
      "source": [
        "## frauded cc age & sex distribution\n",
        "adj_train.groupby(*['age','gender','is_fraud']).count().filter(col('is_fraud')==1).sort(desc('count')).show()"
      ],
      "metadata": {
        "colab": {
          "base_uri": "https://localhost:8080/"
        },
        "id": "jp1G705cDLk2",
        "outputId": "8c3f4b3f-9080-4733-abfe-f469062f01bd"
      },
      "execution_count": 323,
      "outputs": [
        {
          "output_type": "stream",
          "name": "stdout",
          "text": [
            "+---+------+--------+-----+\n",
            "|age|gender|is_fraud|count|\n",
            "+---+------+--------+-----+\n",
            "| 34|     M|       1|  146|\n",
            "| 53|     F|       1|  119|\n",
            "| 52|     F|       1|  118|\n",
            "| 57|     M|       1|  109|\n",
            "| 38|     F|       1|  108|\n",
            "| 48|     M|       1|  104|\n",
            "| 55|     M|       1|  103|\n",
            "| 58|     M|       1|   97|\n",
            "| 46|     M|       1|   96|\n",
            "| 44|     M|       1|   94|\n",
            "| 50|     M|       1|   94|\n",
            "| 31|     F|       1|   94|\n",
            "| 63|     F|       1|   93|\n",
            "| 50|     F|       1|   93|\n",
            "| 43|     M|       1|   92|\n",
            "| 37|     M|       1|   91|\n",
            "| 60|     M|       1|   86|\n",
            "| 61|     F|       1|   86|\n",
            "| 35|     M|       1|   85|\n",
            "| 63|     M|       1|   84|\n",
            "+---+------+--------+-----+\n",
            "only showing top 20 rows\n",
            "\n"
          ]
        }
      ]
    },
    {
      "cell_type": "code",
      "source": [
        "# amount spent by age with frauded CC\n",
        "adj_train.groupby(*['age','is_fraud']).sum('amt').filter(col('is_fraud')==1).sort(desc('sum(amt)')).show(5)"
      ],
      "metadata": {
        "colab": {
          "base_uri": "https://localhost:8080/"
        },
        "id": "him4IlUSMBGJ",
        "outputId": "796404a6-54b2-40fe-e5ae-fef2b35e3419"
      },
      "execution_count": 324,
      "outputs": [
        {
          "output_type": "stream",
          "name": "stdout",
          "text": [
            "+---+--------+------------------+\n",
            "|age|is_fraud|          sum(amt)|\n",
            "+---+--------+------------------+\n",
            "| 34|       1|109248.05999999998|\n",
            "| 63|       1|102921.00000000001|\n",
            "| 48|       1| 91865.23000000001|\n",
            "| 29|       1| 90028.45999999999|\n",
            "| 37|       1|          89043.31|\n",
            "+---+--------+------------------+\n",
            "only showing top 5 rows\n",
            "\n"
          ]
        }
      ]
    },
    {
      "cell_type": "code",
      "source": [
        "# total spend on frauded cc by gender and age\n",
        "adj_train.groupby(*['age','gender','is_fraud']).sum('amt').filter(col('is_fraud')==1).sort(desc('sum(amt)')).show(5)"
      ],
      "metadata": {
        "colab": {
          "base_uri": "https://localhost:8080/"
        },
        "id": "A1yGLXaADLX8",
        "outputId": "d990b01c-bd2b-4bf3-899e-314add51ea43"
      },
      "execution_count": 325,
      "outputs": [
        {
          "output_type": "stream",
          "name": "stdout",
          "text": [
            "+---+------+--------+------------------+\n",
            "|age|gender|is_fraud|          sum(amt)|\n",
            "+---+------+--------+------------------+\n",
            "| 34|     M|       1| 86134.79999999999|\n",
            "| 48|     M|       1|64653.619999999995|\n",
            "| 55|     M|       1|          63821.48|\n",
            "| 37|     M|       1| 59853.69999999999|\n",
            "| 57|     M|       1|58460.399999999994|\n",
            "+---+------+--------+------------------+\n",
            "only showing top 5 rows\n",
            "\n"
          ]
        }
      ]
    },
    {
      "cell_type": "code",
      "source": [
        "# average age by gender and amount spent in CC fraud\n",
        "adj_train.groupby(*['age','gender','is_fraud']).agg(mean('age'),sum('amt')).filter(col('is_fraud')==1).sort(desc('sum(amt)')).show(5)"
      ],
      "metadata": {
        "id": "oByxQhSHfo9J",
        "outputId": "6b8da19b-11f3-447e-cba0-e636ab1b220f",
        "colab": {
          "base_uri": "https://localhost:8080/"
        }
      },
      "execution_count": 326,
      "outputs": [
        {
          "output_type": "stream",
          "name": "stdout",
          "text": [
            "+---+------+--------+--------+------------------+\n",
            "|age|gender|is_fraud|avg(age)|          sum(amt)|\n",
            "+---+------+--------+--------+------------------+\n",
            "| 34|     M|       1|    34.0| 86134.79999999999|\n",
            "| 48|     M|       1|    48.0|64653.619999999995|\n",
            "| 55|     M|       1|    55.0|          63821.48|\n",
            "| 37|     M|       1|    37.0| 59853.69999999999|\n",
            "| 57|     M|       1|    57.0|58460.399999999994|\n",
            "+---+------+--------+--------+------------------+\n",
            "only showing top 5 rows\n",
            "\n"
          ]
        }
      ]
    },
    {
      "cell_type": "markdown",
      "source": [
        "### Location (State, city, population size)"
      ],
      "metadata": {
        "id": "HOOANsSzMd9H"
      }
    },
    {
      "cell_type": "code",
      "source": [
        "# unique states\n",
        "adj_train.select('state').distinct().count()"
      ],
      "metadata": {
        "id": "rWZvACuIYC_8",
        "outputId": "18a9b207-8660-48d4-bea8-a91fa4047277",
        "colab": {
          "base_uri": "https://localhost:8080/"
        }
      },
      "execution_count": 327,
      "outputs": [
        {
          "output_type": "execute_result",
          "data": {
            "text/plain": [
              "51"
            ]
          },
          "metadata": {},
          "execution_count": 327
        }
      ]
    },
    {
      "cell_type": "code",
      "source": [
        "# main states with CC fraud\n",
        "adj_train.groupby(*['state','is_fraud']).count().filter(col('is_fraud') == 1).sort(desc('count')).show(5)"
      ],
      "metadata": {
        "colab": {
          "base_uri": "https://localhost:8080/"
        },
        "id": "KwLUOL63MaTj",
        "outputId": "c5adb3c1-3ff2-46c4-a995-1da94b2ff566"
      },
      "execution_count": 328,
      "outputs": [
        {
          "output_type": "stream",
          "name": "stdout",
          "text": [
            "+-----+--------+-----+\n",
            "|state|is_fraud|count|\n",
            "+-----+--------+-----+\n",
            "|   NY|       1|  555|\n",
            "|   TX|       1|  479|\n",
            "|   PA|       1|  458|\n",
            "|   CA|       1|  326|\n",
            "|   OH|       1|  321|\n",
            "+-----+--------+-----+\n",
            "only showing top 5 rows\n",
            "\n"
          ]
        }
      ]
    },
    {
      "cell_type": "code",
      "source": [
        "# total amount by state with CC fraud\n",
        "adj_train.groupby(*['state','is_fraud']).sum('amt').filter(col('is_fraud') == 1).sort(desc('sum(amt)')).show(5)"
      ],
      "metadata": {
        "colab": {
          "base_uri": "https://localhost:8080/"
        },
        "id": "bog36-JyLwLe",
        "outputId": "27625ffb-cd2c-47b8-e33f-50743343c2a9"
      },
      "execution_count": 329,
      "outputs": [
        {
          "output_type": "stream",
          "name": "stdout",
          "text": [
            "+-----+--------+------------------+\n",
            "|state|is_fraud|          sum(amt)|\n",
            "+-----+--------+------------------+\n",
            "|   NY|       1|295548.64000000013|\n",
            "|   TX|       1| 265806.4100000001|\n",
            "|   PA|       1|244624.67000000004|\n",
            "|   CA|       1|         170943.92|\n",
            "|   OH|       1|         168919.98|\n",
            "+-----+--------+------------------+\n",
            "only showing top 5 rows\n",
            "\n"
          ]
        }
      ]
    },
    {
      "cell_type": "code",
      "source": [
        "# most populated state and CC fraud amount\n",
        "adj_train.groupby(*['state','is_fraud']).sum(*['city_pop','amt']).filter(col('is_fraud') == 1).sort(desc('sum(city_pop)')).show(5)"
      ],
      "metadata": {
        "colab": {
          "base_uri": "https://localhost:8080/"
        },
        "id": "U2QWuXgR0PyN",
        "outputId": "c4c20d2f-d6e8-4e4e-9203-60bf9ced214d"
      },
      "execution_count": 330,
      "outputs": [
        {
          "output_type": "stream",
          "name": "stdout",
          "text": [
            "+-----+--------+-------------+------------------+\n",
            "|state|is_fraud|sum(city_pop)|          sum(amt)|\n",
            "+-----+--------+-------------+------------------+\n",
            "|   TX|       1|    206734477| 265806.4100000001|\n",
            "|   CA|       1|     89649164|         170943.92|\n",
            "|   NY|       1|     79853780|295548.64000000013|\n",
            "|   FL|       1|     45649842|         150913.03|\n",
            "|   MN|       1|     28231300|         112454.39|\n",
            "+-----+--------+-------------+------------------+\n",
            "only showing top 5 rows\n",
            "\n"
          ]
        }
      ]
    },
    {
      "cell_type": "code",
      "source": [
        "# most populated city and CC fraud amount\n",
        "adj_train.groupby(*['state','city','is_fraud']).sum(*['city_pop','amt']).filter(col('is_fraud') == 1).sort(desc('sum(city_pop)')).show(5)"
      ],
      "metadata": {
        "colab": {
          "base_uri": "https://localhost:8080/"
        },
        "id": "SJQMhKXj0PuX",
        "outputId": "8e4618c9-b25a-4497-e36e-39ea01851925"
      },
      "execution_count": 331,
      "outputs": [
        {
          "output_type": "stream",
          "name": "stdout",
          "text": [
            "+-----+-------------+--------+-------------+------------------+\n",
            "|state|         city|is_fraud|sum(city_pop)|          sum(amt)|\n",
            "+-----+-------------+--------+-------------+------------------+\n",
            "|   TX|      Houston|       1|    113361300|          21667.21|\n",
            "|   TX|  San Antonio|       1|     39894925|14536.749999999996|\n",
            "|   NY|New York City|       1|     36279855|13136.859999999999|\n",
            "|   TX|       Dallas|       1|     34109667|19747.140000000003|\n",
            "|   NY|     Brooklyn|       1|     25047000|           7435.38|\n",
            "+-----+-------------+--------+-------------+------------------+\n",
            "only showing top 5 rows\n",
            "\n"
          ]
        }
      ]
    },
    {
      "cell_type": "code",
      "source": [
        "# average age per city and CC fraud amount\n",
        "adj_train.groupby(*['state','city','gender','is_fraud'])\\\n",
        "         .agg(floor(mean('age')), sum('city_pop'), sum('amt'))\\\n",
        "         .filter(col('is_fraud') == 1)\\\n",
        "         .sort(desc('sum(amt)')).show(5)"
      ],
      "metadata": {
        "id": "Dp_HTbffZxWN",
        "outputId": "d11e5248-2a60-4703-a74c-130a96c190a8",
        "colab": {
          "base_uri": "https://localhost:8080/"
        }
      },
      "execution_count": 332,
      "outputs": [
        {
          "output_type": "stream",
          "name": "stdout",
          "text": [
            "+-----+-------------+------+--------+---------------+-------------+------------------+\n",
            "|state|         city|gender|is_fraud|FLOOR(avg(age))|sum(city_pop)|          sum(amt)|\n",
            "+-----+-------------+------+--------+---------------+-------------+------------------+\n",
            "|   OK|        Tulsa|     F|       1|             68|     11166498|17470.250000000004|\n",
            "|   NY|New York City|     F|       1|             60|     36279855|13136.859999999999|\n",
            "|   TX|  San Antonio|     M|       1|             39|     28724346|13040.649999999996|\n",
            "|   FL|       Naples|     F|       1|             81|      5520040|13018.669999999998|\n",
            "|   TX|      Houston|     M|       1|             38|     63947400|12979.279999999999|\n",
            "+-----+-------------+------+--------+---------------+-------------+------------------+\n",
            "only showing top 5 rows\n",
            "\n"
          ]
        }
      ]
    },
    {
      "cell_type": "markdown",
      "source": [
        "### Occupation (job title)"
      ],
      "metadata": {
        "id": "sORTRjB-gX5t"
      }
    },
    {
      "cell_type": "code",
      "source": [
        "# unique jobs\n",
        "adj_train.select('job').distinct().count()"
      ],
      "metadata": {
        "id": "RG966QcCZxKJ",
        "outputId": "e2dc8221-e3c7-4e6b-dbd1-080b7b076f63",
        "colab": {
          "base_uri": "https://localhost:8080/"
        }
      },
      "execution_count": 333,
      "outputs": [
        {
          "output_type": "execute_result",
          "data": {
            "text/plain": [
              "494"
            ]
          },
          "metadata": {},
          "execution_count": 333
        }
      ]
    },
    {
      "cell_type": "code",
      "source": [
        "# job with most frauded\n",
        "adj_train.groupby(*['job', 'is_fraud']).count().filter(col('is_fraud') == 1).sort(desc('count')).show(5)"
      ],
      "metadata": {
        "id": "xEitmhV4gXmP",
        "outputId": "f9444d62-2fcb-46bc-b9ec-0c7a27c407f5",
        "colab": {
          "base_uri": "https://localhost:8080/"
        }
      },
      "execution_count": 334,
      "outputs": [
        {
          "output_type": "stream",
          "name": "stdout",
          "text": [
            "+--------------------+--------+-----+\n",
            "|                 job|is_fraud|count|\n",
            "+--------------------+--------+-----+\n",
            "|  Materials engineer|       1|   62|\n",
            "|Trading standards...|       1|   56|\n",
            "|     Naval architect|       1|   53|\n",
            "| Exhibition designer|       1|   51|\n",
            "|Surveyor, land/ge...|       1|   50|\n",
            "+--------------------+--------+-----+\n",
            "only showing top 5 rows\n",
            "\n"
          ]
        }
      ]
    },
    {
      "cell_type": "code",
      "source": [
        "# find most common words for jobs, so I can create macro categories\n",
        "adj_train.withColumn('job_macro', explode(split(lower(col('job')), '[ , ]'))) \\\n",
        "          .groupBy('job_macro') \\\n",
        "          .count() \\\n",
        "          .filter((col('job_macro') != 'and') & (col('job_macro') != ''))\\\n",
        "          .orderBy(desc('count')) \\\n",
        "          .show(20)"
      ],
      "metadata": {
        "id": "3OPO5K4GgltQ",
        "outputId": "640224b9-694f-4c18-ba93-10fb9ddbc583",
        "colab": {
          "base_uri": "https://localhost:8080/"
        }
      },
      "execution_count": 335,
      "outputs": [
        {
          "output_type": "stream",
          "name": "stdout",
          "text": [
            "+-------------+------+\n",
            "|    job_macro| count|\n",
            "+-------------+------+\n",
            "|     engineer|131756|\n",
            "|      officer|110915|\n",
            "|      manager| 61124|\n",
            "|    scientist| 55878|\n",
            "|     designer| 52218|\n",
            "|     surveyor| 49062|\n",
            "|      teacher| 38126|\n",
            "| psychologist| 32600|\n",
            "|     research| 29754|\n",
            "|       editor| 28725|\n",
            "|    education| 26624|\n",
            "|       public| 26116|\n",
            "|    therapist| 25110|\n",
            "|   consultant| 24785|\n",
            "|        chief| 23081|\n",
            "|    chartered| 19009|\n",
            "|  development| 17943|\n",
            "|       health| 17300|\n",
            "|administrator| 16988|\n",
            "|   researcher| 16001|\n",
            "+-------------+------+\n",
            "only showing top 20 rows\n",
            "\n"
          ]
        }
      ]
    },
    {
      "cell_type": "code",
      "source": [
        "# create occupation clusters based on the most used words for jobs\n",
        "adj_train = adj_train.withColumn('job_macro', explode(split(lower(col('job')), '[ , ]')))\n",
        "\n",
        "adj_train = adj_train.withColumn('job_category',\n",
        "                        when(lower(col('job_macro')).isin(['engineer', 'scientist', 'development', 'researcher', 'research']), 'science')\n",
        "                        .when(lower(col('job_macro')).isin(['manager', 'chief', 'administrator', 'consultant']), 'business')\n",
        "                        .when(lower(col('job_macro')).isin(['teacher', 'education']), 'education')\n",
        "                        .when(lower(col('job_macro')).isin(['health', 'therapist', 'psychologist']), 'healthcare')\n",
        "                        .when(lower(col('job_macro')).isin(['editor', 'public']), 'comunication')\n",
        "                        .when(lower(col('job_macro')).isin(['designer', 'surveyor']), 'desing')\n",
        "                        .otherwise('others'))\n",
        "adj_train.show(4)"
      ],
      "metadata": {
        "id": "COyTSpTbglpj",
        "outputId": "9fcf4825-1c18-4855-cc29-0d1588ee8121",
        "colab": {
          "base_uri": "https://localhost:8080/"
        }
      },
      "execution_count": 336,
      "outputs": [
        {
          "output_type": "stream",
          "name": "stdout",
          "text": [
            "+--------------------+-----------+------+------+--------------+-----+-----+-------+---------+--------+--------------------+----------+------------------+-----------+--------+----+-----+--------+--------+---+--------------------+--------------------+------------+------------+\n",
            "|            merchant|   category|   amt|gender|          city|state|  zip|    lat|     long|city_pop|                 job| unix_time|         merch_lat| merch_long|is_fraud|year|month|day_week|    time|age|            lat_diff|           long_diff|   job_macro|job_category|\n",
            "+--------------------+-----------+------+------+--------------+-----+-----+-------+---------+--------+--------------------+----------+------------------+-----------+--------+----+-----+--------+--------+---+--------------------+--------------------+------------+------------+\n",
            "|fraud_Rippin, Kub...|   misc_net|  4.97|     F|Moravian Falls|   NC|28654|36.0788| -81.1781|    3495|Psychologist, cou...|1325376018|         36.011293| -82.048315|       0|2019|    1|       3|00:00:18| 36|  0.0675069999999991|  0.8702150000000017|psychologist|  healthcare|\n",
            "|fraud_Rippin, Kub...|   misc_net|  4.97|     F|Moravian Falls|   NC|28654|36.0788| -81.1781|    3495|Psychologist, cou...|1325376018|         36.011293| -82.048315|       0|2019|    1|       3|00:00:18| 36|  0.0675069999999991|  0.8702150000000017|            |      others|\n",
            "|fraud_Rippin, Kub...|   misc_net|  4.97|     F|Moravian Falls|   NC|28654|36.0788| -81.1781|    3495|Psychologist, cou...|1325376018|         36.011293| -82.048315|       0|2019|    1|       3|00:00:18| 36|  0.0675069999999991|  0.8702150000000017| counselling|      others|\n",
            "|fraud_Heller, Gut...|grocery_pos|107.23|     F|        Orient|   WA|99160|48.8878|-118.2105|     149|Special education...|1325376044|49.159046999999994|-118.186462|       0|2019|    1|       3|00:00:44| 46|-0.27124699999999535|-0.02403799999999...|     special|      others|\n",
            "+--------------------+-----------+------+------+--------------+-----+-----+-------+---------+--------+--------------------+----------+------------------+-----------+--------+----+-----+--------+--------+---+--------------------+--------------------+------------+------------+\n",
            "only showing top 4 rows\n",
            "\n"
          ]
        }
      ]
    },
    {
      "cell_type": "code",
      "source": [
        "# fraud by job category\n",
        "adj_train.groupby(*['job_category', 'is_fraud']).count().filter(col('is_fraud') == 1).sort(desc('count')).show(7)"
      ],
      "metadata": {
        "id": "MhoyoT5rgXjc",
        "outputId": "a9276693-ecaa-4646-b737-8ffe5383148c",
        "colab": {
          "base_uri": "https://localhost:8080/"
        }
      },
      "execution_count": 337,
      "outputs": [
        {
          "output_type": "stream",
          "name": "stdout",
          "text": [
            "+------------+--------+-----+\n",
            "|job_category|is_fraud|count|\n",
            "+------------+--------+-----+\n",
            "|      others|       1|15037|\n",
            "|     science|       1| 1369|\n",
            "|    business|       1|  676|\n",
            "|      desing|       1|  564|\n",
            "|   education|       1|  456|\n",
            "|  healthcare|       1|  367|\n",
            "|comunication|       1|  250|\n",
            "+------------+--------+-----+\n",
            "\n"
          ]
        }
      ]
    },
    {
      "cell_type": "code",
      "source": [
        "# amount by job category when CC frauded\n",
        "adj_train.groupby(*['job_category', 'is_fraud']).sum('amt').filter(col('is_fraud') == 1).sort(desc('sum(amt)')).show(7)"
      ],
      "metadata": {
        "id": "zvPbGyJS5NI9",
        "outputId": "11f82768-37c2-4153-b46b-52438a182660",
        "colab": {
          "base_uri": "https://localhost:8080/"
        }
      },
      "execution_count": 340,
      "outputs": [
        {
          "output_type": "stream",
          "name": "stdout",
          "text": [
            "+------------+--------+------------------+\n",
            "|job_category|is_fraud|          sum(amt)|\n",
            "+------------+--------+------------------+\n",
            "|      others|       1| 7974167.390000008|\n",
            "|     science|       1| 718112.9300000002|\n",
            "|    business|       1|337418.98000000004|\n",
            "|      desing|       1| 304814.8100000001|\n",
            "|   education|       1|235717.29999999993|\n",
            "|  healthcare|       1|          202879.2|\n",
            "|comunication|       1|130377.24999999999|\n",
            "+------------+--------+------------------+\n",
            "\n"
          ]
        }
      ]
    },
    {
      "cell_type": "markdown",
      "source": [
        "### Latitude and Longitude"
      ],
      "metadata": {
        "id": "zIDH6E8254mx"
      }
    },
    {
      "cell_type": "code",
      "source": [
        "# avarage difference between customer and merchant latitude\n",
        "adj_train.groupby('is_fraud').mean('lat_diff').show()"
      ],
      "metadata": {
        "id": "TCHL1Zwx54Wh",
        "outputId": "fa0bd451-30b0-4527-da38-caed6df00056",
        "colab": {
          "base_uri": "https://localhost:8080/"
        }
      },
      "execution_count": 346,
      "outputs": [
        {
          "output_type": "stream",
          "name": "stdout",
          "text": [
            "+--------+--------------------+\n",
            "|is_fraud|       avg(lat_diff)|\n",
            "+--------+--------------------+\n",
            "|       1|0.010138428495111993|\n",
            "|       0| 1.36273459634889E-4|\n",
            "+--------+--------------------+\n",
            "\n"
          ]
        }
      ]
    },
    {
      "cell_type": "code",
      "source": [
        "# avarage difference between customer and merchant longitude\n",
        "adj_train.groupby('is_fraud').mean('long_diff').show()"
      ],
      "metadata": {
        "id": "Y24j5Gch54TY",
        "outputId": "9649695d-3a33-4cfe-9da4-bef2cea4d767",
        "colab": {
          "base_uri": "https://localhost:8080/"
        }
      },
      "execution_count": 347,
      "outputs": [
        {
          "output_type": "stream",
          "name": "stdout",
          "text": [
            "+--------+--------------------+\n",
            "|is_fraud|      avg(long_diff)|\n",
            "+--------+--------------------+\n",
            "|       1|8.399439072599181E-4|\n",
            "|       0|7.071568078397803E-4|\n",
            "+--------+--------------------+\n",
            "\n"
          ]
        }
      ]
    },
    {
      "cell_type": "markdown",
      "source": [
        "### Unix"
      ],
      "metadata": {
        "id": "BJWMOjRx7nkC"
      }
    },
    {
      "cell_type": "code",
      "source": [
        "# avarage unix time\n",
        "adj_train.groupby('is_fraud').mean('unix_time').show()"
      ],
      "metadata": {
        "id": "lz7OkuxKFBl6",
        "outputId": "7dc3fff9-e643-4358-f124-0161dd2e280d",
        "colab": {
          "base_uri": "https://localhost:8080/"
        }
      },
      "execution_count": 348,
      "outputs": [
        {
          "output_type": "stream",
          "name": "stdout",
          "text": [
            "+--------+--------------------+\n",
            "|is_fraud|      avg(unix_time)|\n",
            "+--------+--------------------+\n",
            "|       1|1.3481615599279876E9|\n",
            "|       0|1.3492567481422484E9|\n",
            "+--------+--------------------+\n",
            "\n"
          ]
        }
      ]
    },
    {
      "cell_type": "markdown",
      "source": [
        "### Day and Hour"
      ],
      "metadata": {
        "id": "Q3SuXZtLG0JM"
      }
    },
    {
      "cell_type": "code",
      "source": [
        "# is there a spefic time for fraud?\n",
        "adj_train.groupby(*['time', 'is_fraud']).count().filter(col('is_fraud') == 1).sort(desc('count')).show(10)"
      ],
      "metadata": {
        "id": "w9Aenmt6G29g",
        "outputId": "124c7424-8afd-41e2-b313-d2f889fe5ece",
        "colab": {
          "base_uri": "https://localhost:8080/"
        }
      },
      "execution_count": 354,
      "outputs": [
        {
          "output_type": "stream",
          "name": "stdout",
          "text": [
            "+--------+--------+-----+\n",
            "|    time|is_fraud|count|\n",
            "+--------+--------+-----+\n",
            "|00:22:36|       1|   13|\n",
            "|23:42:53|       1|   13|\n",
            "|23:23:34|       1|   13|\n",
            "|22:02:16|       1|   12|\n",
            "|22:25:30|       1|   12|\n",
            "|22:17:47|       1|   12|\n",
            "|22:43:46|       1|   11|\n",
            "|03:13:37|       1|   11|\n",
            "|22:22:44|       1|   11|\n",
            "|23:40:36|       1|   11|\n",
            "+--------+--------+-----+\n",
            "only showing top 10 rows\n",
            "\n"
          ]
        }
      ]
    },
    {
      "cell_type": "code",
      "source": [
        "# amount frauded by hour\n",
        "adj_train.groupby(*['time', 'is_fraud']).sum('amt').filter(col('is_fraud') == 1).sort(desc('sum(amt)')).show(10)"
      ],
      "metadata": {
        "id": "N9o7ywMdHR94",
        "outputId": "58b339d9-156c-42fe-c599-f4a765c34a31",
        "colab": {
          "base_uri": "https://localhost:8080/"
        }
      },
      "execution_count": 355,
      "outputs": [
        {
          "output_type": "stream",
          "name": "stdout",
          "text": [
            "+--------+--------+-----------------+\n",
            "|    time|is_fraud|         sum(amt)|\n",
            "+--------+--------+-----------------+\n",
            "|22:43:46|       1|         10796.23|\n",
            "|22:59:35|       1|         10672.18|\n",
            "|23:15:12|       1|          9457.49|\n",
            "|22:10:59|       1|9022.580000000002|\n",
            "|22:20:58|       1|8720.039999999999|\n",
            "|22:45:52|       1|          8612.68|\n",
            "|23:42:24|       1|8609.150000000001|\n",
            "|23:43:08|       1|          8377.88|\n",
            "|23:49:53|       1|          8366.07|\n",
            "|23:58:42|       1|          8320.66|\n",
            "+--------+--------+-----------------+\n",
            "only showing top 10 rows\n",
            "\n"
          ]
        }
      ]
    },
    {
      "cell_type": "code",
      "source": [
        "# does fraud occur in a specific day of the week?\n",
        "adj_train.groupby(*['day_week', 'is_fraud']).count().filter(col('is_fraud') == 1).sort(desc('count')).show(10)"
      ],
      "metadata": {
        "id": "BwRI2YUHHf7P",
        "outputId": "281b9ba3-6bf0-41d3-9618-679250c3e17f",
        "colab": {
          "base_uri": "https://localhost:8080/"
        }
      },
      "execution_count": 356,
      "outputs": [
        {
          "output_type": "stream",
          "name": "stdout",
          "text": [
            "+--------+--------+-----+\n",
            "|day_week|is_fraud|count|\n",
            "+--------+--------+-----+\n",
            "|       7|       1| 3128|\n",
            "|       2|       1| 2993|\n",
            "|       1|       1| 2954|\n",
            "|       6|       1| 2718|\n",
            "|       5|       1| 2483|\n",
            "|       3|       1| 2370|\n",
            "|       4|       1| 2073|\n",
            "+--------+--------+-----+\n",
            "\n"
          ]
        }
      ]
    },
    {
      "cell_type": "code",
      "source": [
        "# amount frauded by day of week\n",
        "adj_train.groupby(*['day_week', 'is_fraud']).sum('amt').filter(col('is_fraud') == 1).sort(desc('sum(amt)')).show(10)"
      ],
      "metadata": {
        "id": "yNSBisz-HpFR",
        "outputId": "73833a97-ca2f-4d64-edce-31531a13ee0c",
        "colab": {
          "base_uri": "https://localhost:8080/"
        }
      },
      "execution_count": 357,
      "outputs": [
        {
          "output_type": "stream",
          "name": "stdout",
          "text": [
            "+--------+--------+------------------+\n",
            "|day_week|is_fraud|          sum(amt)|\n",
            "+--------+--------+------------------+\n",
            "|       7|       1|1635887.2400000005|\n",
            "|       1|       1|1616182.6999999993|\n",
            "|       2|       1|1493520.4499999983|\n",
            "|       6|       1|1487687.5299999993|\n",
            "|       5|       1| 1347469.530000001|\n",
            "|       3|       1|1245697.5300000003|\n",
            "|       4|       1|        1077042.88|\n",
            "+--------+--------+------------------+\n",
            "\n"
          ]
        }
      ]
    },
    {
      "cell_type": "markdown",
      "source": [
        "### Statistics"
      ],
      "metadata": {
        "id": "W_SADUdGFPI4"
      }
    },
    {
      "cell_type": "code",
      "source": [
        "# basic dataset statistics\n",
        "adj_train.summary().show()"
      ],
      "metadata": {
        "id": "5KTrrV8nFOwI",
        "outputId": "e0cb930a-ee87-4072-e8c3-82718de61808",
        "colab": {
          "base_uri": "https://localhost:8080/"
        }
      },
      "execution_count": 349,
      "outputs": [
        {
          "output_type": "stream",
          "name": "stdout",
          "text": [
            "+-------+-------------------+-------------+------------------+-------+-------+-------+-----------------+-----------------+------------------+-----------------+------------------+--------------------+------------------+------------------+--------------------+------------------+-----------------+------------------+--------+------------------+--------------------+--------------------+---------+------------+\n",
            "|summary|           merchant|     category|               amt| gender|   city|  state|              zip|              lat|              long|         city_pop|               job|           unix_time|         merch_lat|        merch_long|            is_fraud|              year|            month|          day_week|    time|               age|            lat_diff|           long_diff|job_macro|job_category|\n",
            "+-------+-------------------+-------------+------------------+-------+-------+-------+-----------------+-----------------+------------------+-----------------+------------------+--------------------+------------------+------------------+--------------------+------------------+-----------------+------------------+--------+------------------+--------------------+--------------------+---------+------------+\n",
            "|  count|            3191392|      3191392|           3191392|3191392|3191392|3191392|          3191392|          3191392|           3191392|          3191392|           3191392|             3191392|           3191392|           3191392|             3191392|           3191392|          3191392|           3191392| 3191392|           3191392|             3191392|             3191392|  3191392|     3191392|\n",
            "|   mean|               NULL|         NULL| 70.03769186925459|   NULL|   NULL|   NULL|49120.85171642969| 38.5521841471014|-90.34376032686913|84191.48876101714|              NULL|1.3492503243534496E9| 38.55198920634954|-90.34446826253972|0.005865465602470646|2019.2870224027633| 6.14140099367298|3.7186049222408277|    NULL| 50.92310189409512|1.949407559460403E-4|7.079356660038685E-4|     NULL|        NULL|\n",
            "| stddev|               NULL|         NULL|156.66310427228126|   NULL|   NULL|   NULL|26790.81020583407|5.139498544105347|13.931962636455054|289096.3618151016|              NULL|1.2841548916590014E7| 5.173385191585312|13.944173135866372| 0.07636140217976208| 0.452372199847351|3.417941158763367| 2.132995069519563|    NULL|17.476659940043064|  0.5774521936683519|   0.577843010896354|     NULL|        NULL|\n",
            "|    min|fraud_Abbott-Rogahn|entertainment|               1.0|      F|Achille|     AK|             1257|          20.0271|         -165.6723|               23|Academic librarian|          1325376018|         19.027785|       -166.671242|                   0|              2019|                1|                 1|00:00:00|                20| -0.9999989999999954| -0.9999969999999934|         |    business|\n",
            "|    25%|               NULL|         NULL|              9.57|   NULL|   NULL|   NULL|            28117|          34.6689|           -96.727|              743|              NULL|          1338751233|         34.753352|        -96.803846|                   0|              2019|                3|                 2|    NULL|                37| -0.5001159999999985| -0.5001689999999854|     NULL|        NULL|\n",
            "|    50%|               NULL|         NULL|             47.15|   NULL|   NULL|   NULL|            48206|          39.3391|          -87.5917|             2457|              NULL|          1349260197|39.342259999999996|        -87.470736|                   0|              2019|                6|                 3|    NULL|                49|-6.59999999967908...|0.002061000000011859|     NULL|        NULL|\n",
            "|    75%|               NULL|         NULL|             82.89|   NULL|   NULL|   NULL|            72011|          42.0158|           -80.307|            19803|              NULL|          1359398951|         42.018766|        -80.376339|                   0|              2020|                9|                 6|    NULL|                62|  0.5005680000000012|  0.5008949999999999|     NULL|        NULL|\n",
            "|    max|   fraud_Zulauf LLC|       travel|           28948.9|      M|Zavalla|     WY|            99783|          66.6933|          -67.9503|          2906700|            Writer|          1371816817|         67.510267|        -66.950902|                   1|              2020|               12|                 7|23:59:59|               100|  0.9999990000000025|  0.9999969999999934|years/pre|     science|\n",
            "+-------+-------------------+-------------+------------------+-------+-------+-------+-----------------+-----------------+------------------+-----------------+------------------+--------------------+------------------+------------------+--------------------+------------------+-----------------+------------------+--------+------------------+--------------------+--------------------+---------+------------+\n",
            "\n"
          ]
        }
      ]
    },
    {
      "cell_type": "code",
      "source": [
        "adj_train.show(2)"
      ],
      "metadata": {
        "colab": {
          "base_uri": "https://localhost:8080/"
        },
        "id": "XPKWrL_nJGtz",
        "outputId": "e5038fd6-0faa-4122-c366-259b797ae398"
      },
      "execution_count": 338,
      "outputs": [
        {
          "output_type": "stream",
          "name": "stdout",
          "text": [
            "+--------------------+--------+----+------+--------------+-----+-----+-------+--------+--------+--------------------+----------+---------+----------+--------+----+-----+--------+--------+---+------------------+------------------+------------+------------+\n",
            "|            merchant|category| amt|gender|          city|state|  zip|    lat|    long|city_pop|                 job| unix_time|merch_lat|merch_long|is_fraud|year|month|day_week|    time|age|          lat_diff|         long_diff|   job_macro|job_category|\n",
            "+--------------------+--------+----+------+--------------+-----+-----+-------+--------+--------+--------------------+----------+---------+----------+--------+----+-----+--------+--------+---+------------------+------------------+------------+------------+\n",
            "|fraud_Rippin, Kub...|misc_net|4.97|     F|Moravian Falls|   NC|28654|36.0788|-81.1781|    3495|Psychologist, cou...|1325376018|36.011293|-82.048315|       0|2019|    1|       3|00:00:18| 36|0.0675069999999991|0.8702150000000017|psychologist|  healthcare|\n",
            "|fraud_Rippin, Kub...|misc_net|4.97|     F|Moravian Falls|   NC|28654|36.0788|-81.1781|    3495|Psychologist, cou...|1325376018|36.011293|-82.048315|       0|2019|    1|       3|00:00:18| 36|0.0675069999999991|0.8702150000000017|            |      others|\n",
            "+--------------------+--------+----+------+--------------+-----+-----+-------+--------+--------+--------------------+----------+---------+----------+--------+----+-----+--------+--------+---+------------------+------------------+------------+------------+\n",
            "only showing top 2 rows\n",
            "\n"
          ]
        }
      ]
    },
    {
      "cell_type": "markdown",
      "source": [
        "## Data Preparation <a name=\"data_prep\"></a>\n",
        "[Table of contents](#table_cont)"
      ],
      "metadata": {
        "id": "oOPdhkzqSlWf"
      }
    },
    {
      "cell_type": "code",
      "source": [],
      "metadata": {
        "id": "4hKpY_YxH-D3"
      },
      "execution_count": null,
      "outputs": []
    },
    {
      "cell_type": "code",
      "source": [],
      "metadata": {
        "id": "q-VT_XLAH92N"
      },
      "execution_count": null,
      "outputs": []
    },
    {
      "cell_type": "code",
      "source": [],
      "metadata": {
        "id": "eXUj0yZtH9zL"
      },
      "execution_count": null,
      "outputs": []
    },
    {
      "cell_type": "code",
      "source": [],
      "metadata": {
        "id": "iG3Ugi6KH9wW"
      },
      "execution_count": null,
      "outputs": []
    },
    {
      "cell_type": "code",
      "source": [
        "# drop variables\n",
        "## ['_c0','trans_date_trans_time','cc_num']"
      ],
      "metadata": {
        "id": "8Bbhu8XGTOHF"
      },
      "execution_count": 339,
      "outputs": []
    },
    {
      "cell_type": "markdown",
      "metadata": {
        "id": "22c11t8BiSmY"
      },
      "source": [
        "## ML Models <a name=\"ml_mod\"></a>\n",
        "[Table of contents](#table_cont)"
      ]
    },
    {
      "cell_type": "markdown",
      "metadata": {
        "id": "tapAfHf6iSmY"
      },
      "source": [
        "## Comparing results <a name=\"results\"></a>\n",
        "[Table of contents](#table_cont)"
      ]
    },
    {
      "cell_type": "markdown",
      "metadata": {
        "id": "i3N_7C_iiSmY"
      },
      "source": [
        "## Take Aways <a name=\"take_away\"></a>\n",
        "[Table of contents](#table_cont)"
      ]
    }
  ],
  "metadata": {
    "kernelspec": {
      "display_name": ".venv",
      "language": "python",
      "name": "python3"
    },
    "language_info": {
      "codemirror_mode": {
        "name": "ipython",
        "version": 3
      },
      "file_extension": ".py",
      "mimetype": "text/x-python",
      "name": "python",
      "nbconvert_exporter": "python",
      "pygments_lexer": "ipython3",
      "version": "3.11.9"
    },
    "colab": {
      "provenance": []
    }
  },
  "nbformat": 4,
  "nbformat_minor": 0
}