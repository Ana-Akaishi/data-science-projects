{
  "cells": [
    {
      "cell_type": "markdown",
      "metadata": {
        "id": "BQ9ganokiSmS"
      },
      "source": [
        "# Credit Card Fraud Detection\n",
        "In this notebook, I'll explore this public dataset on Kaggle about [credit card fraud](https://www.kaggle.com/datasets/kartik2112/fraud-detection?resource=download). My objective is to analyze this dataset behavior and create an algorithm to predict if there's a fraud or not.\n",
        "\n",
        "As for my tool, I'll use **PySpark** to load my data, check the quality and do the exploratory data analysis (EDA). Next, I'll run some classifications algorithms and compare their performance to see which model would be used in a 'deploy phase'.\n",
        "\n",
        "## Table of Contents  <a name=\"table_cont\"></a>\n",
        "\n",
        "0. [**Libraries**](#lib)\n",
        "1. [**Load data**](#load_data)\n",
        "2. [**Data quality**](#data-quality)\n",
        "3. [**Feature Engineering**](#features)\n",
        "4. [**EDA**](#eda)\n",
        "5. [**Data preparation**](#data_prep)\n",
        "6. [**ML Models**](#ml_mod)\n",
        "    - Logistical regression (Logit)\n",
        "    - Random Forest\n",
        "    - Gradient-Boosted Trees (GBTs)\n",
        "    - Naive Bayes\n",
        "7. [**Comparing results**](#results)\n",
        "8. [**Take Aways**](#take_away)\n"
      ]
    },
    {
      "cell_type": "markdown",
      "metadata": {
        "id": "613EBlQGiSmV"
      },
      "source": [
        "## Libraries <a name=\"libs\"></a>"
      ]
    },
    {
      "cell_type": "code",
      "execution_count": 150,
      "metadata": {
        "id": "fiVQW1EbiSmV"
      },
      "outputs": [],
      "source": [
        "from pyspark.sql import SparkSession\n",
        "from pyspark.sql.functions import isnan, when, count, col, year, month, dayofweek, date_format, current_date, date_diff, floor, desc, asc, sum"
      ]
    },
    {
      "cell_type": "markdown",
      "metadata": {
        "id": "cBYHG5qsiSmW"
      },
      "source": [
        "## Load data  <a name=\"load_data\"></a>"
      ]
    },
    {
      "cell_type": "code",
      "execution_count": 58,
      "metadata": {
        "id": "a4SC9BYwiSmW"
      },
      "outputs": [],
      "source": [
        "# create spark session\n",
        "spark = SparkSession.builder.appName('CC_fraud').getOrCreate()\n",
        "\n",
        "# load train and test datasets\n",
        "train = spark.read.csv('fraudTrain.csv', header=True, inferSchema=True)\n",
        "test = spark.read.csv('fraudTest.csv', header=True, inferSchema=True)"
      ]
    },
    {
      "cell_type": "code",
      "execution_count": 59,
      "metadata": {
        "colab": {
          "base_uri": "https://localhost:8080/"
        },
        "id": "EQy5yt1RiSmX",
        "outputId": "a6725145-895c-42ac-a0c3-b971260c9de1"
      },
      "outputs": [
        {
          "output_type": "stream",
          "name": "stdout",
          "text": [
            "Train set \n",
            "\n",
            "+---+---------------------+----------------+--------------------+-------------+------+---------+-------+------+--------------------+--------------+-----+-----+-------+---------+--------+--------------------+----------+--------------------+----------+------------------+-----------+--------+\n",
            "|_c0|trans_date_trans_time|          cc_num|            merchant|     category|   amt|    first|   last|gender|              street|          city|state|  zip|    lat|     long|city_pop|                 job|       dob|           trans_num| unix_time|         merch_lat| merch_long|is_fraud|\n",
            "+---+---------------------+----------------+--------------------+-------------+------+---------+-------+------+--------------------+--------------+-----+-----+-------+---------+--------+--------------------+----------+--------------------+----------+------------------+-----------+--------+\n",
            "|  0|  2019-01-01 00:00:18|2703186189652095|fraud_Rippin, Kub...|     misc_net|  4.97| Jennifer|  Banks|     F|      561 Perry Cove|Moravian Falls|   NC|28654|36.0788| -81.1781|    3495|Psychologist, cou...|1988-03-09|0b242abb623afc578...|1325376018|         36.011293| -82.048315|       0|\n",
            "|  1|  2019-01-01 00:00:44|    630423337322|fraud_Heller, Gut...|  grocery_pos|107.23|Stephanie|   Gill|     F|43039 Riley Green...|        Orient|   WA|99160|48.8878|-118.2105|     149|Special education...|1978-06-21|1f76529f857473494...|1325376044|49.159046999999994|-118.186462|       0|\n",
            "|  2|  2019-01-01 00:00:51|  38859492057661|fraud_Lind-Buckridge|entertainment|220.11|   Edward|Sanchez|     M|594 White Dale Su...|    Malad City|   ID|83252|42.1808| -112.262|    4154|Nature conservati...|1962-01-19|a1a22d70485983eac...|1325376051|         43.150704|-112.154481|       0|\n",
            "|  3|  2019-01-01 00:01:16|3534093764340240|fraud_Kutch, Herm...|gas_transport|  45.0|   Jeremy|  White|     M|9443 Cynthia Cour...|       Boulder|   MT|59632|46.2306|-112.1138|    1939|     Patent attorney|1967-01-12|6b849c168bdad6f86...|1325376076|         47.034331|-112.561071|       0|\n",
            "|  4|  2019-01-01 00:03:06| 375534208663984| fraud_Keeling-Crist|     misc_pos| 41.96|    Tyler| Garcia|     M|    408 Bradley Rest|      Doe Hill|   VA|24433|38.4207| -79.4629|      99|Dance movement ps...|1986-03-28|a41d7549acf907893...|1325376186|         38.674999| -78.632459|       0|\n",
            "+---+---------------------+----------------+--------------------+-------------+------+---------+-------+------+--------------------+--------------+-----+-----+-------+---------+--------+--------------------+----------+--------------------+----------+------------------+-----------+--------+\n",
            "\n",
            "Test set\n",
            "+---+---------------------+----------------+--------------------+--------------+-----+------+--------+------+--------------------+----------+-----+-----+-------+------------------+--------+--------------------+----------+--------------------+----------+------------------+-----------+--------+\n",
            "|_c0|trans_date_trans_time|          cc_num|            merchant|      category|  amt| first|    last|gender|              street|      city|state|  zip|    lat|              long|city_pop|                 job|       dob|           trans_num| unix_time|         merch_lat| merch_long|is_fraud|\n",
            "+---+---------------------+----------------+--------------------+--------------+-----+------+--------+------+--------------------+----------+-----+-----+-------+------------------+--------+--------------------+----------+--------------------+----------+------------------+-----------+--------+\n",
            "|  0|  2020-06-21 12:14:25|2291163933867244|fraud_Kirlin and ...| personal_care| 2.86|  Jeff| Elliott|     M|   351 Darlene Green|  Columbia|   SC|29209|33.9659|          -80.9355|  333497| Mechanical engineer|1968-03-19|2da90c7d74bd46a0c...|1371816865|         33.986391| -81.200714|       0|\n",
            "|  1|  2020-06-21 12:14:33|3573030041201292|fraud_Sporer-Keebler| personal_care|29.84|Joanne|Williams|     F|    3638 Marsh Union|   Altonah|   UT|84002|40.3207|          -110.436|     302|Sales professiona...|1990-01-17|324cc204407e99f51...|1371816873|39.450497999999996|-109.960431|       0|\n",
            "|  2|  2020-06-21 12:14:53|3598215285024754|fraud_Swaniawski,...|health_fitness|41.28|Ashley|   Lopez|     F|9333 Valentine Point|  Bellmore|   NY|11710|40.6729|          -73.5365|   34496|   Librarian, public|1970-10-21|c81755dbbbea9d5c7...|1371816893|          40.49581| -74.196111|       0|\n",
            "|  3|  2020-06-21 12:15:15|3591919803438423|   fraud_Haley Group|      misc_pos|60.05| Brian|Williams|     M|32941 Krystal Mil...|Titusville|   FL|32780|28.5697|          -80.8191|   54767|        Set designer|1987-07-25|2159175b9efe66dc3...|1371816915|28.812397999999998| -80.883061|       0|\n",
            "|  4|  2020-06-21 12:15:17|3526826139003047|fraud_Johnston-Ca...|        travel| 3.19|Nathan|  Massey|     M|5783 Evan Roads A...|  Falmouth|   MI|49632|44.2529|-85.01700000000001|    1126|  Furniture designer|1955-07-06|57ff021bd3f328f87...|1371816917|         44.959148| -85.884734|       0|\n",
            "+---+---------------------+----------------+--------------------+--------------+-----+------+--------+------+--------------------+----------+-----+-----+-------+------------------+--------+--------------------+----------+--------------------+----------+------------------+-----------+--------+\n",
            "\n"
          ]
        }
      ],
      "source": [
        "print('Train set \\n')\n",
        "train.limit(5).show()\n",
        "print('Test set')\n",
        "test.limit(5).show()"
      ]
    },
    {
      "cell_type": "code",
      "source": [
        "# dataframes shape\n",
        "print((train.count(), len(train.columns)))"
      ],
      "metadata": {
        "id": "ZMP32K0V6Fs9",
        "outputId": "6a587d21-563b-4f50-e2c8-ded8cd159f31",
        "colab": {
          "base_uri": "https://localhost:8080/"
        }
      },
      "execution_count": 94,
      "outputs": [
        {
          "output_type": "stream",
          "name": "stdout",
          "text": [
            "(1296675, 23)\n"
          ]
        }
      ]
    },
    {
      "cell_type": "code",
      "source": [
        "print((test.count(), len(test.columns)))"
      ],
      "metadata": {
        "id": "AFRnv6rb6I5U",
        "outputId": "e9441d63-cbeb-4731-f98d-1b2fb46cc8a8",
        "colab": {
          "base_uri": "https://localhost:8080/"
        }
      },
      "execution_count": 95,
      "outputs": [
        {
          "output_type": "stream",
          "name": "stdout",
          "text": [
            "(555719, 23)\n"
          ]
        }
      ]
    },
    {
      "cell_type": "markdown",
      "metadata": {
        "id": "gbV6vbfFiSmX"
      },
      "source": [
        "## Data quality <a name=\"data_quality\"></a>\n",
        "[Table of contents](#table_cont)"
      ]
    },
    {
      "cell_type": "code",
      "source": [
        "# check if columns have the correct data type\n",
        "print('Train set data type:')\n",
        "train.dtypes\n",
        "\n",
        "## could also have used train.printSchema()"
      ],
      "metadata": {
        "colab": {
          "base_uri": "https://localhost:8080/"
        },
        "id": "1trmetPepJl6",
        "outputId": "001c23a4-c31f-41f8-eccb-574d609cf779"
      },
      "execution_count": 60,
      "outputs": [
        {
          "output_type": "stream",
          "name": "stdout",
          "text": [
            "Train set data type:\n"
          ]
        },
        {
          "output_type": "execute_result",
          "data": {
            "text/plain": [
              "[('_c0', 'int'),\n",
              " ('trans_date_trans_time', 'timestamp'),\n",
              " ('cc_num', 'bigint'),\n",
              " ('merchant', 'string'),\n",
              " ('category', 'string'),\n",
              " ('amt', 'double'),\n",
              " ('first', 'string'),\n",
              " ('last', 'string'),\n",
              " ('gender', 'string'),\n",
              " ('street', 'string'),\n",
              " ('city', 'string'),\n",
              " ('state', 'string'),\n",
              " ('zip', 'int'),\n",
              " ('lat', 'double'),\n",
              " ('long', 'double'),\n",
              " ('city_pop', 'int'),\n",
              " ('job', 'string'),\n",
              " ('dob', 'date'),\n",
              " ('trans_num', 'string'),\n",
              " ('unix_time', 'int'),\n",
              " ('merch_lat', 'double'),\n",
              " ('merch_long', 'double'),\n",
              " ('is_fraud', 'int')]"
            ]
          },
          "metadata": {},
          "execution_count": 60
        }
      ]
    },
    {
      "cell_type": "code",
      "source": [
        "print('Test set data type:')\n",
        "test.dtypes"
      ],
      "metadata": {
        "colab": {
          "base_uri": "https://localhost:8080/"
        },
        "id": "QQwkZd0KpJVD",
        "outputId": "fac96c15-9ba2-4f7e-aea0-9be1e88dcf98"
      },
      "execution_count": 61,
      "outputs": [
        {
          "output_type": "stream",
          "name": "stdout",
          "text": [
            "Test set data type:\n"
          ]
        },
        {
          "output_type": "execute_result",
          "data": {
            "text/plain": [
              "[('_c0', 'int'),\n",
              " ('trans_date_trans_time', 'timestamp'),\n",
              " ('cc_num', 'bigint'),\n",
              " ('merchant', 'string'),\n",
              " ('category', 'string'),\n",
              " ('amt', 'double'),\n",
              " ('first', 'string'),\n",
              " ('last', 'string'),\n",
              " ('gender', 'string'),\n",
              " ('street', 'string'),\n",
              " ('city', 'string'),\n",
              " ('state', 'string'),\n",
              " ('zip', 'int'),\n",
              " ('lat', 'double'),\n",
              " ('long', 'double'),\n",
              " ('city_pop', 'int'),\n",
              " ('job', 'string'),\n",
              " ('dob', 'date'),\n",
              " ('trans_num', 'string'),\n",
              " ('unix_time', 'int'),\n",
              " ('merch_lat', 'double'),\n",
              " ('merch_long', 'double'),\n",
              " ('is_fraud', 'int')]"
            ]
          },
          "metadata": {},
          "execution_count": 61
        }
      ]
    },
    {
      "cell_type": "code",
      "source": [
        "# separate columns between numeric and strings\n",
        "numeric_cols = [col[0] for col in train.dtypes if col[1] in ['double','float','int']]\n",
        "string_cols = [col[0] for col in train.dtypes if col[1] not in ['double','float','int']]\n",
        "\n",
        "# check for nulls\n",
        "def count_nulls(df):\n",
        "  df.select([\n",
        "      count(when(col(c).isNull() | (col(c) == \"\"), c)).alias(c) if c in string_cols else\n",
        "      count(when(col(c).isNull() | isnan(col(c)), c)).alias(c)\n",
        "      for c in df.columns\n",
        "  ]).show()\n",
        "\n",
        "print('Train nulls:')\n",
        "count_nulls(train)"
      ],
      "metadata": {
        "colab": {
          "base_uri": "https://localhost:8080/"
        },
        "id": "1iEjJEE7stk9",
        "outputId": "c34215b5-0f67-4ab4-bf54-32f844791484"
      },
      "execution_count": 62,
      "outputs": [
        {
          "output_type": "stream",
          "name": "stdout",
          "text": [
            "Train nulls:\n",
            "+---+---------------------+------+--------+--------+---+-----+----+------+------+----+-----+---+---+----+--------+---+---+---------+---------+---------+----------+--------+\n",
            "|_c0|trans_date_trans_time|cc_num|merchant|category|amt|first|last|gender|street|city|state|zip|lat|long|city_pop|job|dob|trans_num|unix_time|merch_lat|merch_long|is_fraud|\n",
            "+---+---------------------+------+--------+--------+---+-----+----+------+------+----+-----+---+---+----+--------+---+---+---------+---------+---------+----------+--------+\n",
            "|  0|                    0|     0|       0|       0|  0|    0|   0|     0|     0|   0|    0|  0|  0|   0|       0|  0|  0|        0|        0|        0|         0|       0|\n",
            "+---+---------------------+------+--------+--------+---+-----+----+------+------+----+-----+---+---+----+--------+---+---+---------+---------+---------+----------+--------+\n",
            "\n"
          ]
        }
      ]
    },
    {
      "cell_type": "code",
      "source": [
        "print('Test nulls:')\n",
        "count_nulls(test)"
      ],
      "metadata": {
        "colab": {
          "base_uri": "https://localhost:8080/"
        },
        "id": "iaJrnopA4rtq",
        "outputId": "66e794b2-0d4f-41f0-fd06-003d1ef98935"
      },
      "execution_count": 63,
      "outputs": [
        {
          "output_type": "stream",
          "name": "stdout",
          "text": [
            "Test nulls:\n",
            "+---+---------------------+------+--------+--------+---+-----+----+------+------+----+-----+---+---+----+--------+---+---+---------+---------+---------+----------+--------+\n",
            "|_c0|trans_date_trans_time|cc_num|merchant|category|amt|first|last|gender|street|city|state|zip|lat|long|city_pop|job|dob|trans_num|unix_time|merch_lat|merch_long|is_fraud|\n",
            "+---+---------------------+------+--------+--------+---+-----+----+------+------+----+-----+---+---+----+--------+---+---+---------+---------+---------+----------+--------+\n",
            "|  0|                    0|     0|       0|       0|  0|    0|   0|     0|     0|   0|    0|  0|  0|   0|       0|  0|  0|        0|        0|        0|         0|       0|\n",
            "+---+---------------------+------+--------+--------+---+-----+----+------+------+----+-----+---+---+----+--------+---+---+---------+---------+---------+----------+--------+\n",
            "\n"
          ]
        }
      ]
    },
    {
      "cell_type": "code",
      "source": [
        "# check for duplicates\n",
        "def duplicates (df):\n",
        "  df.groupBy(df.columns).count().filter(\"count > 1\").show()\n",
        "\n",
        "duplicates(train)"
      ],
      "metadata": {
        "colab": {
          "base_uri": "https://localhost:8080/"
        },
        "id": "wo0MCKPIQqrJ",
        "outputId": "94b4ea02-cfe7-4d06-f31e-3d10d95069b7"
      },
      "execution_count": 64,
      "outputs": [
        {
          "output_type": "stream",
          "name": "stdout",
          "text": [
            "+---+---------------------+------+--------+--------+---+-----+----+------+------+----+-----+---+---+----+--------+---+---+---------+---------+---------+----------+--------+-----+\n",
            "|_c0|trans_date_trans_time|cc_num|merchant|category|amt|first|last|gender|street|city|state|zip|lat|long|city_pop|job|dob|trans_num|unix_time|merch_lat|merch_long|is_fraud|count|\n",
            "+---+---------------------+------+--------+--------+---+-----+----+------+------+----+-----+---+---+----+--------+---+---+---------+---------+---------+----------+--------+-----+\n",
            "+---+---------------------+------+--------+--------+---+-----+----+------+------+----+-----+---+---+----+--------+---+---+---------+---------+---------+----------+--------+-----+\n",
            "\n"
          ]
        }
      ]
    },
    {
      "cell_type": "code",
      "source": [
        "duplicates(test)"
      ],
      "metadata": {
        "colab": {
          "base_uri": "https://localhost:8080/"
        },
        "id": "4N0zE8yUQ8vK",
        "outputId": "a07d65c4-7077-46ef-d706-b51da2ebf11f"
      },
      "execution_count": 65,
      "outputs": [
        {
          "output_type": "stream",
          "name": "stdout",
          "text": [
            "+---+---------------------+------+--------+--------+---+-----+----+------+------+----+-----+---+---+----+--------+---+---+---------+---------+---------+----------+--------+-----+\n",
            "|_c0|trans_date_trans_time|cc_num|merchant|category|amt|first|last|gender|street|city|state|zip|lat|long|city_pop|job|dob|trans_num|unix_time|merch_lat|merch_long|is_fraud|count|\n",
            "+---+---------------------+------+--------+--------+---+-----+----+------+------+----+-----+---+---+----+--------+---+---+---------+---------+---------+----------+--------+-----+\n",
            "+---+---------------------+------+--------+--------+---+-----+----+------+------+----+-----+---+---+----+--------+---+---+---------+---------+---------+----------+--------+-----+\n",
            "\n"
          ]
        }
      ]
    },
    {
      "cell_type": "markdown",
      "metadata": {
        "id": "aSFLj0LJiSmY"
      },
      "source": [
        "## Feature Engineering <a name=\"features\"></a>\n",
        "[Table of contents](#table_cont)"
      ]
    },
    {
      "cell_type": "code",
      "source": [
        "def feature_engine(df):\n",
        "  # extract date, time, create 'age' variable based on dob (date of birth),\n",
        "  # create 'distance' based on difference between lat,long and merchant_lat,merchant_long\n",
        "  df = df.withColumn('year', year('trans_date_trans_time'))\\\n",
        "         .withColumn('month', month('trans_date_trans_time'))\\\n",
        "         .withColumn('day_week', dayofweek('trans_date_trans_time'))\\\n",
        "         .withColumn('time', date_format('trans_date_trans_time', 'HH:mm:ss'))\\\n",
        "         .withColumn('age', floor(date_diff(current_date(), col('dob'))/365.25))\\\n",
        "         .withColumn('lat_diff', col('lat')-col('merch_lat'))\\\n",
        "         .withColumn('long_diff', col('long')-col('merch_long'))\n",
        "  df = df.drop(*['_c0','trans_date_trans_time','cc_num','first','last','street','dob','trans_num'])\n",
        "\n",
        "  return df"
      ],
      "metadata": {
        "id": "89W7hTGeK7k1"
      },
      "execution_count": 81,
      "outputs": []
    },
    {
      "cell_type": "code",
      "source": [
        "# crete new dataframes with new features and dropped useless ones\n",
        "adj_train = feature_engine(train)\n",
        "adj_test = feature_engine(test)"
      ],
      "metadata": {
        "id": "gqJC1eaiRe-h"
      },
      "execution_count": 82,
      "outputs": []
    },
    {
      "cell_type": "code",
      "source": [
        "adj_train.show(2)"
      ],
      "metadata": {
        "id": "jspN6JBZ9qMA",
        "outputId": "b569ea78-232b-4157-8cf6-b941bd2ff28b",
        "colab": {
          "base_uri": "https://localhost:8080/"
        }
      },
      "execution_count": 117,
      "outputs": [
        {
          "output_type": "stream",
          "name": "stdout",
          "text": [
            "+--------------------+-----------+------+------+--------------+-----+-----+-------+---------+--------+--------------------+----------+------------------+-----------+--------+----+-----+--------+--------+---+--------------------+--------------------+\n",
            "|            merchant|   category|   amt|gender|          city|state|  zip|    lat|     long|city_pop|                 job| unix_time|         merch_lat| merch_long|is_fraud|year|month|day_week|    time|age|            lat_diff|           long_diff|\n",
            "+--------------------+-----------+------+------+--------------+-----+-----+-------+---------+--------+--------------------+----------+------------------+-----------+--------+----+-----+--------+--------+---+--------------------+--------------------+\n",
            "|fraud_Rippin, Kub...|   misc_net|  4.97|     F|Moravian Falls|   NC|28654|36.0788| -81.1781|    3495|Psychologist, cou...|1325376018|         36.011293| -82.048315|       0|2019|    1|       3|00:00:18| 36|  0.0675069999999991|  0.8702150000000017|\n",
            "|fraud_Heller, Gut...|grocery_pos|107.23|     F|        Orient|   WA|99160|48.8878|-118.2105|     149|Special education...|1325376044|49.159046999999994|-118.186462|       0|2019|    1|       3|00:00:44| 46|-0.27124699999999535|-0.02403799999999...|\n",
            "+--------------------+-----------+------+------+--------------+-----+-----+-------+---------+--------+--------------------+----------+------------------+-----------+--------+----+-----+--------+--------+---+--------------------+--------------------+\n",
            "only showing top 2 rows\n",
            "\n"
          ]
        }
      ]
    },
    {
      "cell_type": "markdown",
      "metadata": {
        "id": "tCCvKJ7BiSmX"
      },
      "source": [
        "## EDA  <a name=\"eda\"></a>\n",
        "[Table of contents](#table_cont)"
      ]
    },
    {
      "cell_type": "markdown",
      "source": [
        "### Fraud"
      ],
      "metadata": {
        "id": "blv3gevz7DVH"
      }
    },
    {
      "cell_type": "code",
      "source": [
        "# check distribuition of fraud and non-fraud in my dataset\n",
        "adj_train.groupby('is_fraud').count().show()"
      ],
      "metadata": {
        "id": "pSO-w2BD0P9W",
        "outputId": "9bb69612-388d-4dcc-88bf-8f4f8ac1f7c6",
        "colab": {
          "base_uri": "https://localhost:8080/"
        }
      },
      "execution_count": 97,
      "outputs": [
        {
          "output_type": "stream",
          "name": "stdout",
          "text": [
            "+--------+-------+\n",
            "|is_fraud|  count|\n",
            "+--------+-------+\n",
            "|       1|   7506|\n",
            "|       0|1289169|\n",
            "+--------+-------+\n",
            "\n"
          ]
        }
      ]
    },
    {
      "cell_type": "code",
      "source": [
        "# frauds by year\n",
        "adj_train.groupby(*['year','is_fraud']).count().show()"
      ],
      "metadata": {
        "id": "-LPW_3r9AJSJ",
        "outputId": "944ee852-bbd5-4a6c-a261-d35e38e907a2",
        "colab": {
          "base_uri": "https://localhost:8080/"
        }
      },
      "execution_count": 133,
      "outputs": [
        {
          "output_type": "stream",
          "name": "stdout",
          "text": [
            "+----+--------+------+\n",
            "|year|is_fraud| count|\n",
            "+----+--------+------+\n",
            "|2019|       1|  5220|\n",
            "|2019|       0|919630|\n",
            "|2020|       1|  2286|\n",
            "|2020|       0|369539|\n",
            "+----+--------+------+\n",
            "\n"
          ]
        }
      ]
    },
    {
      "cell_type": "code",
      "source": [
        "# check distribution of frauds along the year (2019)\n",
        "adj_train.groupby(*['year','month','is_fraud']).count().filter((col('year') == 2019) & (col('is_fraud') == 1)).sort(asc('month')).show()"
      ],
      "metadata": {
        "id": "0Cwif5Ky7L50",
        "outputId": "12d18968-3de1-4c9c-9985-55d32a7829ba",
        "colab": {
          "base_uri": "https://localhost:8080/"
        }
      },
      "execution_count": 116,
      "outputs": [
        {
          "output_type": "stream",
          "name": "stdout",
          "text": [
            "+----+-----+--------+-----+\n",
            "|year|month|is_fraud|count|\n",
            "+----+-----+--------+-----+\n",
            "|2019|    1|       1|  506|\n",
            "|2019|    2|       1|  517|\n",
            "|2019|    3|       1|  494|\n",
            "|2019|    4|       1|  376|\n",
            "|2019|    5|       1|  408|\n",
            "|2019|    6|       1|  354|\n",
            "|2019|    7|       1|  331|\n",
            "|2019|    8|       1|  382|\n",
            "|2019|    9|       1|  418|\n",
            "|2019|   10|       1|  454|\n",
            "|2019|   11|       1|  388|\n",
            "|2019|   12|       1|  592|\n",
            "+----+-----+--------+-----+\n",
            "\n"
          ]
        }
      ]
    },
    {
      "cell_type": "code",
      "source": [
        "# check distribution of frauds along the year (2020)\n",
        "adj_train.groupby(*['year','month','is_fraud']).count().filter((col('year') == 2020) & (col('is_fraud') == 1)).sort(asc('month')).show()"
      ],
      "metadata": {
        "id": "fEIRUzCO900O",
        "outputId": "0a062c42-6627-4151-b47c-c4f837a94bcc",
        "colab": {
          "base_uri": "https://localhost:8080/"
        }
      },
      "execution_count": 118,
      "outputs": [
        {
          "output_type": "stream",
          "name": "stdout",
          "text": [
            "+----+-----+--------+-----+\n",
            "|year|month|is_fraud|count|\n",
            "+----+-----+--------+-----+\n",
            "|2020|    1|       1|  343|\n",
            "|2020|    2|       1|  336|\n",
            "|2020|    3|       1|  444|\n",
            "|2020|    4|       1|  302|\n",
            "|2020|    5|       1|  527|\n",
            "|2020|    6|       1|  334|\n",
            "+----+-----+--------+-----+\n",
            "\n"
          ]
        }
      ]
    },
    {
      "cell_type": "code",
      "source": [
        "adj_test.groupby('is_fraud').count().show()"
      ],
      "metadata": {
        "id": "d-dY8z6k7Fyi",
        "outputId": "7882deec-f807-4410-e954-49dbf9f183ff",
        "colab": {
          "base_uri": "https://localhost:8080/"
        }
      },
      "execution_count": 99,
      "outputs": [
        {
          "output_type": "stream",
          "name": "stdout",
          "text": [
            "+--------+------+\n",
            "|is_fraud| count|\n",
            "+--------+------+\n",
            "|       1|  2145|\n",
            "|       0|553574|\n",
            "+--------+------+\n",
            "\n"
          ]
        }
      ]
    },
    {
      "cell_type": "markdown",
      "source": [
        "### Merchant"
      ],
      "metadata": {
        "id": "qV91C7Wm1Ub7"
      }
    },
    {
      "cell_type": "code",
      "source": [
        "# unique merchants\n",
        "adj_train.select('merchant').distinct().count()"
      ],
      "metadata": {
        "id": "e53L3tKN_hdH",
        "outputId": "74ed803e-2507-4a25-ae8e-f008a31df1e1",
        "colab": {
          "base_uri": "https://localhost:8080/"
        }
      },
      "execution_count": 129,
      "outputs": [
        {
          "output_type": "execute_result",
          "data": {
            "text/plain": [
              "693"
            ]
          },
          "metadata": {},
          "execution_count": 129
        }
      ]
    },
    {
      "cell_type": "code",
      "source": [
        "# main merchants\n",
        "adj_train.groupby(*['merchant','is_fraud']).count().filter(col('is_fraud') == 1).sort(desc('count')).show(10)"
      ],
      "metadata": {
        "id": "HoQ-1mHg0QLD",
        "outputId": "b67641e6-c0f7-4c2f-d5ed-f3946de0aa3d",
        "colab": {
          "base_uri": "https://localhost:8080/"
        }
      },
      "execution_count": 136,
      "outputs": [
        {
          "output_type": "stream",
          "name": "stdout",
          "text": [
            "+--------------------+--------+-----+\n",
            "|            merchant|is_fraud|count|\n",
            "+--------------------+--------+-----+\n",
            "|  fraud_Rau and Sons|       1|   49|\n",
            "|   fraud_Cormier LLC|       1|   48|\n",
            "|   fraud_Kozey-Boehm|       1|   48|\n",
            "|fraud_Vandervort-...|       1|   47|\n",
            "|   fraud_Kilback LLC|       1|   47|\n",
            "|     fraud_Doyle Ltd|       1|   47|\n",
            "|      fraud_Kuhn LLC|       1|   44|\n",
            "| fraud_Padberg-Welch|       1|   44|\n",
            "|    fraud_Terry-Huel|       1|   43|\n",
            "|      fraud_Jast Ltd|       1|   42|\n",
            "+--------------------+--------+-----+\n",
            "only showing top 10 rows\n",
            "\n"
          ]
        }
      ]
    },
    {
      "cell_type": "code",
      "source": [
        "# top merchant & CC fraud 2019\n",
        "adj_train.groupby(*['year','merchant','is_fraud']).count().filter((col('year') == 2019) & (col('is_fraud') == 1)).sort(desc('count')).show(10)"
      ],
      "metadata": {
        "id": "JW7JIVBN0P55",
        "outputId": "98a8945f-4f7c-4a68-e31b-52c20535f02d",
        "colab": {
          "base_uri": "https://localhost:8080/"
        }
      },
      "execution_count": 131,
      "outputs": [
        {
          "output_type": "stream",
          "name": "stdout",
          "text": [
            "+----+--------------------+--------+-----+\n",
            "|year|            merchant|is_fraud|count|\n",
            "+----+--------------------+--------+-----+\n",
            "|2019|  fraud_Hudson-Ratke|       1|   37|\n",
            "|2019|   fraud_Kilback LLC|       1|   35|\n",
            "|2019|  fraud_Rau and Sons|       1|   33|\n",
            "|2019|   fraud_Cormier LLC|       1|   32|\n",
            "|2019|fraud_Gleason-Mac...|       1|   32|\n",
            "|2019| fraud_Koepp-Witting|       1|   32|\n",
            "|2019|      fraud_Kuhn LLC|       1|   32|\n",
            "|2019|     fraud_Kuhic LLC|       1|   31|\n",
            "|2019| fraud_Padberg-Welch|       1|   31|\n",
            "|2019|fraud_Boyer-Reichert|       1|   31|\n",
            "+----+--------------------+--------+-----+\n",
            "only showing top 10 rows\n",
            "\n"
          ]
        }
      ]
    },
    {
      "cell_type": "code",
      "source": [
        "# top merchant & CC fraud 2020\n",
        "adj_train.groupby(*['year','merchant','is_fraud']).count().filter((col('year') == 2020) & (col('is_fraud') == 1)).sort(desc('count')).show(10)"
      ],
      "metadata": {
        "id": "aQAOGCpk0P2e",
        "outputId": "fcf87b00-b329-4447-880b-4292d8cd1326",
        "colab": {
          "base_uri": "https://localhost:8080/"
        }
      },
      "execution_count": 132,
      "outputs": [
        {
          "output_type": "stream",
          "name": "stdout",
          "text": [
            "+----+--------------------+--------+-----+\n",
            "|year|            merchant|is_fraud|count|\n",
            "+----+--------------------+--------+-----+\n",
            "|2020|     fraud_Doyle Ltd|       1|   23|\n",
            "|2020|fraud_Kerluke-Abs...|       1|   19|\n",
            "|2020|   fraud_Kozey-Boehm|       1|   18|\n",
            "|2020|     fraud_Kiehn Inc|       1|   16|\n",
            "|2020|fraud_Vandervort-...|       1|   16|\n",
            "|2020|   fraud_Cormier LLC|       1|   16|\n",
            "|2020|fraud_Moen, Reing...|       1|   16|\n",
            "|2020|  fraud_Rau and Sons|       1|   16|\n",
            "|2020|fraud_Langworth, ...|       1|   16|\n",
            "|2020|    fraud_Fisher Inc|       1|   15|\n",
            "+----+--------------------+--------+-----+\n",
            "only showing top 10 rows\n",
            "\n"
          ]
        }
      ]
    },
    {
      "cell_type": "markdown",
      "source": [
        "### Category"
      ],
      "metadata": {
        "id": "lS8Q4YIIDMAS"
      }
    },
    {
      "cell_type": "code",
      "source": [
        "# unique categories\n",
        "adj_train.select('category').distinct().count()"
      ],
      "metadata": {
        "id": "Y2Db1-YHDbEI",
        "outputId": "ca5fd457-ede5-4000-b673-96df74bb1cc4",
        "colab": {
          "base_uri": "https://localhost:8080/"
        }
      },
      "execution_count": 138,
      "outputs": [
        {
          "output_type": "execute_result",
          "data": {
            "text/plain": [
              "14"
            ]
          },
          "metadata": {},
          "execution_count": 138
        }
      ]
    },
    {
      "cell_type": "code",
      "source": [
        "# main frauded categories\n",
        "adj_train.groupby(*['category','is_fraud']).count().filter(col('is_fraud') == 1).sort(desc('count')).show(14)"
      ],
      "metadata": {
        "id": "pqrF6JdqDL1q",
        "outputId": "9ccb693e-406d-4831-cee2-9ab49eb384c1",
        "colab": {
          "base_uri": "https://localhost:8080/"
        }
      },
      "execution_count": 139,
      "outputs": [
        {
          "output_type": "stream",
          "name": "stdout",
          "text": [
            "+--------------+--------+-----+\n",
            "|      category|is_fraud|count|\n",
            "+--------------+--------+-----+\n",
            "|   grocery_pos|       1| 1743|\n",
            "|  shopping_net|       1| 1713|\n",
            "|      misc_net|       1|  915|\n",
            "|  shopping_pos|       1|  843|\n",
            "| gas_transport|       1|  618|\n",
            "|      misc_pos|       1|  250|\n",
            "|     kids_pets|       1|  239|\n",
            "| entertainment|       1|  233|\n",
            "| personal_care|       1|  220|\n",
            "|          home|       1|  198|\n",
            "|   food_dining|       1|  151|\n",
            "|   grocery_net|       1|  134|\n",
            "|health_fitness|       1|  133|\n",
            "|        travel|       1|  116|\n",
            "+--------------+--------+-----+\n",
            "\n"
          ]
        }
      ]
    },
    {
      "cell_type": "code",
      "source": [
        "# categories & CC fraud 2019\n",
        "adj_train.groupby(*['year','category','is_fraud']).count().filter((col('year') == 2019) & (col('is_fraud') == 1)).sort(desc('count')).show(14)"
      ],
      "metadata": {
        "id": "HyixzURtDLz9",
        "outputId": "4722d1d9-9eda-43bc-83a5-2622ae37dc86",
        "colab": {
          "base_uri": "https://localhost:8080/"
        }
      },
      "execution_count": 141,
      "outputs": [
        {
          "output_type": "stream",
          "name": "stdout",
          "text": [
            "+----+--------------+--------+-----+\n",
            "|year|      category|is_fraud|count|\n",
            "+----+--------------+--------+-----+\n",
            "|2019|   grocery_pos|       1| 1202|\n",
            "|2019|  shopping_net|       1| 1201|\n",
            "|2019|      misc_net|       1|  629|\n",
            "|2019|  shopping_pos|       1|  583|\n",
            "|2019| gas_transport|       1|  439|\n",
            "|2019|     kids_pets|       1|  172|\n",
            "|2019|      misc_pos|       1|  170|\n",
            "|2019| entertainment|       1|  163|\n",
            "|2019| personal_care|       1|  152|\n",
            "|2019|          home|       1|  129|\n",
            "|2019|   food_dining|       1|  104|\n",
            "|2019|health_fitness|       1|   96|\n",
            "|2019|   grocery_net|       1|   94|\n",
            "|2019|        travel|       1|   86|\n",
            "+----+--------------+--------+-----+\n",
            "\n"
          ]
        }
      ]
    },
    {
      "cell_type": "code",
      "source": [
        "# Higher amount by cartegory and frauded in 2019\n",
        "adj_train.groupby(*['year','category','is_fraud']).sum('amt').filter((col('year') == 2019) & (col('is_fraud') == 1)).sort(desc('sum(amt)')).show(14)"
      ],
      "metadata": {
        "id": "v6IzOwvkDLxB",
        "outputId": "8f3a47e8-11fa-4bd8-c4a4-f127632b44eb",
        "colab": {
          "base_uri": "https://localhost:8080/"
        }
      },
      "execution_count": 160,
      "outputs": [
        {
          "output_type": "stream",
          "name": "stdout",
          "text": [
            "+----+--------------+--------+------------------+\n",
            "|year|      category|is_fraud|          sum(amt)|\n",
            "+----+--------------+--------+------------------+\n",
            "|2019|  shopping_net|       1|1202563.4199999995|\n",
            "|2019|  shopping_pos|       1| 512650.4299999999|\n",
            "|2019|      misc_net|       1| 500575.6700000001|\n",
            "|2019|   grocery_pos|       1|         375168.02|\n",
            "|2019| entertainment|       1| 82990.86000000002|\n",
            "|2019|          home|       1|33465.909999999996|\n",
            "|2019|      misc_pos|       1|31586.319999999992|\n",
            "|2019|   food_dining|       1|12401.849999999999|\n",
            "|2019| gas_transport|       1| 5433.089999999998|\n",
            "|2019| personal_care|       1| 4024.290000000001|\n",
            "|2019|     kids_pets|       1|3076.3100000000004|\n",
            "|2019|health_fitness|       1|           1944.62|\n",
            "|2019|   grocery_net|       1|           1172.03|\n",
            "|2019|        travel|       1|            770.05|\n",
            "+----+--------------+--------+------------------+\n",
            "\n"
          ]
        }
      ]
    },
    {
      "cell_type": "code",
      "source": [
        "# Higher amount by cartegory and frauded in 2020\n",
        "adj_train.groupby(*['year','category','is_fraud']).sum('amt').filter((col('year') == 2020) & (col('is_fraud') == 1)).sort(desc('sum(amt)')).show(14)"
      ],
      "metadata": {
        "id": "xZufLTupDLue",
        "outputId": "6df4c574-f1eb-455b-f389-c5360275b9e5",
        "colab": {
          "base_uri": "https://localhost:8080/"
        }
      },
      "execution_count": 161,
      "outputs": [
        {
          "output_type": "stream",
          "name": "stdout",
          "text": [
            "+----+--------------+--------+------------------+\n",
            "|year|      category|is_fraud|          sum(amt)|\n",
            "+----+--------------+--------+------------------+\n",
            "|2020|  shopping_net|       1| 509160.2899999995|\n",
            "|2020|      misc_net|       1|228691.08999999997|\n",
            "|2020|  shopping_pos|       1|226594.66000000006|\n",
            "|2020|   grocery_pos|       1|168629.87999999998|\n",
            "|2020| entertainment|       1| 34332.92999999999|\n",
            "|2020|      misc_pos|       1|22984.699999999997|\n",
            "|2020|          home|       1|          17505.75|\n",
            "|2020|   food_dining|       1|           5729.77|\n",
            "|2020| gas_transport|       1|2161.0199999999995|\n",
            "|2020| personal_care|       1| 1733.229999999999|\n",
            "|2020|     kids_pets|       1|1254.7699999999998|\n",
            "|2020|health_fitness|       1| 748.4199999999998|\n",
            "|2020|   grocery_net|       1|457.78999999999996|\n",
            "|2020|        travel|       1|281.44000000000005|\n",
            "+----+--------------+--------+------------------+\n",
            "\n"
          ]
        }
      ]
    },
    {
      "cell_type": "markdown",
      "source": [
        "### Gender"
      ],
      "metadata": {
        "id": "943pvFLoF0w3"
      }
    },
    {
      "cell_type": "code",
      "source": [
        "# gender distribution\n",
        "adj_train.groupby('gender').count().sort(desc('count')).show()"
      ],
      "metadata": {
        "id": "9B0-Za8UJqgd",
        "outputId": "536715de-3ee2-4f54-905e-77167f6cf9bd",
        "colab": {
          "base_uri": "https://localhost:8080/"
        }
      },
      "execution_count": 165,
      "outputs": [
        {
          "output_type": "stream",
          "name": "stdout",
          "text": [
            "+------+------+\n",
            "|gender| count|\n",
            "+------+------+\n",
            "|     F|709863|\n",
            "|     M|586812|\n",
            "+------+------+\n",
            "\n"
          ]
        }
      ]
    },
    {
      "cell_type": "code",
      "source": [
        "# which gender suffers more with CC fraud\n",
        "adj_train.groupby(*['gender','is_fraud']).count().sort(asc('count')).show()"
      ],
      "metadata": {
        "id": "Kj-npKr7DLsM",
        "outputId": "38673761-30e3-4df8-9a6e-7aa2e4f71d9e",
        "colab": {
          "base_uri": "https://localhost:8080/"
        }
      },
      "execution_count": 164,
      "outputs": [
        {
          "output_type": "stream",
          "name": "stdout",
          "text": [
            "+------+--------+------+\n",
            "|gender|is_fraud| count|\n",
            "+------+--------+------+\n",
            "|     F|       1|  3735|\n",
            "|     M|       1|  3771|\n",
            "|     M|       0|583041|\n",
            "|     F|       0|706128|\n",
            "+------+--------+------+\n",
            "\n"
          ]
        }
      ]
    },
    {
      "cell_type": "code",
      "source": [
        "# which gender spends more with CC fraud\n",
        "adj_train.groupby(*['gender','is_fraud']).sum('amt').filter(col('is_fraud')==1).sort(desc('sum(amt)')).show()"
      ],
      "metadata": {
        "id": "JzbPYTypKc80",
        "outputId": "841705f8-440b-47e3-d802-892131ca8791",
        "colab": {
          "base_uri": "https://localhost:8080/"
        }
      },
      "execution_count": 169,
      "outputs": [
        {
          "output_type": "stream",
          "name": "stdout",
          "text": [
            "+------+--------+------------------+\n",
            "|gender|is_fraud|          sum(amt)|\n",
            "+------+--------+------------------+\n",
            "|     M|       1|2142801.2700000023|\n",
            "|     F|       1|1845287.3399999982|\n",
            "+------+--------+------------------+\n",
            "\n"
          ]
        }
      ]
    },
    {
      "cell_type": "code",
      "source": [
        "# how much each gender spended if they suffered fraud (2019)\n",
        "adj_train.groupby(*['year','category','gender','is_fraud']).sum('amt').filter((col('year') == 2019) & (col('is_fraud') == 1)).sort(desc('sum(amt)')).show(14)"
      ],
      "metadata": {
        "id": "2ZbstRoVKQP6",
        "outputId": "79240cb7-a6af-44c5-8bda-1b064a72dce5",
        "colab": {
          "base_uri": "https://localhost:8080/"
        }
      },
      "execution_count": 167,
      "outputs": [
        {
          "output_type": "stream",
          "name": "stdout",
          "text": [
            "+----+-------------+------+--------+------------------+\n",
            "|year|     category|gender|is_fraud|          sum(amt)|\n",
            "+----+-------------+------+--------+------------------+\n",
            "|2019| shopping_net|     M|       1| 735598.6099999999|\n",
            "|2019| shopping_net|     F|       1|466964.80999999994|\n",
            "|2019|     misc_net|     M|       1|284502.30000000005|\n",
            "|2019| shopping_pos|     F|       1|         282235.86|\n",
            "|2019| shopping_pos|     M|       1|230414.56999999995|\n",
            "|2019|     misc_net|     F|       1|216073.37000000005|\n",
            "|2019|  grocery_pos|     M|       1|212679.80000000005|\n",
            "|2019|  grocery_pos|     F|       1|162488.22000000006|\n",
            "|2019|entertainment|     F|       1| 49913.71000000001|\n",
            "|2019|entertainment|     M|       1|33077.149999999994|\n",
            "|2019|     misc_pos|     F|       1|          30448.77|\n",
            "|2019|         home|     F|       1|          29845.39|\n",
            "|2019|  food_dining|     F|       1| 9263.490000000002|\n",
            "|2019|         home|     M|       1|3620.5200000000004|\n",
            "+----+-------------+------+--------+------------------+\n",
            "only showing top 14 rows\n",
            "\n"
          ]
        }
      ]
    },
    {
      "cell_type": "code",
      "source": [
        "# how much each gender spended if they suffered fraud (2020)\n",
        "adj_train.groupby(*['year','category','gender','is_fraud']).sum('amt').filter((col('year') == 2020) & (col('is_fraud') == 1)).sort(desc('sum(amt)')).show(14)"
      ],
      "metadata": {
        "id": "eewRUZ1dDLp1",
        "outputId": "ff28c79f-1c84-485f-a1b0-23de70f9f4f3",
        "colab": {
          "base_uri": "https://localhost:8080/"
        }
      },
      "execution_count": 166,
      "outputs": [
        {
          "output_type": "stream",
          "name": "stdout",
          "text": [
            "+----+-------------+------+--------+------------------+\n",
            "|year|     category|gender|is_fraud|          sum(amt)|\n",
            "+----+-------------+------+--------+------------------+\n",
            "|2020| shopping_net|     M|       1| 288958.1199999999|\n",
            "|2020| shopping_net|     F|       1|220202.17000000013|\n",
            "|2020|     misc_net|     M|       1|         131204.01|\n",
            "|2020| shopping_pos|     F|       1|122150.40999999997|\n",
            "|2020| shopping_pos|     M|       1|104444.24999999997|\n",
            "|2020|     misc_net|     F|       1| 97487.08000000003|\n",
            "|2020|  grocery_pos|     M|       1| 91167.47000000002|\n",
            "|2020|  grocery_pos|     F|       1|          77462.41|\n",
            "|2020|entertainment|     F|       1|          22900.44|\n",
            "|2020|     misc_pos|     F|       1|          22635.95|\n",
            "|2020|         home|     F|       1|16300.210000000001|\n",
            "|2020|entertainment|     M|       1|11432.490000000002|\n",
            "|2020|  food_dining|     F|       1|           4634.48|\n",
            "|2020|gas_transport|     M|       1|           1245.37|\n",
            "+----+-------------+------+--------+------------------+\n",
            "only showing top 14 rows\n",
            "\n"
          ]
        }
      ]
    },
    {
      "cell_type": "markdown",
      "source": [
        "### Age"
      ],
      "metadata": {
        "id": "E8GlwxIGK1V2"
      }
    },
    {
      "cell_type": "code",
      "source": [
        "# age distribution if CC frauded\n",
        "adj_train.groupby(*['age','is_fraud']).count().filter(col('is_fraud')==1).sort(desc('count')).show()"
      ],
      "metadata": {
        "id": "3gE8pBk5DLnO",
        "outputId": "254acad0-fb4a-4dc6-c905-adc75b29f90e",
        "colab": {
          "base_uri": "https://localhost:8080/"
        }
      },
      "execution_count": 173,
      "outputs": [
        {
          "output_type": "stream",
          "name": "stdout",
          "text": [
            "+---+--------+-----+\n",
            "|age|is_fraud|count|\n",
            "+---+--------+-----+\n",
            "| 34|       1|  196|\n",
            "| 50|       1|  187|\n",
            "| 38|       1|  183|\n",
            "| 52|       1|  182|\n",
            "| 48|       1|  181|\n",
            "| 63|       1|  177|\n",
            "| 31|       1|  172|\n",
            "| 57|       1|  167|\n",
            "| 54|       1|  163|\n",
            "| 37|       1|  162|\n",
            "| 27|       1|  156|\n",
            "| 35|       1|  155|\n",
            "| 29|       1|  154|\n",
            "| 58|       1|  151|\n",
            "| 53|       1|  150|\n",
            "| 61|       1|  143|\n",
            "| 43|       1|  143|\n",
            "| 60|       1|  142|\n",
            "| 55|       1|  142|\n",
            "| 68|       1|  141|\n",
            "+---+--------+-----+\n",
            "only showing top 20 rows\n",
            "\n"
          ]
        }
      ]
    },
    {
      "cell_type": "code",
      "source": [
        "## frauded cc age & sex distribution\n",
        "adj_train.groupby(*['age','gender','is_fraud']).count().filter(col('is_fraud')==1).sort(desc('count')).show()"
      ],
      "metadata": {
        "id": "jp1G705cDLk2",
        "outputId": "6aacf024-bbcb-4c03-cbfa-162026bfb25a",
        "colab": {
          "base_uri": "https://localhost:8080/"
        }
      },
      "execution_count": 174,
      "outputs": [
        {
          "output_type": "stream",
          "name": "stdout",
          "text": [
            "+---+------+--------+-----+\n",
            "|age|gender|is_fraud|count|\n",
            "+---+------+--------+-----+\n",
            "| 34|     M|       1|  146|\n",
            "| 53|     F|       1|  119|\n",
            "| 52|     F|       1|  118|\n",
            "| 57|     M|       1|  109|\n",
            "| 38|     F|       1|  108|\n",
            "| 48|     M|       1|  104|\n",
            "| 55|     M|       1|  103|\n",
            "| 58|     M|       1|   97|\n",
            "| 46|     M|       1|   96|\n",
            "| 44|     M|       1|   94|\n",
            "| 50|     M|       1|   94|\n",
            "| 31|     F|       1|   94|\n",
            "| 63|     F|       1|   93|\n",
            "| 50|     F|       1|   93|\n",
            "| 43|     M|       1|   92|\n",
            "| 37|     M|       1|   91|\n",
            "| 60|     M|       1|   86|\n",
            "| 61|     F|       1|   86|\n",
            "| 35|     M|       1|   85|\n",
            "| 63|     M|       1|   84|\n",
            "+---+------+--------+-----+\n",
            "only showing top 20 rows\n",
            "\n"
          ]
        }
      ]
    },
    {
      "cell_type": "code",
      "source": [
        "# amount spent by age with frauded CC\n",
        "adj_train.groupby(*['age','is_fraud']).sum('amt').filter(col('is_fraud')==1).sort(desc('sum(amt)')).show(5)"
      ],
      "metadata": {
        "id": "him4IlUSMBGJ",
        "outputId": "2d7f2650-bf18-47c1-f8be-1e7f5e9a6e16",
        "colab": {
          "base_uri": "https://localhost:8080/"
        }
      },
      "execution_count": 177,
      "outputs": [
        {
          "output_type": "stream",
          "name": "stdout",
          "text": [
            "+---+--------+------------------+\n",
            "|age|is_fraud|          sum(amt)|\n",
            "+---+--------+------------------+\n",
            "| 34|       1|109248.05999999998|\n",
            "| 63|       1|102921.00000000001|\n",
            "| 48|       1| 91865.23000000001|\n",
            "| 29|       1| 90028.45999999999|\n",
            "| 37|       1|          89043.31|\n",
            "+---+--------+------------------+\n",
            "only showing top 5 rows\n",
            "\n"
          ]
        }
      ]
    },
    {
      "cell_type": "code",
      "source": [
        "# total spend on frauded cc by gender and age\n",
        "adj_train.groupby(*['age','gender','is_fraud']).sum('amt').filter(col('is_fraud')==1).sort(desc('sum(amt)')).show(5)"
      ],
      "metadata": {
        "id": "A1yGLXaADLX8",
        "outputId": "a4ce8d85-6600-49e6-f985-03b89d34e558",
        "colab": {
          "base_uri": "https://localhost:8080/"
        }
      },
      "execution_count": 178,
      "outputs": [
        {
          "output_type": "stream",
          "name": "stdout",
          "text": [
            "+---+------+--------+------------------+\n",
            "|age|gender|is_fraud|          sum(amt)|\n",
            "+---+------+--------+------------------+\n",
            "| 34|     M|       1| 86134.79999999999|\n",
            "| 48|     M|       1|64653.619999999995|\n",
            "| 55|     M|       1|          63821.48|\n",
            "| 37|     M|       1| 59853.69999999999|\n",
            "| 57|     M|       1|58460.399999999994|\n",
            "+---+------+--------+------------------+\n",
            "only showing top 5 rows\n",
            "\n"
          ]
        }
      ]
    },
    {
      "cell_type": "markdown",
      "source": [
        "### Location (State, city, population size)"
      ],
      "metadata": {
        "id": "HOOANsSzMd9H"
      }
    },
    {
      "cell_type": "code",
      "source": [],
      "metadata": {
        "id": "KwLUOL63MaTj"
      },
      "execution_count": null,
      "outputs": []
    },
    {
      "cell_type": "code",
      "source": [],
      "metadata": {
        "id": "bog36-JyLwLe"
      },
      "execution_count": null,
      "outputs": []
    },
    {
      "cell_type": "code",
      "source": [],
      "metadata": {
        "id": "U2QWuXgR0PyN"
      },
      "execution_count": null,
      "outputs": []
    },
    {
      "cell_type": "code",
      "source": [],
      "metadata": {
        "id": "SJQMhKXj0PuX"
      },
      "execution_count": null,
      "outputs": []
    },
    {
      "cell_type": "code",
      "source": [
        "adj_train.show(2)"
      ],
      "metadata": {
        "id": "XPKWrL_nJGtz",
        "outputId": "1cef189d-1d9a-47d7-dbc6-bdfec14ffd5c",
        "colab": {
          "base_uri": "https://localhost:8080/"
        }
      },
      "execution_count": 162,
      "outputs": [
        {
          "output_type": "stream",
          "name": "stdout",
          "text": [
            "+--------------------+-----------+------+------+--------------+-----+-----+-------+---------+--------+--------------------+----------+------------------+-----------+--------+----+-----+--------+--------+---+--------------------+--------------------+\n",
            "|            merchant|   category|   amt|gender|          city|state|  zip|    lat|     long|city_pop|                 job| unix_time|         merch_lat| merch_long|is_fraud|year|month|day_week|    time|age|            lat_diff|           long_diff|\n",
            "+--------------------+-----------+------+------+--------------+-----+-----+-------+---------+--------+--------------------+----------+------------------+-----------+--------+----+-----+--------+--------+---+--------------------+--------------------+\n",
            "|fraud_Rippin, Kub...|   misc_net|  4.97|     F|Moravian Falls|   NC|28654|36.0788| -81.1781|    3495|Psychologist, cou...|1325376018|         36.011293| -82.048315|       0|2019|    1|       3|00:00:18| 36|  0.0675069999999991|  0.8702150000000017|\n",
            "|fraud_Heller, Gut...|grocery_pos|107.23|     F|        Orient|   WA|99160|48.8878|-118.2105|     149|Special education...|1325376044|49.159046999999994|-118.186462|       0|2019|    1|       3|00:00:44| 46|-0.27124699999999535|-0.02403799999999...|\n",
            "+--------------------+-----------+------+------+--------------+-----+-----+-------+---------+--------+--------------------+----------+------------------+-----------+--------+----+-----+--------+--------+---+--------------------+--------------------+\n",
            "only showing top 2 rows\n",
            "\n"
          ]
        }
      ]
    },
    {
      "cell_type": "markdown",
      "source": [
        "## Data Preparation <a name=\"data_prep\"></a>\n",
        "[Table of contents](#table_cont)"
      ],
      "metadata": {
        "id": "oOPdhkzqSlWf"
      }
    },
    {
      "cell_type": "code",
      "source": [
        "# drop variables\n",
        "## ['_c0','trans_date_trans_time','cc_num']"
      ],
      "metadata": {
        "id": "8Bbhu8XGTOHF"
      },
      "execution_count": 69,
      "outputs": []
    },
    {
      "cell_type": "markdown",
      "metadata": {
        "id": "22c11t8BiSmY"
      },
      "source": [
        "## ML Models <a name=\"ml_mod\"></a>\n",
        "[Table of contents](#table_cont)"
      ]
    },
    {
      "cell_type": "markdown",
      "metadata": {
        "id": "tapAfHf6iSmY"
      },
      "source": [
        "## Comparing results <a name=\"results\"></a>\n",
        "[Table of contents](#table_cont)"
      ]
    },
    {
      "cell_type": "markdown",
      "metadata": {
        "id": "i3N_7C_iiSmY"
      },
      "source": [
        "## Take Aways <a name=\"take_away\"></a>\n",
        "[Table of contents](#table_cont)"
      ]
    }
  ],
  "metadata": {
    "kernelspec": {
      "display_name": ".venv",
      "language": "python",
      "name": "python3"
    },
    "language_info": {
      "codemirror_mode": {
        "name": "ipython",
        "version": 3
      },
      "file_extension": ".py",
      "mimetype": "text/x-python",
      "name": "python",
      "nbconvert_exporter": "python",
      "pygments_lexer": "ipython3",
      "version": "3.11.9"
    },
    "colab": {
      "provenance": []
    }
  },
  "nbformat": 4,
  "nbformat_minor": 0
}