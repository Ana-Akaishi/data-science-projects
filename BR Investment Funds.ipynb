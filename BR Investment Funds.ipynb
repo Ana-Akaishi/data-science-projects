{
 "cells": [
  {
   "cell_type": "markdown",
   "metadata": {},
   "source": [
    "# Brazilian Investment Funds Overview\n",
    "\n",
    "This project main objective is to map investment fund market in Brazil. Investment funds can trade in different types of assets, like financial products (stocks, options, debentures), real state or buying part of other funds. Each fund raises capital by offering quotas, this can be an ongoing process (open fund) or only one time offer (closed fund).\n",
    "\n",
    "The funds are created and managed by a financial institution (manager). After the fund basic structure and contract is made, the manager looks for a bank to issue the fund and look for potential investros interested to  buy a quota. This is a very efficient way to poll resources and diversify the risk for all parties involved.\n",
    "\n",
    "Learn more in ANBIMA [PDF](https://www.anbima.com.br/data/files/D7/B6/AD/5E/369EC8104606BDC8B82BA2A8/CPA-10-Cap5.pdf).\n",
    "\n",
    "Now that we know what is an investment fund, and how is its structure, let's be curious about it:\n",
    "- How many funds are in the market?\n",
    "- What are the main assets traded? Financial? Real State? Credit?\n",
    "- Who are the big managers?\n",
    "- Who are the main issuers?\n",
    "- How was the market for the last 10 years?"
   ]
  }
 ],
 "metadata": {
  "language_info": {
   "name": "python"
  }
 },
 "nbformat": 4,
 "nbformat_minor": 2
}
