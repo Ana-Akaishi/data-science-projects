{
  "cells": [
    {
      "cell_type": "markdown",
      "metadata": {
        "id": "IJjOhH6pGCLY"
      },
      "source": [
        "# AB Test - Marketing Campaign Analysis"
      ]
    },
    {
      "cell_type": "markdown",
      "metadata": {
        "id": "iPXb_nRjGCLb"
      },
      "source": [
        "Now, I'll conduct the A/B Test on our marketing campaign dataframe. It's important to stabilish:\n",
        "- I'm analysing the promotions financial performance, so my MAIN METRIC will be `SalesInThousands`\n",
        "- My hyphotesis are:\n",
        "    - H0: the promotions did not have effect on revenue\n",
        "    - H1: the promotions HAD an effect on revenue\n",
        "\n",
        "Before begin doing test, IT'S FUNDAMENTAL TO LOOK INTO THE TYPE OF DISTRIBUTION I HAVE. For this, I'll use Shapiro Normality test and then determine which statiscial metrics I'll use."
      ]
    },
    {
      "cell_type": "code",
      "execution_count": 1,
      "metadata": {
        "id": "UwBoxfoaGCLc"
      },
      "outputs": [],
      "source": [
        "import pandas as pd\n",
        "from scipy.stats import shapiro, ttest_1samp, ttest_ind, levene, kruskal, mannwhitneyu, pearsonr, spearmanr"
      ]
    },
    {
      "cell_type": "code",
      "execution_count": 2,
      "metadata": {
        "id": "bjRjyQdxGCLd"
      },
      "outputs": [],
      "source": [
        "# import dataframe\n",
        "df = pd.read_csv('WA_Marketing-Campaign.csv')\n",
        "\n",
        "# keep only the metric we'll use to analyse promotion performance: SalesInThousands\n",
        "df_clean = df[['Promotion', 'SalesInThousands']]"
      ]
    },
    {
      "cell_type": "markdown",
      "metadata": {
        "id": "D4o6quG-GCLe"
      },
      "source": [
        "## Normality Check"
      ]
    },
    {
      "cell_type": "code",
      "execution_count": 3,
      "metadata": {
        "id": "ui-HFS4ZGCLe",
        "outputId": "c2746b69-7c4b-43b9-ce15-ba6dd8d21cce",
        "colab": {
          "base_uri": "https://localhost:8080/"
        }
      },
      "outputs": [
        {
          "output_type": "stream",
          "name": "stdout",
          "text": [
            "Promotion 3 DOESN NOT HAVE a normal distribution \n",
            "\n",
            "Promotion 2 DOESN NOT HAVE a normal distribution \n",
            "\n",
            "Promotion 1 DOESN NOT HAVE a normal distribution \n",
            "\n"
          ]
        }
      ],
      "source": [
        "# check to see if df has a normal distribution\n",
        "## H0: df HAS a normal distribution: I'll move to parametric methods\n",
        "## H1: df DOESN'T have a normal distribution: I'll use NON parametric methods\n",
        "\n",
        "# Shapiro test is done in arrays, so I need to create an array for each promotion\n",
        "promo_list = df_clean['Promotion'].unique()\n",
        "\n",
        "# loop shapiro test between promotion list(1,2,3) and extract the p-value\n",
        "for promotion in promo_list:\n",
        "    normal_test = shapiro(df_clean.loc[df_clean['Promotion'] == promotion, 'SalesInThousands'])\n",
        "    if normal_test[1] < 0.05:\n",
        "        print(f'Promotion {promotion} DOESN NOT HAVE a normal distribution \\n')\n",
        "    else:\n",
        "        print(f'Promotion {promotion} HAS a normal distribution \\n')"
      ]
    },
    {
      "cell_type": "markdown",
      "metadata": {
        "id": "7eG4Y_LwGCLf"
      },
      "source": [
        "Since our promotion don't have a normal distribution (AS NOTICED DURING THE EDA), I'll use **Nonparametric** statistical methods to determine if there's any didfference between the promotions."
      ]
    },
    {
      "cell_type": "markdown",
      "metadata": {
        "id": "Pxv2We6NGCLf"
      },
      "source": [
        "## A/B Test"
      ]
    },
    {
      "cell_type": "markdown",
      "metadata": {
        "id": "nYf26TLQGCLg"
      },
      "source": [
        "### Levene Test - Variance\n",
        "HO: samples have same variance\n",
        "\n",
        "H1: samples DO NOT HAVE the same variance"
      ]
    },
    {
      "cell_type": "code",
      "execution_count": 4,
      "metadata": {
        "id": "WjYxZvGMGCLg",
        "outputId": "e18aa504-97f9-4257-dca0-330a9ce2accb",
        "colab": {
          "base_uri": "https://localhost:8080/"
        }
      },
      "outputs": [
        {
          "output_type": "stream",
          "name": "stdout",
          "text": [
            "Promotions have the same variance, P-value=0.2818 > 0.05\n"
          ]
        }
      ],
      "source": [
        "# Leven test compares samples in the format of arrays\n",
        "## Since I have 3 samples, because I have 3 promotion, I need compare them all at the same time\n",
        "levene_test, levene_pvalue = levene(df_clean.loc[df_clean['Promotion'] == 1, 'SalesInThousands'],\n",
        "                                    df_clean.loc[df_clean['Promotion'] == 2, 'SalesInThousands'],\n",
        "                                    df_clean.loc[df_clean['Promotion'] == 3, 'SalesInThousands'])\n",
        "\n",
        "if levene_pvalue < 0.05:\n",
        "    print(f'Promotions have different variance, P-value={round(levene_pvalue,4)} < 0.05')\n",
        "else:\n",
        "    print(f'Promotions have the same variance, P-value={round(levene_pvalue,4)} > 0.05')"
      ]
    },
    {
      "cell_type": "markdown",
      "metadata": {
        "id": "AjbV6k42GCLg"
      },
      "source": [
        "### Kruskal-Wallis H-test - Median\n",
        "HO: sample medians are the same\n",
        "\n",
        "H1: sample median are different"
      ]
    },
    {
      "cell_type": "code",
      "execution_count": 5,
      "metadata": {
        "id": "OpWRcIy3GCLh",
        "outputId": "2441075f-2eb2-45d6-c18a-3d8217381bd7",
        "colab": {
          "base_uri": "https://localhost:8080/"
        }
      },
      "outputs": [
        {
          "output_type": "stream",
          "name": "stdout",
          "text": [
            "Promotions have DIFFERENT medians, P-value=0.0 < 0.05\n"
          ]
        }
      ],
      "source": [
        "kruskal_test, kruskal_pvalue = kruskal(df_clean.loc[df_clean['Promotion'] == 1, 'SalesInThousands'],\n",
        "                                    df_clean.loc[df_clean['Promotion'] == 2, 'SalesInThousands'],\n",
        "                                    df_clean.loc[df_clean['Promotion'] == 3, 'SalesInThousands'])\n",
        "\n",
        "if kruskal_pvalue < 0.05:\n",
        "    print(f'Promotions have DIFFERENT medians, P-value={round(kruskal_pvalue,4)} < 0.05')\n",
        "else:\n",
        "    print(f'Promotions have the SAME median, P-value={round(kruskal_pvalue,4)} > 0.05')"
      ]
    },
    {
      "cell_type": "markdown",
      "metadata": {
        "id": "D5cusvOPGCLh"
      },
      "source": [
        "Comparing the 3 promotions, I identified there's a difference between them (due to the different median) and it's statistical significant. The problem I can't pinpoint which one is different, since my **variance** analysis suggest they are the same.\n",
        "\n",
        "To fix this, I'll have to run individual tests and see which ones are different:\n",
        "- Promotion 1 x Promotion 2\n",
        "- Promotion 1 x Promotion 3\n",
        "- Promotion 2 x Promotion 3\n",
        "\n",
        "For this, I'm gonna conduct the a Dunn's Test that is usually conducted after an inconclusive Kurskall-Wallis Test."
      ]
    },
    {
      "cell_type": "code",
      "source": [
        "!pip install scikit_posthocs"
      ],
      "metadata": {
        "collapsed": true,
        "id": "d2ws7wD2GD_d",
        "outputId": "e1732997-4ae3-4fe8-d497-43e2298aef23",
        "colab": {
          "base_uri": "https://localhost:8080/"
        }
      },
      "execution_count": 6,
      "outputs": [
        {
          "output_type": "stream",
          "name": "stdout",
          "text": [
            "Collecting scikit_posthocs\n",
            "  Downloading scikit_posthocs-0.11.3-py3-none-any.whl.metadata (5.8 kB)\n",
            "Requirement already satisfied: numpy in /usr/local/lib/python3.11/dist-packages (from scikit_posthocs) (1.26.4)\n",
            "Requirement already satisfied: scipy>=1.9.0 in /usr/local/lib/python3.11/dist-packages (from scikit_posthocs) (1.14.1)\n",
            "Requirement already satisfied: statsmodels in /usr/local/lib/python3.11/dist-packages (from scikit_posthocs) (0.14.4)\n",
            "Requirement already satisfied: pandas>=0.20.0 in /usr/local/lib/python3.11/dist-packages (from scikit_posthocs) (2.2.2)\n",
            "Requirement already satisfied: seaborn in /usr/local/lib/python3.11/dist-packages (from scikit_posthocs) (0.13.2)\n",
            "Requirement already satisfied: matplotlib in /usr/local/lib/python3.11/dist-packages (from scikit_posthocs) (3.10.0)\n",
            "Requirement already satisfied: python-dateutil>=2.8.2 in /usr/local/lib/python3.11/dist-packages (from pandas>=0.20.0->scikit_posthocs) (2.8.2)\n",
            "Requirement already satisfied: pytz>=2020.1 in /usr/local/lib/python3.11/dist-packages (from pandas>=0.20.0->scikit_posthocs) (2025.1)\n",
            "Requirement already satisfied: tzdata>=2022.7 in /usr/local/lib/python3.11/dist-packages (from pandas>=0.20.0->scikit_posthocs) (2025.1)\n",
            "Requirement already satisfied: contourpy>=1.0.1 in /usr/local/lib/python3.11/dist-packages (from matplotlib->scikit_posthocs) (1.3.1)\n",
            "Requirement already satisfied: cycler>=0.10 in /usr/local/lib/python3.11/dist-packages (from matplotlib->scikit_posthocs) (0.12.1)\n",
            "Requirement already satisfied: fonttools>=4.22.0 in /usr/local/lib/python3.11/dist-packages (from matplotlib->scikit_posthocs) (4.56.0)\n",
            "Requirement already satisfied: kiwisolver>=1.3.1 in /usr/local/lib/python3.11/dist-packages (from matplotlib->scikit_posthocs) (1.4.8)\n",
            "Requirement already satisfied: packaging>=20.0 in /usr/local/lib/python3.11/dist-packages (from matplotlib->scikit_posthocs) (24.2)\n",
            "Requirement already satisfied: pillow>=8 in /usr/local/lib/python3.11/dist-packages (from matplotlib->scikit_posthocs) (11.1.0)\n",
            "Requirement already satisfied: pyparsing>=2.3.1 in /usr/local/lib/python3.11/dist-packages (from matplotlib->scikit_posthocs) (3.2.1)\n",
            "Requirement already satisfied: patsy>=0.5.6 in /usr/local/lib/python3.11/dist-packages (from statsmodels->scikit_posthocs) (1.0.1)\n",
            "Requirement already satisfied: six>=1.5 in /usr/local/lib/python3.11/dist-packages (from python-dateutil>=2.8.2->pandas>=0.20.0->scikit_posthocs) (1.17.0)\n",
            "Downloading scikit_posthocs-0.11.3-py3-none-any.whl (33 kB)\n",
            "Installing collected packages: scikit_posthocs\n",
            "Successfully installed scikit_posthocs-0.11.3\n"
          ]
        }
      ]
    },
    {
      "cell_type": "code",
      "execution_count": 10,
      "metadata": {
        "id": "Ktk_zN87GCLh",
        "outputId": "2dfd290c-46e8-4ab5-a76e-7070fd80aee6",
        "colab": {
          "base_uri": "https://localhost:8080/"
        }
      },
      "outputs": [
        {
          "output_type": "stream",
          "name": "stdout",
          "text": [
            "        1    2       3\n",
            "1  1.0000  0.0  0.1459\n",
            "2  0.0000  1.0  0.0000\n",
            "3  0.1459  0.0  1.0000\n"
          ]
        }
      ],
      "source": [
        "import scikit_posthocs as sp\n",
        "\n",
        "# Dunn will determine if there's a difference between the promotions by investigating the pairs\n",
        "posthoc_results = sp.posthoc_dunn([df_clean[df_clean[\"Promotion\"] == p][\"SalesInThousands\"] for p in df_clean[\"Promotion\"].unique()], p_adjust='bonferroni') # to avoid randomness, I'll add Bonferroni test\n",
        "\n",
        "# Print the comparison between all (1x2, 1x3,2x3)\n",
        "## H0: there is no difference between A and B\n",
        "## H1: there IS a difference between A and B\n",
        "print(round(posthoc_results,4))\n"
      ]
    },
    {
      "cell_type": "markdown",
      "metadata": {
        "id": "3o4COz1SGCLh"
      },
      "source": [
        "## A/B TEST Summary"
      ]
    },
    {
      "cell_type": "markdown",
      "source": [
        "In this project, I ran an A/B Test to evaluate the effectiveness of 3 marketing campaigns for a fast food company. Based on the statistical analysis, promotion 1 and 2 are statistical different from each other. Promotion 3 on the other hand, is  different from promotion 2 but similar to promotio 1.\n",
        "\n",
        "Insights BASED ONLY ON THE AVAILABLE INFORMATION:\n",
        "- Based on EDA analysis, the company should chose to move with Promotions 1 OR 3\n",
        "- My recommendation is to move with Promotion 1, despite the lower volume in sales, Promotion 1 has the highest avarage revenue\n",
        "- Drop promotion 2, despite have a higher sales volume, it has the lowest revenue"
      ],
      "metadata": {
        "id": "qmsf4Zr0Ilu3"
      }
    }
  ],
  "metadata": {
    "kernelspec": {
      "display_name": ".venv",
      "language": "python",
      "name": "python3"
    },
    "language_info": {
      "codemirror_mode": {
        "name": "ipython",
        "version": 3
      },
      "file_extension": ".py",
      "mimetype": "text/x-python",
      "name": "python",
      "nbconvert_exporter": "python",
      "pygments_lexer": "ipython3",
      "version": "3.11.9"
    },
    "colab": {
      "provenance": []
    }
  },
  "nbformat": 4,
  "nbformat_minor": 0
}