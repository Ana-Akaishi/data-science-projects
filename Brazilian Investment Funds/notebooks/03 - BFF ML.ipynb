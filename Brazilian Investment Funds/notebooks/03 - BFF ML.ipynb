{
 "cells": [
  {
   "cell_type": "markdown",
   "metadata": {},
   "source": [
    "# BFF Machine Learning\n",
    "In this notebook, I'll test some machine learning (ML) algorithms on Brazilian Financial Funds. The inspiration is to create an algorithm able to forecast funds return so investor can plan and adjust their strategy.\n",
    "\n",
    "THIS IS NOT A FINANCIAL ADVISE, just an experiment to test different ML algorithms and see which one perform better. It is also possible that none will be good, which is fine! This will give enthusiasts insight to keep looking for more variables that may influence funds return.\n",
    "\n",
    "I'll test the following algorithms:\n",
    "- Linear Regression\n",
    "    1. Classic Linear Regression\n",
    "    2. Stochastic Gradient Descent (SGD)\n",
    "- Non-linear Regression: \n",
    "    1. Support Vector Machine (SVM)\n",
    "    2. XGBoost\n",
    "- Neural Networks:\n",
    "    1. Artificial Neural Networks (ANN)\n",
    "    2. Recursive Neural Networks (RNN)\n",
    "    3. Long Short Term Memory (LSTM) - *a type of RNN*\n"
   ]
  },
  {
   "cell_type": "code",
   "execution_count": 93,
   "metadata": {},
   "outputs": [],
   "source": [
    "import pandas as pd\n",
    "import numpy as np\n",
    "import matplotlib.pyplot as plt\n",
    "from scipy import stats\n",
    "from sklearn.preprocessing import StandardScaler\n",
    "from sklearn.linear_model import LinearRegression, SGDRegressor\n",
    "from sklearn import svm\n",
    "from sklearn.model_selection import train_test_split\n",
    "from sklearn import metrics"
   ]
  },
  {
   "cell_type": "markdown",
   "metadata": {},
   "source": [
    "## Prepping data\n",
    "Before I start modeling, I need to make sure my data fits the requeriments of my algorithms. Since I'm dealing with different data scales (monetary, rates, dummy), my models will have a hard time adjusting to it all.\n",
    "\n",
    "To fix that, I'll use StandardScaler from sklearn to adjust my values based on the standard deviation. This will make sure we have a similar scale to compare my features and will be easier to models to process.\n",
    "\n",
    "Since my models will use a train, validation and test sets, it's important not influenec the test dataset. So first, I'll:\n",
    "1. Drops the rows with issues identified on my 'Cleaning Datasets' phase: all data with error on register data\n",
    "2. Split my dataset in 3: train, validation and test\n",
    "3. Create a scaler for training and valdiation: later, I'll use the **same** scaler on test set\n",
    "4. Run my models"
   ]
  },
  {
   "cell_type": "code",
   "execution_count": 80,
   "metadata": {},
   "outputs": [
    {
     "name": "stdout",
     "output_type": "stream",
     "text": [
      "Fund DF complete:  (1243297, 30)\n",
      "Fund DF after drop:  (346469, 22)\n"
     ]
    },
    {
     "data": {
      "text/html": [
       "<div>\n",
       "<style scoped>\n",
       "    .dataframe tbody tr th:only-of-type {\n",
       "        vertical-align: middle;\n",
       "    }\n",
       "\n",
       "    .dataframe tbody tr th {\n",
       "        vertical-align: top;\n",
       "    }\n",
       "\n",
       "    .dataframe thead th {\n",
       "        text-align: right;\n",
       "    }\n",
       "</style>\n",
       "<table border=\"1\" class=\"dataframe\">\n",
       "  <thead>\n",
       "    <tr style=\"text-align: right;\">\n",
       "      <th></th>\n",
       "      <th></th>\n",
       "      <th>VL_QUOTA</th>\n",
       "      <th>VL_PATRIM_LIQ</th>\n",
       "      <th>NR_COTST</th>\n",
       "      <th>quota_return</th>\n",
       "      <th>SIT_CANCELADA</th>\n",
       "      <th>SIT_EM FUNCIONAMENTO NORMAL</th>\n",
       "      <th>SIT_FASE PRÉ-OPERACIONAL</th>\n",
       "      <th>SIT_LIQUIDAÇÃO</th>\n",
       "      <th>CONDOM_Aberto</th>\n",
       "      <th>CONDOM_Fechado</th>\n",
       "      <th>FUNDO_COTAS_N</th>\n",
       "      <th>FUNDO_COTAS_S</th>\n",
       "      <th>FUNDO_EXCLUSIVO_N</th>\n",
       "      <th>FUNDO_EXCLUSIVO_S</th>\n",
       "      <th>retail_bank_manager</th>\n",
       "      <th>retail_bank_issuer</th>\n",
       "      <th>big4</th>\n",
       "      <th>VL_QUOTA_lag1</th>\n",
       "      <th>VL_PATRIM_LIQ_lag1</th>\n",
       "      <th>NR_COTST_lag1</th>\n",
       "    </tr>\n",
       "    <tr>\n",
       "      <th>year_month</th>\n",
       "      <th>CNPJ_FUNDO</th>\n",
       "      <th></th>\n",
       "      <th></th>\n",
       "      <th></th>\n",
       "      <th></th>\n",
       "      <th></th>\n",
       "      <th></th>\n",
       "      <th></th>\n",
       "      <th></th>\n",
       "      <th></th>\n",
       "      <th></th>\n",
       "      <th></th>\n",
       "      <th></th>\n",
       "      <th></th>\n",
       "      <th></th>\n",
       "      <th></th>\n",
       "      <th></th>\n",
       "      <th></th>\n",
       "      <th></th>\n",
       "      <th></th>\n",
       "      <th></th>\n",
       "    </tr>\n",
       "  </thead>\n",
       "  <tbody>\n",
       "  </tbody>\n",
       "</table>\n",
       "</div>"
      ],
      "text/plain": [
       "Empty DataFrame\n",
       "Columns: [VL_QUOTA, VL_PATRIM_LIQ, NR_COTST, quota_return, SIT_CANCELADA, SIT_EM FUNCIONAMENTO NORMAL, SIT_FASE PRÉ-OPERACIONAL, SIT_LIQUIDAÇÃO, CONDOM_Aberto, CONDOM_Fechado, FUNDO_COTAS_N, FUNDO_COTAS_S, FUNDO_EXCLUSIVO_N, FUNDO_EXCLUSIVO_S, retail_bank_manager, retail_bank_issuer, big4, VL_QUOTA_lag1, VL_PATRIM_LIQ_lag1, NR_COTST_lag1]\n",
       "Index: []"
      ]
     },
     "execution_count": 80,
     "metadata": {},
     "output_type": "execute_result"
    }
   ],
   "source": [
    "# Import financial fund df\n",
    "fund_df = pd.read_csv('fund_df.csv')\n",
    "\n",
    "# Drop observations with issue on register\n",
    "print(f'Fund DF complete: ', fund_df.shape)\n",
    "fund_df = fund_df[fund_df['correct_name'] == True]\n",
    "\n",
    "# Fix year_month column to be our index since this is a timeseries\n",
    "fund_df['year_month'] = pd.to_datetime(fund_df['year_month'])\n",
    "\n",
    "# Drop COVD 19 outrbreak\n",
    "fund_df = fund_df[fund_df['year_month'] >= '2023-01-01']\n",
    "\n",
    "# Drops string columns used only in EDA\n",
    "fund_df = fund_df.drop(columns=['Unnamed: 0','correct_name','DENOM_SOCIAL','DT_COMPTC',\n",
    "                                'DT_REG', 'manager_name', 'issuer_name', 'big4_name'], axis=1)\n",
    "\n",
    "# Check the final shape after drops\n",
    "print(f'Fund DF after drop: ', fund_df.shape)\n",
    "\n",
    "# # Add macro dataset\n",
    "# support_df = pd.read_csv('support_df.csv')\n",
    "# support_df['year_month'] = pd.to_datetime(support_df['year_month'])\n",
    "\n",
    "# # Merge with financial fund dataframe\n",
    "# fund_df = pd.merge(fund_df, support_df, how='left',on=['year_month'])\n",
    "\n",
    "# Set year_month as index to my timeseries issue\n",
    "fund_df.set_index(['year_month','CNPJ_FUNDO'], inplace=True)\n",
    "\n",
    "# Remove outliers\n",
    "fund_df[(np.abs(stats.zscore(fund_df)) < 3).all(axis=1)]"
   ]
  },
  {
   "cell_type": "code",
   "execution_count": 81,
   "metadata": {},
   "outputs": [],
   "source": [
    "# Split features (X) and independent variable (y)\n",
    "X = fund_df.drop('quota_return', axis=1)\n",
    "y = fund_df['quota_return']\n",
    "y = y.reset_index()\n",
    "\n",
    "# Adjust y dataframe to be just an array with quota return\n",
    "y = y.drop(columns=['year_month','CNPJ_FUNDO'])"
   ]
  },
  {
   "cell_type": "code",
   "execution_count": 82,
   "metadata": {},
   "outputs": [],
   "source": [
    "# Create subsets for traininn\n",
    "X_train, X_test, y_train, y_test = train_test_split(X, y, test_size=0.3, random_state=42)\n",
    "\n",
    "# Nor subset for validation and test. I'm setting it to 50% so we have an even split between validation and test\n",
    "# X_val, X_test, y_val, y_test = train_test_split(X_test, y_test, test_size=0.5, random_state=42)"
   ]
  },
  {
   "cell_type": "code",
   "execution_count": 83,
   "metadata": {},
   "outputs": [
    {
     "data": {
      "text/plain": [
       "array([[-0.00235191, -0.16186142, -0.06991817, ..., -0.00235761,\n",
       "        -0.16259259, -0.04864843],\n",
       "       [-0.0023519 ,  0.90939869, -0.02284898, ..., -0.00235761,\n",
       "         0.90203143, -0.01736868],\n",
       "       [-0.00233227, -0.16172344, -0.03330252, ..., -0.00233862,\n",
       "        -0.16227874, -0.02396795],\n",
       "       ...,\n",
       "       [-0.00235189, -0.0992704 ,  0.07790057, ..., -0.00235759,\n",
       "        -0.10190862,  0.04808992],\n",
       "       [-0.00235191,  0.38112648, -0.06980516, ..., -0.00235761,\n",
       "         0.35574847, -0.04857214],\n",
       "       [-0.0023519 , -0.15338257,  0.0180046 , ..., -0.00235761,\n",
       "        -0.15360236,  0.01238523]])"
      ]
     },
     "execution_count": 83,
     "metadata": {},
     "output_type": "execute_result"
    }
   ],
   "source": [
    "# Create scaler\n",
    "scaler = StandardScaler()\n",
    "\n",
    "# Fit and transform X_train\n",
    "scaler.fit_transform(X_train)\n",
    "\n",
    "# Only transform feature arrays (X)\n",
    "# scaler.transform(X_val)\n",
    "scaler.transform(X_test)\n"
   ]
  },
  {
   "cell_type": "markdown",
   "metadata": {},
   "source": [
    "## Linear Regression\n",
    "First, let's try a classic linear regression. I'm trying to predict quota's return (y)"
   ]
  },
  {
   "cell_type": "code",
   "execution_count": 84,
   "metadata": {},
   "outputs": [],
   "source": [
    "# Create an instance for linear regression model\n",
    "lm = LinearRegression()\n",
    "\n",
    "# Fit the model in my training sets (X and y)\n",
    "lm.fit(X_train,y_train)\n",
    "\n",
    "# Predict values for validation\n",
    "predictions = lm.predict(X_test)"
   ]
  },
  {
   "cell_type": "code",
   "execution_count": 97,
   "metadata": {},
   "outputs": [
    {
     "data": {
      "text/plain": [
       "Text(0, 0.5, 'Predicted Y')"
      ]
     },
     "execution_count": 97,
     "metadata": {},
     "output_type": "execute_result"
    },
    {
     "data": {
      "image/png": "[encoded data removed]",
      "text/plain": [
       "<Figure size 640x480 with 1 Axes>"
      ]
     },
     "metadata": {},
     "output_type": "display_data"
    }
   ],
   "source": [
    "# Plot prediction vs the real result\n",
    "plt.scatter(y_test,predictions)\n",
    "plt.xlabel('Y Test')\n",
    "plt.ylabel('Predicted Y')"
   ]
  },
  {
   "cell_type": "code",
   "execution_count": 90,
   "metadata": {},
   "outputs": [
    {
     "name": "stdout",
     "output_type": "stream",
     "text": [
      "MAE: 628430.9331445008\n",
      "MSE: 122552107472700.02\n",
      "RMSE: 11070325.535985833\n",
      "R2: -238.46663816319173\n"
     ]
    }
   ],
   "source": [
    "# Print metrics\n",
    "print('MAE:', metrics.mean_absolute_error(y_test, predictions))\n",
    "print('MSE:', metrics.mean_squared_error(y_test, predictions))\n",
    "print('RMSE:', np.sqrt(metrics.mean_squared_error(y_test, predictions)))\n",
    "print('R2:', metrics.r2_score(y_test, predictions))"
   ]
  },
  {
   "cell_type": "code",
   "execution_count": 94,
   "metadata": {},
   "outputs": [
    {
     "name": "stderr",
     "output_type": "stream",
     "text": [
      "d:\\Documentos\\My_Py_Projects\\github_DS_projects\\data-science-projects\\.venv\\Lib\\site-packages\\sklearn\\utils\\validation.py:1339: DataConversionWarning: A column-vector y was passed when a 1d array was expected. Please change the shape of y to (n_samples, ), for example using ravel().\n",
      "  y = column_or_1d(y, warn=True)\n"
     ]
    }
   ],
   "source": [
    "# Create an instance for SGD\n",
    "sgd = SGDRegressor()\n",
    "\n",
    "# Fit the model in my training sets (X and y)\n",
    "sgd.fit(X_train,y_train)\n",
    "\n",
    "# Predict values for validation\n",
    "predictions_sgd = sgd.predict(X_test)"
   ]
  },
  {
   "cell_type": "code",
   "execution_count": 95,
   "metadata": {},
   "outputs": [
    {
     "name": "stdout",
     "output_type": "stream",
     "text": [
      "MAE: 2.8522858486097026e+26\n",
      "MSE: 3.098560237640836e+54\n",
      "RMSE: 1.760272773646413e+27\n",
      "R2: -6.0545821573838e+42\n"
     ]
    }
   ],
   "source": [
    "# Print metrics\n",
    "print('MAE:', metrics.mean_absolute_error(y_test, predictions_sgd))\n",
    "print('MSE:', metrics.mean_squared_error(y_test, predictions_sgd))\n",
    "print('RMSE:', np.sqrt(metrics.mean_squared_error(y_test, predictions_sgd)))\n",
    "print('R2:', metrics.r2_score(y_test, predictions_sgd))"
   ]
  },
  {
   "cell_type": "markdown",
   "metadata": {},
   "source": [
    "## Non-Linear Regression\n",
    "Seems like my linear model didn't perform well. Let's try non-linear models to see if I can get an improvement on my predictions."
   ]
  },
  {
   "cell_type": "markdown",
   "metadata": {},
   "source": [
    "### Support Vector Machines (SVM)"
   ]
  },
  {
   "cell_type": "code",
   "execution_count": 88,
   "metadata": {},
   "outputs": [
    {
     "name": "stderr",
     "output_type": "stream",
     "text": [
      "d:\\Documentos\\My_Py_Projects\\github_DS_projects\\data-science-projects\\.venv\\Lib\\site-packages\\sklearn\\utils\\validation.py:1339: DataConversionWarning: A column-vector y was passed when a 1d array was expected. Please change the shape of y to (n_samples, ), for example using ravel().\n",
      "  y = column_or_1d(y, warn=True)\n"
     ]
    }
   ],
   "source": [
    "# Instanciate the model to svm but as regression\n",
    "svm_model = svm.SVR()\n",
    "\n",
    "# Fit with my dataset\n",
    "svm_model.fit(X_train,y_train)\n",
    "\n",
    "# Predict values\n",
    "predictions_svm = svm_model.predict(X_test)"
   ]
  },
  {
   "cell_type": "code",
   "execution_count": 91,
   "metadata": {},
   "outputs": [
    {
     "name": "stdout",
     "output_type": "stream",
     "text": [
      "MAE: 4723.990978859721\n",
      "MSE: 511793425548.3542\n",
      "RMSE: 715397.3899507561\n",
      "R2: -4.36024928360812e-05\n"
     ]
    }
   ],
   "source": [
    "# # Print metrics\n",
    "# print('MAE:', metrics.mean_absolute_error(y_test, predictions_svm))\n",
    "# print('MSE:', metrics.mean_squared_error(y_test, predictions_svm))\n",
    "# print('RMSE:', np.sqrt(metrics.mean_squared_error(y_test, predictions_svm)))\n",
    "# print('R2:', metrics.r2_score(y_test, predictions_svm))"
   ]
  }
 ],
 "metadata": {
  "kernelspec": {
   "display_name": ".venv",
   "language": "python",
   "name": "python3"
  },
  "language_info": {
   "codemirror_mode": {
    "name": "ipython",
    "version": 3
   },
   "file_extension": ".py",
   "mimetype": "text/x-python",
   "name": "python",
   "nbconvert_exporter": "python",
   "pygments_lexer": "ipython3",
   "version": "3.12.2"
  }
 },
 "nbformat": 4,
 "nbformat_minor": 2
}
