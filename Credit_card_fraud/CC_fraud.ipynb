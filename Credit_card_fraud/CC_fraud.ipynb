{
  "cells": [
    {
      "cell_type": "markdown",
      "metadata": {
        "id": "BQ9ganokiSmS"
      },
      "source": [
        "# Credit Card Fraud Detection\n",
        "In this notebook, I'll explore this public dataset on Kaggle about [credit card fraud](https://www.kaggle.com/datasets/kartik2112/fraud-detection?resource=download). My objective is to analyze this dataset behavior and create an algorithm to predict if there's a fraud or not.\n",
        "\n",
        "As for my tool, I'll use **PySpark** to load my data, check the quality and do the exploratory data analysis (EDA). Next, I'll run some classifications algorithms and compare their performance to see which model would be used in a 'deploy phase'.\n",
        "\n",
        "## Table of Contents  <a name=\"table_cont\"></a>\n",
        "\n",
        "0. [**Libraries**](#lib)\n",
        "1. [**Load data**](#load_data)\n",
        "2. [**Data quality**](#data-quality)\n",
        "3. [**Feature Engineering**](#features)\n",
        "4. [**EDA**](#eda)\n",
        "5. [**Data preparation**](#data_prep)\n",
        "6. [**ML Models**](#ml_mod)\n",
        "    - Logistical regression (Logit)\n",
        "    - Random Forest\n",
        "    - Gradient-Boosted Trees (GBTs)\n",
        "    - Naive Bayes\n",
        "7. [**Comparing results**](#results)\n",
        "8. [**Take Aways**](#take_away)\n"
      ]
    },
    {
      "cell_type": "markdown",
      "metadata": {
        "id": "613EBlQGiSmV"
      },
      "source": [
        "## Libraries <a name=\"libs\"></a>"
      ]
    },
    {
      "cell_type": "code",
      "execution_count": 213,
      "metadata": {
        "id": "fiVQW1EbiSmV"
      },
      "outputs": [],
      "source": [
        "from pyspark.sql import SparkSession\n",
        "from pyspark.sql.functions import isnan, when, count, col, year, month, dayofweek, weekofyear, date_format, current_date, date_diff, floor, desc, asc, sum, mean, explode, lower,split\n",
        "from pyspark.ml.feature import VectorAssembler\n",
        "from pyspark.ml.classification import LogisticRegression\n",
        "from pyspark.ml.evaluation import BinaryClassificationEvaluator\n"
      ]
    },
    {
      "cell_type": "markdown",
      "metadata": {
        "id": "cBYHG5qsiSmW"
      },
      "source": [
        "## Load data  <a name=\"load_data\"></a>"
      ]
    },
    {
      "cell_type": "code",
      "execution_count": 214,
      "metadata": {
        "id": "a4SC9BYwiSmW"
      },
      "outputs": [],
      "source": [
        "# create spark session\n",
        "spark = SparkSession.builder.appName('CC_fraud').getOrCreate()\n",
        "\n",
        "# load train and test datasets\n",
        "train = spark.read.csv('fraudTrain.csv', header=True, inferSchema=True)\n",
        "test = spark.read.csv('fraudTest.csv', header=True, inferSchema=True)"
      ]
    },
    {
      "cell_type": "code",
      "execution_count": 215,
      "metadata": {
        "colab": {
          "base_uri": "https://localhost:8080/"
        },
        "id": "EQy5yt1RiSmX",
        "outputId": "4b9fb868-b10d-4766-e0e9-8694db00e440"
      },
      "outputs": [
        {
          "output_type": "stream",
          "name": "stdout",
          "text": [
            "Train set \n",
            "\n",
            "+---+---------------------+----------------+--------------------+-------------+------+---------+-------+------+--------------------+--------------+-----+-----+-------+---------+--------+--------------------+----------+--------------------+----------+------------------+-----------+--------+\n",
            "|_c0|trans_date_trans_time|          cc_num|            merchant|     category|   amt|    first|   last|gender|              street|          city|state|  zip|    lat|     long|city_pop|                 job|       dob|           trans_num| unix_time|         merch_lat| merch_long|is_fraud|\n",
            "+---+---------------------+----------------+--------------------+-------------+------+---------+-------+------+--------------------+--------------+-----+-----+-------+---------+--------+--------------------+----------+--------------------+----------+------------------+-----------+--------+\n",
            "|  0|  2019-01-01 00:00:18|2703186189652095|fraud_Rippin, Kub...|     misc_net|  4.97| Jennifer|  Banks|     F|      561 Perry Cove|Moravian Falls|   NC|28654|36.0788| -81.1781|    3495|Psychologist, cou...|1988-03-09|0b242abb623afc578...|1325376018|         36.011293| -82.048315|       0|\n",
            "|  1|  2019-01-01 00:00:44|    630423337322|fraud_Heller, Gut...|  grocery_pos|107.23|Stephanie|   Gill|     F|43039 Riley Green...|        Orient|   WA|99160|48.8878|-118.2105|     149|Special education...|1978-06-21|1f76529f857473494...|1325376044|49.159046999999994|-118.186462|       0|\n",
            "|  2|  2019-01-01 00:00:51|  38859492057661|fraud_Lind-Buckridge|entertainment|220.11|   Edward|Sanchez|     M|594 White Dale Su...|    Malad City|   ID|83252|42.1808| -112.262|    4154|Nature conservati...|1962-01-19|a1a22d70485983eac...|1325376051|         43.150704|-112.154481|       0|\n",
            "|  3|  2019-01-01 00:01:16|3534093764340240|fraud_Kutch, Herm...|gas_transport|  45.0|   Jeremy|  White|     M|9443 Cynthia Cour...|       Boulder|   MT|59632|46.2306|-112.1138|    1939|     Patent attorney|1967-01-12|6b849c168bdad6f86...|1325376076|         47.034331|-112.561071|       0|\n",
            "|  4|  2019-01-01 00:03:06| 375534208663984| fraud_Keeling-Crist|     misc_pos| 41.96|    Tyler| Garcia|     M|    408 Bradley Rest|      Doe Hill|   VA|24433|38.4207| -79.4629|      99|Dance movement ps...|1986-03-28|a41d7549acf907893...|1325376186|         38.674999| -78.632459|       0|\n",
            "+---+---------------------+----------------+--------------------+-------------+------+---------+-------+------+--------------------+--------------+-----+-----+-------+---------+--------+--------------------+----------+--------------------+----------+------------------+-----------+--------+\n",
            "\n",
            "Test set\n",
            "+---+---------------------+----------------+--------------------+--------------+-----+------+--------+------+--------------------+----------+-----+-----+-------+------------------+--------+--------------------+----------+--------------------+----------+------------------+-----------+--------+\n",
            "|_c0|trans_date_trans_time|          cc_num|            merchant|      category|  amt| first|    last|gender|              street|      city|state|  zip|    lat|              long|city_pop|                 job|       dob|           trans_num| unix_time|         merch_lat| merch_long|is_fraud|\n",
            "+---+---------------------+----------------+--------------------+--------------+-----+------+--------+------+--------------------+----------+-----+-----+-------+------------------+--------+--------------------+----------+--------------------+----------+------------------+-----------+--------+\n",
            "|  0|  2020-06-21 12:14:25|2291163933867244|fraud_Kirlin and ...| personal_care| 2.86|  Jeff| Elliott|     M|   351 Darlene Green|  Columbia|   SC|29209|33.9659|          -80.9355|  333497| Mechanical engineer|1968-03-19|2da90c7d74bd46a0c...|1371816865|         33.986391| -81.200714|       0|\n",
            "|  1|  2020-06-21 12:14:33|3573030041201292|fraud_Sporer-Keebler| personal_care|29.84|Joanne|Williams|     F|    3638 Marsh Union|   Altonah|   UT|84002|40.3207|          -110.436|     302|Sales professiona...|1990-01-17|324cc204407e99f51...|1371816873|39.450497999999996|-109.960431|       0|\n",
            "|  2|  2020-06-21 12:14:53|3598215285024754|fraud_Swaniawski,...|health_fitness|41.28|Ashley|   Lopez|     F|9333 Valentine Point|  Bellmore|   NY|11710|40.6729|          -73.5365|   34496|   Librarian, public|1970-10-21|c81755dbbbea9d5c7...|1371816893|          40.49581| -74.196111|       0|\n",
            "|  3|  2020-06-21 12:15:15|3591919803438423|   fraud_Haley Group|      misc_pos|60.05| Brian|Williams|     M|32941 Krystal Mil...|Titusville|   FL|32780|28.5697|          -80.8191|   54767|        Set designer|1987-07-25|2159175b9efe66dc3...|1371816915|28.812397999999998| -80.883061|       0|\n",
            "|  4|  2020-06-21 12:15:17|3526826139003047|fraud_Johnston-Ca...|        travel| 3.19|Nathan|  Massey|     M|5783 Evan Roads A...|  Falmouth|   MI|49632|44.2529|-85.01700000000001|    1126|  Furniture designer|1955-07-06|57ff021bd3f328f87...|1371816917|         44.959148| -85.884734|       0|\n",
            "+---+---------------------+----------------+--------------------+--------------+-----+------+--------+------+--------------------+----------+-----+-----+-------+------------------+--------+--------------------+----------+--------------------+----------+------------------+-----------+--------+\n",
            "\n"
          ]
        }
      ],
      "source": [
        "print('Train set \\n')\n",
        "train.limit(5).show()\n",
        "print('Test set')\n",
        "test.limit(5).show()"
      ]
    },
    {
      "cell_type": "code",
      "source": [
        "# dataframes shape\n",
        "print((train.count(), len(train.columns)))"
      ],
      "metadata": {
        "colab": {
          "base_uri": "https://localhost:8080/"
        },
        "id": "ZMP32K0V6Fs9",
        "outputId": "f2c407ff-0dab-4c88-fbac-3cfbbe96842c"
      },
      "execution_count": 216,
      "outputs": [
        {
          "output_type": "stream",
          "name": "stdout",
          "text": [
            "(1296675, 23)\n"
          ]
        }
      ]
    },
    {
      "cell_type": "code",
      "source": [
        "print((test.count(), len(test.columns)))"
      ],
      "metadata": {
        "colab": {
          "base_uri": "https://localhost:8080/"
        },
        "id": "AFRnv6rb6I5U",
        "outputId": "f5a21d0d-263f-4e9e-c553-42a470a02b9b"
      },
      "execution_count": 217,
      "outputs": [
        {
          "output_type": "stream",
          "name": "stdout",
          "text": [
            "(555719, 23)\n"
          ]
        }
      ]
    },
    {
      "cell_type": "markdown",
      "metadata": {
        "id": "gbV6vbfFiSmX"
      },
      "source": [
        "## Data quality <a name=\"data_quality\"></a>\n",
        "[Table of contents](#table_cont)"
      ]
    },
    {
      "cell_type": "code",
      "source": [
        "# check if columns have the correct data type\n",
        "print('Train set data type:')\n",
        "train.dtypes\n",
        "\n",
        "## could also have used train.printSchema()"
      ],
      "metadata": {
        "colab": {
          "base_uri": "https://localhost:8080/"
        },
        "id": "1trmetPepJl6",
        "outputId": "9f7524ed-4092-46af-fe75-c2efd35c80db"
      },
      "execution_count": 218,
      "outputs": [
        {
          "output_type": "stream",
          "name": "stdout",
          "text": [
            "Train set data type:\n"
          ]
        },
        {
          "output_type": "execute_result",
          "data": {
            "text/plain": [
              "[('_c0', 'int'),\n",
              " ('trans_date_trans_time', 'timestamp'),\n",
              " ('cc_num', 'bigint'),\n",
              " ('merchant', 'string'),\n",
              " ('category', 'string'),\n",
              " ('amt', 'double'),\n",
              " ('first', 'string'),\n",
              " ('last', 'string'),\n",
              " ('gender', 'string'),\n",
              " ('street', 'string'),\n",
              " ('city', 'string'),\n",
              " ('state', 'string'),\n",
              " ('zip', 'int'),\n",
              " ('lat', 'double'),\n",
              " ('long', 'double'),\n",
              " ('city_pop', 'int'),\n",
              " ('job', 'string'),\n",
              " ('dob', 'date'),\n",
              " ('trans_num', 'string'),\n",
              " ('unix_time', 'int'),\n",
              " ('merch_lat', 'double'),\n",
              " ('merch_long', 'double'),\n",
              " ('is_fraud', 'int')]"
            ]
          },
          "metadata": {},
          "execution_count": 218
        }
      ]
    },
    {
      "cell_type": "code",
      "source": [
        "print('Test set data type:')\n",
        "test.dtypes"
      ],
      "metadata": {
        "colab": {
          "base_uri": "https://localhost:8080/"
        },
        "id": "QQwkZd0KpJVD",
        "outputId": "d5f0f8de-1d6c-4bdf-df9c-65df14d0942f"
      },
      "execution_count": 219,
      "outputs": [
        {
          "output_type": "stream",
          "name": "stdout",
          "text": [
            "Test set data type:\n"
          ]
        },
        {
          "output_type": "execute_result",
          "data": {
            "text/plain": [
              "[('_c0', 'int'),\n",
              " ('trans_date_trans_time', 'timestamp'),\n",
              " ('cc_num', 'bigint'),\n",
              " ('merchant', 'string'),\n",
              " ('category', 'string'),\n",
              " ('amt', 'double'),\n",
              " ('first', 'string'),\n",
              " ('last', 'string'),\n",
              " ('gender', 'string'),\n",
              " ('street', 'string'),\n",
              " ('city', 'string'),\n",
              " ('state', 'string'),\n",
              " ('zip', 'int'),\n",
              " ('lat', 'double'),\n",
              " ('long', 'double'),\n",
              " ('city_pop', 'int'),\n",
              " ('job', 'string'),\n",
              " ('dob', 'date'),\n",
              " ('trans_num', 'string'),\n",
              " ('unix_time', 'int'),\n",
              " ('merch_lat', 'double'),\n",
              " ('merch_long', 'double'),\n",
              " ('is_fraud', 'int')]"
            ]
          },
          "metadata": {},
          "execution_count": 219
        }
      ]
    },
    {
      "cell_type": "code",
      "source": [
        "# separate columns between numeric and strings\n",
        "numeric_cols = [col[0] for col in train.dtypes if col[1] in ['double','float','int']]\n",
        "string_cols = [col[0] for col in train.dtypes if col[1] not in ['double','float','int']]\n",
        "\n",
        "# check for nulls\n",
        "def count_nulls(df):\n",
        "  df.select([\n",
        "      count(when(col(c).isNull() | (col(c) == \"\"), c)).alias(c) if c in string_cols else\n",
        "      count(when(col(c).isNull() | isnan(col(c)), c)).alias(c)\n",
        "      for c in df.columns\n",
        "  ]).show()\n",
        "\n",
        "print('Train nulls:')\n",
        "count_nulls(train)"
      ],
      "metadata": {
        "colab": {
          "base_uri": "https://localhost:8080/"
        },
        "id": "1iEjJEE7stk9",
        "outputId": "8a4481c7-4e03-40d5-c957-1d6e29e2c9ca"
      },
      "execution_count": 220,
      "outputs": [
        {
          "output_type": "stream",
          "name": "stdout",
          "text": [
            "Train nulls:\n",
            "+---+---------------------+------+--------+--------+---+-----+----+------+------+----+-----+---+---+----+--------+---+---+---------+---------+---------+----------+--------+\n",
            "|_c0|trans_date_trans_time|cc_num|merchant|category|amt|first|last|gender|street|city|state|zip|lat|long|city_pop|job|dob|trans_num|unix_time|merch_lat|merch_long|is_fraud|\n",
            "+---+---------------------+------+--------+--------+---+-----+----+------+------+----+-----+---+---+----+--------+---+---+---------+---------+---------+----------+--------+\n",
            "|  0|                    0|     0|       0|       0|  0|    0|   0|     0|     0|   0|    0|  0|  0|   0|       0|  0|  0|        0|        0|        0|         0|       0|\n",
            "+---+---------------------+------+--------+--------+---+-----+----+------+------+----+-----+---+---+----+--------+---+---+---------+---------+---------+----------+--------+\n",
            "\n"
          ]
        }
      ]
    },
    {
      "cell_type": "code",
      "source": [
        "print('Test nulls:')\n",
        "count_nulls(test)"
      ],
      "metadata": {
        "colab": {
          "base_uri": "https://localhost:8080/"
        },
        "id": "iaJrnopA4rtq",
        "outputId": "a09ff0fb-8b85-4b87-89a9-a7e45a96821a"
      },
      "execution_count": 221,
      "outputs": [
        {
          "output_type": "stream",
          "name": "stdout",
          "text": [
            "Test nulls:\n",
            "+---+---------------------+------+--------+--------+---+-----+----+------+------+----+-----+---+---+----+--------+---+---+---------+---------+---------+----------+--------+\n",
            "|_c0|trans_date_trans_time|cc_num|merchant|category|amt|first|last|gender|street|city|state|zip|lat|long|city_pop|job|dob|trans_num|unix_time|merch_lat|merch_long|is_fraud|\n",
            "+---+---------------------+------+--------+--------+---+-----+----+------+------+----+-----+---+---+----+--------+---+---+---------+---------+---------+----------+--------+\n",
            "|  0|                    0|     0|       0|       0|  0|    0|   0|     0|     0|   0|    0|  0|  0|   0|       0|  0|  0|        0|        0|        0|         0|       0|\n",
            "+---+---------------------+------+--------+--------+---+-----+----+------+------+----+-----+---+---+----+--------+---+---+---------+---------+---------+----------+--------+\n",
            "\n"
          ]
        }
      ]
    },
    {
      "cell_type": "code",
      "source": [
        "# check for duplicates\n",
        "def duplicates (df):\n",
        "  df.groupBy(df.columns).count().filter(\"count > 1\").show()\n",
        "\n",
        "duplicates(train)"
      ],
      "metadata": {
        "colab": {
          "base_uri": "https://localhost:8080/"
        },
        "id": "wo0MCKPIQqrJ",
        "outputId": "c56acdfe-e435-432d-d915-732b9c7efda4"
      },
      "execution_count": 222,
      "outputs": [
        {
          "output_type": "stream",
          "name": "stdout",
          "text": [
            "+---+---------------------+------+--------+--------+---+-----+----+------+------+----+-----+---+---+----+--------+---+---+---------+---------+---------+----------+--------+-----+\n",
            "|_c0|trans_date_trans_time|cc_num|merchant|category|amt|first|last|gender|street|city|state|zip|lat|long|city_pop|job|dob|trans_num|unix_time|merch_lat|merch_long|is_fraud|count|\n",
            "+---+---------------------+------+--------+--------+---+-----+----+------+------+----+-----+---+---+----+--------+---+---+---------+---------+---------+----------+--------+-----+\n",
            "+---+---------------------+------+--------+--------+---+-----+----+------+------+----+-----+---+---+----+--------+---+---+---------+---------+---------+----------+--------+-----+\n",
            "\n"
          ]
        }
      ]
    },
    {
      "cell_type": "code",
      "source": [
        "duplicates(test)"
      ],
      "metadata": {
        "colab": {
          "base_uri": "https://localhost:8080/"
        },
        "id": "4N0zE8yUQ8vK",
        "outputId": "4a194557-8873-41fd-94b2-270fe38ec9fd"
      },
      "execution_count": 223,
      "outputs": [
        {
          "output_type": "stream",
          "name": "stdout",
          "text": [
            "+---+---------------------+------+--------+--------+---+-----+----+------+------+----+-----+---+---+----+--------+---+---+---------+---------+---------+----------+--------+-----+\n",
            "|_c0|trans_date_trans_time|cc_num|merchant|category|amt|first|last|gender|street|city|state|zip|lat|long|city_pop|job|dob|trans_num|unix_time|merch_lat|merch_long|is_fraud|count|\n",
            "+---+---------------------+------+--------+--------+---+-----+----+------+------+----+-----+---+---+----+--------+---+---+---------+---------+---------+----------+--------+-----+\n",
            "+---+---------------------+------+--------+--------+---+-----+----+------+------+----+-----+---+---+----+--------+---+---+---------+---------+---------+----------+--------+-----+\n",
            "\n"
          ]
        }
      ]
    },
    {
      "cell_type": "markdown",
      "metadata": {
        "id": "aSFLj0LJiSmY"
      },
      "source": [
        "## Feature Engineering <a name=\"features\"></a>\n",
        "[Table of contents](#table_cont)"
      ]
    },
    {
      "cell_type": "markdown",
      "source": [
        "Retail industry know that some dates are better for commerce than others. Those [holidays](https://www.tagalys.com/blog/us-shopping-sales-calendar-2019) have a significant impact on customer behavior, on which they look for deals and increase the chance to fall victim of scams. But not all events are the same, for instance, BlackFriday and Christmas tend to attract more customers due it's increrible deals while other holidays have more modest impact. That's why I'm classifying holidays based on their impact, and therefore creating 'tiers'.\n",
        "\n",
        "Some details to look out for:\n",
        "- Deals usually happen during the holiday week, so I'm using the week number to build my variables\n",
        "- Week number may change due the year, so I'll need to build a flexible way to find the corresponding number\n",
        "- This is an American dataset. Even if it was created with synthetic data, still follow American behavior and calendar.\n",
        "- Retail dates:\n",
        "  - Tier1: Blackfriday (November 4th week), Christmas (last week of december)\n",
        "  - Tier2: Easter, Independence day (4th of July), Labor day (1st Monday of September), halloween (October last week).\n",
        "  - No event: the rest of the year\n",
        "\n",
        "  obs: In the ideal case, I would find the specific week of the year depending on the timestamp. But for this exercise, since I'm only using PySpark to treat the data, I'll create a range of week dates."
      ],
      "metadata": {
        "id": "G83KbTIY9vDB"
      }
    },
    {
      "cell_type": "code",
      "source": [
        "def feature_engine(df):\n",
        "  # extract date, time, create 'age' variable based on dob (date of birth),\n",
        "  # create 'distance' based on difference between lat,long and merchant_lat,merchant_long\n",
        "  df = df.withColumn('year', year('trans_date_trans_time'))\\\n",
        "         .withColumn('month', month('trans_date_trans_time'))\\\n",
        "         .withColumn('day_week', dayofweek('trans_date_trans_time'))\\\n",
        "         .withColumn('age', floor(date_diff(current_date(), col('dob'))/365.25))\\\n",
        "         .withColumn('lat_diff', col('lat')-col('merch_lat'))\\\n",
        "         .withColumn('long_diff', col('long')-col('merch_long'))\\\n",
        "         .withColumn('tier1_event', when(weekofyear('trans_date_trans_time').isin([47,48,51,52]), 1).otherwise(0))\\\n",
        "         .withColumn('tier2_event', when(weekofyear('trans_date_trans_time').isin([12,13,14,15,16,17,27,35,36,37,43,44,45]),1).otherwise(0))\\\n",
        "         .withColumn('no_event', when((col('tier1_event')==0) & (col('tier2_event')==0), 1).otherwise(0))\n",
        "  df = df.drop(*['_c0','trans_date_trans_time','cc_num','first','last','street','dob','trans_num'])\n",
        "\n",
        "  return df"
      ],
      "metadata": {
        "id": "89W7hTGeK7k1"
      },
      "execution_count": 224,
      "outputs": []
    },
    {
      "cell_type": "code",
      "source": [
        "# crete new dataframes with new features and dropped useless ones\n",
        "adj_train = feature_engine(train)\n",
        "adj_test = feature_engine(test)"
      ],
      "metadata": {
        "id": "gqJC1eaiRe-h"
      },
      "execution_count": 225,
      "outputs": []
    },
    {
      "cell_type": "code",
      "source": [
        "adj_train.show(2)"
      ],
      "metadata": {
        "colab": {
          "base_uri": "https://localhost:8080/"
        },
        "id": "jspN6JBZ9qMA",
        "outputId": "0cb3e36b-e05f-4258-bb8a-7917fd0bfe15"
      },
      "execution_count": 226,
      "outputs": [
        {
          "output_type": "stream",
          "name": "stdout",
          "text": [
            "+--------------------+-----------+------+------+--------------+-----+-----+-------+---------+--------+--------------------+----------+------------------+-----------+--------+----+-----+--------+---+--------------------+--------------------+-----------+-----------+--------+\n",
            "|            merchant|   category|   amt|gender|          city|state|  zip|    lat|     long|city_pop|                 job| unix_time|         merch_lat| merch_long|is_fraud|year|month|day_week|age|            lat_diff|           long_diff|tier1_event|tier2_event|no_event|\n",
            "+--------------------+-----------+------+------+--------------+-----+-----+-------+---------+--------+--------------------+----------+------------------+-----------+--------+----+-----+--------+---+--------------------+--------------------+-----------+-----------+--------+\n",
            "|fraud_Rippin, Kub...|   misc_net|  4.97|     F|Moravian Falls|   NC|28654|36.0788| -81.1781|    3495|Psychologist, cou...|1325376018|         36.011293| -82.048315|       0|2019|    1|       3| 36|  0.0675069999999991|  0.8702150000000017|          0|          0|       1|\n",
            "|fraud_Heller, Gut...|grocery_pos|107.23|     F|        Orient|   WA|99160|48.8878|-118.2105|     149|Special education...|1325376044|49.159046999999994|-118.186462|       0|2019|    1|       3| 46|-0.27124699999999535|-0.02403799999999...|          0|          0|       1|\n",
            "+--------------------+-----------+------+------+--------------+-----+-----+-------+---------+--------+--------------------+----------+------------------+-----------+--------+----+-----+--------+---+--------------------+--------------------+-----------+-----------+--------+\n",
            "only showing top 2 rows\n",
            "\n"
          ]
        }
      ]
    },
    {
      "cell_type": "markdown",
      "metadata": {
        "id": "tCCvKJ7BiSmX"
      },
      "source": [
        "## EDA  <a name=\"eda\"></a>\n",
        "[Table of contents](#table_cont)"
      ]
    },
    {
      "cell_type": "markdown",
      "source": [
        "### Fraud"
      ],
      "metadata": {
        "id": "blv3gevz7DVH"
      }
    },
    {
      "cell_type": "code",
      "source": [
        "# check distribuition of fraud and non-fraud in my dataset\n",
        "adj_train.groupby('is_fraud').count().show()"
      ],
      "metadata": {
        "colab": {
          "base_uri": "https://localhost:8080/"
        },
        "id": "pSO-w2BD0P9W",
        "outputId": "9ab7a127-a34c-41ba-deb1-637f0ff7cec4"
      },
      "execution_count": 227,
      "outputs": [
        {
          "output_type": "stream",
          "name": "stdout",
          "text": [
            "+--------+-------+\n",
            "|is_fraud|  count|\n",
            "+--------+-------+\n",
            "|       1|   7506|\n",
            "|       0|1289169|\n",
            "+--------+-------+\n",
            "\n"
          ]
        }
      ]
    },
    {
      "cell_type": "code",
      "source": [
        "# frauds by year\n",
        "adj_train.groupby(*['year','is_fraud']).agg(count('is_fraud'), sum('amt'), mean('amt')).show()"
      ],
      "metadata": {
        "colab": {
          "base_uri": "https://localhost:8080/"
        },
        "id": "-LPW_3r9AJSJ",
        "outputId": "c4ca14d1-c54b-4c36-ee54-6fbbc712f298"
      },
      "execution_count": 228,
      "outputs": [
        {
          "output_type": "stream",
          "name": "stdout",
          "text": [
            "+----+--------+---------------+-------------------+-----------------+\n",
            "|year|is_fraud|count(is_fraud)|           sum(amt)|         avg(amt)|\n",
            "+----+--------+---------------+-------------------+-----------------+\n",
            "|2019|       1|           5220| 2767822.8699999964|530.2342662835242|\n",
            "|2019|       0|         919630|6.221713006000053E7|67.65452416732874|\n",
            "|2020|       1|           2286|  1220265.740000001| 533.799536307962|\n",
            "|2020|       0|         369539|2.501721022999985E7|67.69843028746587|\n",
            "+----+--------+---------------+-------------------+-----------------+\n",
            "\n"
          ]
        }
      ]
    },
    {
      "cell_type": "code",
      "source": [
        "# check distribution of frauds along the year (2019)\n",
        "adj_train.groupby(*['year','month','is_fraud'])\\\n",
        "         .agg(count('is_fraud'), sum('amt'), mean('amt'))\\\n",
        "         .filter((col('year') == 2019) & (col('is_fraud') == 1))\\\n",
        "         .sort(asc('month')).show()"
      ],
      "metadata": {
        "colab": {
          "base_uri": "https://localhost:8080/"
        },
        "id": "0Cwif5Ky7L50",
        "outputId": "44884daf-a4c0-49d7-ffda-bbda2810bd3c"
      },
      "execution_count": 229,
      "outputs": [
        {
          "output_type": "stream",
          "name": "stdout",
          "text": [
            "+----+-----+--------+---------------+------------------+------------------+\n",
            "|year|month|is_fraud|count(is_fraud)|          sum(amt)|          avg(amt)|\n",
            "+----+-----+--------+---------------+------------------+------------------+\n",
            "|2019|    1|       1|            506|261780.38000000015| 517.3525296442691|\n",
            "|2019|    2|       1|            517|         274051.08| 530.0794584139265|\n",
            "|2019|    3|       1|            494|237637.59000000003| 481.0477530364373|\n",
            "|2019|    4|       1|            376| 202067.2899999998| 537.4130053191484|\n",
            "|2019|    5|       1|            408|210549.11000000002| 516.0517401960784|\n",
            "|2019|    6|       1|            354|178204.60000000015|503.40282485875747|\n",
            "|2019|    7|       1|            331|188701.59000000014| 570.0954380664657|\n",
            "|2019|    8|       1|            382| 203951.1299999999| 533.9034816753924|\n",
            "|2019|    9|       1|            418|217675.37000000002| 520.7544736842106|\n",
            "|2019|   10|       1|            454|257739.72000000023|  567.708634361234|\n",
            "|2019|   11|       1|            388|200307.46999999994| 516.2563659793813|\n",
            "|2019|   12|       1|            592|         335157.54| 566.1444932432432|\n",
            "+----+-----+--------+---------------+------------------+------------------+\n",
            "\n"
          ]
        }
      ]
    },
    {
      "cell_type": "code",
      "source": [
        "# check distribution of frauds along the year (2020)\n",
        "adj_train.groupby(*['year','month','is_fraud'])\\\n",
        "         .agg(count('is_fraud'), sum('amt'), mean('amt'))\\\n",
        "         .filter((col('year') == 2020) & (col('is_fraud') == 1))\\\n",
        "         .sort(asc('month')).show()"
      ],
      "metadata": {
        "colab": {
          "base_uri": "https://localhost:8080/"
        },
        "id": "fEIRUzCO900O",
        "outputId": "444988af-37dc-4335-b236-29785312754c"
      },
      "execution_count": 230,
      "outputs": [
        {
          "output_type": "stream",
          "name": "stdout",
          "text": [
            "+----+-----+--------+---------------+------------------+------------------+\n",
            "|year|month|is_fraud|count(is_fraud)|          sum(amt)|          avg(amt)|\n",
            "+----+-----+--------+---------------+------------------+------------------+\n",
            "|2020|    1|       1|            343|182595.36000000007| 532.3479883381926|\n",
            "|2020|    2|       1|            336|183950.10999999993| 547.4705654761902|\n",
            "|2020|    3|       1|            444|234090.09999999986| 527.2299549549547|\n",
            "|2020|    4|       1|            302| 152173.9799999999|503.88735099337714|\n",
            "|2020|    5|       1|            527|287226.37999999995| 545.0215939278936|\n",
            "|2020|    6|       1|            334|180229.81000000008| 539.6102095808386|\n",
            "+----+-----+--------+---------------+------------------+------------------+\n",
            "\n"
          ]
        }
      ]
    },
    {
      "cell_type": "code",
      "source": [
        "# check if fraud distribution is the same in test set\n",
        "adj_test.groupby('is_fraud').count().show()"
      ],
      "metadata": {
        "colab": {
          "base_uri": "https://localhost:8080/"
        },
        "id": "d-dY8z6k7Fyi",
        "outputId": "088f5531-7228-4185-9ac3-74b1109c2aea"
      },
      "execution_count": 231,
      "outputs": [
        {
          "output_type": "stream",
          "name": "stdout",
          "text": [
            "+--------+------+\n",
            "|is_fraud| count|\n",
            "+--------+------+\n",
            "|       1|  2145|\n",
            "|       0|553574|\n",
            "+--------+------+\n",
            "\n"
          ]
        }
      ]
    },
    {
      "cell_type": "markdown",
      "source": [
        "### Merchant"
      ],
      "metadata": {
        "id": "qV91C7Wm1Ub7"
      }
    },
    {
      "cell_type": "code",
      "source": [
        "# unique merchants\n",
        "adj_train.select('merchant').distinct().count()"
      ],
      "metadata": {
        "colab": {
          "base_uri": "https://localhost:8080/"
        },
        "id": "e53L3tKN_hdH",
        "outputId": "f7db27df-0617-4c1c-bc89-794f64763aa4"
      },
      "execution_count": 232,
      "outputs": [
        {
          "output_type": "execute_result",
          "data": {
            "text/plain": [
              "693"
            ]
          },
          "metadata": {},
          "execution_count": 232
        }
      ]
    },
    {
      "cell_type": "code",
      "source": [
        "# main merchants\n",
        "adj_train.filter(col('is_fraud') == 1)\\\n",
        "         .groupby(*['merchant','is_fraud']).agg(count('is_fraud'), sum('amt'), mean('amt'))\\\n",
        "         .sort(desc('count(is_fraud)')).show(10)"
      ],
      "metadata": {
        "colab": {
          "base_uri": "https://localhost:8080/"
        },
        "id": "HoQ-1mHg0QLD",
        "outputId": "47bc8047-0827-442c-f8b5-46806a2a5a64"
      },
      "execution_count": 233,
      "outputs": [
        {
          "output_type": "stream",
          "name": "stdout",
          "text": [
            "+--------------------+--------+---------------+------------------+------------------+\n",
            "|            merchant|is_fraud|count(is_fraud)|          sum(amt)|          avg(amt)|\n",
            "+--------------------+--------+---------------+------------------+------------------+\n",
            "|  fraud_Rau and Sons|       1|             49|          15299.76|            312.24|\n",
            "|   fraud_Cormier LLC|       1|             48|          44903.89| 935.4977083333333|\n",
            "|   fraud_Kozey-Boehm|       1|             48|48189.979999999996|1003.9579166666666|\n",
            "|fraud_Vandervort-...|       1|             47|14973.760000000002| 318.5906382978724|\n",
            "|   fraud_Kilback LLC|       1|             47|          13039.28| 277.4314893617021|\n",
            "|     fraud_Doyle Ltd|       1|             47|14807.910000000002|315.06191489361703|\n",
            "|      fraud_Kuhn LLC|       1|             44|37166.299999999996| 844.6886363636363|\n",
            "| fraud_Padberg-Welch|       1|             44|          13713.45| 311.6693181818182|\n",
            "|    fraud_Terry-Huel|       1|             43|          42356.37| 985.0318604651163|\n",
            "|      fraud_Jast Ltd|       1|             42|          42560.34|1013.3414285714285|\n",
            "+--------------------+--------+---------------+------------------+------------------+\n",
            "only showing top 10 rows\n",
            "\n"
          ]
        }
      ]
    },
    {
      "cell_type": "code",
      "source": [
        "# main merchants\n",
        "adj_train.filter(col('is_fraud') == 1)\\\n",
        "         .groupby(*['merchant','is_fraud']).agg(count('is_fraud'), sum('amt'), mean('amt'))\\\n",
        "         .sort(desc('sum(amt)')).show(10)"
      ],
      "metadata": {
        "id": "DatgbHy1WaN9",
        "outputId": "309253a6-98e8-4d9e-ee03-f414f4442242",
        "colab": {
          "base_uri": "https://localhost:8080/"
        }
      },
      "execution_count": 234,
      "outputs": [
        {
          "output_type": "stream",
          "name": "stdout",
          "text": [
            "+--------------------+--------+---------------+------------------+------------------+\n",
            "|            merchant|is_fraud|count(is_fraud)|          sum(amt)|          avg(amt)|\n",
            "+--------------------+--------+---------------+------------------+------------------+\n",
            "|   fraud_Kozey-Boehm|       1|             48|48189.979999999996|1003.9579166666666|\n",
            "|   fraud_Cormier LLC|       1|             48|          44903.89| 935.4977083333333|\n",
            "|      fraud_Jast Ltd|       1|             42|          42560.34|1013.3414285714285|\n",
            "|    fraud_Terry-Huel|       1|             43|          42356.37| 985.0318604651163|\n",
            "|   fraud_Goyette Inc|       1|             42|41580.840000000004| 990.0200000000001|\n",
            "|fraud_Kerluke-Abs...|       1|             41|          40909.57| 997.7943902439024|\n",
            "|fraud_Schmeler, B...|       1|             41|40143.049999999996| 979.0987804878048|\n",
            "|fraud_Gleason-Mac...|       1|             40|          39892.84| 997.3209999999999|\n",
            "|fraud_Kuhic, Bins...|       1|             39|          39865.69|1022.1971794871796|\n",
            "|     fraud_Kuhic LLC|       1|             39| 39765.05999999999|1019.6169230769228|\n",
            "+--------------------+--------+---------------+------------------+------------------+\n",
            "only showing top 10 rows\n",
            "\n"
          ]
        }
      ]
    },
    {
      "cell_type": "code",
      "source": [
        "# top merchant & CC fraud 2019 by count\n",
        "adj_train.filter((col('year') == 2019) & (col('is_fraud') == 1))\\\n",
        "         .groupby(*['year','merchant','is_fraud']).agg(count('is_fraud'), sum('amt'), mean('amt'))\\\n",
        "         .sort(desc('count(is_fraud)')).show(10)"
      ],
      "metadata": {
        "colab": {
          "base_uri": "https://localhost:8080/"
        },
        "id": "JW7JIVBN0P55",
        "outputId": "3cce6a08-f9c7-49e8-f81a-7ddc62e42e6d"
      },
      "execution_count": 235,
      "outputs": [
        {
          "output_type": "stream",
          "name": "stdout",
          "text": [
            "+----+--------------------+--------+---------------+------------------+------------------+\n",
            "|year|            merchant|is_fraud|count(is_fraud)|          sum(amt)|          avg(amt)|\n",
            "+----+--------------------+--------+---------------+------------------+------------------+\n",
            "|2019|  fraud_Hudson-Ratke|       1|             37|11690.240000000002| 315.9524324324325|\n",
            "|2019|   fraud_Kilback LLC|       1|             35|           9816.91|280.48314285714287|\n",
            "|2019|  fraud_Rau and Sons|       1|             33|          10301.79|312.17545454545456|\n",
            "|2019|   fraud_Cormier LLC|       1|             32|29125.440000000002| 910.1700000000001|\n",
            "|2019|fraud_Gleason-Mac...|       1|             32|          32168.85|      1005.2765625|\n",
            "|2019| fraud_Koepp-Witting|       1|             32| 9795.609999999999|306.11281249999996|\n",
            "|2019|      fraud_Kuhn LLC|       1|             32|          26354.69|       823.5840625|\n",
            "|2019|     fraud_Kuhic LLC|       1|             31|          31563.39|1018.1738709677419|\n",
            "|2019| fraud_Padberg-Welch|       1|             31| 9591.189999999999| 309.3932258064516|\n",
            "|2019|fraud_Boyer-Reichert|       1|             31|31545.469999999998|1017.5958064516128|\n",
            "+----+--------------------+--------+---------------+------------------+------------------+\n",
            "only showing top 10 rows\n",
            "\n"
          ]
        }
      ]
    },
    {
      "cell_type": "code",
      "source": [
        "# top merchant & CC fraud 2019 by total spent\n",
        "adj_train.filter((col('year') == 2019) & (col('is_fraud') == 1))\\\n",
        "         .groupby(*['year','merchant','is_fraud']).agg(count('is_fraud'), sum('amt'), mean('amt'))\\\n",
        "         .sort(desc('sum(amt)')).show(10)"
      ],
      "metadata": {
        "id": "5mO_2tVdVh4R",
        "outputId": "7f014ca5-7d28-4988-fdad-8e246f3416aa",
        "colab": {
          "base_uri": "https://localhost:8080/"
        }
      },
      "execution_count": 236,
      "outputs": [
        {
          "output_type": "stream",
          "name": "stdout",
          "text": [
            "+----+--------------------+--------+---------------+------------------+------------------+\n",
            "|year|            merchant|is_fraud|count(is_fraud)|          sum(amt)|          avg(amt)|\n",
            "+----+--------------------+--------+---------------+------------------+------------------+\n",
            "|2019|fraud_Gleason-Mac...|       1|             32|          32168.85|      1005.2765625|\n",
            "|2019|     fraud_Kuhic LLC|       1|             31|          31563.39|1018.1738709677419|\n",
            "|2019|fraud_Boyer-Reichert|       1|             31|31545.469999999998|1017.5958064516128|\n",
            "|2019|    fraud_Terry-Huel|       1|             31|30626.420000000002| 987.9490322580646|\n",
            "|2019|   fraud_Kozey-Boehm|       1|             30|30325.079999999998|1010.8359999999999|\n",
            "|2019|fraud_Towne, Gree...|       1|             30|30236.109999999997|1007.8703333333332|\n",
            "|2019|   fraud_Cormier LLC|       1|             32|29125.440000000002| 910.1700000000001|\n",
            "|2019|fraud_Fisher-Scho...|       1|             29|28825.259999999995| 993.9744827586205|\n",
            "|2019|fraud_Streich, Di...|       1|             29|          28759.52| 991.7075862068966|\n",
            "|2019|     fraud_Boyer PLC|       1|             30|          28685.61|           956.187|\n",
            "+----+--------------------+--------+---------------+------------------+------------------+\n",
            "only showing top 10 rows\n",
            "\n"
          ]
        }
      ]
    },
    {
      "cell_type": "code",
      "source": [
        "# top merchant & CC fraud 2020 by count\n",
        "adj_train.filter((col('year') == 2020) & (col('is_fraud') == 1))\\\n",
        "         .groupby(*['year','merchant','is_fraud']).agg(count('is_fraud'), sum('amt'), mean('amt'))\\\n",
        "         .sort(desc('count(is_fraud)')).show(10)"
      ],
      "metadata": {
        "colab": {
          "base_uri": "https://localhost:8080/"
        },
        "id": "aQAOGCpk0P2e",
        "outputId": "e6e063d4-3818-42af-ce33-d86ce190048c"
      },
      "execution_count": 237,
      "outputs": [
        {
          "output_type": "stream",
          "name": "stdout",
          "text": [
            "+----+--------------------+--------+---------------+------------------+------------------+\n",
            "|year|            merchant|is_fraud|count(is_fraud)|          sum(amt)|          avg(amt)|\n",
            "+----+--------------------+--------+---------------+------------------+------------------+\n",
            "|2020|     fraud_Doyle Ltd|       1|             23| 7299.240000000002| 317.3582608695653|\n",
            "|2020|fraud_Kerluke-Abs...|       1|             19|18476.069999999996| 972.4247368421051|\n",
            "|2020|   fraud_Kozey-Boehm|       1|             18|17864.899999999998| 992.4944444444443|\n",
            "|2020|     fraud_Kiehn Inc|       1|             16| 4944.869999999999|309.05437499999994|\n",
            "|2020|fraud_Vandervort-...|       1|             16|           4880.71|        305.044375|\n",
            "|2020|   fraud_Cormier LLC|       1|             16|          15778.45|        986.153125|\n",
            "|2020|fraud_Moen, Reing...|       1|             16|           4903.06|         306.44125|\n",
            "|2020|  fraud_Rau and Sons|       1|             16|           4997.97|        312.373125|\n",
            "|2020|fraud_Langworth, ...|       1|             16|15590.740000000002| 974.4212500000001|\n",
            "|2020|    fraud_Fisher Inc|       1|             15|          15830.84|1055.3893333333333|\n",
            "+----+--------------------+--------+---------------+------------------+------------------+\n",
            "only showing top 10 rows\n",
            "\n"
          ]
        }
      ]
    },
    {
      "cell_type": "code",
      "source": [
        "# top merchant & CC fraud 2020 by total spent\n",
        "adj_train.filter((col('year') == 2020) & (col('is_fraud') == 1))\\\n",
        "         .groupby(*['year','merchant','is_fraud']).agg(count('is_fraud'), sum('amt'), mean('amt'))\\\n",
        "         .sort(desc('sum(amt)')).show(10)"
      ],
      "metadata": {
        "id": "JvDaTB7dYnc3",
        "outputId": "3852a8f4-4b1b-4b51-c220-51573a73c47d",
        "colab": {
          "base_uri": "https://localhost:8080/"
        }
      },
      "execution_count": 238,
      "outputs": [
        {
          "output_type": "stream",
          "name": "stdout",
          "text": [
            "+----+--------------------+--------+---------------+------------------+------------------+\n",
            "|year|            merchant|is_fraud|count(is_fraud)|          sum(amt)|          avg(amt)|\n",
            "+----+--------------------+--------+---------------+------------------+------------------+\n",
            "|2020|fraud_Kerluke-Abs...|       1|             19|18476.069999999996| 972.4247368421051|\n",
            "|2020|   fraud_Kozey-Boehm|       1|             18|17864.899999999998| 992.4944444444443|\n",
            "|2020|    fraud_Fisher Inc|       1|             15|          15830.84|1055.3893333333333|\n",
            "|2020|   fraud_Cormier LLC|       1|             16|          15778.45|        986.153125|\n",
            "|2020|      fraud_Jast Ltd|       1|             15|          15643.32|          1042.888|\n",
            "|2020|fraud_Langworth, ...|       1|             16|15590.740000000002| 974.4212500000001|\n",
            "|2020|    fraud_Schumm PLC|       1|             13|13649.819999999998|1049.9861538461537|\n",
            "|2020|   fraud_Goyette Inc|       1|             13|          13515.88| 1039.683076923077|\n",
            "|2020|fraud_Schmeler, B...|       1|             13|          12784.08| 983.3907692307693|\n",
            "|2020|fraud_Kuhic, Bins...|       1|             12|12715.169999999998|1059.5974999999999|\n",
            "+----+--------------------+--------+---------------+------------------+------------------+\n",
            "only showing top 10 rows\n",
            "\n"
          ]
        }
      ]
    },
    {
      "cell_type": "markdown",
      "source": [
        "### Category"
      ],
      "metadata": {
        "id": "lS8Q4YIIDMAS"
      }
    },
    {
      "cell_type": "code",
      "source": [
        "# unique categories\n",
        "adj_train.select('category').distinct().count()"
      ],
      "metadata": {
        "colab": {
          "base_uri": "https://localhost:8080/"
        },
        "id": "Y2Db1-YHDbEI",
        "outputId": "18e61e38-f8c2-48ad-cb27-ee203f05f7c9"
      },
      "execution_count": 239,
      "outputs": [
        {
          "output_type": "execute_result",
          "data": {
            "text/plain": [
              "14"
            ]
          },
          "metadata": {},
          "execution_count": 239
        }
      ]
    },
    {
      "cell_type": "code",
      "source": [
        "# main frauded categories\n",
        "adj_train.groupby(*['category','is_fraud'])\\\n",
        "         .count().filter(col('is_fraud') == 1)\\\n",
        "         .sort(desc('count')).show(14)"
      ],
      "metadata": {
        "colab": {
          "base_uri": "https://localhost:8080/"
        },
        "id": "pqrF6JdqDL1q",
        "outputId": "56722cd0-6f21-4063-ceca-51b776e99a0c"
      },
      "execution_count": 240,
      "outputs": [
        {
          "output_type": "stream",
          "name": "stdout",
          "text": [
            "+--------------+--------+-----+\n",
            "|      category|is_fraud|count|\n",
            "+--------------+--------+-----+\n",
            "|   grocery_pos|       1| 1743|\n",
            "|  shopping_net|       1| 1713|\n",
            "|      misc_net|       1|  915|\n",
            "|  shopping_pos|       1|  843|\n",
            "| gas_transport|       1|  618|\n",
            "|      misc_pos|       1|  250|\n",
            "|     kids_pets|       1|  239|\n",
            "| entertainment|       1|  233|\n",
            "| personal_care|       1|  220|\n",
            "|          home|       1|  198|\n",
            "|   food_dining|       1|  151|\n",
            "|   grocery_net|       1|  134|\n",
            "|health_fitness|       1|  133|\n",
            "|        travel|       1|  116|\n",
            "+--------------+--------+-----+\n",
            "\n"
          ]
        }
      ]
    },
    {
      "cell_type": "code",
      "source": [
        "# categories & CC fraud 2019\n",
        "adj_train.groupby(*['year','category','is_fraud'])\\\n",
        "         .count().filter((col('year') == 2019) & (col('is_fraud') == 1))\\\n",
        "        .sort(desc('count')).show(14)"
      ],
      "metadata": {
        "colab": {
          "base_uri": "https://localhost:8080/"
        },
        "id": "HyixzURtDLz9",
        "outputId": "2335369e-8b8b-49e3-acd8-4a0fbca3dc86"
      },
      "execution_count": 241,
      "outputs": [
        {
          "output_type": "stream",
          "name": "stdout",
          "text": [
            "+----+--------------+--------+-----+\n",
            "|year|      category|is_fraud|count|\n",
            "+----+--------------+--------+-----+\n",
            "|2019|   grocery_pos|       1| 1202|\n",
            "|2019|  shopping_net|       1| 1201|\n",
            "|2019|      misc_net|       1|  629|\n",
            "|2019|  shopping_pos|       1|  583|\n",
            "|2019| gas_transport|       1|  439|\n",
            "|2019|     kids_pets|       1|  172|\n",
            "|2019|      misc_pos|       1|  170|\n",
            "|2019| entertainment|       1|  163|\n",
            "|2019| personal_care|       1|  152|\n",
            "|2019|          home|       1|  129|\n",
            "|2019|   food_dining|       1|  104|\n",
            "|2019|health_fitness|       1|   96|\n",
            "|2019|   grocery_net|       1|   94|\n",
            "|2019|        travel|       1|   86|\n",
            "+----+--------------+--------+-----+\n",
            "\n"
          ]
        }
      ]
    },
    {
      "cell_type": "code",
      "source": [
        "# Higher amount by cartegory and frauded in 2019\n",
        "adj_train.groupby(*['year','category','is_fraud']).sum('amt')\\\n",
        "         .filter((col('year') == 2019) & (col('is_fraud') == 1))\\\n",
        "         .sort(desc('sum(amt)')).show(14)"
      ],
      "metadata": {
        "colab": {
          "base_uri": "https://localhost:8080/"
        },
        "id": "v6IzOwvkDLxB",
        "outputId": "b775986b-8193-4c59-b9ee-bfe6bbadcb62"
      },
      "execution_count": 242,
      "outputs": [
        {
          "output_type": "stream",
          "name": "stdout",
          "text": [
            "+----+--------------+--------+------------------+\n",
            "|year|      category|is_fraud|          sum(amt)|\n",
            "+----+--------------+--------+------------------+\n",
            "|2019|  shopping_net|       1|1202563.4199999995|\n",
            "|2019|  shopping_pos|       1| 512650.4299999999|\n",
            "|2019|      misc_net|       1| 500575.6700000001|\n",
            "|2019|   grocery_pos|       1|         375168.02|\n",
            "|2019| entertainment|       1| 82990.86000000002|\n",
            "|2019|          home|       1|33465.909999999996|\n",
            "|2019|      misc_pos|       1|31586.319999999992|\n",
            "|2019|   food_dining|       1|12401.849999999999|\n",
            "|2019| gas_transport|       1| 5433.089999999998|\n",
            "|2019| personal_care|       1| 4024.290000000001|\n",
            "|2019|     kids_pets|       1|3076.3100000000004|\n",
            "|2019|health_fitness|       1|           1944.62|\n",
            "|2019|   grocery_net|       1|           1172.03|\n",
            "|2019|        travel|       1|            770.05|\n",
            "+----+--------------+--------+------------------+\n",
            "\n"
          ]
        }
      ]
    },
    {
      "cell_type": "code",
      "source": [
        "# Higher amount by cartegory and frauded in 2020\n",
        "adj_train.groupby(*['year','category','is_fraud'])\\\n",
        "         .sum('amt').filter((col('year') == 2020) & (col('is_fraud') == 1))\\\n",
        "         .sort(desc('sum(amt)')).show(14)"
      ],
      "metadata": {
        "colab": {
          "base_uri": "https://localhost:8080/"
        },
        "id": "xZufLTupDLue",
        "outputId": "4bd5cd03-4cdf-4295-9a3b-054656dda838"
      },
      "execution_count": 243,
      "outputs": [
        {
          "output_type": "stream",
          "name": "stdout",
          "text": [
            "+----+--------------+--------+------------------+\n",
            "|year|      category|is_fraud|          sum(amt)|\n",
            "+----+--------------+--------+------------------+\n",
            "|2020|  shopping_net|       1| 509160.2899999995|\n",
            "|2020|      misc_net|       1|228691.08999999997|\n",
            "|2020|  shopping_pos|       1|226594.66000000006|\n",
            "|2020|   grocery_pos|       1|168629.87999999998|\n",
            "|2020| entertainment|       1| 34332.92999999999|\n",
            "|2020|      misc_pos|       1|22984.699999999997|\n",
            "|2020|          home|       1|          17505.75|\n",
            "|2020|   food_dining|       1|           5729.77|\n",
            "|2020| gas_transport|       1|2161.0199999999995|\n",
            "|2020| personal_care|       1| 1733.229999999999|\n",
            "|2020|     kids_pets|       1|1254.7699999999998|\n",
            "|2020|health_fitness|       1| 748.4199999999998|\n",
            "|2020|   grocery_net|       1|457.78999999999996|\n",
            "|2020|        travel|       1|281.44000000000005|\n",
            "+----+--------------+--------+------------------+\n",
            "\n"
          ]
        }
      ]
    },
    {
      "cell_type": "markdown",
      "source": [
        "### Gender"
      ],
      "metadata": {
        "id": "943pvFLoF0w3"
      }
    },
    {
      "cell_type": "code",
      "source": [
        "# gender distribution\n",
        "adj_train.groupby('gender').count().sort(desc('count')).show()"
      ],
      "metadata": {
        "colab": {
          "base_uri": "https://localhost:8080/"
        },
        "id": "9B0-Za8UJqgd",
        "outputId": "6af8a818-3e3f-44ab-ed3b-f53f7f6cd0dd"
      },
      "execution_count": 244,
      "outputs": [
        {
          "output_type": "stream",
          "name": "stdout",
          "text": [
            "+------+------+\n",
            "|gender| count|\n",
            "+------+------+\n",
            "|     F|709863|\n",
            "|     M|586812|\n",
            "+------+------+\n",
            "\n"
          ]
        }
      ]
    },
    {
      "cell_type": "code",
      "source": [
        "# which gender suffers more with CC fraud\n",
        "adj_train.groupby(*['gender','is_fraud']).count().sort(asc('count')).show()"
      ],
      "metadata": {
        "colab": {
          "base_uri": "https://localhost:8080/"
        },
        "id": "Kj-npKr7DLsM",
        "outputId": "485a8b28-b3d8-4901-89e2-95a26cb2a7e5"
      },
      "execution_count": 245,
      "outputs": [
        {
          "output_type": "stream",
          "name": "stdout",
          "text": [
            "+------+--------+------+\n",
            "|gender|is_fraud| count|\n",
            "+------+--------+------+\n",
            "|     F|       1|  3735|\n",
            "|     M|       1|  3771|\n",
            "|     M|       0|583041|\n",
            "|     F|       0|706128|\n",
            "+------+--------+------+\n",
            "\n"
          ]
        }
      ]
    },
    {
      "cell_type": "code",
      "source": [
        "# which gender spends more with CC fraud\n",
        "adj_train.groupby(*['gender','is_fraud']).sum('amt')\\\n",
        "         .filter(col('is_fraud')==1).sort(desc('sum(amt)')).show()"
      ],
      "metadata": {
        "colab": {
          "base_uri": "https://localhost:8080/"
        },
        "id": "JzbPYTypKc80",
        "outputId": "30532f41-a6b2-4b1b-8c28-5bda68f76a1b"
      },
      "execution_count": 246,
      "outputs": [
        {
          "output_type": "stream",
          "name": "stdout",
          "text": [
            "+------+--------+------------------+\n",
            "|gender|is_fraud|          sum(amt)|\n",
            "+------+--------+------------------+\n",
            "|     M|       1|2142801.2700000023|\n",
            "|     F|       1|1845287.3399999982|\n",
            "+------+--------+------------------+\n",
            "\n"
          ]
        }
      ]
    },
    {
      "cell_type": "code",
      "source": [
        "# how much each gender spended if they suffered fraud (2019)\n",
        "adj_train.groupby(*['year','category','gender','is_fraud'])\\\n",
        "         .sum('amt').filter((col('year') == 2019) & (col('is_fraud') == 1))\\\n",
        "         .sort(desc('sum(amt)')).show(14)"
      ],
      "metadata": {
        "colab": {
          "base_uri": "https://localhost:8080/"
        },
        "id": "2ZbstRoVKQP6",
        "outputId": "5f4f18ba-6be9-41b1-b2e7-4279f515831a"
      },
      "execution_count": 247,
      "outputs": [
        {
          "output_type": "stream",
          "name": "stdout",
          "text": [
            "+----+-------------+------+--------+------------------+\n",
            "|year|     category|gender|is_fraud|          sum(amt)|\n",
            "+----+-------------+------+--------+------------------+\n",
            "|2019| shopping_net|     M|       1| 735598.6099999999|\n",
            "|2019| shopping_net|     F|       1|466964.80999999994|\n",
            "|2019|     misc_net|     M|       1|284502.30000000005|\n",
            "|2019| shopping_pos|     F|       1|         282235.86|\n",
            "|2019| shopping_pos|     M|       1|230414.56999999995|\n",
            "|2019|     misc_net|     F|       1|216073.37000000005|\n",
            "|2019|  grocery_pos|     M|       1|212679.80000000005|\n",
            "|2019|  grocery_pos|     F|       1|162488.22000000006|\n",
            "|2019|entertainment|     F|       1| 49913.71000000001|\n",
            "|2019|entertainment|     M|       1|33077.149999999994|\n",
            "|2019|     misc_pos|     F|       1|          30448.77|\n",
            "|2019|         home|     F|       1|          29845.39|\n",
            "|2019|  food_dining|     F|       1| 9263.490000000002|\n",
            "|2019|         home|     M|       1|3620.5200000000004|\n",
            "+----+-------------+------+--------+------------------+\n",
            "only showing top 14 rows\n",
            "\n"
          ]
        }
      ]
    },
    {
      "cell_type": "code",
      "source": [
        "# how much each gender spended if they suffered fraud (2020)\n",
        "adj_train.groupby(*['year','category','gender','is_fraud'])\\\n",
        "         .sum('amt').filter((col('year') == 2020) & (col('is_fraud') == 1))\\\n",
        "         .sort(desc('sum(amt)')).show(14)"
      ],
      "metadata": {
        "colab": {
          "base_uri": "https://localhost:8080/"
        },
        "id": "eewRUZ1dDLp1",
        "outputId": "6bd1e39b-cd40-4d80-9a34-1e1b142ed16c"
      },
      "execution_count": 248,
      "outputs": [
        {
          "output_type": "stream",
          "name": "stdout",
          "text": [
            "+----+-------------+------+--------+------------------+\n",
            "|year|     category|gender|is_fraud|          sum(amt)|\n",
            "+----+-------------+------+--------+------------------+\n",
            "|2020| shopping_net|     M|       1| 288958.1199999999|\n",
            "|2020| shopping_net|     F|       1|220202.17000000013|\n",
            "|2020|     misc_net|     M|       1|         131204.01|\n",
            "|2020| shopping_pos|     F|       1|122150.40999999997|\n",
            "|2020| shopping_pos|     M|       1|104444.24999999997|\n",
            "|2020|     misc_net|     F|       1| 97487.08000000003|\n",
            "|2020|  grocery_pos|     M|       1| 91167.47000000002|\n",
            "|2020|  grocery_pos|     F|       1|          77462.41|\n",
            "|2020|entertainment|     F|       1|          22900.44|\n",
            "|2020|     misc_pos|     F|       1|          22635.95|\n",
            "|2020|         home|     F|       1|16300.210000000001|\n",
            "|2020|entertainment|     M|       1|11432.490000000002|\n",
            "|2020|  food_dining|     F|       1|           4634.48|\n",
            "|2020|gas_transport|     M|       1|           1245.37|\n",
            "+----+-------------+------+--------+------------------+\n",
            "only showing top 14 rows\n",
            "\n"
          ]
        }
      ]
    },
    {
      "cell_type": "markdown",
      "source": [
        "### Age"
      ],
      "metadata": {
        "id": "E8GlwxIGK1V2"
      }
    },
    {
      "cell_type": "code",
      "source": [
        "# age distribution if CC frauded\n",
        "adj_train.groupby(*['age','is_fraud'])\\\n",
        "         .count().filter(col('is_fraud')==1)\\\n",
        "         .sort(desc('count')).show()"
      ],
      "metadata": {
        "colab": {
          "base_uri": "https://localhost:8080/"
        },
        "id": "3gE8pBk5DLnO",
        "outputId": "16f7d244-8c38-4b55-8997-05c194ef2e8b"
      },
      "execution_count": 249,
      "outputs": [
        {
          "output_type": "stream",
          "name": "stdout",
          "text": [
            "+---+--------+-----+\n",
            "|age|is_fraud|count|\n",
            "+---+--------+-----+\n",
            "| 34|       1|  196|\n",
            "| 38|       1|  183|\n",
            "| 48|       1|  181|\n",
            "| 31|       1|  179|\n",
            "| 50|       1|  178|\n",
            "| 63|       1|  177|\n",
            "| 37|       1|  172|\n",
            "| 52|       1|  171|\n",
            "| 57|       1|  167|\n",
            "| 54|       1|  163|\n",
            "| 53|       1|  161|\n",
            "| 27|       1|  156|\n",
            "| 35|       1|  155|\n",
            "| 29|       1|  154|\n",
            "| 61|       1|  153|\n",
            "| 58|       1|  151|\n",
            "| 55|       1|  142|\n",
            "| 68|       1|  141|\n",
            "| 46|       1|  139|\n",
            "| 44|       1|  134|\n",
            "+---+--------+-----+\n",
            "only showing top 20 rows\n",
            "\n"
          ]
        }
      ]
    },
    {
      "cell_type": "code",
      "source": [
        "## frauded cc age & sex distribution\n",
        "adj_train.groupby(*['age','gender','is_fraud'])\\\n",
        "         .count().filter(col('is_fraud')==1)\\\n",
        "         .sort(desc('count')).show()"
      ],
      "metadata": {
        "colab": {
          "base_uri": "https://localhost:8080/"
        },
        "id": "jp1G705cDLk2",
        "outputId": "1e319bd9-f12d-4e40-c55f-0b6d88344d6a"
      },
      "execution_count": 250,
      "outputs": [
        {
          "output_type": "stream",
          "name": "stdout",
          "text": [
            "+---+------+--------+-----+\n",
            "|age|gender|is_fraud|count|\n",
            "+---+------+--------+-----+\n",
            "| 34|     M|       1|  146|\n",
            "| 53|     F|       1|  130|\n",
            "| 57|     M|       1|  109|\n",
            "| 38|     F|       1|  108|\n",
            "| 52|     F|       1|  107|\n",
            "| 44|     M|       1|  104|\n",
            "| 48|     M|       1|  104|\n",
            "| 55|     M|       1|  103|\n",
            "| 37|     M|       1|  101|\n",
            "| 58|     M|       1|   97|\n",
            "| 61|     F|       1|   96|\n",
            "| 46|     M|       1|   96|\n",
            "| 31|     F|       1|   94|\n",
            "| 63|     F|       1|   93|\n",
            "| 50|     F|       1|   93|\n",
            "| 60|     M|       1|   86|\n",
            "| 50|     M|       1|   85|\n",
            "| 35|     M|       1|   85|\n",
            "| 31|     M|       1|   85|\n",
            "| 63|     M|       1|   84|\n",
            "+---+------+--------+-----+\n",
            "only showing top 20 rows\n",
            "\n"
          ]
        }
      ]
    },
    {
      "cell_type": "code",
      "source": [
        "# amount spent by age with frauded CC\n",
        "adj_train.groupby(*['age','is_fraud'])\\\n",
        "         .sum('amt').filter(col('is_fraud')==1)\\\n",
        "         .sort(desc('sum(amt)')).show(5)"
      ],
      "metadata": {
        "colab": {
          "base_uri": "https://localhost:8080/"
        },
        "id": "him4IlUSMBGJ",
        "outputId": "6a04a04f-d702-41b1-8694-347a696c4696"
      },
      "execution_count": 251,
      "outputs": [
        {
          "output_type": "stream",
          "name": "stdout",
          "text": [
            "+---+--------+------------------+\n",
            "|age|is_fraud|          sum(amt)|\n",
            "+---+--------+------------------+\n",
            "| 34|       1|109248.05999999998|\n",
            "| 63|       1|102921.00000000001|\n",
            "| 37|       1|          95389.21|\n",
            "| 48|       1| 91865.23000000001|\n",
            "| 29|       1| 90028.45999999999|\n",
            "+---+--------+------------------+\n",
            "only showing top 5 rows\n",
            "\n"
          ]
        }
      ]
    },
    {
      "cell_type": "code",
      "source": [
        "# total spend on frauded cc by gender and age\n",
        "adj_train.groupby(*['age','gender','is_fraud'])\\\n",
        "         .sum('amt').filter(col('is_fraud')==1)\\\n",
        "         .sort(desc('sum(amt)')).show(5)"
      ],
      "metadata": {
        "colab": {
          "base_uri": "https://localhost:8080/"
        },
        "id": "A1yGLXaADLX8",
        "outputId": "3fa01a83-9150-4009-d130-8717afed2d9a"
      },
      "execution_count": 252,
      "outputs": [
        {
          "output_type": "stream",
          "name": "stdout",
          "text": [
            "+---+------+--------+------------------+\n",
            "|age|gender|is_fraud|          sum(amt)|\n",
            "+---+------+--------+------------------+\n",
            "| 34|     M|       1| 86134.79999999999|\n",
            "| 37|     M|       1| 66199.59999999999|\n",
            "| 48|     M|       1|64653.619999999995|\n",
            "| 55|     M|       1|          63821.48|\n",
            "| 57|     M|       1|58460.399999999994|\n",
            "+---+------+--------+------------------+\n",
            "only showing top 5 rows\n",
            "\n"
          ]
        }
      ]
    },
    {
      "cell_type": "code",
      "source": [
        "# average age by gender and amount spent in CC fraud\n",
        "adj_train.groupby(*['age','gender','is_fraud']).agg(mean('age'),sum('amt'))\\\n",
        "         .filter(col('is_fraud')==1)\\\n",
        "         .sort(desc('sum(amt)')).show(5)"
      ],
      "metadata": {
        "id": "oByxQhSHfo9J",
        "outputId": "2619fa0d-7bb1-404c-a52d-c271f74801c1",
        "colab": {
          "base_uri": "https://localhost:8080/"
        }
      },
      "execution_count": 253,
      "outputs": [
        {
          "output_type": "stream",
          "name": "stdout",
          "text": [
            "+---+------+--------+--------+------------------+\n",
            "|age|gender|is_fraud|avg(age)|          sum(amt)|\n",
            "+---+------+--------+--------+------------------+\n",
            "| 34|     M|       1|    34.0| 86134.79999999999|\n",
            "| 37|     M|       1|    37.0| 66199.59999999999|\n",
            "| 48|     M|       1|    48.0|64653.619999999995|\n",
            "| 55|     M|       1|    55.0|          63821.48|\n",
            "| 57|     M|       1|    57.0|58460.399999999994|\n",
            "+---+------+--------+--------+------------------+\n",
            "only showing top 5 rows\n",
            "\n"
          ]
        }
      ]
    },
    {
      "cell_type": "markdown",
      "source": [
        "### Location (State, city, population size)"
      ],
      "metadata": {
        "id": "HOOANsSzMd9H"
      }
    },
    {
      "cell_type": "code",
      "source": [
        "# unique states\n",
        "adj_train.select('state').distinct().count()"
      ],
      "metadata": {
        "id": "rWZvACuIYC_8",
        "outputId": "27b47bee-481f-4632-abf3-8a5863c77702",
        "colab": {
          "base_uri": "https://localhost:8080/"
        }
      },
      "execution_count": 254,
      "outputs": [
        {
          "output_type": "execute_result",
          "data": {
            "text/plain": [
              "51"
            ]
          },
          "metadata": {},
          "execution_count": 254
        }
      ]
    },
    {
      "cell_type": "code",
      "source": [
        "# main states with CC fraud\n",
        "adj_train.groupby(*['state','is_fraud'])\\\n",
        "         .count().filter(col('is_fraud') == 1)\\\n",
        "         .sort(desc('count')).show(5)"
      ],
      "metadata": {
        "colab": {
          "base_uri": "https://localhost:8080/"
        },
        "id": "KwLUOL63MaTj",
        "outputId": "1a49d04d-265c-4101-d16f-a6e2ecaa0e03"
      },
      "execution_count": 255,
      "outputs": [
        {
          "output_type": "stream",
          "name": "stdout",
          "text": [
            "+-----+--------+-----+\n",
            "|state|is_fraud|count|\n",
            "+-----+--------+-----+\n",
            "|   NY|       1|  555|\n",
            "|   TX|       1|  479|\n",
            "|   PA|       1|  458|\n",
            "|   CA|       1|  326|\n",
            "|   OH|       1|  321|\n",
            "+-----+--------+-----+\n",
            "only showing top 5 rows\n",
            "\n"
          ]
        }
      ]
    },
    {
      "cell_type": "code",
      "source": [
        "# total amount by state with CC fraud\n",
        "adj_train.groupby(*['state','is_fraud'])\\\n",
        "         .sum('amt').filter(col('is_fraud') == 1)\\\n",
        "         .sort(desc('sum(amt)')).show(5)"
      ],
      "metadata": {
        "colab": {
          "base_uri": "https://localhost:8080/"
        },
        "id": "bog36-JyLwLe",
        "outputId": "76bd025a-7724-494a-a4cb-458fade9bd34"
      },
      "execution_count": 256,
      "outputs": [
        {
          "output_type": "stream",
          "name": "stdout",
          "text": [
            "+-----+--------+------------------+\n",
            "|state|is_fraud|          sum(amt)|\n",
            "+-----+--------+------------------+\n",
            "|   NY|       1|295548.64000000013|\n",
            "|   TX|       1| 265806.4100000001|\n",
            "|   PA|       1|244624.67000000004|\n",
            "|   CA|       1|         170943.92|\n",
            "|   OH|       1|         168919.98|\n",
            "+-----+--------+------------------+\n",
            "only showing top 5 rows\n",
            "\n"
          ]
        }
      ]
    },
    {
      "cell_type": "code",
      "source": [
        "# most populated state and CC fraud amount\n",
        "adj_train.groupby(*['state','is_fraud'])\\\n",
        "         .sum(*['city_pop','amt'])\\\n",
        "         .filter(col('is_fraud') == 1)\\\n",
        "         .sort(desc('sum(city_pop)')).show(5)"
      ],
      "metadata": {
        "colab": {
          "base_uri": "https://localhost:8080/"
        },
        "id": "U2QWuXgR0PyN",
        "outputId": "58afc153-b0e3-457a-d101-59a06c3c23bf"
      },
      "execution_count": 257,
      "outputs": [
        {
          "output_type": "stream",
          "name": "stdout",
          "text": [
            "+-----+--------+-------------+------------------+\n",
            "|state|is_fraud|sum(city_pop)|          sum(amt)|\n",
            "+-----+--------+-------------+------------------+\n",
            "|   TX|       1|    206734477| 265806.4100000001|\n",
            "|   CA|       1|     89649164|         170943.92|\n",
            "|   NY|       1|     79853780|295548.64000000013|\n",
            "|   FL|       1|     45649842|         150913.03|\n",
            "|   MN|       1|     28231300|         112454.39|\n",
            "+-----+--------+-------------+------------------+\n",
            "only showing top 5 rows\n",
            "\n"
          ]
        }
      ]
    },
    {
      "cell_type": "code",
      "source": [
        "# most populated city and CC fraud amount\n",
        "adj_train.groupby(*['state','city','is_fraud'])\\\n",
        "         .sum(*['city_pop','amt'])\\\n",
        "         .filter(col('is_fraud') == 1)\\\n",
        "         .sort(desc('sum(city_pop)')).show(5)"
      ],
      "metadata": {
        "colab": {
          "base_uri": "https://localhost:8080/"
        },
        "id": "SJQMhKXj0PuX",
        "outputId": "c7787305-4640-46d4-ff29-721681793930"
      },
      "execution_count": 258,
      "outputs": [
        {
          "output_type": "stream",
          "name": "stdout",
          "text": [
            "+-----+-------------+--------+-------------+------------------+\n",
            "|state|         city|is_fraud|sum(city_pop)|          sum(amt)|\n",
            "+-----+-------------+--------+-------------+------------------+\n",
            "|   TX|      Houston|       1|    113361300|          21667.21|\n",
            "|   TX|  San Antonio|       1|     39894925|14536.749999999996|\n",
            "|   NY|New York City|       1|     36279855|13136.859999999999|\n",
            "|   TX|       Dallas|       1|     34109667|19747.140000000003|\n",
            "|   NY|     Brooklyn|       1|     25047000|           7435.38|\n",
            "+-----+-------------+--------+-------------+------------------+\n",
            "only showing top 5 rows\n",
            "\n"
          ]
        }
      ]
    },
    {
      "cell_type": "code",
      "source": [
        "# average age per city and CC fraud amount\n",
        "adj_train.groupby(*['state','city','gender','is_fraud'])\\\n",
        "         .agg(floor(mean('age')), sum('city_pop'), sum('amt'))\\\n",
        "         .filter(col('is_fraud') == 1)\\\n",
        "         .sort(desc('sum(amt)')).show(5)"
      ],
      "metadata": {
        "id": "Dp_HTbffZxWN",
        "outputId": "f5d5bc27-89f2-4c30-f68a-b91a368cb012",
        "colab": {
          "base_uri": "https://localhost:8080/"
        }
      },
      "execution_count": 259,
      "outputs": [
        {
          "output_type": "stream",
          "name": "stdout",
          "text": [
            "+-----+-------------+------+--------+---------------+-------------+------------------+\n",
            "|state|         city|gender|is_fraud|FLOOR(avg(age))|sum(city_pop)|          sum(amt)|\n",
            "+-----+-------------+------+--------+---------------+-------------+------------------+\n",
            "|   OK|        Tulsa|     F|       1|             68|     11166498|17470.250000000004|\n",
            "|   NY|New York City|     F|       1|             60|     36279855|13136.859999999999|\n",
            "|   TX|  San Antonio|     M|       1|             39|     28724346|13040.649999999996|\n",
            "|   FL|       Naples|     F|       1|             81|      5520040|13018.669999999998|\n",
            "|   TX|      Houston|     M|       1|             38|     63947400|12979.279999999999|\n",
            "+-----+-------------+------+--------+---------------+-------------+------------------+\n",
            "only showing top 5 rows\n",
            "\n"
          ]
        }
      ]
    },
    {
      "cell_type": "markdown",
      "source": [
        "### Occupation (job title)"
      ],
      "metadata": {
        "id": "sORTRjB-gX5t"
      }
    },
    {
      "cell_type": "code",
      "source": [
        "# unique jobs\n",
        "adj_train.select('job').distinct().count()"
      ],
      "metadata": {
        "id": "RG966QcCZxKJ",
        "outputId": "06a2ec29-a55a-4dff-85d8-0144aca26e40",
        "colab": {
          "base_uri": "https://localhost:8080/"
        }
      },
      "execution_count": 260,
      "outputs": [
        {
          "output_type": "execute_result",
          "data": {
            "text/plain": [
              "494"
            ]
          },
          "metadata": {},
          "execution_count": 260
        }
      ]
    },
    {
      "cell_type": "code",
      "source": [
        "# job with most frauded\n",
        "adj_train.groupby(*['job', 'is_fraud'])\\\n",
        "         .count().filter(col('is_fraud') == 1)\\\n",
        "         .sort(desc('count')).show(5)"
      ],
      "metadata": {
        "id": "xEitmhV4gXmP",
        "outputId": "f2d21ca6-e102-4d86-ebc0-83ff9a2670b8",
        "colab": {
          "base_uri": "https://localhost:8080/"
        }
      },
      "execution_count": 261,
      "outputs": [
        {
          "output_type": "stream",
          "name": "stdout",
          "text": [
            "+--------------------+--------+-----+\n",
            "|                 job|is_fraud|count|\n",
            "+--------------------+--------+-----+\n",
            "|  Materials engineer|       1|   62|\n",
            "|Trading standards...|       1|   56|\n",
            "|     Naval architect|       1|   53|\n",
            "| Exhibition designer|       1|   51|\n",
            "|Surveyor, land/ge...|       1|   50|\n",
            "+--------------------+--------+-----+\n",
            "only showing top 5 rows\n",
            "\n"
          ]
        }
      ]
    },
    {
      "cell_type": "code",
      "source": [
        "# find most common words for jobs, so I can create macro categories\n",
        "adj_train.withColumn('job_macro', explode(split(lower(col('job')), '[ , ]'))) \\\n",
        "          .groupBy('job_macro') \\\n",
        "          .count() \\\n",
        "          .filter((col('job_macro') != 'and') & (col('job_macro') != ''))\\\n",
        "          .orderBy(desc('count')) \\\n",
        "          .show(20)"
      ],
      "metadata": {
        "id": "3OPO5K4GgltQ",
        "outputId": "30f46ade-1fe7-40ba-a8e4-501db0c6036f",
        "colab": {
          "base_uri": "https://localhost:8080/"
        }
      },
      "execution_count": 262,
      "outputs": [
        {
          "output_type": "stream",
          "name": "stdout",
          "text": [
            "+-------------+------+\n",
            "|    job_macro| count|\n",
            "+-------------+------+\n",
            "|     engineer|131756|\n",
            "|      officer|110915|\n",
            "|      manager| 61124|\n",
            "|    scientist| 55878|\n",
            "|     designer| 52218|\n",
            "|     surveyor| 49062|\n",
            "|      teacher| 38126|\n",
            "| psychologist| 32600|\n",
            "|     research| 29754|\n",
            "|       editor| 28725|\n",
            "|    education| 26624|\n",
            "|       public| 26116|\n",
            "|    therapist| 25110|\n",
            "|   consultant| 24785|\n",
            "|        chief| 23081|\n",
            "|    chartered| 19009|\n",
            "|  development| 17943|\n",
            "|       health| 17300|\n",
            "|administrator| 16988|\n",
            "|   researcher| 16001|\n",
            "+-------------+------+\n",
            "only showing top 20 rows\n",
            "\n"
          ]
        }
      ]
    },
    {
      "cell_type": "code",
      "source": [
        "# create occupation clusters based on the most used words for jobs\n",
        "adj_train = adj_train.withColumn('job_macro', explode(split(lower(col('job')), '[ , ]')))\n",
        "adj_test = adj_train.withColumn('job_macro', explode(split(lower(col('job')), '[ , ]')))\n",
        "\n",
        "adj_train = adj_train.withColumn('job_category',\n",
        "                        when(lower(col('job_macro')).isin(['engineer', 'scientist', 'development', 'researcher', 'research']), 'science')\n",
        "                        .when(lower(col('job_macro')).isin(['manager', 'chief', 'administrator', 'consultant']), 'business')\n",
        "                        .when(lower(col('job_macro')).isin(['teacher', 'education']), 'education')\n",
        "                        .when(lower(col('job_macro')).isin(['health', 'therapist', 'psychologist']), 'healthcare')\n",
        "                        .when(lower(col('job_macro')).isin(['editor', 'public']), 'comunication')\n",
        "                        .when(lower(col('job_macro')).isin(['designer', 'surveyor']), 'desing')\n",
        "                        .otherwise('others'))\n",
        "\n",
        "# do the same with test set\n",
        "adj_test = adj_test.withColumn('job_category',\n",
        "                        when(lower(col('job_macro')).isin(['engineer', 'scientist', 'development', 'researcher', 'research']), 'science')\n",
        "                        .when(lower(col('job_macro')).isin(['manager', 'chief', 'administrator', 'consultant']), 'business')\n",
        "                        .when(lower(col('job_macro')).isin(['teacher', 'education']), 'education')\n",
        "                        .when(lower(col('job_macro')).isin(['health', 'therapist', 'psychologist']), 'healthcare')\n",
        "                        .when(lower(col('job_macro')).isin(['editor', 'public']), 'comunication')\n",
        "                        .when(lower(col('job_macro')).isin(['designer', 'surveyor']), 'desing')\n",
        "                        .otherwise('others'))\n",
        "\n",
        "adj_train.show(4)"
      ],
      "metadata": {
        "id": "COyTSpTbglpj",
        "outputId": "06517bf2-3ede-4af6-8a79-50b2af3512dd",
        "colab": {
          "base_uri": "https://localhost:8080/"
        }
      },
      "execution_count": 263,
      "outputs": [
        {
          "output_type": "stream",
          "name": "stdout",
          "text": [
            "+--------------------+-----------+------+------+--------------+-----+-----+-------+---------+--------+--------------------+----------+------------------+-----------+--------+----+-----+--------+---+--------------------+--------------------+-----------+-----------+--------+------------+------------+\n",
            "|            merchant|   category|   amt|gender|          city|state|  zip|    lat|     long|city_pop|                 job| unix_time|         merch_lat| merch_long|is_fraud|year|month|day_week|age|            lat_diff|           long_diff|tier1_event|tier2_event|no_event|   job_macro|job_category|\n",
            "+--------------------+-----------+------+------+--------------+-----+-----+-------+---------+--------+--------------------+----------+------------------+-----------+--------+----+-----+--------+---+--------------------+--------------------+-----------+-----------+--------+------------+------------+\n",
            "|fraud_Rippin, Kub...|   misc_net|  4.97|     F|Moravian Falls|   NC|28654|36.0788| -81.1781|    3495|Psychologist, cou...|1325376018|         36.011293| -82.048315|       0|2019|    1|       3| 36|  0.0675069999999991|  0.8702150000000017|          0|          0|       1|psychologist|  healthcare|\n",
            "|fraud_Rippin, Kub...|   misc_net|  4.97|     F|Moravian Falls|   NC|28654|36.0788| -81.1781|    3495|Psychologist, cou...|1325376018|         36.011293| -82.048315|       0|2019|    1|       3| 36|  0.0675069999999991|  0.8702150000000017|          0|          0|       1|            |      others|\n",
            "|fraud_Rippin, Kub...|   misc_net|  4.97|     F|Moravian Falls|   NC|28654|36.0788| -81.1781|    3495|Psychologist, cou...|1325376018|         36.011293| -82.048315|       0|2019|    1|       3| 36|  0.0675069999999991|  0.8702150000000017|          0|          0|       1| counselling|      others|\n",
            "|fraud_Heller, Gut...|grocery_pos|107.23|     F|        Orient|   WA|99160|48.8878|-118.2105|     149|Special education...|1325376044|49.159046999999994|-118.186462|       0|2019|    1|       3| 46|-0.27124699999999535|-0.02403799999999...|          0|          0|       1|     special|      others|\n",
            "+--------------------+-----------+------+------+--------------+-----+-----+-------+---------+--------+--------------------+----------+------------------+-----------+--------+----+-----+--------+---+--------------------+--------------------+-----------+-----------+--------+------------+------------+\n",
            "only showing top 4 rows\n",
            "\n"
          ]
        }
      ]
    },
    {
      "cell_type": "code",
      "source": [
        "# fraud by job category\n",
        "adj_train.groupby(*['job_category', 'is_fraud']).count().filter(col('is_fraud') == 1).sort(desc('count')).show(7)"
      ],
      "metadata": {
        "id": "MhoyoT5rgXjc",
        "outputId": "f971d8da-79e6-457b-8809-c073d6558f61",
        "colab": {
          "base_uri": "https://localhost:8080/"
        }
      },
      "execution_count": 264,
      "outputs": [
        {
          "output_type": "stream",
          "name": "stdout",
          "text": [
            "+------------+--------+-----+\n",
            "|job_category|is_fraud|count|\n",
            "+------------+--------+-----+\n",
            "|      others|       1|15037|\n",
            "|     science|       1| 1369|\n",
            "|    business|       1|  676|\n",
            "|      desing|       1|  564|\n",
            "|   education|       1|  456|\n",
            "|  healthcare|       1|  367|\n",
            "|comunication|       1|  250|\n",
            "+------------+--------+-----+\n",
            "\n"
          ]
        }
      ]
    },
    {
      "cell_type": "code",
      "source": [
        "# amount by job category when CC frauded\n",
        "adj_train.groupby(*['job_category', 'is_fraud']).sum('amt').filter(col('is_fraud') == 1).sort(desc('sum(amt)')).show(7)"
      ],
      "metadata": {
        "id": "zvPbGyJS5NI9",
        "outputId": "62f3b823-773d-4adb-8533-6fda5655dd8a",
        "colab": {
          "base_uri": "https://localhost:8080/"
        }
      },
      "execution_count": 265,
      "outputs": [
        {
          "output_type": "stream",
          "name": "stdout",
          "text": [
            "+------------+--------+------------------+\n",
            "|job_category|is_fraud|          sum(amt)|\n",
            "+------------+--------+------------------+\n",
            "|      others|       1| 7974167.390000008|\n",
            "|     science|       1| 718112.9300000002|\n",
            "|    business|       1|337418.98000000004|\n",
            "|      desing|       1| 304814.8100000001|\n",
            "|   education|       1|235717.29999999993|\n",
            "|  healthcare|       1|          202879.2|\n",
            "|comunication|       1|130377.24999999999|\n",
            "+------------+--------+------------------+\n",
            "\n"
          ]
        }
      ]
    },
    {
      "cell_type": "markdown",
      "source": [
        "### Latitude and Longitude"
      ],
      "metadata": {
        "id": "zIDH6E8254mx"
      }
    },
    {
      "cell_type": "code",
      "source": [
        "# avarage difference between customer and merchant latitude\n",
        "adj_train.groupby('is_fraud').mean('lat_diff').show()"
      ],
      "metadata": {
        "id": "TCHL1Zwx54Wh",
        "outputId": "cadfc8f8-01d3-45c9-cdc6-d22c8aa86e85",
        "colab": {
          "base_uri": "https://localhost:8080/"
        }
      },
      "execution_count": 266,
      "outputs": [
        {
          "output_type": "stream",
          "name": "stdout",
          "text": [
            "+--------+--------------------+\n",
            "|is_fraud|       avg(lat_diff)|\n",
            "+--------+--------------------+\n",
            "|       1|0.010138428495111993|\n",
            "|       0| 1.36273459634889E-4|\n",
            "+--------+--------------------+\n",
            "\n"
          ]
        }
      ]
    },
    {
      "cell_type": "code",
      "source": [
        "# avarage difference between customer and merchant longitude\n",
        "adj_train.groupby('is_fraud').mean('long_diff').show()"
      ],
      "metadata": {
        "id": "Y24j5Gch54TY",
        "outputId": "12812505-614c-4b48-eebc-96ffc4f4f9ab",
        "colab": {
          "base_uri": "https://localhost:8080/"
        }
      },
      "execution_count": 267,
      "outputs": [
        {
          "output_type": "stream",
          "name": "stdout",
          "text": [
            "+--------+--------------------+\n",
            "|is_fraud|      avg(long_diff)|\n",
            "+--------+--------------------+\n",
            "|       1|8.399439072599181E-4|\n",
            "|       0|7.071568078397803E-4|\n",
            "+--------+--------------------+\n",
            "\n"
          ]
        }
      ]
    },
    {
      "cell_type": "markdown",
      "source": [
        "### Unix\n",
        "*Unix timestamp is a way to track time as a running total of seconds. This  ount starts at the Unix Epoch on January 1st, 1970 at UTC. Therefore, the Unix timestamp is merely the number of seconds between a particular date and the Unix Epoch. It should also be pointed out that this point in time technically does not change no matter where you are located on the globe. This is very useful to computer systems for tracking and sorting dated information in dynamic and distributed applications both online and client-side. The reason why Unix timestamps are used by many webmasters is that they can represent all time zones at once.*"
      ],
      "metadata": {
        "id": "BJWMOjRx7nkC"
      }
    },
    {
      "cell_type": "code",
      "source": [
        "# avarage unix time\n",
        "adj_train.groupby('is_fraud').mean('unix_time').show()"
      ],
      "metadata": {
        "id": "lz7OkuxKFBl6",
        "outputId": "cff44d85-b3c4-4684-e2c5-9d1b7bbefd86",
        "colab": {
          "base_uri": "https://localhost:8080/"
        }
      },
      "execution_count": 268,
      "outputs": [
        {
          "output_type": "stream",
          "name": "stdout",
          "text": [
            "+--------+--------------------+\n",
            "|is_fraud|      avg(unix_time)|\n",
            "+--------+--------------------+\n",
            "|       1|1.3481615599279876E9|\n",
            "|       0|1.3492567481422484E9|\n",
            "+--------+--------------------+\n",
            "\n"
          ]
        }
      ]
    },
    {
      "cell_type": "markdown",
      "source": [
        "### Day and Hour"
      ],
      "metadata": {
        "id": "Q3SuXZtLG0JM"
      }
    },
    {
      "cell_type": "code",
      "source": [
        "# is there a spefic time for fraud?\n",
        "# adj_train.groupby(*['time', 'is_fraud']).count().filter(col('is_fraud') == 1).sort(desc('count')).show(10)"
      ],
      "metadata": {
        "id": "w9Aenmt6G29g"
      },
      "execution_count": 269,
      "outputs": []
    },
    {
      "cell_type": "code",
      "source": [
        "# amount frauded by hour\n",
        "# adj_train.groupby(*['time', 'is_fraud']).sum('amt').filter(col('is_fraud') == 1).sort(desc('sum(amt)')).show(10)"
      ],
      "metadata": {
        "id": "N9o7ywMdHR94"
      },
      "execution_count": 270,
      "outputs": []
    },
    {
      "cell_type": "code",
      "source": [
        "# does fraud occur in a specific day of the week?\n",
        "adj_train.groupby(*['day_week', 'is_fraud']).count().filter(col('is_fraud') == 1).sort(desc('count')).show(10)"
      ],
      "metadata": {
        "id": "BwRI2YUHHf7P",
        "outputId": "0dbbf1e2-1243-433e-b2c0-52232882d9fe",
        "colab": {
          "base_uri": "https://localhost:8080/"
        }
      },
      "execution_count": 271,
      "outputs": [
        {
          "output_type": "stream",
          "name": "stdout",
          "text": [
            "+--------+--------+-----+\n",
            "|day_week|is_fraud|count|\n",
            "+--------+--------+-----+\n",
            "|       7|       1| 3128|\n",
            "|       2|       1| 2993|\n",
            "|       1|       1| 2954|\n",
            "|       6|       1| 2718|\n",
            "|       5|       1| 2483|\n",
            "|       3|       1| 2370|\n",
            "|       4|       1| 2073|\n",
            "+--------+--------+-----+\n",
            "\n"
          ]
        }
      ]
    },
    {
      "cell_type": "code",
      "source": [
        "# amount frauded by day of week\n",
        "adj_train.groupby(*['day_week', 'is_fraud']).sum('amt').filter(col('is_fraud') == 1).sort(desc('sum(amt)')).show(10)"
      ],
      "metadata": {
        "id": "yNSBisz-HpFR",
        "outputId": "485e9938-1780-4ec9-9ce3-354ee876d95a",
        "colab": {
          "base_uri": "https://localhost:8080/"
        }
      },
      "execution_count": 272,
      "outputs": [
        {
          "output_type": "stream",
          "name": "stdout",
          "text": [
            "+--------+--------+------------------+\n",
            "|day_week|is_fraud|          sum(amt)|\n",
            "+--------+--------+------------------+\n",
            "|       7|       1|1635887.2400000005|\n",
            "|       1|       1|1616182.6999999993|\n",
            "|       2|       1|1493520.4499999983|\n",
            "|       6|       1|1487687.5299999993|\n",
            "|       5|       1| 1347469.530000001|\n",
            "|       3|       1|1245697.5300000003|\n",
            "|       4|       1|        1077042.88|\n",
            "+--------+--------+------------------+\n",
            "\n"
          ]
        }
      ]
    },
    {
      "cell_type": "markdown",
      "source": [
        "### Holidays"
      ],
      "metadata": {
        "id": "Xegtvo6-nBGI"
      }
    },
    {
      "cell_type": "code",
      "source": [
        "# tier1 events\n",
        "adj_train.groupby(*['year','tier1_event', 'is_fraud']).agg(count('is_fraud'), sum('amt')).filter(col('is_fraud') == 1).sort(desc('sum(amt)')).show()"
      ],
      "metadata": {
        "id": "7HtMHy86nDlz",
        "outputId": "73763ef5-3d34-4e4c-f09e-ba633d2808c4",
        "colab": {
          "base_uri": "https://localhost:8080/"
        }
      },
      "execution_count": 273,
      "outputs": [
        {
          "output_type": "stream",
          "name": "stdout",
          "text": [
            "+----+-----------+--------+---------------+------------------+\n",
            "|year|tier1_event|is_fraud|count(is_fraud)|          sum(amt)|\n",
            "+----+-----------+--------+---------------+------------------+\n",
            "|2019|          0|       1|          11976|  6297632.81000001|\n",
            "|2020|          0|       1|           5566|2964485.1800000058|\n",
            "|2019|          1|       1|           1177| 641369.8700000012|\n",
            "+----+-----------+--------+---------------+------------------+\n",
            "\n"
          ]
        }
      ]
    },
    {
      "cell_type": "code",
      "source": [
        "adj_train.groupby(*['year','tier2_event', 'is_fraud']).agg(count('is_fraud'), sum('amt')).filter(col('is_fraud') == 1).sort(desc('sum(amt)')).show()"
      ],
      "metadata": {
        "id": "X4l93gxYnD3F",
        "outputId": "f56ae6ac-7551-4056-ca45-fbce8d2e089f",
        "colab": {
          "base_uri": "https://localhost:8080/"
        }
      },
      "execution_count": 274,
      "outputs": [
        {
          "output_type": "stream",
          "name": "stdout",
          "text": [
            "+----+-----------+--------+---------------+------------------+\n",
            "|year|tier2_event|is_fraud|count(is_fraud)|          sum(amt)|\n",
            "+----+-----------+--------+---------------+------------------+\n",
            "|2019|          0|       1|          10248| 5398151.310000012|\n",
            "|2020|          0|       1|           4456|2404682.5300000003|\n",
            "|2019|          1|       1|           2905|1540851.3699999987|\n",
            "|2020|          1|       1|           1110| 559802.6500000007|\n",
            "+----+-----------+--------+---------------+------------------+\n",
            "\n"
          ]
        }
      ]
    },
    {
      "cell_type": "code",
      "source": [
        "adj_train.groupby(*['year','no_event', 'is_fraud']).agg(count('is_fraud'), sum('amt')).filter(col('is_fraud') == 1).sort(desc('sum(amt)')).show()"
      ],
      "metadata": {
        "id": "l7yQ6Rp2nDqN",
        "outputId": "d4bb3be7-89c8-4e0d-db1f-8f89a4bf567b",
        "colab": {
          "base_uri": "https://localhost:8080/"
        }
      },
      "execution_count": 275,
      "outputs": [
        {
          "output_type": "stream",
          "name": "stdout",
          "text": [
            "+----+--------+--------+---------------+------------------+\n",
            "|year|no_event|is_fraud|count(is_fraud)|          sum(amt)|\n",
            "+----+--------+--------+---------------+------------------+\n",
            "|2019|       1|       1|           9071|4756781.4400000125|\n",
            "|2020|       1|       1|           4456|2404682.5300000003|\n",
            "|2019|       0|       1|           4082|        2182221.24|\n",
            "|2020|       0|       1|           1110| 559802.6500000007|\n",
            "+----+--------+--------+---------------+------------------+\n",
            "\n"
          ]
        }
      ]
    },
    {
      "cell_type": "markdown",
      "source": [
        "### Statistics"
      ],
      "metadata": {
        "id": "W_SADUdGFPI4"
      }
    },
    {
      "cell_type": "code",
      "source": [
        "# basic dataset statistics\n",
        "#adj_train.summary().show()"
      ],
      "metadata": {
        "id": "5KTrrV8nFOwI"
      },
      "execution_count": 276,
      "outputs": []
    },
    {
      "cell_type": "code",
      "source": [
        "adj_train.show(2)"
      ],
      "metadata": {
        "colab": {
          "base_uri": "https://localhost:8080/"
        },
        "id": "XPKWrL_nJGtz",
        "outputId": "997526be-bb83-4274-9c28-83e821a2aa4a"
      },
      "execution_count": 277,
      "outputs": [
        {
          "output_type": "stream",
          "name": "stdout",
          "text": [
            "+--------------------+--------+----+------+--------------+-----+-----+-------+--------+--------+--------------------+----------+---------+----------+--------+----+-----+--------+---+------------------+------------------+-----------+-----------+--------+------------+------------+\n",
            "|            merchant|category| amt|gender|          city|state|  zip|    lat|    long|city_pop|                 job| unix_time|merch_lat|merch_long|is_fraud|year|month|day_week|age|          lat_diff|         long_diff|tier1_event|tier2_event|no_event|   job_macro|job_category|\n",
            "+--------------------+--------+----+------+--------------+-----+-----+-------+--------+--------+--------------------+----------+---------+----------+--------+----+-----+--------+---+------------------+------------------+-----------+-----------+--------+------------+------------+\n",
            "|fraud_Rippin, Kub...|misc_net|4.97|     F|Moravian Falls|   NC|28654|36.0788|-81.1781|    3495|Psychologist, cou...|1325376018|36.011293|-82.048315|       0|2019|    1|       3| 36|0.0675069999999991|0.8702150000000017|          0|          0|       1|psychologist|  healthcare|\n",
            "|fraud_Rippin, Kub...|misc_net|4.97|     F|Moravian Falls|   NC|28654|36.0788|-81.1781|    3495|Psychologist, cou...|1325376018|36.011293|-82.048315|       0|2019|    1|       3| 36|0.0675069999999991|0.8702150000000017|          0|          0|       1|            |      others|\n",
            "+--------------------+--------+----+------+--------------+-----+-----+-------+--------+--------+--------------------+----------+---------+----------+--------+----+-----+--------+---+------------------+------------------+-----------+-----------+--------+------------+------------+\n",
            "only showing top 2 rows\n",
            "\n"
          ]
        }
      ]
    },
    {
      "cell_type": "markdown",
      "source": [
        "## Data Preparation <a name=\"data_prep\"></a>\n",
        "[Table of contents](#table_cont)"
      ],
      "metadata": {
        "id": "oOPdhkzqSlWf"
      }
    },
    {
      "cell_type": "code",
      "source": [
        "# select top 5 merchants with the highest amount spent in frauded CC\n",
        "sus_merchants = adj_train.groupby(*['merchant', 'is_fraud'])\\\n",
        "                         .sum('amt').filter(col('is_fraud') == 1)\\\n",
        "                         .sort(desc('sum(amt)'))\\\n",
        "                         .select('merchant')\\\n",
        "                         .limit(5).collect()\n",
        "\n",
        "# the issue is that .collect() will get the list of rows, and I want just the name of the merchants\n",
        "sus_merchants = [row['merchant'] for row in sus_merchants]"
      ],
      "metadata": {
        "id": "NJfLp-gWQMVx"
      },
      "execution_count": 278,
      "outputs": []
    },
    {
      "cell_type": "code",
      "source": [
        "# create a column for suspicious merchants\n",
        "adj_train = adj_train.withColumn('sus_mercht',\n",
        "                                 when(col('merchant').isin(sus_merchants), 1).otherwise(0))\n",
        "\n",
        "# do the same for test set\n",
        "adj_test = adj_test.withColumn('sus_mercht',\n",
        "                               when(col('merchant').isin(sus_merchants),1).otherwise(0))"
      ],
      "metadata": {
        "id": "cNvvq1JARYzX"
      },
      "execution_count": 279,
      "outputs": []
    },
    {
      "cell_type": "code",
      "source": [
        "# make list for category\n",
        "category_list = adj_train.select('category').distinct().collect()\n",
        "category_list = [row['category'] for row in category_list]\n",
        "\n",
        "# make a list for job_category\n",
        "job_list = adj_train.select('job_category').distinct().collect()\n",
        "job_list = [row['job_category'] for row in job_list]"
      ],
      "metadata": {
        "id": "88xsZKIMe4xe"
      },
      "execution_count": 280,
      "outputs": []
    },
    {
      "cell_type": "code",
      "source": [
        "# create loop for category\n",
        "for cat in category_list:\n",
        "  adj_train = adj_train.withColumn(f'{cat}', when(col('category') == cat ,1).otherwise(0))\n",
        "  adj_test = adj_test.withColumn(f'{cat}', when(col('category') == cat ,1).otherwise(0))\n",
        "\n",
        "# create loop for job_category\n",
        "for job in job_list:\n",
        "  adj_train = adj_train.withColumn(f'{job}', when(col('job_category') == job ,1).otherwise(0))\n",
        "  adj_test = adj_test.withColumn(f'{job}', when(col('job_category') == job ,1).otherwise(0))\n",
        "\n",
        "# create dummy for gender\n",
        "adj_train = adj_train.withColumn('female', when(col('gender') == 'F', 1).otherwise(0))\n",
        "adj_test = adj_test.withColumn('female', when(col('gender') == 'F', 1).otherwise(0))\n"
      ],
      "metadata": {
        "id": "4hKpY_YxH-D3"
      },
      "execution_count": 281,
      "outputs": []
    },
    {
      "cell_type": "code",
      "source": [
        "# drop categorical variables\n",
        "final_train = adj_train.drop(*['merchant','category', 'gender','city','state','job','job_macro','job_category'])\n",
        "final_test = adj_test.drop(*['merchant','category', 'gender','city','state','job','job_macro','job_category'])"
      ],
      "metadata": {
        "id": "8Bbhu8XGTOHF"
      },
      "execution_count": 286,
      "outputs": []
    },
    {
      "cell_type": "markdown",
      "metadata": {
        "id": "22c11t8BiSmY"
      },
      "source": [
        "## ML Models <a name=\"ml_mod\"></a>\n",
        "[Table of contents](#table_cont)"
      ]
    },
    {
      "cell_type": "markdown",
      "source": [
        "### Logit"
      ],
      "metadata": {
        "id": "w7f3l9ac1oWK"
      }
    },
    {
      "cell_type": "code",
      "source": [
        "# dealing with umlabanced dataset\n",
        "fraud_count = final_train.filter(col('is_fraud') == 1).count()\n",
        "non_fraud_count = final_train.filter(col('is_fraud') == 0).count()\n",
        "\n",
        "# calculating weights, it will increase minority class weight and increase penalization for miss classifications\n",
        "weight_0 = final_train.count() / non_fraud_count\n",
        "weight_1 = final_train.count() / fraud_count\n",
        "\n",
        "# add weights to final dataframe\n",
        "final_train = final_train.withColumn('weights',  when(col('is_fraud') == 1, weight_1).otherwise(weight_0))"
      ],
      "metadata": {
        "id": "aQnJsdId0JbT"
      },
      "execution_count": 287,
      "outputs": []
    },
    {
      "cell_type": "code",
      "source": [
        "# select feature names\n",
        "features_vec = [col for col in final_train.columns if col not in  ['is_fraud','weights']]\n",
        "\n",
        "# create vector on training set\n",
        "assembler = VectorAssembler(inputCols=features_vec, outputCol='features')\n",
        "final_train = assembler.transform(final_train)\n",
        "\n",
        "# transform test set into vector\n",
        "final_test = assembler.transform(final_test)"
      ],
      "metadata": {
        "id": "8MY0H0lX0Jfk"
      },
      "execution_count": 288,
      "outputs": []
    },
    {
      "cell_type": "code",
      "source": [
        "# create logit model\n",
        "logreg = LogisticRegression(labelCol='is_fraud', featuresCol='features', weightCol='weights')\n",
        "\n",
        "# apply to dataset\n",
        "logit = logreg.fit(final_train)"
      ],
      "metadata": {
        "id": "KEuFXKz50JXq"
      },
      "execution_count": 290,
      "outputs": []
    },
    {
      "cell_type": "code",
      "source": [
        "# predict using test set\n",
        "logit_pred = logit.transform(final_test)\n",
        "\n",
        "# area under the ROC Curve\n",
        "evaluator = BinaryClassificationEvaluator(labelCol='is_fraud', rawPredictionCol=\"prediction\")\n",
        "auc = evaluator.evaluate(logit_pred)\n",
        "print(f\"AUC: {auc}\")"
      ],
      "metadata": {
        "id": "-sr0Mv4F177q",
        "outputId": "77962fd0-60d2-4812-bc4d-0f77d5140da2",
        "colab": {
          "base_uri": "https://localhost:8080/"
        }
      },
      "execution_count": 291,
      "outputs": [
        {
          "output_type": "stream",
          "name": "stdout",
          "text": [
            "AUC: 0.8189533171447747\n"
          ]
        }
      ]
    },
    {
      "cell_type": "markdown",
      "metadata": {
        "id": "tapAfHf6iSmY"
      },
      "source": [
        "## Comparing results <a name=\"results\"></a>\n",
        "[Table of contents](#table_cont)"
      ]
    },
    {
      "cell_type": "markdown",
      "metadata": {
        "id": "i3N_7C_iiSmY"
      },
      "source": [
        "## Take Aways <a name=\"take_away\"></a>\n",
        "[Table of contents](#table_cont)"
      ]
    }
  ],
  "metadata": {
    "kernelspec": {
      "display_name": ".venv",
      "language": "python",
      "name": "python3"
    },
    "language_info": {
      "codemirror_mode": {
        "name": "ipython",
        "version": 3
      },
      "file_extension": ".py",
      "mimetype": "text/x-python",
      "name": "python",
      "nbconvert_exporter": "python",
      "pygments_lexer": "ipython3",
      "version": "3.11.9"
    },
    "colab": {
      "provenance": []
    }
  },
  "nbformat": 4,
  "nbformat_minor": 0
}