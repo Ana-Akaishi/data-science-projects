{
 "cells": [
  {
   "cell_type": "markdown",
   "metadata": {},
   "source": [
    "# AB Test - Marketing Campaign Analysis"
   ]
  },
  {
   "cell_type": "markdown",
   "metadata": {},
   "source": [
    "Now, I'll conduct the A/B Test on our marketing campaign dataframe. It's important to stabilish:\n",
    "- I'm analysing the promotions financial performance, so my MAIN METRIC will be `SalesInThousands`\n",
    "- My hyphotesis are:\n",
    "    - H0: the promotions did not have effect on revenue\n",
    "    - H1: the promotions HAD an effect on revenue\n",
    "\n",
    "Before begin doing test, IT'S FUNDAMENTAL TO LOOK INTO THE TYPE OF DISTRIBUTION I HAVE. For this, I'll use Shapiro Normality test and then determine which statiscial metrics I'll use."
   ]
  },
  {
   "cell_type": "code",
   "execution_count": 1,
   "metadata": {},
   "outputs": [],
   "source": [
    "import pandas as pd\n",
    "from scipy.stats import shapiro, ttest_1samp, ttest_ind, levene, kruskal, mannwhitneyu, pearsonr, spearmanr"
   ]
  },
  {
   "cell_type": "code",
   "execution_count": 4,
   "metadata": {},
   "outputs": [],
   "source": [
    "# import dataframe\n",
    "df = pd.read_csv('WA_Marketing-Campaign.csv')\n",
    "\n",
    "# keep only the metric we'll use to analyse promotion performance: SalesInThousands\n",
    "df_clean = df[['Promotion', 'SalesInThousands']]"
   ]
  },
  {
   "cell_type": "markdown",
   "metadata": {},
   "source": [
    "## Normality Check"
   ]
  },
  {
   "cell_type": "code",
   "execution_count": 26,
   "metadata": {},
   "outputs": [
    {
     "name": "stdout",
     "output_type": "stream",
     "text": [
      "Promotion 3 DOESN NOT HAVE a normal distribution \n",
      "\n",
      "Promotion 2 DOESN NOT HAVE a normal distribution \n",
      "\n",
      "Promotion 1 DOESN NOT HAVE a normal distribution \n",
      "\n"
     ]
    }
   ],
   "source": [
    "# check to see if df has a normal distribution\n",
    "## H0: df HAS a normal distribution: I'll move to parametric methods\n",
    "## H1: df DOESN'T have a normal distribution: I'll use NON parametric methods\n",
    "\n",
    "# Shapiro test is done in arrays, so I need to create an array for each promotion\n",
    "promo_list = df_clean['Promotion'].unique()\n",
    "\n",
    "# loop shapiro test between promotion list(1,2,3) and extract the p-value\n",
    "for promotion in promo_list:\n",
    "    normal_test = shapiro(df_clean.loc[df_clean['Promotion'] == promotion, 'SalesInThousands'])\n",
    "    if normal_test[1] < 0.05:\n",
    "        print(f'Promotion {promotion} DOESN NOT HAVE a normal distribution \\n')\n",
    "    else:\n",
    "        print(f'Promotion {promotion} HAS a normal distribution \\n')"
   ]
  },
  {
   "cell_type": "markdown",
   "metadata": {},
   "source": [
    "Since our promotion don't have a normal distribution (AS NOTICED DURING THE EDA), I'll use **Nonparametric** statistical methods to determine if there's any didfference between the promotions."
   ]
  },
  {
   "cell_type": "markdown",
   "metadata": {},
   "source": [
    "## A/B Test"
   ]
  },
  {
   "cell_type": "markdown",
   "metadata": {},
   "source": [
    "### Levene Test - Variance\n",
    "HO: samples have same variance\n",
    "\n",
    "H1: samples DO NOT HAVE the same variance"
   ]
  },
  {
   "cell_type": "code",
   "execution_count": 31,
   "metadata": {},
   "outputs": [
    {
     "name": "stdout",
     "output_type": "stream",
     "text": [
      "Promotions have the same variance, P-value=0.2818 > 0.05\n"
     ]
    }
   ],
   "source": [
    "# Leven test compares samples in the format of arrays\n",
    "## Since I have 3 samples, because I have 3 promotion, I need compare them all at the same time\n",
    "levene_test, levene_pvalue = levene(df_clean.loc[df_clean['Promotion'] == 1, 'SalesInThousands'],\n",
    "                                    df_clean.loc[df_clean['Promotion'] == 2, 'SalesInThousands'],\n",
    "                                    df_clean.loc[df_clean['Promotion'] == 3, 'SalesInThousands'])\n",
    "\n",
    "if levene_pvalue < 0.05:\n",
    "    print(f'Promotions have different variance, P-value={round(levene_pvalue,4)} < 0.05')\n",
    "else:\n",
    "    print(f'Promotions have the same variance, P-value={round(levene_pvalue,4)} > 0.05')"
   ]
  },
  {
   "cell_type": "markdown",
   "metadata": {},
   "source": [
    "### Kruskal-Wallis H-test - Median\n",
    "HO: sample medians are the same\n",
    "\n",
    "H1: sample median are different"
   ]
  },
  {
   "cell_type": "code",
   "execution_count": 32,
   "metadata": {},
   "outputs": [
    {
     "name": "stdout",
     "output_type": "stream",
     "text": [
      "Promotions have DIFFERENT medians, P-value=0.0 < 0.05\n"
     ]
    }
   ],
   "source": [
    "kruskal_test, kruskal_pvalue = kruskal(df_clean.loc[df_clean['Promotion'] == 1, 'SalesInThousands'],\n",
    "                                    df_clean.loc[df_clean['Promotion'] == 2, 'SalesInThousands'],\n",
    "                                    df_clean.loc[df_clean['Promotion'] == 3, 'SalesInThousands'])\n",
    "\n",
    "if kruskal_pvalue < 0.05:\n",
    "    print(f'Promotions have DIFFERENT medians, P-value={round(kruskal_pvalue,4)} < 0.05')\n",
    "else:\n",
    "    print(f'Promotions have the SAME median, P-value={round(kruskal_pvalue,4)} > 0.05')"
   ]
  },
  {
   "cell_type": "markdown",
   "metadata": {},
   "source": [
    "Comparing the 3 promotions, I identified there's a difference between them (due to the different median) and it's statistical significant. The problem I can't pinpoint which one is different, since my **variance** analysis suggest they are the same.\n",
    "\n",
    "To fix this, I'll have to run individual tests and see which ones are different:\n",
    "- Promotion 1 x Promotion 2\n",
    "- Promotion 1 x Promotion 3\n",
    "- Promotion 2 x Promotion 3\n",
    "\n",
    "For this, I'm gonna conduct the a Dunn's Test that is usually conducted after an inconclusive Kurskall-Wallis Test."
   ]
  },
  {
   "cell_type": "code",
   "execution_count": null,
   "metadata": {},
   "outputs": [
    {
     "ename": "ModuleNotFoundError",
     "evalue": "No module named 'scikit_posthocs'",
     "output_type": "error",
     "traceback": [
      "\u001b[1;31m---------------------------------------------------------------------------\u001b[0m",
      "\u001b[1;31mModuleNotFoundError\u001b[0m                       Traceback (most recent call last)",
      "Cell \u001b[1;32mIn[40], line 1\u001b[0m\n\u001b[1;32m----> 1\u001b[0m \u001b[38;5;28;01mimport\u001b[39;00m\u001b[38;5;250m \u001b[39m\u001b[38;5;21;01mscikit_posthocs\u001b[39;00m\u001b[38;5;250m \u001b[39m\u001b[38;5;28;01mas\u001b[39;00m\u001b[38;5;250m \u001b[39m\u001b[38;5;21;01msp\u001b[39;00m\n",
      "\u001b[1;31mModuleNotFoundError\u001b[0m: No module named 'scikit_posthocs'"
     ]
    }
   ],
   "source": [
    "import scikit_posthocs as sp\n",
    "\n",
    "posthoc_results = sp.posthoc_dunn([df_clean[df_clean[\"Promotion\"] == p][\"NumSales\"] for p in df_clean[\"Promotion\"].unique()], p_adjust='bonferroni')\n"
   ]
  },
  {
   "cell_type": "markdown",
   "metadata": {},
   "source": [
    "## A/B TEST Summary"
   ]
  }
 ],
 "metadata": {
  "kernelspec": {
   "display_name": ".venv",
   "language": "python",
   "name": "python3"
  },
  "language_info": {
   "codemirror_mode": {
    "name": "ipython",
    "version": 3
   },
   "file_extension": ".py",
   "mimetype": "text/x-python",
   "name": "python",
   "nbconvert_exporter": "python",
   "pygments_lexer": "ipython3",
   "version": "3.11.9"
  }
 },
 "nbformat": 4,
 "nbformat_minor": 2
}
