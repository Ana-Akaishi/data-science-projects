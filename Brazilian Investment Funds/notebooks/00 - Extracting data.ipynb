{
 "cells": [
  {
   "cell_type": "markdown",
   "metadata": {},
   "source": [
    "# Extracting Data\n",
    "Investment Funds must be registered in Brazilian Securities and Exchange Comission (CVM). CVM has funds data on their daily returns, benchmark index, type of fund, issuer, manager and other informations related to it. All data is open to the public in CVM [website](https://dados.cvm.gov.br/group/fundos-de-investimento):\n",
    "- Funds return: one database for daily, monthly, quarterly, anual\n",
    "- Register info: funds name, manager, issuer, type, open/close\n",
    "- Statement of Income: database with funds link to their state of income\n",
    "- Investors profile: who owns funds quotas (other business, retirement funds, individual investors, professional investors)\n",
    "- Performance metrics: how to calculate return, risk accordin to managers, collateral\n",
    "\n",
    "For this study, I'm interested in the daily returns and register info. This way I can map funds by their features and follow their performance in time. The advantage to use daily data is that I can transform daily info into month, quarter and annual."
   ]
  },
  {
   "cell_type": "markdown",
   "metadata": {},
   "source": [
    "## Importing libraries"
   ]
  },
  {
   "cell_type": "code",
   "execution_count": 1,
   "metadata": {},
   "outputs": [],
   "source": [
    "import pandas as pd\n",
    "import numpy as np\n",
    "import requests\n",
    "import zipfile\n",
    "import os\n",
    "from bcb import currency, sgs, Expectativas\n",
    "import yfinance\n",
    "from datetime import datetime, timedelta"
   ]
  },
  {
   "cell_type": "markdown",
   "metadata": {},
   "source": [
    "# Financial funds data"
   ]
  },
  {
   "cell_type": "code",
   "execution_count": 2,
   "metadata": {},
   "outputs": [],
   "source": [
    "# Creating parameters to download data\n",
    "## Date paramenters to match CVM files\n",
    "years = ['2024','2023','2022','2021','2020']\n",
    "legacy = ['2020']\n",
    "\n",
    "months = range(1,13)\n",
    "month_list = []\n",
    "\n",
    "for i in months:\n",
    "    if i<10: \n",
    "        i = str('0'+str(i))\n",
    "    else:   \n",
    "        i = str(i)\n",
    "    month_list.append(i)"
   ]
  },
  {
   "cell_type": "markdown",
   "metadata": {},
   "source": [
    "To collect the data, I'll request directly from CVM website the zipfiles containing the [daily returns of financial funds](https://dados.cvm.gov.br/dataset/fi-doc-inf_diario). The main issue here, is that we have two types of repositories: (1) daily data organized in monthly zip files from the current year to 3 years ago (Y-3), (2) yearly zip file for older data. So in my study 2024,2023,2022 and 2021 will have monthly zip files, while [2020](https://dados.cvm.gov.br/dados/FI/DOC/INF_DIARIO/DADOS/HIST/) will have only one zip file with 12 csv files inside.\n",
    "\n",
    "To solve it, I'll just need to create a loop to identify which year is considered old/legacy by CVM. Previously I created a legacy list with 2020 so I can use it in the loop now.\n",
    "\n",
    "URL with daily return data\n",
    "URL model: dados.cvm.gov.br/dados/FI/DOC/INF_DIARIO/**DADOS/inf_diario_fi_202307**.zip\n",
    "- replace the date on the URL '202307' with the loop\n",
    "\n",
    "URL for legacy data\n",
    "URL legacy model: dados.cvm.gov.br/dados/FI/DOC/INF_DIARIO/**DADOS/HIST/inf_diario_fi_2000**.zip\n",
    "- replace only the year 2000"
   ]
  },
  {
   "cell_type": "code",
   "execution_count": 3,
   "metadata": {},
   "outputs": [],
   "source": [
    "# Create empty dataframes to store return data\n",
    "cvm_daily_return = pd.DataFrame()\n",
    "cvm_legacy_return = pd.DataFrame()\n",
    "\n",
    "# Create loop to download data from 2020 to July 2024\n",
    "## I'll collect data for each year in our years list\n",
    "for yyyy in years:\n",
    "    try:\n",
    "        if yyyy in legacy:  # Y-3 data is considered history and moved to a different directory, I'll call it legacy\n",
    "            daily_return_url = f'https://dados.cvm.gov.br/dados/FI/DOC/INF_DIARIO/DADOS/HIST/inf_diario_fi_{yyyy}.zip'\n",
    "            download_url = requests.get(daily_return_url)\n",
    "            zip_filename = f'inf_diario_fi_{yyyy}.zip' \n",
    "            with open(zip_filename,'wb') as zip_ref:\n",
    "                zip_ref.write(download_url.content)\n",
    "            with zipfile.ZipFile(zip_filename, 'r') as cvm_zip:\n",
    "                legacy_csv = [pd.read_csv(cvm_zip.open(f), sep=';') for f in cvm_zip.namelist()]\n",
    "                cvm_legacy_return = pd.concat(legacy_csv)\n",
    "            os.remove(zip_filename)\n",
    "        else:\n",
    "            for mm in month_list:   # Y-3< data is called by year and month. So we need to run all month_list elements\n",
    "                daily_return_url = f'https://dados.cvm.gov.br/dados/FI/DOC/INF_DIARIO/DADOS/inf_diario_fi_{yyyy}{mm}.zip'\n",
    "                download_url = requests.get(daily_return_url) \n",
    "                zip_filename = f'inf_diario_fi_{yyyy}{mm}.zip' \n",
    "                with open(zip_filename, 'wb') as zip_ref:\n",
    "                    zip_ref.write(download_url.content)\n",
    "                with zipfile.ZipFile(zip_filename) as cvm_zip:\n",
    "                    for file_name in cvm_zip.namelist():\n",
    "                        if file_name.endswith('.csv'):\n",
    "                            with cvm_zip.open(file_name) as cvm_csv:\n",
    "                                cvm_daily_return_temp = pd.read_csv(cvm_csv, sep=';')\n",
    "                                cvm_daily_return = pd.concat([cvm_daily_return, cvm_daily_return_temp])\n",
    "                os.remove(zip_filename)\n",
    "        cvm_daily_return = pd.concat([cvm_daily_return,cvm_legacy_return])\n",
    "    except:\n",
    "        pass    # Avoid stopping the process in case it looks for current year and months yet to come (YYYYMM+1)\n",
    "\n",
    "# Delete unused variables to clean memory\n",
    "del cvm_csv, cvm_zip, download_url, file_name, legacy, mm, yyyy"
   ]
  },
  {
   "cell_type": "code",
   "execution_count": 4,
   "metadata": {},
   "outputs": [],
   "source": [
    "# Save data into csv file to be cleaned in the next step\n",
    "cvm_daily_return.to_csv('cvm_daily_return.csv')"
   ]
  },
  {
   "cell_type": "markdown",
   "metadata": {},
   "source": [
    "# Register data\n",
    "The next step is to identify the funds. Investors know it by their name, not their register number. I'll also need to check their status, to see if the fund still active. Here I face a similar situation from return data, [current](https://dados.cvm.gov.br/dados/FI/CAD/DADOS/cad_fi.csv) and [legacy](https://dados.cvm.gov.br/dados/FI/CAD/DADOS/cad_fi_hist.zip) data."
   ]
  },
  {
   "cell_type": "code",
   "execution_count": 5,
   "metadata": {},
   "outputs": [
    {
     "name": "stderr",
     "output_type": "stream",
     "text": [
      "C:\\Users\\anaak\\AppData\\Local\\Temp\\ipykernel_26336\\1580762028.py:2: DtypeWarning: Columns (14,17,18,20,22,24,27,37,38,39,40) have mixed types. Specify dtype option on import or set low_memory=False.\n",
      "  cvm_register = pd.read_csv('https://dados.cvm.gov.br/dados/FI/CAD/DADOS/cad_fi.csv', sep=';', encoding='latin-1')\n"
     ]
    }
   ],
   "source": [
    "# Open current register file\n",
    "cvm_register = pd.read_csv('https://dados.cvm.gov.br/dados/FI/CAD/DADOS/cad_fi.csv', sep=';', encoding='latin-1')\n",
    "\n",
    "# Open legacy register file\n",
    "## Issue: legacy has several csvs in one zip file\n",
    "register_url = 'https://dados.cvm.gov.br/dados/FI/CAD/DADOS/cad_fi_hist.zip'\n",
    "download_register = requests.get(register_url)\n",
    "register_zip = 'cad_fi_hist.zip'\n",
    "with open(register_zip,'wb') as reg_ref:\n",
    "    reg_ref.write(download_register.content)\n",
    "with zipfile.ZipFile(register_zip,'r') as register_zip:\n",
    "    reg_csv_lag = [pd.read_csv(register_zip.open(g), sep=';', encoding='latin-1') for g in register_zip.namelist()]\n",
    "    legacy_register = pd.concat(reg_csv_lag, axis=0, ignore_index=True)\n",
    "os.remove('cad_fi_hist.zip')"
   ]
  },
  {
   "cell_type": "code",
   "execution_count": 6,
   "metadata": {},
   "outputs": [],
   "source": [
    "# Save data into csv file to be cleaned in the next step\n",
    "cvm_register.to_csv('cvm_register.csv')\n",
    "legacy_register.to_csv('legacy_register.csv')"
   ]
  },
  {
   "cell_type": "markdown",
   "metadata": {},
   "source": [
    "# Macro economic data\n",
    "\n",
    "Now I'll colect macro economic data that will influence funds performance (aka return). To do it, I'll use an API developed by Brazil's Central Bank (BACEN) to colect historical data and projections on the following economic indexes:\n",
    "- Risk-free rate: [SELIC](https://www.bcb.gov.br/controleinflacao/taxaselic)\n",
    "- Inflation rate: Consumer Price Index [IPCA](https://www.ibge.gov.br/explica/inflacao.php) (*Índice de Preço ao Consumidor*)\n",
    "\n",
    "**Why am I using SELIC as risk-free rate? What about [CDI](https://borainvestir.b3.com.br/tipos-de-investimentos/taxa-do-cdi-o-que-e-como-impacta-seus-investimentos/) (Interbank Certificate of Deposit)?**\n",
    "- SELIC and CDI value shouldn't be too different. CDI is the rate used when financial institutions lend money to each other, but with only 24h to pay back. This makes this oppperation extremely safe due the short period and the size/type of borrower. Many financial assets use CDI as their benchmark, because it's slightly higher than SELIC. However, since we are focusing on **financial funds**, there are funds focused on public treasure papers (that uses SELIC).\n",
    "\n",
    "**Where are you getting all this data?**\n",
    "- I'll use [BACEN](https://pypi.org/project/python-bcb/) API. I'll get the time series data ([SGS](https://wilsonfreitas.github.io/python-bcb/sgs.html)) and currency value (currency).\n",
    "\n",
    "**The BACEN (BCB) API is confused! How do I get time series code? For example what is SELIC's ID?**\n",
    "- You'll have to search which rate do you want on the search bar, then BACEN will direct you to a page with all index ID you need. For this example, SELIC has more than 5 [IDS](https://www3.bcb.gov.br/sgspub/localizarseries/localizarSeries.do?method=prepararTelaLocalizarSeries) depending on how do you want the data."
   ]
  },
  {
   "cell_type": "markdown",
   "metadata": {},
   "source": [
    "## Get historical data\n",
    "IMPORTANT DESCLAIMER: THIS IS THE ANNUAL RATE (a.a%)\n",
    "\n",
    "IMPORTANT DESCLAIMER: THIS IS THE MONTHLY RATE (a.m%)"
   ]
  },
  {
   "cell_type": "code",
   "execution_count": 4,
   "metadata": {},
   "outputs": [],
   "source": [
    "# Get risk-free and inflation historical data\n",
    "current_rf = sgs.get({'selic': 432}, start='2019-12-01')\n",
    "current_ipca = sgs.get({'IPCA': 433}, start='2019-12-01')\n",
    "\n",
    "# Write csv\n",
    "current_rf.to_csv('current_rf.csv')\n",
    "current_ipca.to_csv('current_ipca.csv')"
   ]
  },
  {
   "cell_type": "markdown",
   "metadata": {},
   "source": [
    "# Market data\n",
    "To collect market data, I'm gonna use Yahoo Finance API to collect historical data on Dollar (using exchance rate USD/BRL) and Brazilian stock market index (IBOVESPA). \n",
    "\n",
    "**Why are you using only Dollar as exchange rate?**\n",
    "- Dollar is the reference currency to our economy. Depending on its variation, other currencies such as Euro will also move in the same direction (but not in the same intensity)."
   ]
  },
  {
   "cell_type": "code",
   "execution_count": 57,
   "metadata": {},
   "outputs": [
    {
     "name": "stderr",
     "output_type": "stream",
     "text": [
      "[*********************100%%**********************]  1 of 1 completed\n",
      "[*********************100%%**********************]  1 of 1 completed\n"
     ]
    }
   ],
   "source": [
    "# Download dollar and IBOVESPA values based on their tickers\n",
    "dolar = yfinance.download('BRL=X', start='2019-12-31', end='2024-07-31')\n",
    "ibov = yfinance.download('^bvsp', start='2019-12-31', end='2024-07-31')\n",
    "\n",
    "dolar.to_csv('dolar_mkt.csv')\n",
    "ibov.to_csv('ibov_mkt.csv')"
   ]
  }
 ],
 "metadata": {
  "kernelspec": {
   "display_name": "Python 3",
   "language": "python",
   "name": "python3"
  },
  "language_info": {
   "codemirror_mode": {
    "name": "ipython",
    "version": 3
   },
   "file_extension": ".py",
   "mimetype": "text/x-python",
   "name": "python",
   "nbconvert_exporter": "python",
   "pygments_lexer": "ipython3",
   "version": "3.12.2"
  }
 },
 "nbformat": 4,
 "nbformat_minor": 2
}
