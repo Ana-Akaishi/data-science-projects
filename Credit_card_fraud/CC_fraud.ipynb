{
  "cells": [
    {
      "cell_type": "markdown",
      "metadata": {
        "id": "BQ9ganokiSmS"
      },
      "source": [
        "# Credit Card Fraud Detection\n",
        "In this notebook, I'll explore this public dataset on Kaggle about [credit card fraud](https://www.kaggle.com/datasets/kartik2112/fraud-detection?resource=download). My objective is to analyze this dataset behavior and create an algorithm to predict if there's a fraud or not.\n",
        "\n",
        "As for my tool, I'll use **PySpark** to load my data, check the quality and do the exploratory data analysis (EDA). Next, I'll run some classifications algorithms and compare their performance to see which model would be used in a 'deploy phase'.\n",
        "\n",
        "## Table of Contents  <a name=\"table_cont\"></a>\n",
        "\n",
        "0. [**Libraries**](#lib)\n",
        "1. [**Load data**](#load_data)\n",
        "2. [**Data quality**](#data-quality)\n",
        "3. [**Feature Engineering**](#features)\n",
        "4. [**EDA**](#eda)\n",
        "5. [**Data preparation**](#data_prep)\n",
        "6. [**ML Models**](#ml_mod)\n",
        "    - Logistical regression (Logit)\n",
        "    - Random Forest\n",
        "    - Gradient-Boosted Trees (GBTs)\n",
        "    - Naive Bayes\n",
        "7. [**Comparing results**](#results)\n",
        "8. [**Take Aways**](#take_away)\n"
      ]
    },
    {
      "cell_type": "markdown",
      "metadata": {
        "id": "613EBlQGiSmV"
      },
      "source": [
        "## Libraries <a name=\"libs\"></a>"
      ]
    },
    {
      "cell_type": "code",
      "execution_count": 204,
      "metadata": {
        "id": "fiVQW1EbiSmV"
      },
      "outputs": [],
      "source": [
        "from pyspark.sql import SparkSession\n",
        "from pyspark.sql.functions import isnan, when, count, col, year, month, dayofweek, weekofyear, date_format, current_date, date_diff, floor, desc, asc, sum, mean, explode, lower,split\n",
        "\n"
      ]
    },
    {
      "cell_type": "markdown",
      "metadata": {
        "id": "cBYHG5qsiSmW"
      },
      "source": [
        "## Load data  <a name=\"load_data\"></a>"
      ]
    },
    {
      "cell_type": "code",
      "execution_count": 138,
      "metadata": {
        "id": "a4SC9BYwiSmW"
      },
      "outputs": [],
      "source": [
        "# create spark session\n",
        "spark = SparkSession.builder.appName('CC_fraud').getOrCreate()\n",
        "\n",
        "# load train and test datasets\n",
        "train = spark.read.csv('fraudTrain.csv', header=True, inferSchema=True)\n",
        "test = spark.read.csv('fraudTest.csv', header=True, inferSchema=True)"
      ]
    },
    {
      "cell_type": "code",
      "execution_count": 139,
      "metadata": {
        "colab": {
          "base_uri": "https://localhost:8080/"
        },
        "id": "EQy5yt1RiSmX",
        "outputId": "8000ca9a-8a81-4838-c080-61d8aae0bc22"
      },
      "outputs": [
        {
          "output_type": "stream",
          "name": "stdout",
          "text": [
            "Train set \n",
            "\n",
            "+---+---------------------+----------------+--------------------+-------------+------+---------+-------+------+--------------------+--------------+-----+-----+-------+---------+--------+--------------------+----------+--------------------+----------+------------------+-----------+--------+\n",
            "|_c0|trans_date_trans_time|          cc_num|            merchant|     category|   amt|    first|   last|gender|              street|          city|state|  zip|    lat|     long|city_pop|                 job|       dob|           trans_num| unix_time|         merch_lat| merch_long|is_fraud|\n",
            "+---+---------------------+----------------+--------------------+-------------+------+---------+-------+------+--------------------+--------------+-----+-----+-------+---------+--------+--------------------+----------+--------------------+----------+------------------+-----------+--------+\n",
            "|  0|  2019-01-01 00:00:18|2703186189652095|fraud_Rippin, Kub...|     misc_net|  4.97| Jennifer|  Banks|     F|      561 Perry Cove|Moravian Falls|   NC|28654|36.0788| -81.1781|    3495|Psychologist, cou...|1988-03-09|0b242abb623afc578...|1325376018|         36.011293| -82.048315|       0|\n",
            "|  1|  2019-01-01 00:00:44|    630423337322|fraud_Heller, Gut...|  grocery_pos|107.23|Stephanie|   Gill|     F|43039 Riley Green...|        Orient|   WA|99160|48.8878|-118.2105|     149|Special education...|1978-06-21|1f76529f857473494...|1325376044|49.159046999999994|-118.186462|       0|\n",
            "|  2|  2019-01-01 00:00:51|  38859492057661|fraud_Lind-Buckridge|entertainment|220.11|   Edward|Sanchez|     M|594 White Dale Su...|    Malad City|   ID|83252|42.1808| -112.262|    4154|Nature conservati...|1962-01-19|a1a22d70485983eac...|1325376051|         43.150704|-112.154481|       0|\n",
            "|  3|  2019-01-01 00:01:16|3534093764340240|fraud_Kutch, Herm...|gas_transport|  45.0|   Jeremy|  White|     M|9443 Cynthia Cour...|       Boulder|   MT|59632|46.2306|-112.1138|    1939|     Patent attorney|1967-01-12|6b849c168bdad6f86...|1325376076|         47.034331|-112.561071|       0|\n",
            "|  4|  2019-01-01 00:03:06| 375534208663984| fraud_Keeling-Crist|     misc_pos| 41.96|    Tyler| Garcia|     M|    408 Bradley Rest|      Doe Hill|   VA|24433|38.4207| -79.4629|      99|Dance movement ps...|1986-03-28|a41d7549acf907893...|1325376186|         38.674999| -78.632459|       0|\n",
            "+---+---------------------+----------------+--------------------+-------------+------+---------+-------+------+--------------------+--------------+-----+-----+-------+---------+--------+--------------------+----------+--------------------+----------+------------------+-----------+--------+\n",
            "\n",
            "Test set\n",
            "+---+---------------------+----------------+--------------------+--------------+-----+------+--------+------+--------------------+----------+-----+-----+-------+------------------+--------+--------------------+----------+--------------------+----------+------------------+-----------+--------+\n",
            "|_c0|trans_date_trans_time|          cc_num|            merchant|      category|  amt| first|    last|gender|              street|      city|state|  zip|    lat|              long|city_pop|                 job|       dob|           trans_num| unix_time|         merch_lat| merch_long|is_fraud|\n",
            "+---+---------------------+----------------+--------------------+--------------+-----+------+--------+------+--------------------+----------+-----+-----+-------+------------------+--------+--------------------+----------+--------------------+----------+------------------+-----------+--------+\n",
            "|  0|  2020-06-21 12:14:25|2291163933867244|fraud_Kirlin and ...| personal_care| 2.86|  Jeff| Elliott|     M|   351 Darlene Green|  Columbia|   SC|29209|33.9659|          -80.9355|  333497| Mechanical engineer|1968-03-19|2da90c7d74bd46a0c...|1371816865|         33.986391| -81.200714|       0|\n",
            "|  1|  2020-06-21 12:14:33|3573030041201292|fraud_Sporer-Keebler| personal_care|29.84|Joanne|Williams|     F|    3638 Marsh Union|   Altonah|   UT|84002|40.3207|          -110.436|     302|Sales professiona...|1990-01-17|324cc204407e99f51...|1371816873|39.450497999999996|-109.960431|       0|\n",
            "|  2|  2020-06-21 12:14:53|3598215285024754|fraud_Swaniawski,...|health_fitness|41.28|Ashley|   Lopez|     F|9333 Valentine Point|  Bellmore|   NY|11710|40.6729|          -73.5365|   34496|   Librarian, public|1970-10-21|c81755dbbbea9d5c7...|1371816893|          40.49581| -74.196111|       0|\n",
            "|  3|  2020-06-21 12:15:15|3591919803438423|   fraud_Haley Group|      misc_pos|60.05| Brian|Williams|     M|32941 Krystal Mil...|Titusville|   FL|32780|28.5697|          -80.8191|   54767|        Set designer|1987-07-25|2159175b9efe66dc3...|1371816915|28.812397999999998| -80.883061|       0|\n",
            "|  4|  2020-06-21 12:15:17|3526826139003047|fraud_Johnston-Ca...|        travel| 3.19|Nathan|  Massey|     M|5783 Evan Roads A...|  Falmouth|   MI|49632|44.2529|-85.01700000000001|    1126|  Furniture designer|1955-07-06|57ff021bd3f328f87...|1371816917|         44.959148| -85.884734|       0|\n",
            "+---+---------------------+----------------+--------------------+--------------+-----+------+--------+------+--------------------+----------+-----+-----+-------+------------------+--------+--------------------+----------+--------------------+----------+------------------+-----------+--------+\n",
            "\n"
          ]
        }
      ],
      "source": [
        "print('Train set \\n')\n",
        "train.limit(5).show()\n",
        "print('Test set')\n",
        "test.limit(5).show()"
      ]
    },
    {
      "cell_type": "code",
      "source": [
        "# dataframes shape\n",
        "print((train.count(), len(train.columns)))"
      ],
      "metadata": {
        "colab": {
          "base_uri": "https://localhost:8080/"
        },
        "id": "ZMP32K0V6Fs9",
        "outputId": "6e943b40-82ea-4101-a17f-aced6edd3139"
      },
      "execution_count": 140,
      "outputs": [
        {
          "output_type": "stream",
          "name": "stdout",
          "text": [
            "(1296675, 23)\n"
          ]
        }
      ]
    },
    {
      "cell_type": "code",
      "source": [
        "print((test.count(), len(test.columns)))"
      ],
      "metadata": {
        "colab": {
          "base_uri": "https://localhost:8080/"
        },
        "id": "AFRnv6rb6I5U",
        "outputId": "b0bcc582-8885-412c-f953-18f8182e149a"
      },
      "execution_count": 141,
      "outputs": [
        {
          "output_type": "stream",
          "name": "stdout",
          "text": [
            "(555719, 23)\n"
          ]
        }
      ]
    },
    {
      "cell_type": "markdown",
      "metadata": {
        "id": "gbV6vbfFiSmX"
      },
      "source": [
        "## Data quality <a name=\"data_quality\"></a>\n",
        "[Table of contents](#table_cont)"
      ]
    },
    {
      "cell_type": "code",
      "source": [
        "# check if columns have the correct data type\n",
        "print('Train set data type:')\n",
        "train.dtypes\n",
        "\n",
        "## could also have used train.printSchema()"
      ],
      "metadata": {
        "colab": {
          "base_uri": "https://localhost:8080/"
        },
        "id": "1trmetPepJl6",
        "outputId": "ded4b41a-66a7-4255-9f0b-16c1caaf2c6d"
      },
      "execution_count": 142,
      "outputs": [
        {
          "output_type": "stream",
          "name": "stdout",
          "text": [
            "Train set data type:\n"
          ]
        },
        {
          "output_type": "execute_result",
          "data": {
            "text/plain": [
              "[('_c0', 'int'),\n",
              " ('trans_date_trans_time', 'timestamp'),\n",
              " ('cc_num', 'bigint'),\n",
              " ('merchant', 'string'),\n",
              " ('category', 'string'),\n",
              " ('amt', 'double'),\n",
              " ('first', 'string'),\n",
              " ('last', 'string'),\n",
              " ('gender', 'string'),\n",
              " ('street', 'string'),\n",
              " ('city', 'string'),\n",
              " ('state', 'string'),\n",
              " ('zip', 'int'),\n",
              " ('lat', 'double'),\n",
              " ('long', 'double'),\n",
              " ('city_pop', 'int'),\n",
              " ('job', 'string'),\n",
              " ('dob', 'date'),\n",
              " ('trans_num', 'string'),\n",
              " ('unix_time', 'int'),\n",
              " ('merch_lat', 'double'),\n",
              " ('merch_long', 'double'),\n",
              " ('is_fraud', 'int')]"
            ]
          },
          "metadata": {},
          "execution_count": 142
        }
      ]
    },
    {
      "cell_type": "code",
      "source": [
        "print('Test set data type:')\n",
        "test.dtypes"
      ],
      "metadata": {
        "colab": {
          "base_uri": "https://localhost:8080/"
        },
        "id": "QQwkZd0KpJVD",
        "outputId": "cb1587ff-c691-410d-a547-d8f3d20cc420"
      },
      "execution_count": 143,
      "outputs": [
        {
          "output_type": "stream",
          "name": "stdout",
          "text": [
            "Test set data type:\n"
          ]
        },
        {
          "output_type": "execute_result",
          "data": {
            "text/plain": [
              "[('_c0', 'int'),\n",
              " ('trans_date_trans_time', 'timestamp'),\n",
              " ('cc_num', 'bigint'),\n",
              " ('merchant', 'string'),\n",
              " ('category', 'string'),\n",
              " ('amt', 'double'),\n",
              " ('first', 'string'),\n",
              " ('last', 'string'),\n",
              " ('gender', 'string'),\n",
              " ('street', 'string'),\n",
              " ('city', 'string'),\n",
              " ('state', 'string'),\n",
              " ('zip', 'int'),\n",
              " ('lat', 'double'),\n",
              " ('long', 'double'),\n",
              " ('city_pop', 'int'),\n",
              " ('job', 'string'),\n",
              " ('dob', 'date'),\n",
              " ('trans_num', 'string'),\n",
              " ('unix_time', 'int'),\n",
              " ('merch_lat', 'double'),\n",
              " ('merch_long', 'double'),\n",
              " ('is_fraud', 'int')]"
            ]
          },
          "metadata": {},
          "execution_count": 143
        }
      ]
    },
    {
      "cell_type": "code",
      "source": [
        "# separate columns between numeric and strings\n",
        "numeric_cols = [col[0] for col in train.dtypes if col[1] in ['double','float','int']]\n",
        "string_cols = [col[0] for col in train.dtypes if col[1] not in ['double','float','int']]\n",
        "\n",
        "# check for nulls\n",
        "def count_nulls(df):\n",
        "  df.select([\n",
        "      count(when(col(c).isNull() | (col(c) == \"\"), c)).alias(c) if c in string_cols else\n",
        "      count(when(col(c).isNull() | isnan(col(c)), c)).alias(c)\n",
        "      for c in df.columns\n",
        "  ]).show()\n",
        "\n",
        "print('Train nulls:')\n",
        "count_nulls(train)"
      ],
      "metadata": {
        "colab": {
          "base_uri": "https://localhost:8080/"
        },
        "id": "1iEjJEE7stk9",
        "outputId": "623905d5-1fbb-4b67-8065-7b0389b2f1e6"
      },
      "execution_count": 144,
      "outputs": [
        {
          "output_type": "stream",
          "name": "stdout",
          "text": [
            "Train nulls:\n",
            "+---+---------------------+------+--------+--------+---+-----+----+------+------+----+-----+---+---+----+--------+---+---+---------+---------+---------+----------+--------+\n",
            "|_c0|trans_date_trans_time|cc_num|merchant|category|amt|first|last|gender|street|city|state|zip|lat|long|city_pop|job|dob|trans_num|unix_time|merch_lat|merch_long|is_fraud|\n",
            "+---+---------------------+------+--------+--------+---+-----+----+------+------+----+-----+---+---+----+--------+---+---+---------+---------+---------+----------+--------+\n",
            "|  0|                    0|     0|       0|       0|  0|    0|   0|     0|     0|   0|    0|  0|  0|   0|       0|  0|  0|        0|        0|        0|         0|       0|\n",
            "+---+---------------------+------+--------+--------+---+-----+----+------+------+----+-----+---+---+----+--------+---+---+---------+---------+---------+----------+--------+\n",
            "\n"
          ]
        }
      ]
    },
    {
      "cell_type": "code",
      "source": [
        "print('Test nulls:')\n",
        "count_nulls(test)"
      ],
      "metadata": {
        "colab": {
          "base_uri": "https://localhost:8080/"
        },
        "id": "iaJrnopA4rtq",
        "outputId": "e0c8e8b0-0c1c-4649-a2d5-6872b8388f46"
      },
      "execution_count": 145,
      "outputs": [
        {
          "output_type": "stream",
          "name": "stdout",
          "text": [
            "Test nulls:\n",
            "+---+---------------------+------+--------+--------+---+-----+----+------+------+----+-----+---+---+----+--------+---+---+---------+---------+---------+----------+--------+\n",
            "|_c0|trans_date_trans_time|cc_num|merchant|category|amt|first|last|gender|street|city|state|zip|lat|long|city_pop|job|dob|trans_num|unix_time|merch_lat|merch_long|is_fraud|\n",
            "+---+---------------------+------+--------+--------+---+-----+----+------+------+----+-----+---+---+----+--------+---+---+---------+---------+---------+----------+--------+\n",
            "|  0|                    0|     0|       0|       0|  0|    0|   0|     0|     0|   0|    0|  0|  0|   0|       0|  0|  0|        0|        0|        0|         0|       0|\n",
            "+---+---------------------+------+--------+--------+---+-----+----+------+------+----+-----+---+---+----+--------+---+---+---------+---------+---------+----------+--------+\n",
            "\n"
          ]
        }
      ]
    },
    {
      "cell_type": "code",
      "source": [
        "# check for duplicates\n",
        "def duplicates (df):\n",
        "  df.groupBy(df.columns).count().filter(\"count > 1\").show()\n",
        "\n",
        "duplicates(train)"
      ],
      "metadata": {
        "colab": {
          "base_uri": "https://localhost:8080/"
        },
        "id": "wo0MCKPIQqrJ",
        "outputId": "d5efa269-f890-4300-fa1b-847fea93af08"
      },
      "execution_count": 146,
      "outputs": [
        {
          "output_type": "stream",
          "name": "stdout",
          "text": [
            "+---+---------------------+------+--------+--------+---+-----+----+------+------+----+-----+---+---+----+--------+---+---+---------+---------+---------+----------+--------+-----+\n",
            "|_c0|trans_date_trans_time|cc_num|merchant|category|amt|first|last|gender|street|city|state|zip|lat|long|city_pop|job|dob|trans_num|unix_time|merch_lat|merch_long|is_fraud|count|\n",
            "+---+---------------------+------+--------+--------+---+-----+----+------+------+----+-----+---+---+----+--------+---+---+---------+---------+---------+----------+--------+-----+\n",
            "+---+---------------------+------+--------+--------+---+-----+----+------+------+----+-----+---+---+----+--------+---+---+---------+---------+---------+----------+--------+-----+\n",
            "\n"
          ]
        }
      ]
    },
    {
      "cell_type": "code",
      "source": [
        "duplicates(test)"
      ],
      "metadata": {
        "colab": {
          "base_uri": "https://localhost:8080/"
        },
        "id": "4N0zE8yUQ8vK",
        "outputId": "f62b0592-187e-4dca-e742-219edb283287"
      },
      "execution_count": 147,
      "outputs": [
        {
          "output_type": "stream",
          "name": "stdout",
          "text": [
            "+---+---------------------+------+--------+--------+---+-----+----+------+------+----+-----+---+---+----+--------+---+---+---------+---------+---------+----------+--------+-----+\n",
            "|_c0|trans_date_trans_time|cc_num|merchant|category|amt|first|last|gender|street|city|state|zip|lat|long|city_pop|job|dob|trans_num|unix_time|merch_lat|merch_long|is_fraud|count|\n",
            "+---+---------------------+------+--------+--------+---+-----+----+------+------+----+-----+---+---+----+--------+---+---+---------+---------+---------+----------+--------+-----+\n",
            "+---+---------------------+------+--------+--------+---+-----+----+------+------+----+-----+---+---+----+--------+---+---+---------+---------+---------+----------+--------+-----+\n",
            "\n"
          ]
        }
      ]
    },
    {
      "cell_type": "markdown",
      "metadata": {
        "id": "aSFLj0LJiSmY"
      },
      "source": [
        "## Feature Engineering <a name=\"features\"></a>\n",
        "[Table of contents](#table_cont)"
      ]
    },
    {
      "cell_type": "markdown",
      "source": [
        "Retail industry know that some dates are better for commerce than others. Those [holidays](https://www.tagalys.com/blog/us-shopping-sales-calendar-2019) have a significant impact on customer behavior, on which they look for deals and increase the chance to fall victim of scams. But not all events are the same, for instance, BlackFriday and Christmas tend to attract more customers due it's increrible deals while other holidays have more modest impact. That's why I'm classifying holidays based on their impact, and therefore creating 'tiers'.\n",
        "\n",
        "Some details to look out for:\n",
        "- Deals usually happen during the holiday week, so I'm using the week number to build my variables\n",
        "- Week number may change due the year, so I'll need to build a flexible way to find the corresponding number\n",
        "- This is an American dataset. Even if it was created with synthetic data, still follow American behavior and calendar.\n",
        "- Retail dates:\n",
        "  - Tier1: Blackfriday (November 4th week), Christmas (last week of december)\n",
        "  - Tier2: Easter, Independence day (4th of July), Labor day (1st Monday of September), halloween (October last week).\n",
        "  - No event: the rest of the year\n",
        "\n",
        "  obs: In the ideal case, I would find the specific week of the year depending on the timestamp. But for this exercise, since I'm only using PySpark to treat the data, I'll create a range of week dates."
      ],
      "metadata": {
        "id": "G83KbTIY9vDB"
      }
    },
    {
      "cell_type": "code",
      "source": [
        "def feature_engine(df):\n",
        "  # extract date, time, create 'age' variable based on dob (date of birth),\n",
        "  # create 'distance' based on difference between lat,long and merchant_lat,merchant_long\n",
        "  df = df.withColumn('year', year('trans_date_trans_time'))\\\n",
        "         .withColumn('month', month('trans_date_trans_time'))\\\n",
        "         .withColumn('day_week', dayofweek('trans_date_trans_time'))\\\n",
        "         .withColumn('time', date_format('trans_date_trans_time', 'HH:mm:ss'))\\\n",
        "         .withColumn('age', floor(date_diff(current_date(), col('dob'))/365.25))\\\n",
        "         .withColumn('lat_diff', col('lat')-col('merch_lat'))\\\n",
        "         .withColumn('long_diff', col('long')-col('merch_long'))\\\n",
        "         .withColumn('tier1_event', when(weekofyear('trans_date_trans_time').isin([47,48,51,52]), 1).otherwise(0))\\\n",
        "         .withColumn('tier2_event', when(weekofyear('trans_date_trans_time').isin([12,13,14,15,16,17,27,35,36,37,43,44,45]),1).otherwise(0))\\\n",
        "         .withColumn('no_event', when((col('tier1_event')==0) & (col('tier2_event')==0), 1).otherwise(0))\n",
        "  df = df.drop(*['_c0','trans_date_trans_time','cc_num','first','last','street','dob','trans_num'])\n",
        "\n",
        "  return df"
      ],
      "metadata": {
        "id": "89W7hTGeK7k1"
      },
      "execution_count": 148,
      "outputs": []
    },
    {
      "cell_type": "code",
      "source": [
        "# crete new dataframes with new features and dropped useless ones\n",
        "adj_train = feature_engine(train)\n",
        "adj_test = feature_engine(test)"
      ],
      "metadata": {
        "id": "gqJC1eaiRe-h"
      },
      "execution_count": 149,
      "outputs": []
    },
    {
      "cell_type": "code",
      "source": [
        "adj_train.show(2)"
      ],
      "metadata": {
        "colab": {
          "base_uri": "https://localhost:8080/"
        },
        "id": "jspN6JBZ9qMA",
        "outputId": "004540d8-909e-47af-9718-d11f269f7133"
      },
      "execution_count": 150,
      "outputs": [
        {
          "output_type": "stream",
          "name": "stdout",
          "text": [
            "+--------------------+-----------+------+------+--------------+-----+-----+-------+---------+--------+--------------------+----------+------------------+-----------+--------+----+-----+--------+--------+---+--------------------+--------------------+-----------+-----------+--------+\n",
            "|            merchant|   category|   amt|gender|          city|state|  zip|    lat|     long|city_pop|                 job| unix_time|         merch_lat| merch_long|is_fraud|year|month|day_week|    time|age|            lat_diff|           long_diff|tier1_event|tier2_event|no_event|\n",
            "+--------------------+-----------+------+------+--------------+-----+-----+-------+---------+--------+--------------------+----------+------------------+-----------+--------+----+-----+--------+--------+---+--------------------+--------------------+-----------+-----------+--------+\n",
            "|fraud_Rippin, Kub...|   misc_net|  4.97|     F|Moravian Falls|   NC|28654|36.0788| -81.1781|    3495|Psychologist, cou...|1325376018|         36.011293| -82.048315|       0|2019|    1|       3|00:00:18| 36|  0.0675069999999991|  0.8702150000000017|          0|          0|       1|\n",
            "|fraud_Heller, Gut...|grocery_pos|107.23|     F|        Orient|   WA|99160|48.8878|-118.2105|     149|Special education...|1325376044|49.159046999999994|-118.186462|       0|2019|    1|       3|00:00:44| 46|-0.27124699999999535|-0.02403799999999...|          0|          0|       1|\n",
            "+--------------------+-----------+------+------+--------------+-----+-----+-------+---------+--------+--------------------+----------+------------------+-----------+--------+----+-----+--------+--------+---+--------------------+--------------------+-----------+-----------+--------+\n",
            "only showing top 2 rows\n",
            "\n"
          ]
        }
      ]
    },
    {
      "cell_type": "markdown",
      "metadata": {
        "id": "tCCvKJ7BiSmX"
      },
      "source": [
        "## EDA  <a name=\"eda\"></a>\n",
        "[Table of contents](#table_cont)"
      ]
    },
    {
      "cell_type": "markdown",
      "source": [
        "### Fraud"
      ],
      "metadata": {
        "id": "blv3gevz7DVH"
      }
    },
    {
      "cell_type": "code",
      "source": [
        "# check distribuition of fraud and non-fraud in my dataset\n",
        "adj_train.groupby('is_fraud').count().show()"
      ],
      "metadata": {
        "colab": {
          "base_uri": "https://localhost:8080/"
        },
        "id": "pSO-w2BD0P9W",
        "outputId": "04159029-e2a9-4a0c-8c62-a832c98c08c4"
      },
      "execution_count": 151,
      "outputs": [
        {
          "output_type": "stream",
          "name": "stdout",
          "text": [
            "+--------+-------+\n",
            "|is_fraud|  count|\n",
            "+--------+-------+\n",
            "|       1|   7506|\n",
            "|       0|1289169|\n",
            "+--------+-------+\n",
            "\n"
          ]
        }
      ]
    },
    {
      "cell_type": "code",
      "source": [
        "# frauds by year\n",
        "adj_train.groupby(*['year','is_fraud']).agg(count('is_fraud'), sum('amt'), mean('amt')).show()"
      ],
      "metadata": {
        "colab": {
          "base_uri": "https://localhost:8080/"
        },
        "id": "-LPW_3r9AJSJ",
        "outputId": "b5f3311a-c278-4b9e-920e-47a197b73e30"
      },
      "execution_count": 244,
      "outputs": [
        {
          "output_type": "stream",
          "name": "stdout",
          "text": [
            "+----+--------+---------------+--------------------+-----------------+\n",
            "|year|is_fraud|count(is_fraud)|            sum(amt)|         avg(amt)|\n",
            "+----+--------+---------------+--------------------+-----------------+\n",
            "|2019|       1|          13153|   6939002.679999998|527.5604561696949|\n",
            "|2019|       0|        2262238|1.5228592711999947E8| 67.3164923938151|\n",
            "|2020|       1|           5566|  2964485.1800000058|532.6060330578523|\n",
            "|2020|       0|         910435| 6.132831455000049E7|67.36155195044181|\n",
            "+----+--------+---------------+--------------------+-----------------+\n",
            "\n"
          ]
        }
      ]
    },
    {
      "cell_type": "code",
      "source": [
        "# check distribution of frauds along the year (2019)\n",
        "adj_train.groupby(*['year','month','is_fraud'])\\\n",
        "         .agg(count('is_fraud'), sum('amt'), mean('amt'))\\\n",
        "         .filter((col('year') == 2019) & (col('is_fraud') == 1))\\\n",
        "         .sort(asc('month')).show()"
      ],
      "metadata": {
        "colab": {
          "base_uri": "https://localhost:8080/"
        },
        "id": "0Cwif5Ky7L50",
        "outputId": "c552eeaf-cc60-4284-8143-eb52048bb081"
      },
      "execution_count": 242,
      "outputs": [
        {
          "output_type": "stream",
          "name": "stdout",
          "text": [
            "+----+-----+--------+---------------+-----------------+------------------+\n",
            "|year|month|is_fraud|count(is_fraud)|         sum(amt)|          avg(amt)|\n",
            "+----+-----+--------+---------------+-----------------+------------------+\n",
            "|2019|    1|       1|           1310|659012.5599999985|503.06302290076223|\n",
            "|2019|    2|       1|           1271|673101.1400000006| 529.5839024390249|\n",
            "|2019|    3|       1|           1265|625560.8499999973|494.51450592885163|\n",
            "|2019|    4|       1|            931|483917.3200000006| 519.7822986036526|\n",
            "|2019|    5|       1|           1022|525632.3700000008| 514.3173874755389|\n",
            "|2019|    6|       1|            983|484375.1699999997| 492.7519532044758|\n",
            "|2019|    7|       1|            809|470187.9999999998|  581.196538936959|\n",
            "|2019|    8|       1|            872|460596.9299999999|   528.20748853211|\n",
            "|2019|    9|       1|           1060|547400.6499999998| 516.4157075471696|\n",
            "|2019|   10|       1|           1220| 678350.600000002| 556.0250819672148|\n",
            "|2019|   11|       1|            949|522718.8200000009| 550.8101369863023|\n",
            "|2019|   12|       1|           1461| 808148.270000002| 553.1473442847379|\n",
            "+----+-----+--------+---------------+-----------------+------------------+\n",
            "\n"
          ]
        }
      ]
    },
    {
      "cell_type": "code",
      "source": [
        "# check distribution of frauds along the year (2020)\n",
        "adj_train.groupby(*['year','month','is_fraud'])\\\n",
        "         .agg(count('is_fraud'), sum('amt'), mean('amt'))\\\n",
        "         .filter((col('year') == 2020) & (col('is_fraud') == 1))\\\n",
        "         .sort(asc('month')).show()"
      ],
      "metadata": {
        "colab": {
          "base_uri": "https://localhost:8080/"
        },
        "id": "fEIRUzCO900O",
        "outputId": "09336bb1-15b6-4a59-a264-f4737550ac9b"
      },
      "execution_count": 154,
      "outputs": [
        {
          "output_type": "stream",
          "name": "stdout",
          "text": [
            "+----+-----+--------+---------------+------------------+------------------+\n",
            "|year|month|is_fraud|count(is_fraud)|          sum(amt)|          avg(amt)|\n",
            "+----+-----+--------+---------------+------------------+------------------+\n",
            "|2020|    1|       1|            343|182595.36000000007| 532.3479883381926|\n",
            "|2020|    2|       1|            336|183950.10999999993| 547.4705654761902|\n",
            "|2020|    3|       1|            444|234090.09999999986| 527.2299549549547|\n",
            "|2020|    4|       1|            302| 152173.9799999999|503.88735099337714|\n",
            "|2020|    5|       1|            527|287226.37999999995| 545.0215939278936|\n",
            "|2020|    6|       1|            334|180229.81000000008| 539.6102095808386|\n",
            "+----+-----+--------+---------------+------------------+------------------+\n",
            "\n"
          ]
        }
      ]
    },
    {
      "cell_type": "code",
      "source": [
        "# check if fraud distribution is the same in test set\n",
        "adj_test.groupby('is_fraud').count().show()"
      ],
      "metadata": {
        "colab": {
          "base_uri": "https://localhost:8080/"
        },
        "id": "d-dY8z6k7Fyi",
        "outputId": "53a592cc-f2ac-4ecc-9ac4-c15c354ffe84"
      },
      "execution_count": 155,
      "outputs": [
        {
          "output_type": "stream",
          "name": "stdout",
          "text": [
            "+--------+------+\n",
            "|is_fraud| count|\n",
            "+--------+------+\n",
            "|       1|  2145|\n",
            "|       0|553574|\n",
            "+--------+------+\n",
            "\n"
          ]
        }
      ]
    },
    {
      "cell_type": "markdown",
      "source": [
        "### Merchant"
      ],
      "metadata": {
        "id": "qV91C7Wm1Ub7"
      }
    },
    {
      "cell_type": "code",
      "source": [
        "# unique merchants\n",
        "adj_train.select('merchant').distinct().count()"
      ],
      "metadata": {
        "colab": {
          "base_uri": "https://localhost:8080/"
        },
        "id": "e53L3tKN_hdH",
        "outputId": "61e59137-0525-4c36-8b33-0a77465d1b9b"
      },
      "execution_count": 156,
      "outputs": [
        {
          "output_type": "execute_result",
          "data": {
            "text/plain": [
              "693"
            ]
          },
          "metadata": {},
          "execution_count": 156
        }
      ]
    },
    {
      "cell_type": "code",
      "source": [
        "# main merchants\n",
        "adj_train.filter(col('is_fraud') == 1)\\\n",
        "         .groupby(*['merchant','is_fraud']).agg(count('is_fraud'), sum('amt'), mean('amt'))\\\n",
        "         .sort(desc('count(is_fraud)')).show(10)"
      ],
      "metadata": {
        "colab": {
          "base_uri": "https://localhost:8080/"
        },
        "id": "HoQ-1mHg0QLD",
        "outputId": "d366e1be-7148-48a2-9aa9-44737349a9eb"
      },
      "execution_count": 234,
      "outputs": [
        {
          "output_type": "stream",
          "name": "stdout",
          "text": [
            "+--------------------+--------+---------------+------------------+------------------+\n",
            "|            merchant|is_fraud|count(is_fraud)|          sum(amt)|          avg(amt)|\n",
            "+--------------------+--------+---------------+------------------+------------------+\n",
            "|fraud_Vandervort-...|       1|            133|42619.229999999996| 320.4453383458646|\n",
            "|  fraud_Rau and Sons|       1|            129|          40179.24|  311.466976744186|\n",
            "|   fraud_Cormier LLC|       1|            125|         115288.41|         922.30728|\n",
            "|   fraud_Kilback LLC|       1|            122| 34220.54000000001| 280.4962295081968|\n",
            "|     fraud_Doyle Ltd|       1|            120| 37698.63999999999|314.15533333333326|\n",
            "|   fraud_Kozey-Boehm|       1|            118|118313.74999999997|1002.6588983050844|\n",
            "|      fraud_Jast Ltd|       1|            111|112792.27000000003|1016.1465765765769|\n",
            "|fraud_McDermott-W...|       1|            107|          33291.02|311.13102803738315|\n",
            "|    fraud_Terry-Huel|       1|            107|105930.81999999998| 990.0076635514016|\n",
            "|fraud_Kerluke-Abs...|       1|            104|103921.59999999999| 999.2461538461538|\n",
            "+--------------------+--------+---------------+------------------+------------------+\n",
            "only showing top 10 rows\n",
            "\n"
          ]
        }
      ]
    },
    {
      "cell_type": "code",
      "source": [
        "# main merchants\n",
        "adj_train.filter(col('is_fraud') == 1)\\\n",
        "         .groupby(*['merchant','is_fraud']).agg(count('is_fraud'), sum('amt'), mean('amt'))\\\n",
        "         .sort(desc('sum(amt)')).show(10)"
      ],
      "metadata": {
        "id": "DatgbHy1WaN9",
        "outputId": "f0f7bd5f-5623-4972-ad63-f388f957bf24",
        "colab": {
          "base_uri": "https://localhost:8080/"
        }
      },
      "execution_count": 235,
      "outputs": [
        {
          "output_type": "stream",
          "name": "stdout",
          "text": [
            "+--------------------+--------+---------------+------------------+------------------+\n",
            "|            merchant|is_fraud|count(is_fraud)|          sum(amt)|          avg(amt)|\n",
            "+--------------------+--------+---------------+------------------+------------------+\n",
            "|   fraud_Kozey-Boehm|       1|            118|118313.74999999997|1002.6588983050844|\n",
            "|   fraud_Cormier LLC|       1|            125|         115288.41|         922.30728|\n",
            "|      fraud_Jast Ltd|       1|            111|112792.27000000003|1016.1465765765769|\n",
            "|    fraud_Terry-Huel|       1|            107|105930.81999999998| 990.0076635514016|\n",
            "|fraud_Kerluke-Abs...|       1|            104|103921.59999999999| 999.2461538461538|\n",
            "|fraud_Gleason-Mac...|       1|            103|103318.95999999999|1003.0966990291262|\n",
            "|fraud_Kuhic, Bins...|       1|            100|102596.19999999998|1025.9619999999998|\n",
            "|   fraud_Goyette Inc|       1|            102|101764.27000000002| 997.6889215686276|\n",
            "|     fraud_Price Inc|       1|            102|101355.73000000001| 993.6836274509805|\n",
            "|fraud_Boyer-Reichert|       1|             98|100063.55999999998|1021.0567346938774|\n",
            "+--------------------+--------+---------------+------------------+------------------+\n",
            "only showing top 10 rows\n",
            "\n"
          ]
        }
      ]
    },
    {
      "cell_type": "code",
      "source": [
        "# top merchant & CC fraud 2019 by count\n",
        "adj_train.filter((col('year') == 2019) & (col('is_fraud') == 1))\\\n",
        "         .groupby(*['year','merchant','is_fraud']).agg(count('is_fraud'), sum('amt'), mean('amt'))\\\n",
        "         .sort(desc('count(is_fraud)')).show(10)"
      ],
      "metadata": {
        "colab": {
          "base_uri": "https://localhost:8080/"
        },
        "id": "JW7JIVBN0P55",
        "outputId": "d1c953bc-3730-4e4d-ebfb-1ccebc922784"
      },
      "execution_count": 236,
      "outputs": [
        {
          "output_type": "stream",
          "name": "stdout",
          "text": [
            "+----+--------------------+--------+---------------+------------------+------------------+\n",
            "|year|            merchant|is_fraud|count(is_fraud)|          sum(amt)|          avg(amt)|\n",
            "+----+--------------------+--------+---------------+------------------+------------------+\n",
            "|2019|  fraud_Hudson-Ratke|       1|             94|29854.499999999993|317.60106382978717|\n",
            "|2019|   fraud_Kilback LLC|       1|             93|26431.520000000004| 284.2098924731183|\n",
            "|2019|fraud_Gleason-Mac...|       1|             89| 89876.66999999998| 1009.850224719101|\n",
            "|2019|    fraud_Terry-Huel|       1|             85| 84392.65999999999| 992.8548235294116|\n",
            "|2019|   fraud_Cormier LLC|       1|             84|          74647.17| 888.6567857142857|\n",
            "|2019|fraud_McDermott-W...|       1|             84|26143.329999999994|  311.230119047619|\n",
            "|2019|fraud_Vandervort-...|       1|             83|           27143.9|327.03493975903615|\n",
            "|2019| fraud_Koepp-Witting|       1|             83|25471.270000000004| 306.8827710843374|\n",
            "|2019|fraud_Kiehn-Emmerich|       1|             81|25647.440000000002| 316.6350617283951|\n",
            "|2019|  fraud_Rau and Sons|       1|             80|24887.760000000002|311.09700000000004|\n",
            "+----+--------------------+--------+---------------+------------------+------------------+\n",
            "only showing top 10 rows\n",
            "\n"
          ]
        }
      ]
    },
    {
      "cell_type": "code",
      "source": [
        "# top merchant & CC fraud 2019 by total spent\n",
        "adj_train.filter((col('year') == 2019) & (col('is_fraud') == 1))\\\n",
        "         .groupby(*['year','merchant','is_fraud']).agg(count('is_fraud'), sum('amt'), mean('amt'))\\\n",
        "         .sort(desc('sum(amt)')).show(10)"
      ],
      "metadata": {
        "id": "5mO_2tVdVh4R",
        "outputId": "388e817a-a008-4070-bfe3-49672c15fa35",
        "colab": {
          "base_uri": "https://localhost:8080/"
        }
      },
      "execution_count": 237,
      "outputs": [
        {
          "output_type": "stream",
          "name": "stdout",
          "text": [
            "+----+--------------------+--------+---------------+-----------------+------------------+\n",
            "|year|            merchant|is_fraud|count(is_fraud)|         sum(amt)|          avg(amt)|\n",
            "+----+--------------------+--------+---------------+-----------------+------------------+\n",
            "|2019|fraud_Gleason-Mac...|       1|             89|89876.66999999998| 1009.850224719101|\n",
            "|2019|    fraud_Terry-Huel|       1|             85|84392.65999999999| 992.8548235294116|\n",
            "|2019|fraud_Boyer-Reichert|       1|             78|         80121.88|1027.2035897435899|\n",
            "|2019|   fraud_Kozey-Boehm|       1|             77|77641.19999999995|1008.3272727272721|\n",
            "|2019|   fraud_Cormier LLC|       1|             84|         74647.17| 888.6567857142857|\n",
            "|2019|fraud_Towne, Gree...|       1|             73|72764.62999999998| 996.7757534246572|\n",
            "|2019|fraud_Kuhic, Bins...|       1|             71|71797.07999999999|1011.2264788732392|\n",
            "|2019|    fraud_Rempel Inc|       1|             71|         71445.28|1006.2715492957747|\n",
            "|2019|     fraud_Price Inc|       1|             70|69945.51000000001| 999.2215714285716|\n",
            "|2019|fraud_Schmeler, B...|       1|             72|69930.31000000001| 971.2543055555557|\n",
            "+----+--------------------+--------+---------------+-----------------+------------------+\n",
            "only showing top 10 rows\n",
            "\n"
          ]
        }
      ]
    },
    {
      "cell_type": "code",
      "source": [
        "# top merchant & CC fraud 2020 by count\n",
        "adj_train.filter((col('year') == 2020) & (col('is_fraud') == 1))\\\n",
        "         .groupby(*['year','merchant','is_fraud']).agg(count('is_fraud'), sum('amt'), mean('amt'))\\\n",
        "         .sort(desc('count(is_fraud)')).show(10)"
      ],
      "metadata": {
        "colab": {
          "base_uri": "https://localhost:8080/"
        },
        "id": "aQAOGCpk0P2e",
        "outputId": "f454b954-8755-425c-e8e0-70d0820ccfd8"
      },
      "execution_count": 159,
      "outputs": [
        {
          "output_type": "stream",
          "name": "stdout",
          "text": [
            "+----+--------------------+--------+---------------+------------------+------------------+\n",
            "|year|            merchant|is_fraud|count(is_fraud)|          sum(amt)|          avg(amt)|\n",
            "+----+--------------------+--------+---------------+------------------+------------------+\n",
            "|2020|     fraud_Doyle Ltd|       1|             23| 7299.240000000002| 317.3582608695653|\n",
            "|2020|fraud_Kerluke-Abs...|       1|             19|18476.069999999996| 972.4247368421051|\n",
            "|2020|   fraud_Kozey-Boehm|       1|             18|17864.899999999998| 992.4944444444443|\n",
            "|2020|     fraud_Kiehn Inc|       1|             16| 4944.869999999999|309.05437499999994|\n",
            "|2020|fraud_Vandervort-...|       1|             16|           4880.71|        305.044375|\n",
            "|2020|   fraud_Cormier LLC|       1|             16|          15778.45|        986.153125|\n",
            "|2020|fraud_Moen, Reing...|       1|             16|           4903.06|         306.44125|\n",
            "|2020|  fraud_Rau and Sons|       1|             16|           4997.97|        312.373125|\n",
            "|2020|fraud_Langworth, ...|       1|             16|15590.740000000002| 974.4212500000001|\n",
            "|2020|    fraud_Fisher Inc|       1|             15|          15830.84|1055.3893333333333|\n",
            "+----+--------------------+--------+---------------+------------------+------------------+\n",
            "only showing top 10 rows\n",
            "\n"
          ]
        }
      ]
    },
    {
      "cell_type": "code",
      "source": [
        "# top merchant & CC fraud 2020 by total spent\n",
        "adj_train.filter((col('year') == 2020) & (col('is_fraud') == 1))\\\n",
        "         .groupby(*['year','merchant','is_fraud']).agg(count('is_fraud'), sum('amt'), mean('amt'))\\\n",
        "         .sort(desc('sum(amt)')).show(10)"
      ],
      "metadata": {
        "id": "JvDaTB7dYnc3",
        "outputId": "c2e00a71-f667-453a-89d5-9e6d148da181",
        "colab": {
          "base_uri": "https://localhost:8080/"
        }
      },
      "execution_count": 238,
      "outputs": [
        {
          "output_type": "stream",
          "name": "stdout",
          "text": [
            "+----+--------------------+--------+---------------+------------------+------------------+\n",
            "|year|            merchant|is_fraud|count(is_fraud)|          sum(amt)|          avg(amt)|\n",
            "+----+--------------------+--------+---------------+------------------+------------------+\n",
            "|2020|fraud_Kerluke-Abs...|       1|             46|          44458.14|  966.481304347826|\n",
            "|2020|      fraud_Jast Ltd|       1|             41|43216.170000000006|1054.0529268292685|\n",
            "|2020|    fraud_Fisher Inc|       1|             40|          42523.86|         1063.0965|\n",
            "|2020|   fraud_Kozey-Boehm|       1|             41| 40672.55000000001| 992.0134146341466|\n",
            "|2020|   fraud_Cormier LLC|       1|             41|40641.240000000005| 991.2497560975611|\n",
            "|2020|fraud_Langworth, ...|       1|             40| 39049.07000000001| 976.2267500000002|\n",
            "|2020|   fraud_Goyette Inc|       1|             34| 36052.61000000001|1060.3708823529414|\n",
            "|2020|  fraud_Medhurst PLC|       1|             34|          34810.14|1023.8276470588235|\n",
            "|2020|    fraud_Schumm PLC|       1|             31| 33013.10999999999|1064.9390322580643|\n",
            "|2020|     fraud_Price Inc|       1|             32|31410.219999999994| 981.5693749999998|\n",
            "+----+--------------------+--------+---------------+------------------+------------------+\n",
            "only showing top 10 rows\n",
            "\n"
          ]
        }
      ]
    },
    {
      "cell_type": "markdown",
      "source": [
        "### Category"
      ],
      "metadata": {
        "id": "lS8Q4YIIDMAS"
      }
    },
    {
      "cell_type": "code",
      "source": [
        "# unique categories\n",
        "adj_train.select('category').distinct().count()"
      ],
      "metadata": {
        "colab": {
          "base_uri": "https://localhost:8080/"
        },
        "id": "Y2Db1-YHDbEI",
        "outputId": "f1bafb8c-229a-4fac-dce0-2d94a825393c"
      },
      "execution_count": 160,
      "outputs": [
        {
          "output_type": "execute_result",
          "data": {
            "text/plain": [
              "14"
            ]
          },
          "metadata": {},
          "execution_count": 160
        }
      ]
    },
    {
      "cell_type": "code",
      "source": [
        "# main frauded categories\n",
        "adj_train.groupby(*['category','is_fraud'])\\\n",
        "         .count().filter(col('is_fraud') == 1)\\\n",
        "         .sort(desc('count')).show(14)"
      ],
      "metadata": {
        "colab": {
          "base_uri": "https://localhost:8080/"
        },
        "id": "pqrF6JdqDL1q",
        "outputId": "86ab3593-2cc7-4a84-abdd-67cca70b0253"
      },
      "execution_count": 161,
      "outputs": [
        {
          "output_type": "stream",
          "name": "stdout",
          "text": [
            "+--------------+--------+-----+\n",
            "|      category|is_fraud|count|\n",
            "+--------------+--------+-----+\n",
            "|   grocery_pos|       1| 1743|\n",
            "|  shopping_net|       1| 1713|\n",
            "|      misc_net|       1|  915|\n",
            "|  shopping_pos|       1|  843|\n",
            "| gas_transport|       1|  618|\n",
            "|      misc_pos|       1|  250|\n",
            "|     kids_pets|       1|  239|\n",
            "| entertainment|       1|  233|\n",
            "| personal_care|       1|  220|\n",
            "|          home|       1|  198|\n",
            "|   food_dining|       1|  151|\n",
            "|   grocery_net|       1|  134|\n",
            "|health_fitness|       1|  133|\n",
            "|        travel|       1|  116|\n",
            "+--------------+--------+-----+\n",
            "\n"
          ]
        }
      ]
    },
    {
      "cell_type": "code",
      "source": [
        "# categories & CC fraud 2019\n",
        "adj_train.groupby(*['year','category','is_fraud'])\\\n",
        "         .count().filter((col('year') == 2019) & (col('is_fraud') == 1))\\\n",
        "        .sort(desc('count')).show(14)"
      ],
      "metadata": {
        "colab": {
          "base_uri": "https://localhost:8080/"
        },
        "id": "HyixzURtDLz9",
        "outputId": "9f154ee7-9351-462c-95b9-5feca8fc5122"
      },
      "execution_count": 162,
      "outputs": [
        {
          "output_type": "stream",
          "name": "stdout",
          "text": [
            "+----+--------------+--------+-----+\n",
            "|year|      category|is_fraud|count|\n",
            "+----+--------------+--------+-----+\n",
            "|2019|   grocery_pos|       1| 1202|\n",
            "|2019|  shopping_net|       1| 1201|\n",
            "|2019|      misc_net|       1|  629|\n",
            "|2019|  shopping_pos|       1|  583|\n",
            "|2019| gas_transport|       1|  439|\n",
            "|2019|     kids_pets|       1|  172|\n",
            "|2019|      misc_pos|       1|  170|\n",
            "|2019| entertainment|       1|  163|\n",
            "|2019| personal_care|       1|  152|\n",
            "|2019|          home|       1|  129|\n",
            "|2019|   food_dining|       1|  104|\n",
            "|2019|health_fitness|       1|   96|\n",
            "|2019|   grocery_net|       1|   94|\n",
            "|2019|        travel|       1|   86|\n",
            "+----+--------------+--------+-----+\n",
            "\n"
          ]
        }
      ]
    },
    {
      "cell_type": "code",
      "source": [
        "# Higher amount by cartegory and frauded in 2019\n",
        "adj_train.groupby(*['year','category','is_fraud']).sum('amt')\\\n",
        "         .filter((col('year') == 2019) & (col('is_fraud') == 1))\\\n",
        "         .sort(desc('sum(amt)')).show(14)"
      ],
      "metadata": {
        "colab": {
          "base_uri": "https://localhost:8080/"
        },
        "id": "v6IzOwvkDLxB",
        "outputId": "0bb28762-96a9-457f-c72e-35743bdb77f9"
      },
      "execution_count": 163,
      "outputs": [
        {
          "output_type": "stream",
          "name": "stdout",
          "text": [
            "+----+--------------+--------+------------------+\n",
            "|year|      category|is_fraud|          sum(amt)|\n",
            "+----+--------------+--------+------------------+\n",
            "|2019|  shopping_net|       1|1202563.4199999995|\n",
            "|2019|  shopping_pos|       1| 512650.4299999999|\n",
            "|2019|      misc_net|       1| 500575.6700000001|\n",
            "|2019|   grocery_pos|       1|         375168.02|\n",
            "|2019| entertainment|       1| 82990.86000000002|\n",
            "|2019|          home|       1|33465.909999999996|\n",
            "|2019|      misc_pos|       1|31586.319999999992|\n",
            "|2019|   food_dining|       1|12401.849999999999|\n",
            "|2019| gas_transport|       1| 5433.089999999998|\n",
            "|2019| personal_care|       1| 4024.290000000001|\n",
            "|2019|     kids_pets|       1|3076.3100000000004|\n",
            "|2019|health_fitness|       1|           1944.62|\n",
            "|2019|   grocery_net|       1|           1172.03|\n",
            "|2019|        travel|       1|            770.05|\n",
            "+----+--------------+--------+------------------+\n",
            "\n"
          ]
        }
      ]
    },
    {
      "cell_type": "code",
      "source": [
        "# Higher amount by cartegory and frauded in 2020\n",
        "adj_train.groupby(*['year','category','is_fraud'])\\\n",
        "         .sum('amt').filter((col('year') == 2020) & (col('is_fraud') == 1))\\\n",
        "         .sort(desc('sum(amt)')).show(14)"
      ],
      "metadata": {
        "colab": {
          "base_uri": "https://localhost:8080/"
        },
        "id": "xZufLTupDLue",
        "outputId": "601732a6-6b05-4ebc-c035-ef7870fd1390"
      },
      "execution_count": 164,
      "outputs": [
        {
          "output_type": "stream",
          "name": "stdout",
          "text": [
            "+----+--------------+--------+------------------+\n",
            "|year|      category|is_fraud|          sum(amt)|\n",
            "+----+--------------+--------+------------------+\n",
            "|2020|  shopping_net|       1| 509160.2899999995|\n",
            "|2020|      misc_net|       1|228691.08999999997|\n",
            "|2020|  shopping_pos|       1|226594.66000000006|\n",
            "|2020|   grocery_pos|       1|168629.87999999998|\n",
            "|2020| entertainment|       1| 34332.92999999999|\n",
            "|2020|      misc_pos|       1|22984.699999999997|\n",
            "|2020|          home|       1|          17505.75|\n",
            "|2020|   food_dining|       1|           5729.77|\n",
            "|2020| gas_transport|       1|2161.0199999999995|\n",
            "|2020| personal_care|       1| 1733.229999999999|\n",
            "|2020|     kids_pets|       1|1254.7699999999998|\n",
            "|2020|health_fitness|       1| 748.4199999999998|\n",
            "|2020|   grocery_net|       1|457.78999999999996|\n",
            "|2020|        travel|       1|281.44000000000005|\n",
            "+----+--------------+--------+------------------+\n",
            "\n"
          ]
        }
      ]
    },
    {
      "cell_type": "markdown",
      "source": [
        "### Gender"
      ],
      "metadata": {
        "id": "943pvFLoF0w3"
      }
    },
    {
      "cell_type": "code",
      "source": [
        "# gender distribution\n",
        "adj_train.groupby('gender').count().sort(desc('count')).show()"
      ],
      "metadata": {
        "colab": {
          "base_uri": "https://localhost:8080/"
        },
        "id": "9B0-Za8UJqgd",
        "outputId": "fc793f50-9f5d-41e2-8a72-140c079c77e3"
      },
      "execution_count": 165,
      "outputs": [
        {
          "output_type": "stream",
          "name": "stdout",
          "text": [
            "+------+------+\n",
            "|gender| count|\n",
            "+------+------+\n",
            "|     F|709863|\n",
            "|     M|586812|\n",
            "+------+------+\n",
            "\n"
          ]
        }
      ]
    },
    {
      "cell_type": "code",
      "source": [
        "# which gender suffers more with CC fraud\n",
        "adj_train.groupby(*['gender','is_fraud']).count().sort(asc('count')).show()"
      ],
      "metadata": {
        "colab": {
          "base_uri": "https://localhost:8080/"
        },
        "id": "Kj-npKr7DLsM",
        "outputId": "e3e26d51-6132-4f1f-a60d-59be934d1c0a"
      },
      "execution_count": 166,
      "outputs": [
        {
          "output_type": "stream",
          "name": "stdout",
          "text": [
            "+------+--------+------+\n",
            "|gender|is_fraud| count|\n",
            "+------+--------+------+\n",
            "|     F|       1|  3735|\n",
            "|     M|       1|  3771|\n",
            "|     M|       0|583041|\n",
            "|     F|       0|706128|\n",
            "+------+--------+------+\n",
            "\n"
          ]
        }
      ]
    },
    {
      "cell_type": "code",
      "source": [
        "# which gender spends more with CC fraud\n",
        "adj_train.groupby(*['gender','is_fraud']).sum('amt')\\\n",
        "         .filter(col('is_fraud')==1).sort(desc('sum(amt)')).show()"
      ],
      "metadata": {
        "colab": {
          "base_uri": "https://localhost:8080/"
        },
        "id": "JzbPYTypKc80",
        "outputId": "d8419250-8318-4a02-924a-27e172c656b4"
      },
      "execution_count": 167,
      "outputs": [
        {
          "output_type": "stream",
          "name": "stdout",
          "text": [
            "+------+--------+------------------+\n",
            "|gender|is_fraud|          sum(amt)|\n",
            "+------+--------+------------------+\n",
            "|     M|       1|2142801.2700000023|\n",
            "|     F|       1|1845287.3399999982|\n",
            "+------+--------+------------------+\n",
            "\n"
          ]
        }
      ]
    },
    {
      "cell_type": "code",
      "source": [
        "# how much each gender spended if they suffered fraud (2019)\n",
        "adj_train.groupby(*['year','category','gender','is_fraud'])\\\n",
        "         .sum('amt').filter((col('year') == 2019) & (col('is_fraud') == 1))\\\n",
        "         .sort(desc('sum(amt)')).show(14)"
      ],
      "metadata": {
        "colab": {
          "base_uri": "https://localhost:8080/"
        },
        "id": "2ZbstRoVKQP6",
        "outputId": "0ab8afe0-a96d-4efe-ce06-4a957d8b2106"
      },
      "execution_count": 168,
      "outputs": [
        {
          "output_type": "stream",
          "name": "stdout",
          "text": [
            "+----+-------------+------+--------+------------------+\n",
            "|year|     category|gender|is_fraud|          sum(amt)|\n",
            "+----+-------------+------+--------+------------------+\n",
            "|2019| shopping_net|     M|       1| 735598.6099999999|\n",
            "|2019| shopping_net|     F|       1|466964.80999999994|\n",
            "|2019|     misc_net|     M|       1|284502.30000000005|\n",
            "|2019| shopping_pos|     F|       1|         282235.86|\n",
            "|2019| shopping_pos|     M|       1|230414.56999999995|\n",
            "|2019|     misc_net|     F|       1|216073.37000000005|\n",
            "|2019|  grocery_pos|     M|       1|212679.80000000005|\n",
            "|2019|  grocery_pos|     F|       1|162488.22000000006|\n",
            "|2019|entertainment|     F|       1| 49913.71000000001|\n",
            "|2019|entertainment|     M|       1|33077.149999999994|\n",
            "|2019|     misc_pos|     F|       1|          30448.77|\n",
            "|2019|         home|     F|       1|          29845.39|\n",
            "|2019|  food_dining|     F|       1| 9263.490000000002|\n",
            "|2019|         home|     M|       1|3620.5200000000004|\n",
            "+----+-------------+------+--------+------------------+\n",
            "only showing top 14 rows\n",
            "\n"
          ]
        }
      ]
    },
    {
      "cell_type": "code",
      "source": [
        "# how much each gender spended if they suffered fraud (2020)\n",
        "adj_train.groupby(*['year','category','gender','is_fraud'])\\\n",
        "         .sum('amt').filter((col('year') == 2020) & (col('is_fraud') == 1))\\\n",
        "         .sort(desc('sum(amt)')).show(14)"
      ],
      "metadata": {
        "colab": {
          "base_uri": "https://localhost:8080/"
        },
        "id": "eewRUZ1dDLp1",
        "outputId": "5660c686-8d50-4518-a2f0-22f3d853a55e"
      },
      "execution_count": 169,
      "outputs": [
        {
          "output_type": "stream",
          "name": "stdout",
          "text": [
            "+----+-------------+------+--------+------------------+\n",
            "|year|     category|gender|is_fraud|          sum(amt)|\n",
            "+----+-------------+------+--------+------------------+\n",
            "|2020| shopping_net|     M|       1| 288958.1199999999|\n",
            "|2020| shopping_net|     F|       1|220202.17000000013|\n",
            "|2020|     misc_net|     M|       1|         131204.01|\n",
            "|2020| shopping_pos|     F|       1|122150.40999999997|\n",
            "|2020| shopping_pos|     M|       1|104444.24999999997|\n",
            "|2020|     misc_net|     F|       1| 97487.08000000003|\n",
            "|2020|  grocery_pos|     M|       1| 91167.47000000002|\n",
            "|2020|  grocery_pos|     F|       1|          77462.41|\n",
            "|2020|entertainment|     F|       1|          22900.44|\n",
            "|2020|     misc_pos|     F|       1|          22635.95|\n",
            "|2020|         home|     F|       1|16300.210000000001|\n",
            "|2020|entertainment|     M|       1|11432.490000000002|\n",
            "|2020|  food_dining|     F|       1|           4634.48|\n",
            "|2020|gas_transport|     M|       1|           1245.37|\n",
            "+----+-------------+------+--------+------------------+\n",
            "only showing top 14 rows\n",
            "\n"
          ]
        }
      ]
    },
    {
      "cell_type": "markdown",
      "source": [
        "### Age"
      ],
      "metadata": {
        "id": "E8GlwxIGK1V2"
      }
    },
    {
      "cell_type": "code",
      "source": [
        "# age distribution if CC frauded\n",
        "adj_train.groupby(*['age','is_fraud'])\\\n",
        "         .count().filter(col('is_fraud')==1)\\\n",
        "         .sort(desc('count')).show()"
      ],
      "metadata": {
        "colab": {
          "base_uri": "https://localhost:8080/"
        },
        "id": "3gE8pBk5DLnO",
        "outputId": "4d8c749f-eba4-4ea3-fcac-2fb37c472070"
      },
      "execution_count": 170,
      "outputs": [
        {
          "output_type": "stream",
          "name": "stdout",
          "text": [
            "+---+--------+-----+\n",
            "|age|is_fraud|count|\n",
            "+---+--------+-----+\n",
            "| 34|       1|  196|\n",
            "| 38|       1|  183|\n",
            "| 48|       1|  181|\n",
            "| 50|       1|  178|\n",
            "| 63|       1|  177|\n",
            "| 37|       1|  172|\n",
            "| 31|       1|  172|\n",
            "| 52|       1|  171|\n",
            "| 57|       1|  167|\n",
            "| 54|       1|  163|\n",
            "| 53|       1|  161|\n",
            "| 27|       1|  156|\n",
            "| 35|       1|  155|\n",
            "| 29|       1|  154|\n",
            "| 61|       1|  153|\n",
            "| 58|       1|  151|\n",
            "| 55|       1|  142|\n",
            "| 68|       1|  141|\n",
            "| 46|       1|  139|\n",
            "| 44|       1|  134|\n",
            "+---+--------+-----+\n",
            "only showing top 20 rows\n",
            "\n"
          ]
        }
      ]
    },
    {
      "cell_type": "code",
      "source": [
        "## frauded cc age & sex distribution\n",
        "adj_train.groupby(*['age','gender','is_fraud'])\\\n",
        "         .count().filter(col('is_fraud')==1)\\\n",
        "         .sort(desc('count')).show()"
      ],
      "metadata": {
        "colab": {
          "base_uri": "https://localhost:8080/"
        },
        "id": "jp1G705cDLk2",
        "outputId": "3192f0cb-ec93-421f-ec29-68bea4de51ea"
      },
      "execution_count": 171,
      "outputs": [
        {
          "output_type": "stream",
          "name": "stdout",
          "text": [
            "+---+------+--------+-----+\n",
            "|age|gender|is_fraud|count|\n",
            "+---+------+--------+-----+\n",
            "| 34|     M|       1|  146|\n",
            "| 53|     F|       1|  130|\n",
            "| 57|     M|       1|  109|\n",
            "| 38|     F|       1|  108|\n",
            "| 52|     F|       1|  107|\n",
            "| 44|     M|       1|  104|\n",
            "| 48|     M|       1|  104|\n",
            "| 55|     M|       1|  103|\n",
            "| 37|     M|       1|  101|\n",
            "| 58|     M|       1|   97|\n",
            "| 61|     F|       1|   96|\n",
            "| 46|     M|       1|   96|\n",
            "| 31|     F|       1|   94|\n",
            "| 63|     F|       1|   93|\n",
            "| 50|     F|       1|   93|\n",
            "| 60|     M|       1|   86|\n",
            "| 50|     M|       1|   85|\n",
            "| 35|     M|       1|   85|\n",
            "| 63|     M|       1|   84|\n",
            "| 68|     M|       1|   84|\n",
            "+---+------+--------+-----+\n",
            "only showing top 20 rows\n",
            "\n"
          ]
        }
      ]
    },
    {
      "cell_type": "code",
      "source": [
        "# amount spent by age with frauded CC\n",
        "adj_train.groupby(*['age','is_fraud'])\\\n",
        "         .sum('amt').filter(col('is_fraud')==1)\\\n",
        "         .sort(desc('sum(amt)')).show(5)"
      ],
      "metadata": {
        "colab": {
          "base_uri": "https://localhost:8080/"
        },
        "id": "him4IlUSMBGJ",
        "outputId": "2cc6d618-ff0f-4f76-8ced-9f495bfb6886"
      },
      "execution_count": 172,
      "outputs": [
        {
          "output_type": "stream",
          "name": "stdout",
          "text": [
            "+---+--------+------------------+\n",
            "|age|is_fraud|          sum(amt)|\n",
            "+---+--------+------------------+\n",
            "| 34|       1|109248.05999999998|\n",
            "| 63|       1|102921.00000000001|\n",
            "| 37|       1|          95389.21|\n",
            "| 48|       1| 91865.23000000001|\n",
            "| 29|       1| 90028.45999999999|\n",
            "+---+--------+------------------+\n",
            "only showing top 5 rows\n",
            "\n"
          ]
        }
      ]
    },
    {
      "cell_type": "code",
      "source": [
        "# total spend on frauded cc by gender and age\n",
        "adj_train.groupby(*['age','gender','is_fraud'])\\\n",
        "         .sum('amt').filter(col('is_fraud')==1)\\\n",
        "         .sort(desc('sum(amt)')).show(5)"
      ],
      "metadata": {
        "colab": {
          "base_uri": "https://localhost:8080/"
        },
        "id": "A1yGLXaADLX8",
        "outputId": "e2d8609f-881e-48d4-eaaa-a0771c0ea83d"
      },
      "execution_count": 173,
      "outputs": [
        {
          "output_type": "stream",
          "name": "stdout",
          "text": [
            "+---+------+--------+------------------+\n",
            "|age|gender|is_fraud|          sum(amt)|\n",
            "+---+------+--------+------------------+\n",
            "| 34|     M|       1| 86134.79999999999|\n",
            "| 37|     M|       1| 66199.59999999999|\n",
            "| 48|     M|       1|64653.619999999995|\n",
            "| 55|     M|       1|          63821.48|\n",
            "| 57|     M|       1|58460.399999999994|\n",
            "+---+------+--------+------------------+\n",
            "only showing top 5 rows\n",
            "\n"
          ]
        }
      ]
    },
    {
      "cell_type": "code",
      "source": [
        "# average age by gender and amount spent in CC fraud\n",
        "adj_train.groupby(*['age','gender','is_fraud']).agg(mean('age'),sum('amt'))\\\n",
        "         .filter(col('is_fraud')==1)\\\n",
        "         .sort(desc('sum(amt)')).show(5)"
      ],
      "metadata": {
        "id": "oByxQhSHfo9J",
        "outputId": "caa50e5e-e947-461c-c02b-023cd71e1d6e",
        "colab": {
          "base_uri": "https://localhost:8080/"
        }
      },
      "execution_count": 174,
      "outputs": [
        {
          "output_type": "stream",
          "name": "stdout",
          "text": [
            "+---+------+--------+--------+------------------+\n",
            "|age|gender|is_fraud|avg(age)|          sum(amt)|\n",
            "+---+------+--------+--------+------------------+\n",
            "| 34|     M|       1|    34.0| 86134.79999999999|\n",
            "| 37|     M|       1|    37.0| 66199.59999999999|\n",
            "| 48|     M|       1|    48.0|64653.619999999995|\n",
            "| 55|     M|       1|    55.0|          63821.48|\n",
            "| 57|     M|       1|    57.0|58460.399999999994|\n",
            "+---+------+--------+--------+------------------+\n",
            "only showing top 5 rows\n",
            "\n"
          ]
        }
      ]
    },
    {
      "cell_type": "markdown",
      "source": [
        "### Location (State, city, population size)"
      ],
      "metadata": {
        "id": "HOOANsSzMd9H"
      }
    },
    {
      "cell_type": "code",
      "source": [
        "# unique states\n",
        "adj_train.select('state').distinct().count()"
      ],
      "metadata": {
        "id": "rWZvACuIYC_8",
        "outputId": "ca0434a4-5305-4eea-eac1-32dedff46295",
        "colab": {
          "base_uri": "https://localhost:8080/"
        }
      },
      "execution_count": 175,
      "outputs": [
        {
          "output_type": "execute_result",
          "data": {
            "text/plain": [
              "51"
            ]
          },
          "metadata": {},
          "execution_count": 175
        }
      ]
    },
    {
      "cell_type": "code",
      "source": [
        "# main states with CC fraud\n",
        "adj_train.groupby(*['state','is_fraud'])\\\n",
        "         .count().filter(col('is_fraud') == 1)\\\n",
        "         .sort(desc('count')).show(5)"
      ],
      "metadata": {
        "colab": {
          "base_uri": "https://localhost:8080/"
        },
        "id": "KwLUOL63MaTj",
        "outputId": "f963f776-e33f-47ef-c59b-40f718b8db19"
      },
      "execution_count": 176,
      "outputs": [
        {
          "output_type": "stream",
          "name": "stdout",
          "text": [
            "+-----+--------+-----+\n",
            "|state|is_fraud|count|\n",
            "+-----+--------+-----+\n",
            "|   NY|       1|  555|\n",
            "|   TX|       1|  479|\n",
            "|   PA|       1|  458|\n",
            "|   CA|       1|  326|\n",
            "|   OH|       1|  321|\n",
            "+-----+--------+-----+\n",
            "only showing top 5 rows\n",
            "\n"
          ]
        }
      ]
    },
    {
      "cell_type": "code",
      "source": [
        "# total amount by state with CC fraud\n",
        "adj_train.groupby(*['state','is_fraud'])\\\n",
        "         .sum('amt').filter(col('is_fraud') == 1)\\\n",
        "         .sort(desc('sum(amt)')).show(5)"
      ],
      "metadata": {
        "colab": {
          "base_uri": "https://localhost:8080/"
        },
        "id": "bog36-JyLwLe",
        "outputId": "9b65af30-329a-40c0-920e-f50e5a2a131d"
      },
      "execution_count": 177,
      "outputs": [
        {
          "output_type": "stream",
          "name": "stdout",
          "text": [
            "+-----+--------+------------------+\n",
            "|state|is_fraud|          sum(amt)|\n",
            "+-----+--------+------------------+\n",
            "|   NY|       1|295548.64000000013|\n",
            "|   TX|       1| 265806.4100000001|\n",
            "|   PA|       1|244624.67000000004|\n",
            "|   CA|       1|         170943.92|\n",
            "|   OH|       1|         168919.98|\n",
            "+-----+--------+------------------+\n",
            "only showing top 5 rows\n",
            "\n"
          ]
        }
      ]
    },
    {
      "cell_type": "code",
      "source": [
        "# most populated state and CC fraud amount\n",
        "adj_train.groupby(*['state','is_fraud'])\\\n",
        "         .sum(*['city_pop','amt'])\\\n",
        "         .filter(col('is_fraud') == 1)\\\n",
        "         .sort(desc('sum(city_pop)')).show(5)"
      ],
      "metadata": {
        "colab": {
          "base_uri": "https://localhost:8080/"
        },
        "id": "U2QWuXgR0PyN",
        "outputId": "a18aa6cc-c0ea-447e-e14d-8f377d9e85be"
      },
      "execution_count": 178,
      "outputs": [
        {
          "output_type": "stream",
          "name": "stdout",
          "text": [
            "+-----+--------+-------------+------------------+\n",
            "|state|is_fraud|sum(city_pop)|          sum(amt)|\n",
            "+-----+--------+-------------+------------------+\n",
            "|   TX|       1|    206734477| 265806.4100000001|\n",
            "|   CA|       1|     89649164|         170943.92|\n",
            "|   NY|       1|     79853780|295548.64000000013|\n",
            "|   FL|       1|     45649842|         150913.03|\n",
            "|   MN|       1|     28231300|         112454.39|\n",
            "+-----+--------+-------------+------------------+\n",
            "only showing top 5 rows\n",
            "\n"
          ]
        }
      ]
    },
    {
      "cell_type": "code",
      "source": [
        "# most populated city and CC fraud amount\n",
        "adj_train.groupby(*['state','city','is_fraud'])\\\n",
        "         .sum(*['city_pop','amt'])\\\n",
        "         .filter(col('is_fraud') == 1)\\\n",
        "         .sort(desc('sum(city_pop)')).show(5)"
      ],
      "metadata": {
        "colab": {
          "base_uri": "https://localhost:8080/"
        },
        "id": "SJQMhKXj0PuX",
        "outputId": "df910917-983b-4de5-c27b-2d369bf53140"
      },
      "execution_count": 179,
      "outputs": [
        {
          "output_type": "stream",
          "name": "stdout",
          "text": [
            "+-----+-------------+--------+-------------+------------------+\n",
            "|state|         city|is_fraud|sum(city_pop)|          sum(amt)|\n",
            "+-----+-------------+--------+-------------+------------------+\n",
            "|   TX|      Houston|       1|    113361300|          21667.21|\n",
            "|   TX|  San Antonio|       1|     39894925|14536.749999999996|\n",
            "|   NY|New York City|       1|     36279855|13136.859999999999|\n",
            "|   TX|       Dallas|       1|     34109667|19747.140000000003|\n",
            "|   NY|     Brooklyn|       1|     25047000|           7435.38|\n",
            "+-----+-------------+--------+-------------+------------------+\n",
            "only showing top 5 rows\n",
            "\n"
          ]
        }
      ]
    },
    {
      "cell_type": "code",
      "source": [
        "# average age per city and CC fraud amount\n",
        "adj_train.groupby(*['state','city','gender','is_fraud'])\\\n",
        "         .agg(floor(mean('age')), sum('city_pop'), sum('amt'))\\\n",
        "         .filter(col('is_fraud') == 1)\\\n",
        "         .sort(desc('sum(amt)')).show(5)"
      ],
      "metadata": {
        "id": "Dp_HTbffZxWN",
        "outputId": "04dc4601-b6ec-4b8d-d55d-b9ec25731d1c",
        "colab": {
          "base_uri": "https://localhost:8080/"
        }
      },
      "execution_count": 180,
      "outputs": [
        {
          "output_type": "stream",
          "name": "stdout",
          "text": [
            "+-----+-------------+------+--------+---------------+-------------+------------------+\n",
            "|state|         city|gender|is_fraud|FLOOR(avg(age))|sum(city_pop)|          sum(amt)|\n",
            "+-----+-------------+------+--------+---------------+-------------+------------------+\n",
            "|   OK|        Tulsa|     F|       1|             68|     11166498|17470.250000000004|\n",
            "|   NY|New York City|     F|       1|             60|     36279855|13136.859999999999|\n",
            "|   TX|  San Antonio|     M|       1|             39|     28724346|13040.649999999996|\n",
            "|   FL|       Naples|     F|       1|             81|      5520040|13018.669999999998|\n",
            "|   TX|      Houston|     M|       1|             38|     63947400|12979.279999999999|\n",
            "+-----+-------------+------+--------+---------------+-------------+------------------+\n",
            "only showing top 5 rows\n",
            "\n"
          ]
        }
      ]
    },
    {
      "cell_type": "markdown",
      "source": [
        "### Occupation (job title)"
      ],
      "metadata": {
        "id": "sORTRjB-gX5t"
      }
    },
    {
      "cell_type": "code",
      "source": [
        "# unique jobs\n",
        "adj_train.select('job').distinct().count()"
      ],
      "metadata": {
        "id": "RG966QcCZxKJ",
        "outputId": "8e0bf88a-46f3-42be-c55e-0873a2b077ee",
        "colab": {
          "base_uri": "https://localhost:8080/"
        }
      },
      "execution_count": 181,
      "outputs": [
        {
          "output_type": "execute_result",
          "data": {
            "text/plain": [
              "494"
            ]
          },
          "metadata": {},
          "execution_count": 181
        }
      ]
    },
    {
      "cell_type": "code",
      "source": [
        "# job with most frauded\n",
        "adj_train.groupby(*['job', 'is_fraud'])\\\n",
        "         .count().filter(col('is_fraud') == 1)\\\n",
        "         .sort(desc('count')).show(5)"
      ],
      "metadata": {
        "id": "xEitmhV4gXmP",
        "outputId": "abe3af33-5f04-47a3-b1fe-f1c91b7e1037",
        "colab": {
          "base_uri": "https://localhost:8080/"
        }
      },
      "execution_count": 182,
      "outputs": [
        {
          "output_type": "stream",
          "name": "stdout",
          "text": [
            "+--------------------+--------+-----+\n",
            "|                 job|is_fraud|count|\n",
            "+--------------------+--------+-----+\n",
            "|  Materials engineer|       1|   62|\n",
            "|Trading standards...|       1|   56|\n",
            "|     Naval architect|       1|   53|\n",
            "| Exhibition designer|       1|   51|\n",
            "|Surveyor, land/ge...|       1|   50|\n",
            "+--------------------+--------+-----+\n",
            "only showing top 5 rows\n",
            "\n"
          ]
        }
      ]
    },
    {
      "cell_type": "code",
      "source": [
        "# find most common words for jobs, so I can create macro categories\n",
        "adj_train.withColumn('job_macro', explode(split(lower(col('job')), '[ , ]'))) \\\n",
        "          .groupBy('job_macro') \\\n",
        "          .count() \\\n",
        "          .filter((col('job_macro') != 'and') & (col('job_macro') != ''))\\\n",
        "          .orderBy(desc('count')) \\\n",
        "          .show(20)"
      ],
      "metadata": {
        "id": "3OPO5K4GgltQ",
        "outputId": "8d7cd496-0ab5-41bc-8fa5-58fa54715865",
        "colab": {
          "base_uri": "https://localhost:8080/"
        }
      },
      "execution_count": 183,
      "outputs": [
        {
          "output_type": "stream",
          "name": "stdout",
          "text": [
            "+-------------+------+\n",
            "|    job_macro| count|\n",
            "+-------------+------+\n",
            "|     engineer|131756|\n",
            "|      officer|110915|\n",
            "|      manager| 61124|\n",
            "|    scientist| 55878|\n",
            "|     designer| 52218|\n",
            "|     surveyor| 49062|\n",
            "|      teacher| 38126|\n",
            "| psychologist| 32600|\n",
            "|     research| 29754|\n",
            "|       editor| 28725|\n",
            "|    education| 26624|\n",
            "|       public| 26116|\n",
            "|    therapist| 25110|\n",
            "|   consultant| 24785|\n",
            "|        chief| 23081|\n",
            "|    chartered| 19009|\n",
            "|  development| 17943|\n",
            "|       health| 17300|\n",
            "|administrator| 16988|\n",
            "|   researcher| 16001|\n",
            "+-------------+------+\n",
            "only showing top 20 rows\n",
            "\n"
          ]
        }
      ]
    },
    {
      "cell_type": "code",
      "source": [
        "# create occupation clusters based on the most used words for jobs\n",
        "adj_train = adj_train.withColumn('job_macro', explode(split(lower(col('job')), '[ , ]')))\n",
        "adj_test = adj_train.withColumn('job_macro', explode(split(lower(col('job')), '[ , ]')))\n",
        "\n",
        "adj_train = adj_train.withColumn('job_category',\n",
        "                        when(lower(col('job_macro')).isin(['engineer', 'scientist', 'development', 'researcher', 'research']), 'science')\n",
        "                        .when(lower(col('job_macro')).isin(['manager', 'chief', 'administrator', 'consultant']), 'business')\n",
        "                        .when(lower(col('job_macro')).isin(['teacher', 'education']), 'education')\n",
        "                        .when(lower(col('job_macro')).isin(['health', 'therapist', 'psychologist']), 'healthcare')\n",
        "                        .when(lower(col('job_macro')).isin(['editor', 'public']), 'comunication')\n",
        "                        .when(lower(col('job_macro')).isin(['designer', 'surveyor']), 'desing')\n",
        "                        .otherwise('others'))\n",
        "\n",
        "# do the same with test set\n",
        "adj_test = adj_test.withColumn('job_category',\n",
        "                        when(lower(col('job_macro')).isin(['engineer', 'scientist', 'development', 'researcher', 'research']), 'science')\n",
        "                        .when(lower(col('job_macro')).isin(['manager', 'chief', 'administrator', 'consultant']), 'business')\n",
        "                        .when(lower(col('job_macro')).isin(['teacher', 'education']), 'education')\n",
        "                        .when(lower(col('job_macro')).isin(['health', 'therapist', 'psychologist']), 'healthcare')\n",
        "                        .when(lower(col('job_macro')).isin(['editor', 'public']), 'comunication')\n",
        "                        .when(lower(col('job_macro')).isin(['designer', 'surveyor']), 'desing')\n",
        "                        .otherwise('others'))\n",
        "\n",
        "adj_train.show(4)"
      ],
      "metadata": {
        "id": "COyTSpTbglpj",
        "outputId": "45c6700d-fde8-43c8-b454-137dc6cda542",
        "colab": {
          "base_uri": "https://localhost:8080/"
        }
      },
      "execution_count": 184,
      "outputs": [
        {
          "output_type": "stream",
          "name": "stdout",
          "text": [
            "+--------------------+-----------+------+------+--------------+-----+-----+-------+---------+--------+--------------------+----------+------------------+-----------+--------+----+-----+--------+--------+---+--------------------+--------------------+-----------+-----------+--------+------------+------------+\n",
            "|            merchant|   category|   amt|gender|          city|state|  zip|    lat|     long|city_pop|                 job| unix_time|         merch_lat| merch_long|is_fraud|year|month|day_week|    time|age|            lat_diff|           long_diff|tier1_event|tier2_event|no_event|   job_macro|job_category|\n",
            "+--------------------+-----------+------+------+--------------+-----+-----+-------+---------+--------+--------------------+----------+------------------+-----------+--------+----+-----+--------+--------+---+--------------------+--------------------+-----------+-----------+--------+------------+------------+\n",
            "|fraud_Rippin, Kub...|   misc_net|  4.97|     F|Moravian Falls|   NC|28654|36.0788| -81.1781|    3495|Psychologist, cou...|1325376018|         36.011293| -82.048315|       0|2019|    1|       3|00:00:18| 36|  0.0675069999999991|  0.8702150000000017|          0|          0|       1|psychologist|  healthcare|\n",
            "|fraud_Rippin, Kub...|   misc_net|  4.97|     F|Moravian Falls|   NC|28654|36.0788| -81.1781|    3495|Psychologist, cou...|1325376018|         36.011293| -82.048315|       0|2019|    1|       3|00:00:18| 36|  0.0675069999999991|  0.8702150000000017|          0|          0|       1|            |      others|\n",
            "|fraud_Rippin, Kub...|   misc_net|  4.97|     F|Moravian Falls|   NC|28654|36.0788| -81.1781|    3495|Psychologist, cou...|1325376018|         36.011293| -82.048315|       0|2019|    1|       3|00:00:18| 36|  0.0675069999999991|  0.8702150000000017|          0|          0|       1| counselling|      others|\n",
            "|fraud_Heller, Gut...|grocery_pos|107.23|     F|        Orient|   WA|99160|48.8878|-118.2105|     149|Special education...|1325376044|49.159046999999994|-118.186462|       0|2019|    1|       3|00:00:44| 46|-0.27124699999999535|-0.02403799999999...|          0|          0|       1|     special|      others|\n",
            "+--------------------+-----------+------+------+--------------+-----+-----+-------+---------+--------+--------------------+----------+------------------+-----------+--------+----+-----+--------+--------+---+--------------------+--------------------+-----------+-----------+--------+------------+------------+\n",
            "only showing top 4 rows\n",
            "\n"
          ]
        }
      ]
    },
    {
      "cell_type": "code",
      "source": [
        "# fraud by job category\n",
        "adj_train.groupby(*['job_category', 'is_fraud']).count().filter(col('is_fraud') == 1).sort(desc('count')).show(7)"
      ],
      "metadata": {
        "id": "MhoyoT5rgXjc",
        "outputId": "ea3024ca-fce1-4810-e517-c442ef2d38fb",
        "colab": {
          "base_uri": "https://localhost:8080/"
        }
      },
      "execution_count": 185,
      "outputs": [
        {
          "output_type": "stream",
          "name": "stdout",
          "text": [
            "+------------+--------+-----+\n",
            "|job_category|is_fraud|count|\n",
            "+------------+--------+-----+\n",
            "|      others|       1|15037|\n",
            "|     science|       1| 1369|\n",
            "|    business|       1|  676|\n",
            "|      desing|       1|  564|\n",
            "|   education|       1|  456|\n",
            "|  healthcare|       1|  367|\n",
            "|comunication|       1|  250|\n",
            "+------------+--------+-----+\n",
            "\n"
          ]
        }
      ]
    },
    {
      "cell_type": "code",
      "source": [
        "# amount by job category when CC frauded\n",
        "adj_train.groupby(*['job_category', 'is_fraud']).sum('amt').filter(col('is_fraud') == 1).sort(desc('sum(amt)')).show(7)"
      ],
      "metadata": {
        "id": "zvPbGyJS5NI9",
        "outputId": "5a975392-960d-4b99-af3f-a403fb352a4a",
        "colab": {
          "base_uri": "https://localhost:8080/"
        }
      },
      "execution_count": 186,
      "outputs": [
        {
          "output_type": "stream",
          "name": "stdout",
          "text": [
            "+------------+--------+------------------+\n",
            "|job_category|is_fraud|          sum(amt)|\n",
            "+------------+--------+------------------+\n",
            "|      others|       1| 7974167.390000008|\n",
            "|     science|       1| 718112.9300000002|\n",
            "|    business|       1|337418.98000000004|\n",
            "|      desing|       1| 304814.8100000001|\n",
            "|   education|       1|235717.29999999993|\n",
            "|  healthcare|       1|          202879.2|\n",
            "|comunication|       1|130377.24999999999|\n",
            "+------------+--------+------------------+\n",
            "\n"
          ]
        }
      ]
    },
    {
      "cell_type": "markdown",
      "source": [
        "### Latitude and Longitude"
      ],
      "metadata": {
        "id": "zIDH6E8254mx"
      }
    },
    {
      "cell_type": "code",
      "source": [
        "# avarage difference between customer and merchant latitude\n",
        "adj_train.groupby('is_fraud').mean('lat_diff').show()"
      ],
      "metadata": {
        "id": "TCHL1Zwx54Wh",
        "outputId": "7d203718-69da-41d7-a73e-58f124e7ac84",
        "colab": {
          "base_uri": "https://localhost:8080/"
        }
      },
      "execution_count": 187,
      "outputs": [
        {
          "output_type": "stream",
          "name": "stdout",
          "text": [
            "+--------+--------------------+\n",
            "|is_fraud|       avg(lat_diff)|\n",
            "+--------+--------------------+\n",
            "|       1|0.010138428495111993|\n",
            "|       0| 1.36273459634889E-4|\n",
            "+--------+--------------------+\n",
            "\n"
          ]
        }
      ]
    },
    {
      "cell_type": "code",
      "source": [
        "# avarage difference between customer and merchant longitude\n",
        "adj_train.groupby('is_fraud').mean('long_diff').show()"
      ],
      "metadata": {
        "id": "Y24j5Gch54TY",
        "outputId": "90fb0984-d298-4aac-f6f9-2a865e98cf1f",
        "colab": {
          "base_uri": "https://localhost:8080/"
        }
      },
      "execution_count": 188,
      "outputs": [
        {
          "output_type": "stream",
          "name": "stdout",
          "text": [
            "+--------+--------------------+\n",
            "|is_fraud|      avg(long_diff)|\n",
            "+--------+--------------------+\n",
            "|       1|8.399439072599181E-4|\n",
            "|       0|7.071568078397803E-4|\n",
            "+--------+--------------------+\n",
            "\n"
          ]
        }
      ]
    },
    {
      "cell_type": "markdown",
      "source": [
        "### Unix\n",
        "*Unix timestamp is a way to track time as a running total of seconds. This  ount starts at the Unix Epoch on January 1st, 1970 at UTC. Therefore, the Unix timestamp is merely the number of seconds between a particular date and the Unix Epoch. It should also be pointed out that this point in time technically does not change no matter where you are located on the globe. This is very useful to computer systems for tracking and sorting dated information in dynamic and distributed applications both online and client-side. The reason why Unix timestamps are used by many webmasters is that they can represent all time zones at once.*"
      ],
      "metadata": {
        "id": "BJWMOjRx7nkC"
      }
    },
    {
      "cell_type": "code",
      "source": [
        "# avarage unix time\n",
        "adj_train.groupby('is_fraud').mean('unix_time').show()"
      ],
      "metadata": {
        "id": "lz7OkuxKFBl6",
        "outputId": "10c9b953-7662-44fe-ef83-c322b3071b1e",
        "colab": {
          "base_uri": "https://localhost:8080/"
        }
      },
      "execution_count": 189,
      "outputs": [
        {
          "output_type": "stream",
          "name": "stdout",
          "text": [
            "+--------+--------------------+\n",
            "|is_fraud|      avg(unix_time)|\n",
            "+--------+--------------------+\n",
            "|       1|1.3481615599279876E9|\n",
            "|       0|1.3492567481422484E9|\n",
            "+--------+--------------------+\n",
            "\n"
          ]
        }
      ]
    },
    {
      "cell_type": "markdown",
      "source": [
        "### Day and Hour"
      ],
      "metadata": {
        "id": "Q3SuXZtLG0JM"
      }
    },
    {
      "cell_type": "code",
      "source": [
        "# is there a spefic time for fraud?\n",
        "adj_train.groupby(*['time', 'is_fraud']).count().filter(col('is_fraud') == 1).sort(desc('count')).show(10)"
      ],
      "metadata": {
        "id": "w9Aenmt6G29g",
        "outputId": "c3706056-668e-472f-e12d-5cf0765d0258",
        "colab": {
          "base_uri": "https://localhost:8080/"
        }
      },
      "execution_count": 190,
      "outputs": [
        {
          "output_type": "stream",
          "name": "stdout",
          "text": [
            "+--------+--------+-----+\n",
            "|    time|is_fraud|count|\n",
            "+--------+--------+-----+\n",
            "|00:22:36|       1|   13|\n",
            "|23:42:53|       1|   13|\n",
            "|23:23:34|       1|   13|\n",
            "|22:02:16|       1|   12|\n",
            "|22:25:30|       1|   12|\n",
            "|22:17:47|       1|   12|\n",
            "|22:43:46|       1|   11|\n",
            "|03:13:37|       1|   11|\n",
            "|22:22:44|       1|   11|\n",
            "|23:40:36|       1|   11|\n",
            "+--------+--------+-----+\n",
            "only showing top 10 rows\n",
            "\n"
          ]
        }
      ]
    },
    {
      "cell_type": "code",
      "source": [
        "# amount frauded by hour\n",
        "adj_train.groupby(*['time', 'is_fraud']).sum('amt').filter(col('is_fraud') == 1).sort(desc('sum(amt)')).show(10)"
      ],
      "metadata": {
        "id": "N9o7ywMdHR94",
        "outputId": "fad1ac8c-1d23-4923-841e-1742b1c1c423",
        "colab": {
          "base_uri": "https://localhost:8080/"
        }
      },
      "execution_count": 191,
      "outputs": [
        {
          "output_type": "stream",
          "name": "stdout",
          "text": [
            "+--------+--------+-----------------+\n",
            "|    time|is_fraud|         sum(amt)|\n",
            "+--------+--------+-----------------+\n",
            "|22:43:46|       1|         10796.23|\n",
            "|22:59:35|       1|         10672.18|\n",
            "|23:15:12|       1|          9457.49|\n",
            "|22:10:59|       1|9022.580000000002|\n",
            "|22:20:58|       1|8720.039999999999|\n",
            "|22:45:52|       1|          8612.68|\n",
            "|23:42:24|       1|8609.150000000001|\n",
            "|23:43:08|       1|          8377.88|\n",
            "|23:49:53|       1|          8366.07|\n",
            "|23:58:42|       1|          8320.66|\n",
            "+--------+--------+-----------------+\n",
            "only showing top 10 rows\n",
            "\n"
          ]
        }
      ]
    },
    {
      "cell_type": "code",
      "source": [
        "# does fraud occur in a specific day of the week?\n",
        "adj_train.groupby(*['day_week', 'is_fraud']).count().filter(col('is_fraud') == 1).sort(desc('count')).show(10)"
      ],
      "metadata": {
        "id": "BwRI2YUHHf7P",
        "outputId": "91a6a040-6000-427b-b445-11baf2945082",
        "colab": {
          "base_uri": "https://localhost:8080/"
        }
      },
      "execution_count": 192,
      "outputs": [
        {
          "output_type": "stream",
          "name": "stdout",
          "text": [
            "+--------+--------+-----+\n",
            "|day_week|is_fraud|count|\n",
            "+--------+--------+-----+\n",
            "|       7|       1| 3128|\n",
            "|       2|       1| 2993|\n",
            "|       1|       1| 2954|\n",
            "|       6|       1| 2718|\n",
            "|       5|       1| 2483|\n",
            "|       3|       1| 2370|\n",
            "|       4|       1| 2073|\n",
            "+--------+--------+-----+\n",
            "\n"
          ]
        }
      ]
    },
    {
      "cell_type": "code",
      "source": [
        "# amount frauded by day of week\n",
        "adj_train.groupby(*['day_week', 'is_fraud']).sum('amt').filter(col('is_fraud') == 1).sort(desc('sum(amt)')).show(10)"
      ],
      "metadata": {
        "id": "yNSBisz-HpFR",
        "outputId": "b97aa920-efdc-49a7-95e1-8680764b389d",
        "colab": {
          "base_uri": "https://localhost:8080/"
        }
      },
      "execution_count": 193,
      "outputs": [
        {
          "output_type": "stream",
          "name": "stdout",
          "text": [
            "+--------+--------+------------------+\n",
            "|day_week|is_fraud|          sum(amt)|\n",
            "+--------+--------+------------------+\n",
            "|       7|       1|1635887.2400000005|\n",
            "|       1|       1|1616182.6999999993|\n",
            "|       2|       1|1493520.4499999983|\n",
            "|       6|       1|1487687.5299999993|\n",
            "|       5|       1| 1347469.530000001|\n",
            "|       3|       1|1245697.5300000003|\n",
            "|       4|       1|        1077042.88|\n",
            "+--------+--------+------------------+\n",
            "\n"
          ]
        }
      ]
    },
    {
      "cell_type": "markdown",
      "source": [
        "### Holidays"
      ],
      "metadata": {
        "id": "Xegtvo6-nBGI"
      }
    },
    {
      "cell_type": "code",
      "source": [
        "# tier1 events\n",
        "adj_train.groupby(*['year','tier1_event', 'is_fraud']).agg(count('is_fraud'), sum('amt')).filter(col('is_fraud') == 1).sort(desc('sum(amt)')).show()"
      ],
      "metadata": {
        "id": "7HtMHy86nDlz",
        "outputId": "a985e078-7f27-47c7-e178-fc77b449a14c",
        "colab": {
          "base_uri": "https://localhost:8080/"
        }
      },
      "execution_count": 200,
      "outputs": [
        {
          "output_type": "stream",
          "name": "stdout",
          "text": [
            "+----+-----------+--------+---------------+------------------+\n",
            "|year|tier1_event|is_fraud|count(is_fraud)|          sum(amt)|\n",
            "+----+-----------+--------+---------------+------------------+\n",
            "|2019|          0|       1|          11976|  6297632.81000001|\n",
            "|2020|          0|       1|           5566|2964485.1800000058|\n",
            "|2019|          1|       1|           1177| 641369.8700000012|\n",
            "+----+-----------+--------+---------------+------------------+\n",
            "\n"
          ]
        }
      ]
    },
    {
      "cell_type": "code",
      "source": [
        "adj_train.groupby(*['year','tier2_event', 'is_fraud']).agg(count('is_fraud'), sum('amt')).filter(col('is_fraud') == 1).sort(desc('sum(amt)')).show()"
      ],
      "metadata": {
        "id": "X4l93gxYnD3F",
        "outputId": "0b9208e1-45fe-4211-e96a-894a37b7b4fb",
        "colab": {
          "base_uri": "https://localhost:8080/"
        }
      },
      "execution_count": 201,
      "outputs": [
        {
          "output_type": "stream",
          "name": "stdout",
          "text": [
            "+----+-----------+--------+---------------+------------------+\n",
            "|year|tier2_event|is_fraud|count(is_fraud)|          sum(amt)|\n",
            "+----+-----------+--------+---------------+------------------+\n",
            "|2019|          0|       1|          10248| 5398151.310000012|\n",
            "|2020|          0|       1|           4456|2404682.5300000003|\n",
            "|2019|          1|       1|           2905|1540851.3699999987|\n",
            "|2020|          1|       1|           1110| 559802.6500000007|\n",
            "+----+-----------+--------+---------------+------------------+\n",
            "\n"
          ]
        }
      ]
    },
    {
      "cell_type": "code",
      "source": [
        "adj_train.groupby(*['year','no_event', 'is_fraud']).agg(count('is_fraud'), sum('amt')).filter(col('is_fraud') == 1).sort(desc('sum(amt)')).show()"
      ],
      "metadata": {
        "id": "l7yQ6Rp2nDqN",
        "outputId": "0381d3ce-1dd8-453f-9edd-72bb947547d0",
        "colab": {
          "base_uri": "https://localhost:8080/"
        }
      },
      "execution_count": 202,
      "outputs": [
        {
          "output_type": "stream",
          "name": "stdout",
          "text": [
            "+----+--------+--------+---------------+------------------+\n",
            "|year|no_event|is_fraud|count(is_fraud)|          sum(amt)|\n",
            "+----+--------+--------+---------------+------------------+\n",
            "|2019|       1|       1|           9071|4756781.4400000125|\n",
            "|2020|       1|       1|           4456|2404682.5300000003|\n",
            "|2019|       0|       1|           4082|        2182221.24|\n",
            "|2020|       0|       1|           1110| 559802.6500000007|\n",
            "+----+--------+--------+---------------+------------------+\n",
            "\n"
          ]
        }
      ]
    },
    {
      "cell_type": "markdown",
      "source": [
        "### Statistics"
      ],
      "metadata": {
        "id": "W_SADUdGFPI4"
      }
    },
    {
      "cell_type": "code",
      "source": [
        "# basic dataset statistics\n",
        "adj_train.summary().show()"
      ],
      "metadata": {
        "id": "5KTrrV8nFOwI",
        "outputId": "8611e56b-26cb-4d1b-da58-0cd198cf7869",
        "colab": {
          "base_uri": "https://localhost:8080/"
        }
      },
      "execution_count": 197,
      "outputs": [
        {
          "output_type": "stream",
          "name": "stdout",
          "text": [
            "+-------+-------------------+-------------+------------------+-------+-------+-------+-----------------+-----------------+------------------+-----------------+------------------+--------------------+------------------+------------------+--------------------+------------------+-----------------+------------------+--------+------------------+--------------------+--------------------+-------------------+-------------------+------------------+---------+------------+\n",
            "|summary|           merchant|     category|               amt| gender|   city|  state|              zip|              lat|              long|         city_pop|               job|           unix_time|         merch_lat|        merch_long|            is_fraud|              year|            month|          day_week|    time|               age|            lat_diff|           long_diff|        tier1_event|        tier2_event|          no_event|job_macro|job_category|\n",
            "+-------+-------------------+-------------+------------------+-------+-------+-------+-----------------+-----------------+------------------+-----------------+------------------+--------------------+------------------+------------------+--------------------+------------------+-----------------+------------------+--------+------------------+--------------------+--------------------+-------------------+-------------------+------------------+---------+------------+\n",
            "|  count|            3191392|      3191392|           3191392|3191392|3191392|3191392|          3191392|          3191392|           3191392|          3191392|           3191392|             3191392|           3191392|           3191392|             3191392|           3191392|          3191392|           3191392| 3191392|           3191392|             3191392|             3191392|            3191392|            3191392|           3191392|  3191392|     3191392|\n",
            "|   mean|               NULL|         NULL| 70.03769186925459|   NULL|   NULL|   NULL|49120.85171642969| 38.5521841471014|-90.34376032686913|84191.48876101714|              NULL|1.3492503243534496E9| 38.55198920634954|-90.34446826253972|0.005865465602470646|2019.2870224027633| 6.14140099367298|3.7186049222408277|    NULL| 50.92310189409512|1.949407559460403E-4|7.079356660038685E-4|0.07728508437697407|0.23890045472320542|0.6838144608998206|     NULL|        NULL|\n",
            "| stddev|               NULL|         NULL|156.66310427228126|   NULL|   NULL|   NULL|26790.81020583407|5.139498544105347|13.931962636455054|289096.3618151016|              NULL|1.2841548916590014E7| 5.173385191585312|13.944173135866372| 0.07636140217976208| 0.452372199847351|3.417941158763367| 2.132995069519563|    NULL|17.476659940043064|  0.5774521936683519|   0.577843010896354| 0.2670432969669278|0.42641187182169066|0.4649863564801626|     NULL|        NULL|\n",
            "|    min|fraud_Abbott-Rogahn|entertainment|               1.0|      F|Achille|     AK|             1257|          20.0271|         -165.6723|               23|Academic librarian|          1325376018|         19.027785|       -166.671242|                   0|              2019|                1|                 1|00:00:00|                20| -0.9999989999999954| -0.9999969999999934|                  0|                  0|                 0|         |    business|\n",
            "|    25%|               NULL|         NULL|              9.57|   NULL|   NULL|   NULL|            28117|          34.6689|           -96.727|              743|              NULL|          1338751233|         34.753352|        -96.803846|                   0|              2019|                3|                 2|    NULL|                37| -0.5001159999999985| -0.5001689999999854|                  0|                  0|                 0|     NULL|        NULL|\n",
            "|    50%|               NULL|         NULL|             47.15|   NULL|   NULL|   NULL|            48206|          39.3391|          -87.5917|             2457|              NULL|          1349260197|39.342259999999996|        -87.470736|                   0|              2019|                6|                 3|    NULL|                49|-6.59999999967908...|0.002061000000011859|                  0|                  0|                 1|     NULL|        NULL|\n",
            "|    75%|               NULL|         NULL|             82.89|   NULL|   NULL|   NULL|            72011|          42.0158|           -80.307|            19803|              NULL|          1359398951|         42.018766|        -80.376339|                   0|              2020|                9|                 6|    NULL|                62|  0.5005680000000012|  0.5008949999999999|                  0|                  0|                 1|     NULL|        NULL|\n",
            "|    max|   fraud_Zulauf LLC|       travel|           28948.9|      M|Zavalla|     WY|            99783|          66.6933|          -67.9503|          2906700|            Writer|          1371816817|         67.510267|        -66.950902|                   1|              2020|               12|                 7|23:59:59|               100|  0.9999990000000025|  0.9999969999999934|                  1|                  1|                 1|years/pre|     science|\n",
            "+-------+-------------------+-------------+------------------+-------+-------+-------+-----------------+-----------------+------------------+-----------------+------------------+--------------------+------------------+------------------+--------------------+------------------+-----------------+------------------+--------+------------------+--------------------+--------------------+-------------------+-------------------+------------------+---------+------------+\n",
            "\n"
          ]
        }
      ]
    },
    {
      "cell_type": "code",
      "source": [
        "adj_train.show(2)"
      ],
      "metadata": {
        "colab": {
          "base_uri": "https://localhost:8080/"
        },
        "id": "XPKWrL_nJGtz",
        "outputId": "f00e45d3-f64c-4eb5-af56-c15ecde8b544"
      },
      "execution_count": 198,
      "outputs": [
        {
          "output_type": "stream",
          "name": "stdout",
          "text": [
            "+--------------------+--------+----+------+--------------+-----+-----+-------+--------+--------+--------------------+----------+---------+----------+--------+----+-----+--------+--------+---+------------------+------------------+-----------+-----------+--------+------------+------------+\n",
            "|            merchant|category| amt|gender|          city|state|  zip|    lat|    long|city_pop|                 job| unix_time|merch_lat|merch_long|is_fraud|year|month|day_week|    time|age|          lat_diff|         long_diff|tier1_event|tier2_event|no_event|   job_macro|job_category|\n",
            "+--------------------+--------+----+------+--------------+-----+-----+-------+--------+--------+--------------------+----------+---------+----------+--------+----+-----+--------+--------+---+------------------+------------------+-----------+-----------+--------+------------+------------+\n",
            "|fraud_Rippin, Kub...|misc_net|4.97|     F|Moravian Falls|   NC|28654|36.0788|-81.1781|    3495|Psychologist, cou...|1325376018|36.011293|-82.048315|       0|2019|    1|       3|00:00:18| 36|0.0675069999999991|0.8702150000000017|          0|          0|       1|psychologist|  healthcare|\n",
            "|fraud_Rippin, Kub...|misc_net|4.97|     F|Moravian Falls|   NC|28654|36.0788|-81.1781|    3495|Psychologist, cou...|1325376018|36.011293|-82.048315|       0|2019|    1|       3|00:00:18| 36|0.0675069999999991|0.8702150000000017|          0|          0|       1|            |      others|\n",
            "+--------------------+--------+----+------+--------------+-----+-----+-------+--------+--------+--------------------+----------+---------+----------+--------+----+-----+--------+--------+---+------------------+------------------+-----------+-----------+--------+------------+------------+\n",
            "only showing top 2 rows\n",
            "\n"
          ]
        }
      ]
    },
    {
      "cell_type": "markdown",
      "source": [
        "## Data Preparation <a name=\"data_prep\"></a>\n",
        "[Table of contents](#table_cont)"
      ],
      "metadata": {
        "id": "oOPdhkzqSlWf"
      }
    },
    {
      "cell_type": "code",
      "source": [
        "# select top 5 merchants with the highest amount spent in frauded CC\n",
        "sus_merchants = adj_train.groupby(*['merchant', 'is_fraud'])\\\n",
        "                         .sum('amt').filter(col('is_fraud') == 1)\\\n",
        "                         .sort(desc('sum(amt)'))\\\n",
        "                         .select('merchant')\\\n",
        "                         .limit(5).collect()\n",
        "\n",
        "# the issue is that .collect() will get the list of rows, and I want just the name of the merchants\n",
        "sus_merchants = [row['merchant'] for row in sus_merchants]"
      ],
      "metadata": {
        "id": "NJfLp-gWQMVx",
        "outputId": "1a36c5f2-b5eb-4bb5-c4fe-c94c2a695ade",
        "colab": {
          "base_uri": "https://localhost:8080/"
        }
      },
      "execution_count": 230,
      "outputs": [
        {
          "output_type": "execute_result",
          "data": {
            "text/plain": [
              "['fraud_Kozey-Boehm',\n",
              " 'fraud_Cormier LLC',\n",
              " 'fraud_Jast Ltd',\n",
              " 'fraud_Terry-Huel',\n",
              " 'fraud_Kerluke-Abshire']"
            ]
          },
          "metadata": {},
          "execution_count": 230
        }
      ]
    },
    {
      "cell_type": "code",
      "source": [
        "# create a column for suspicious merchants\n",
        "adj_train = adj_train.withColumn('sus_mercht',\n",
        "                                 when(col('merchant').isin(sus_merchants), 1).otherwise(0))\n",
        "# drop merchant column\n",
        "adj_train = adj_train.drop('merchant')\n",
        "\n",
        "# do the same for test set\n",
        "adj_test = adj_test.withColumn('sus_merchant',\n",
        "                               when(col('merchant').isin(sus_merchants),1).otherwise(0))\n",
        "# drop merchant column\n",
        "adj_test = adj_test.drop('merchant')"
      ],
      "metadata": {
        "id": "cNvvq1JARYzX",
        "outputId": "fe88df63-cd50-434c-9ebc-d22db5e9c251",
        "colab": {
          "base_uri": "https://localhost:8080/"
        }
      },
      "execution_count": 231,
      "outputs": [
        {
          "output_type": "stream",
          "name": "stdout",
          "text": [
            "+--------------------+-------------+------+------+--------------+-----+-----+-------+---------+--------+--------------------+----------+------------------+------------------+--------+----+-----+--------+--------+---+--------------------+--------------------+-----------+-----------+--------+---------------+------------+----------+\n",
            "|            merchant|     category|   amt|gender|          city|state|  zip|    lat|     long|city_pop|                 job| unix_time|         merch_lat|        merch_long|is_fraud|year|month|day_week|    time|age|            lat_diff|           long_diff|tier1_event|tier2_event|no_event|      job_macro|job_category|sus_mercht|\n",
            "+--------------------+-------------+------+------+--------------+-----+-----+-------+---------+--------+--------------------+----------+------------------+------------------+--------+----+-----+--------+--------+---+--------------------+--------------------+-----------+-----------+--------+---------------+------------+----------+\n",
            "|fraud_Rippin, Kub...|     misc_net|  4.97|     F|Moravian Falls|   NC|28654|36.0788| -81.1781|    3495|Psychologist, cou...|1325376018|         36.011293|        -82.048315|       0|2019|    1|       3|00:00:18| 36|  0.0675069999999991|  0.8702150000000017|          0|          0|       1|   psychologist|  healthcare|         0|\n",
            "|fraud_Rippin, Kub...|     misc_net|  4.97|     F|Moravian Falls|   NC|28654|36.0788| -81.1781|    3495|Psychologist, cou...|1325376018|         36.011293|        -82.048315|       0|2019|    1|       3|00:00:18| 36|  0.0675069999999991|  0.8702150000000017|          0|          0|       1|               |      others|         0|\n",
            "|fraud_Rippin, Kub...|     misc_net|  4.97|     F|Moravian Falls|   NC|28654|36.0788| -81.1781|    3495|Psychologist, cou...|1325376018|         36.011293|        -82.048315|       0|2019|    1|       3|00:00:18| 36|  0.0675069999999991|  0.8702150000000017|          0|          0|       1|    counselling|      others|         0|\n",
            "|fraud_Heller, Gut...|  grocery_pos|107.23|     F|        Orient|   WA|99160|48.8878|-118.2105|     149|Special education...|1325376044|49.159046999999994|       -118.186462|       0|2019|    1|       3|00:00:44| 46|-0.27124699999999535|-0.02403799999999...|          0|          0|       1|        special|      others|         0|\n",
            "|fraud_Heller, Gut...|  grocery_pos|107.23|     F|        Orient|   WA|99160|48.8878|-118.2105|     149|Special education...|1325376044|49.159046999999994|       -118.186462|       0|2019|    1|       3|00:00:44| 46|-0.27124699999999535|-0.02403799999999...|          0|          0|       1|    educational|      others|         0|\n",
            "|fraud_Heller, Gut...|  grocery_pos|107.23|     F|        Orient|   WA|99160|48.8878|-118.2105|     149|Special education...|1325376044|49.159046999999994|       -118.186462|       0|2019|    1|       3|00:00:44| 46|-0.27124699999999535|-0.02403799999999...|          0|          0|       1|          needs|      others|         0|\n",
            "|fraud_Heller, Gut...|  grocery_pos|107.23|     F|        Orient|   WA|99160|48.8878|-118.2105|     149|Special education...|1325376044|49.159046999999994|       -118.186462|       0|2019|    1|       3|00:00:44| 46|-0.27124699999999535|-0.02403799999999...|          0|          0|       1|        teacher|   education|         0|\n",
            "|fraud_Lind-Buckridge|entertainment|220.11|     M|    Malad City|   ID|83252|42.1808| -112.262|    4154|Nature conservati...|1325376051|         43.150704|       -112.154481|       0|2019|    1|       3|00:00:51| 63| -0.9699039999999997|-0.10751899999999637|          0|          0|       1|         nature|      others|         0|\n",
            "|fraud_Lind-Buckridge|entertainment|220.11|     M|    Malad City|   ID|83252|42.1808| -112.262|    4154|Nature conservati...|1325376051|         43.150704|       -112.154481|       0|2019|    1|       3|00:00:51| 63| -0.9699039999999997|-0.10751899999999637|          0|          0|       1|   conservation|      others|         0|\n",
            "|fraud_Lind-Buckridge|entertainment|220.11|     M|    Malad City|   ID|83252|42.1808| -112.262|    4154|Nature conservati...|1325376051|         43.150704|       -112.154481|       0|2019|    1|       3|00:00:51| 63| -0.9699039999999997|-0.10751899999999637|          0|          0|       1|        officer|      others|         0|\n",
            "|fraud_Kutch, Herm...|gas_transport|  45.0|     M|       Boulder|   MT|59632|46.2306|-112.1138|    1939|     Patent attorney|1325376076|         47.034331|       -112.561071|       0|2019|    1|       3|00:01:16| 58| -0.8037309999999991| 0.44727100000000064|          0|          0|       1|         patent|      others|         0|\n",
            "|fraud_Kutch, Herm...|gas_transport|  45.0|     M|       Boulder|   MT|59632|46.2306|-112.1138|    1939|     Patent attorney|1325376076|         47.034331|       -112.561071|       0|2019|    1|       3|00:01:16| 58| -0.8037309999999991| 0.44727100000000064|          0|          0|       1|       attorney|      others|         0|\n",
            "| fraud_Keeling-Crist|     misc_pos| 41.96|     M|      Doe Hill|   VA|24433|38.4207| -79.4629|      99|Dance movement ps...|1325376186|         38.674999|        -78.632459|       0|2019|    1|       3|00:03:06| 38|-0.25429900000000316| -0.8304410000000075|          0|          0|       1|          dance|      others|         0|\n",
            "| fraud_Keeling-Crist|     misc_pos| 41.96|     M|      Doe Hill|   VA|24433|38.4207| -79.4629|      99|Dance movement ps...|1325376186|         38.674999|        -78.632459|       0|2019|    1|       3|00:03:06| 38|-0.25429900000000316| -0.8304410000000075|          0|          0|       1|       movement|      others|         0|\n",
            "| fraud_Keeling-Crist|     misc_pos| 41.96|     M|      Doe Hill|   VA|24433|38.4207| -79.4629|      99|Dance movement ps...|1325376186|         38.674999|        -78.632459|       0|2019|    1|       3|00:03:06| 38|-0.25429900000000316| -0.8304410000000075|          0|          0|       1|psychotherapist|      others|         0|\n",
            "|fraud_Stroman, Hu...|gas_transport| 94.63|     F|        Dublin|   PA|18917| 40.375| -75.2045|    2158|   Transport planner|1325376248|         40.653382|-76.15266700000001|       0|2019|    1|       3|00:04:08| 63| -0.2783820000000006|  0.9481670000000122|          0|          0|       1|      transport|      others|         0|\n",
            "|fraud_Stroman, Hu...|gas_transport| 94.63|     F|        Dublin|   PA|18917| 40.375| -75.2045|    2158|   Transport planner|1325376248|         40.653382|-76.15266700000001|       0|2019|    1|       3|00:04:08| 63| -0.2783820000000006|  0.9481670000000122|          0|          0|       1|        planner|      others|         0|\n",
            "|fraud_Rowe-Vander...|  grocery_net| 44.54|     F|       Holcomb|   KS|67851|37.9931|-100.9893|    2691|     Arboriculturist|1325376282|37.162704999999995|        -100.15337|       0|2019|    1|       3|00:04:42| 31|  0.8303950000000029| -0.8359300000000047|          0|          0|       1|arboriculturist|      others|         0|\n",
            "|fraud_Corwin-Collins|gas_transport| 71.65|     M|      Edinburg|   VA|22824|38.8432| -78.6003|    6018|Designer, multimedia|1325376308|         38.948089|        -78.540296|       0|2019|    1|       3|00:05:08| 77|-0.10488900000000001|-0.06000400000000...|          0|          0|       1|       designer|      desing|         0|\n",
            "|fraud_Corwin-Collins|gas_transport| 71.65|     M|      Edinburg|   VA|22824|38.8432| -78.6003|    6018|Designer, multimedia|1325376308|         38.948089|        -78.540296|       0|2019|    1|       3|00:05:08| 77|-0.10488900000000001|-0.06000400000000...|          0|          0|       1|               |      others|         0|\n",
            "+--------------------+-------------+------+------+--------------+-----+-----+-------+---------+--------+--------------------+----------+------------------+------------------+--------+----+-----+--------+--------+---+--------------------+--------------------+-----------+-----------+--------+---------------+------------+----------+\n",
            "only showing top 20 rows\n",
            "\n"
          ]
        }
      ]
    },
    {
      "cell_type": "code",
      "source": [
        "# make list for category\n",
        "category_list = adj_train.select('category').distinct().collect()\n",
        "category_list = [row['category'] for row in category_list]\n",
        "\n",
        "# make a list for job_category\n",
        "job_list = adj_train.select('job_category').distinct().collect()\n",
        "job_list = [row['job_category'] for row in job_list]"
      ],
      "metadata": {
        "id": "88xsZKIMe4xe"
      },
      "execution_count": 249,
      "outputs": []
    },
    {
      "cell_type": "code",
      "source": [
        "# create loop for category\n",
        "for cat in category_list:\n",
        "  adj_train = adj_train.withColumn(f'{cat}', when(col('category').isin(category_list),1).otherwise(0))\n",
        "  adj_test = adj_test.withColumn(f'{cat}', when(col('category').isin(category_list),1).otherwise(0))\n",
        "\n",
        "# create loop for job_category\n",
        "for job in job_list:\n",
        "  adj_train = adj_train.withColumn(f'{job}', when(col('job_category').isin(job_list),1).otherwise(0))\n",
        "  adj_test = adj_test.withColumn(f'{job}', when(col('job_category').isin(job_list),1).otherwise(0))\n",
        "\n",
        "# create dummy for gender\n",
        "adj_train = adj_train.withColumn('female', when(col('gender') == 'F', 1).otherwise(0))\n",
        "adj_test = adj_test.withColumn('female', when(col('gender') == 'F', 1).otherwise(0))\n"
      ],
      "metadata": {
        "id": "4hKpY_YxH-D3"
      },
      "execution_count": 250,
      "outputs": []
    },
    {
      "cell_type": "code",
      "source": [
        "# drop categorical variables\n",
        "adj_train = adj_train.drop(*['category', 'gender','city','state','job','job_macro','job_category'])\n",
        "adj_test = adj_test.drop(*['category', 'gender','city','state','job','job_macro','job_category'])\n"
      ],
      "metadata": {
        "id": "8Bbhu8XGTOHF"
      },
      "execution_count": 252,
      "outputs": []
    },
    {
      "cell_type": "markdown",
      "metadata": {
        "id": "22c11t8BiSmY"
      },
      "source": [
        "## ML Models <a name=\"ml_mod\"></a>\n",
        "[Table of contents](#table_cont)"
      ]
    },
    {
      "cell_type": "markdown",
      "metadata": {
        "id": "tapAfHf6iSmY"
      },
      "source": [
        "## Comparing results <a name=\"results\"></a>\n",
        "[Table of contents](#table_cont)"
      ]
    },
    {
      "cell_type": "markdown",
      "metadata": {
        "id": "i3N_7C_iiSmY"
      },
      "source": [
        "## Take Aways <a name=\"take_away\"></a>\n",
        "[Table of contents](#table_cont)"
      ]
    }
  ],
  "metadata": {
    "kernelspec": {
      "display_name": ".venv",
      "language": "python",
      "name": "python3"
    },
    "language_info": {
      "codemirror_mode": {
        "name": "ipython",
        "version": 3
      },
      "file_extension": ".py",
      "mimetype": "text/x-python",
      "name": "python",
      "nbconvert_exporter": "python",
      "pygments_lexer": "ipython3",
      "version": "3.11.9"
    },
    "colab": {
      "provenance": []
    }
  },
  "nbformat": 4,
  "nbformat_minor": 0
}